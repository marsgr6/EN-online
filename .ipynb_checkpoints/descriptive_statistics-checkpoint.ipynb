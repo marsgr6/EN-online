{
 "cells": [
  {
   "cell_type": "markdown",
   "metadata": {},
   "source": [
    "# Estadística Descriptiva en Python\n",
    "\n",
    "<a id=\"toc\"></a>\n",
    "## Contenido\n",
    "\n",
    "- [Instrucciones Generales](#Instruciones-Generales)\n",
    "- [Conceptos básicos de Estadística Descriptiva](#cg)\n",
    "  - [Descripción de datos](#dd)\n",
    "  - [Medidas de centralidad](#Medidas-de-centralidad)\n",
    "    - [Cálculo de las medidas de tendencia central en Python](#Calculemos-las-medidas-de-tendencia-central-para-los-datos)\n",
    "  - [Medidas de dispersión](#dispersion)\n",
    "    - [Cálculo de los valores de dispersión](#cdisp)\n",
    "  - [Medidas de dispersión (cuartiles)](#mdc)\n",
    "    - [Calculemos los cuartiles](#cq)\n",
    "  - [Cuartiles de una variable aleatoria continua](#cqc)\n",
    "- [Gráficos descriptivos](#gd)\n",
    "  - [Diagrama de barras y pastel](#dbp)\n",
    "  - [Histograma](#hist)\n",
    "    - [Normalización de un histograma](#histn)\n",
    "  - [Gráfico de densidad](#density)\n",
    "  - [Diagramas de caja (Boxplot)](#boxplot)\n",
    "- [Estadísticos de forma de la distribución](#shape)\n",
    "  - [Sesgo (skewness) o asimetría](#skew)\n",
    "  - [Curtosis](#Curtosis)\n",
    "  - [Cálculo del sesgo y la curtosis](#csc)\n",
    "- [Visualizando la relación entre 2 variables](#twovars) \n",
    "  - [Gráfico de dispersión](#scatter)\n",
    "  - [Cálculo del coeficiente de correlación](#cor)\n",
    "- [Descripción de datos agrupados](#group)\n",
    "- [Fuentes y recursos](#Fuentes-y-recursos)"
   ]
  },
  {
   "cell_type": "markdown",
   "metadata": {},
   "source": [
    "## Instruciones Generales\n",
    "\n",
    "### Código\n",
    "\n",
    "- Cuando aparezca esta imagen en el notebook, encontrará código Python que puede ser intermedio o avanzado. \n",
    "\n",
    "<img align=\"left\" src=\"https://raw.githubusercontent.com/marsgr6/r-scripts/master/imgs/python-banner-300x89.png\">\n",
    "\n",
    "<br/>\n",
    "\n",
    "### Opcional: Practique Python\n",
    "\n",
    "<br/><br/>\n",
    "\n",
    "  - **Esta sección es opcional**.\n",
    "  - Concéntrense en los conceptos que se están tratando. \n",
    "  - Cuando se sienta cómodo con Python estudie el código. \n",
    "\n",
    "### Experimentación\n",
    "\n",
    "- Cuando aparezca esta imagen en el notebook, encontrará instrucciones de actividades de experimentación a realizar de forma autónoma para reforzar los temas tratados. \n",
    "  - Esto puede ser cambiar un fragmento del código. \n",
    "  - O realizar análisis adicionales sobre los resultados presentados. \n",
    "\n",
    "<img align=\"left\" width=\"80px\" src=\"https://raw.githubusercontent.com/marsgr6/r-scripts/master/imgs/activity.png\">\n",
    "\n",
    "<br/>\n",
    "\n",
    "### Experimente\n",
    "<br/>\n",
    "<br/>\n",
    "\n",
    "<a id=\"cg\"></a>\n",
    "## Conceptos básicos de Estadística Descriptiva\n",
    "\n",
    "[Volver al índice](#toc)\n",
    "\n",
    "- Utilizaremos las siguientes librerías para realizar un análsis descriptivo en Python:\n",
    "  - **numpy:** proporciona muchas funciones de álgebra lineal y cálculo numérico.\n",
    "  - **pandas:** proporciona estructuras de datos y herramientas de análisis de datos.\n",
    "  - **seaborn:** diagramas y gráficos para visualización de datos (EDA).\n",
    "  - **matplotlib:** es la librería base para realizar gráficos en Python. \n",
    "  \n",
    "- Analizaremos el siguiente conjunto de datos (dataset).\n",
    "  - Primero leeremos estos datos a partir de un archivo .csv (comma separated values).\n",
    "  \n",
    "|    | Name   |   Age |   Rating |\n",
    "|---:|:-------|------:|---------:|\n",
    "|  0 | Tom    |    25 |     4.23 |\n",
    "|  1 | James  |    26 |     3.24 |\n",
    "|  2 | Ricky  |    25 |     3.98 |\n",
    "|  3 | Vin    |    23 |     2.56 |\n",
    "|  4 | Steve  |    30 |     3.2  |\n",
    "|  5 | Smith  |    29 |     4.6  |\n",
    "|  6 | Jack   |    23 |     3.8  |\n",
    "|  7 | Lee    |    34 |     3.78 |\n",
    "|  8 | David  |    40 |     2.98 |\n",
    "|  9 | Gasper |    30 |     4.8  |\n",
    "| 10 | Betina |    51 |     4.1  |\n",
    "| 11 | Andres |    46 |     3.65 |\n",
    "\n",
    "- El dataset contiene información de 12 trabajadores de recepción (front desk agent) de una cadena de hoteles todo incluido. \n",
    "- Variables:\n",
    "  - Name (nombre): \n",
    "  - Age (edad): \n",
    "  - Rating (índice) de servicio: 1 (deficiente) a 5 (excelente).\n",
    "  - Note que la primera columna es un índice único (Python idexa por defecto a partir de 0).\n",
    "  \n",
    "- Calcularemos: \n",
    "  - Medidas de tendencia central o de posición: ubicación de los valores alrededor de los cuáles fluctúan los demás.\n",
    "  - Medidas de dispersión: grado de desviación de los datos respecto de las medidas de tendencia central."
   ]
  },
  {
   "cell_type": "markdown",
   "metadata": {},
   "source": [
    "- Importación de librerías en Python:\n",
    "```Python\n",
    "# Sintaxis general\n",
    "import modulo as alias\n",
    "```\n",
    "\n",
    "- **modulo**: (módulo) librería a importar.\n",
    "- **alias**: alias con el nos referiremos a la libería. \n",
    "- Ejemplo: \n",
    "  - Importamos la librería pandas:\n",
    "```Python\n",
    "import pandas as pd\n",
    "```\n",
    "  - Leemos un archivo usando el alias **pd**, luego punto **.**, y a seguir la función a utilizar **read_csv**:\n",
    "```Python\n",
    "pd.read_csv(file)\n",
    "```\n",
    "\n",
    "- Primero importamos las librerías a utilizar en este notebook:\n",
    "\n",
    "```Python\n",
    "import pandas as pd\n",
    "import numpy as np\n",
    "import matplotlib.pyplot as plt\n",
    "import seaborn as sns\n",
    "```\n",
    "\n",
    "- Luego importamos un archivo csv a un DataFrame en pandas:\n",
    "  - El símbolo = significa asigación en Python\n",
    "  - El resultado de la operación que ocurre a la derecha es asignada a la variable a la izquierda\n",
    "\n",
    "```Python\n",
    "df = pd.read_csv(\"data/data_rating.csv\")\n",
    "# visualizamos lo que contiene df en la celda del notebook escribiendo el nombre del dataframe\n",
    "df\n",
    "```"
   ]
  },
  {
   "cell_type": "code",
   "execution_count": 1,
   "metadata": {},
   "outputs": [
    {
     "data": {
      "text/html": [
       "<div>\n",
       "<style scoped>\n",
       "    .dataframe tbody tr th:only-of-type {\n",
       "        vertical-align: middle;\n",
       "    }\n",
       "\n",
       "    .dataframe tbody tr th {\n",
       "        vertical-align: top;\n",
       "    }\n",
       "\n",
       "    .dataframe thead th {\n",
       "        text-align: right;\n",
       "    }\n",
       "</style>\n",
       "<table border=\"1\" class=\"dataframe\">\n",
       "  <thead>\n",
       "    <tr style=\"text-align: right;\">\n",
       "      <th></th>\n",
       "      <th>Name</th>\n",
       "      <th>Age</th>\n",
       "      <th>Rating</th>\n",
       "    </tr>\n",
       "  </thead>\n",
       "  <tbody>\n",
       "    <tr>\n",
       "      <th>0</th>\n",
       "      <td>Tom</td>\n",
       "      <td>25</td>\n",
       "      <td>4.23</td>\n",
       "    </tr>\n",
       "    <tr>\n",
       "      <th>1</th>\n",
       "      <td>James</td>\n",
       "      <td>26</td>\n",
       "      <td>3.24</td>\n",
       "    </tr>\n",
       "    <tr>\n",
       "      <th>2</th>\n",
       "      <td>Ricky</td>\n",
       "      <td>25</td>\n",
       "      <td>3.98</td>\n",
       "    </tr>\n",
       "    <tr>\n",
       "      <th>3</th>\n",
       "      <td>Vin</td>\n",
       "      <td>23</td>\n",
       "      <td>2.56</td>\n",
       "    </tr>\n",
       "    <tr>\n",
       "      <th>4</th>\n",
       "      <td>Steve</td>\n",
       "      <td>30</td>\n",
       "      <td>3.20</td>\n",
       "    </tr>\n",
       "    <tr>\n",
       "      <th>5</th>\n",
       "      <td>Smith</td>\n",
       "      <td>29</td>\n",
       "      <td>4.60</td>\n",
       "    </tr>\n",
       "    <tr>\n",
       "      <th>6</th>\n",
       "      <td>Jack</td>\n",
       "      <td>23</td>\n",
       "      <td>3.80</td>\n",
       "    </tr>\n",
       "    <tr>\n",
       "      <th>7</th>\n",
       "      <td>Lee</td>\n",
       "      <td>34</td>\n",
       "      <td>3.78</td>\n",
       "    </tr>\n",
       "    <tr>\n",
       "      <th>8</th>\n",
       "      <td>David</td>\n",
       "      <td>40</td>\n",
       "      <td>2.98</td>\n",
       "    </tr>\n",
       "    <tr>\n",
       "      <th>9</th>\n",
       "      <td>Gasper</td>\n",
       "      <td>30</td>\n",
       "      <td>4.80</td>\n",
       "    </tr>\n",
       "    <tr>\n",
       "      <th>10</th>\n",
       "      <td>Betina</td>\n",
       "      <td>51</td>\n",
       "      <td>4.10</td>\n",
       "    </tr>\n",
       "    <tr>\n",
       "      <th>11</th>\n",
       "      <td>Andres</td>\n",
       "      <td>46</td>\n",
       "      <td>3.65</td>\n",
       "    </tr>\n",
       "  </tbody>\n",
       "</table>\n",
       "</div>"
      ],
      "text/plain": [
       "      Name  Age  Rating\n",
       "0      Tom   25    4.23\n",
       "1    James   26    3.24\n",
       "2    Ricky   25    3.98\n",
       "3      Vin   23    2.56\n",
       "4    Steve   30    3.20\n",
       "5    Smith   29    4.60\n",
       "6     Jack   23    3.80\n",
       "7      Lee   34    3.78\n",
       "8    David   40    2.98\n",
       "9   Gasper   30    4.80\n",
       "10  Betina   51    4.10\n",
       "11  Andres   46    3.65"
      ]
     },
     "execution_count": 1,
     "metadata": {},
     "output_type": "execute_result"
    }
   ],
   "source": [
    "# Importar librerías \n",
    "import pandas as pd\n",
    "import numpy as np\n",
    "import matplotlib.pyplot as plt\n",
    "import seaborn as sns\n",
    "# reset rc params to defaults\n",
    "sns.reset_orig()\n",
    "\n",
    "# Importamos un archivo csv a un DataFrame en pandas\n",
    "df = pd.read_csv(\"data/data_rating.csv\")\n",
    "df"
   ]
  },
  {
   "cell_type": "markdown",
   "metadata": {},
   "source": [
    "<a id=\"dd\"></a>\n",
    "### Descripción de datos\n",
    "\n",
    "[Volver al índice](#toc)\n",
    "\n",
    "Cuando llamamos la función describe del DataFrame, \n",
    "```Python\n",
    "df.describe()\n",
    "```\n",
    "solo las variables numéricas son incluidas.\n",
    "\n",
    "El resultado muestra para cada variable (Age, Rating): \n",
    " - número de observaciones (**count**)\n",
    " - media (**mean**)\n",
    " - desviación estándard (**std**)\n",
    " - mínimo, cuartil 0 (**min**)\n",
    " - cuartil 1, percentil 25 (**25%**)\n",
    " - cuartil 2, mediana, percentil 50 (**50%**)\n",
    " - cuartil 3, percentil 75 (**75%**)\n",
    " - cuartil 4, máximo (**max**)"
   ]
  },
  {
   "cell_type": "code",
   "execution_count": 2,
   "metadata": {},
   "outputs": [
    {
     "data": {
      "text/html": [
       "<div>\n",
       "<style scoped>\n",
       "    .dataframe tbody tr th:only-of-type {\n",
       "        vertical-align: middle;\n",
       "    }\n",
       "\n",
       "    .dataframe tbody tr th {\n",
       "        vertical-align: top;\n",
       "    }\n",
       "\n",
       "    .dataframe thead th {\n",
       "        text-align: right;\n",
       "    }\n",
       "</style>\n",
       "<table border=\"1\" class=\"dataframe\">\n",
       "  <thead>\n",
       "    <tr style=\"text-align: right;\">\n",
       "      <th></th>\n",
       "      <th>Age</th>\n",
       "      <th>Rating</th>\n",
       "    </tr>\n",
       "  </thead>\n",
       "  <tbody>\n",
       "    <tr>\n",
       "      <th>count</th>\n",
       "      <td>12.000000</td>\n",
       "      <td>12.000000</td>\n",
       "    </tr>\n",
       "    <tr>\n",
       "      <th>mean</th>\n",
       "      <td>31.833333</td>\n",
       "      <td>3.743333</td>\n",
       "    </tr>\n",
       "    <tr>\n",
       "      <th>std</th>\n",
       "      <td>9.232682</td>\n",
       "      <td>0.661628</td>\n",
       "    </tr>\n",
       "    <tr>\n",
       "      <th>min</th>\n",
       "      <td>23.000000</td>\n",
       "      <td>2.560000</td>\n",
       "    </tr>\n",
       "    <tr>\n",
       "      <th>25%</th>\n",
       "      <td>25.000000</td>\n",
       "      <td>3.230000</td>\n",
       "    </tr>\n",
       "    <tr>\n",
       "      <th>50%</th>\n",
       "      <td>29.500000</td>\n",
       "      <td>3.790000</td>\n",
       "    </tr>\n",
       "    <tr>\n",
       "      <th>75%</th>\n",
       "      <td>35.500000</td>\n",
       "      <td>4.132500</td>\n",
       "    </tr>\n",
       "    <tr>\n",
       "      <th>max</th>\n",
       "      <td>51.000000</td>\n",
       "      <td>4.800000</td>\n",
       "    </tr>\n",
       "  </tbody>\n",
       "</table>\n",
       "</div>"
      ],
      "text/plain": [
       "             Age     Rating\n",
       "count  12.000000  12.000000\n",
       "mean   31.833333   3.743333\n",
       "std     9.232682   0.661628\n",
       "min    23.000000   2.560000\n",
       "25%    25.000000   3.230000\n",
       "50%    29.500000   3.790000\n",
       "75%    35.500000   4.132500\n",
       "max    51.000000   4.800000"
      ]
     },
     "execution_count": 2,
     "metadata": {},
     "output_type": "execute_result"
    }
   ],
   "source": [
    "# Describimos el DataFrame\n",
    "df.describe()"
   ]
  },
  {
   "cell_type": "markdown",
   "metadata": {},
   "source": [
    "El resultado de describir variables categóricas es un conteo de frecuencias:\n",
    "```Python\n",
    "df[\"Name\"].describe()\n",
    "```\n",
    "En nuestro caso, hay 12 valores únicos en la variable nombre. \n",
    "\n",
    "- Note que hemos seleccionado la variable **Name** del DataFrame usando:\n",
    "```Python\n",
    "df[\"Name\"]\n",
    "```\n",
    "- También podemos usar (si el nombre de la variable es simple):\n",
    "```Python\n",
    "df.Name\n",
    "```\n",
    "\n",
    "- Una variable de un DataFrame de pandas es un serie."
   ]
  },
  {
   "cell_type": "code",
   "execution_count": 3,
   "metadata": {},
   "outputs": [
    {
     "data": {
      "text/plain": [
       "count         12\n",
       "unique        12\n",
       "top       Betina\n",
       "freq           1\n",
       "Name: Name, dtype: object"
      ]
     },
     "execution_count": 3,
     "metadata": {},
     "output_type": "execute_result"
    }
   ],
   "source": [
    "df[\"Name\"].describe()"
   ]
  },
  {
   "cell_type": "code",
   "execution_count": 4,
   "metadata": {},
   "outputs": [
    {
     "name": "stdout",
     "output_type": "stream",
     "text": [
      "La media de los datos es:\n",
      " Age       31.833333\n",
      "Rating     3.743333\n",
      "dtype: float64\n",
      "La desviación de los datos es:\n",
      " Age       9.232682\n",
      "Rating    0.661628\n",
      "dtype: float64\n"
     ]
    }
   ],
   "source": [
    "# Media y desviación de los datos (DataFrame)\n",
    "print(\"La media de los datos es:\\n\", df.mean())  # Centralidad\n",
    "print(\"La desviación de los datos es:\\n\", df.std())  # Dispersión"
   ]
  },
  {
   "cell_type": "code",
   "execution_count": 5,
   "metadata": {},
   "outputs": [
    {
     "data": {
      "text/plain": [
       "count    12.000000\n",
       "mean     31.833333\n",
       "std       9.232682\n",
       "min      23.000000\n",
       "25%      25.000000\n",
       "50%      29.500000\n",
       "75%      35.500000\n",
       "max      51.000000\n",
       "Name: Age, dtype: float64"
      ]
     },
     "execution_count": 5,
     "metadata": {},
     "output_type": "execute_result"
    }
   ],
   "source": [
    "# Podemos describir variables individuales (columnas), series de un DataFrame\n",
    "df['Age'].describe()"
   ]
  },
  {
   "cell_type": "markdown",
   "metadata": {},
   "source": [
    "<img align=\"left\" width=\"80px\" src=\"https://raw.githubusercontent.com/marsgr6/r-scripts/master/imgs/activity.png\">\n",
    "\n",
    "<br/>\n",
    "\n",
    "### Experimente\n",
    "<br/>\n",
    "\n",
    "**Pregunta 1:** Qué tipo de variable son: nombre (Name), edad (Age), Rating. "
   ]
  },
  {
   "cell_type": "markdown",
   "metadata": {},
   "source": [
    "## Medidas de centralidad\n",
    "\n",
    "[Volver al índice](#toc)\n",
    "\n",
    "- **Media:**\n",
    "\n",
    "La media aritmética (o simplemente media) de una lista de números, es la suma de todos los números dividida por el tamaño de la lista. De manera similar, la media de una muestra\n",
    "$x_{1},x_{2},\\ldots ,x_{n}$, generalmente indicado por\n",
    "${\\bar {x}}$, es la suma de los valores muestreados dividida por el número de elementos de la muestra:\n",
    "\n",
    "$$\\bar{x} = \\frac{1}{n} \\sum_{i=1}^n x_i,\\ \\text{ donde } n \\text{ es el número de observaciones}.$$\n",
    "\n",
    "- **Mediana:**\n",
    "\n",
    "- La mediana es el valor que separa la mitad superior de la mitad inferior de una muestra de datos, una población o una distribución de probabilidad. Para un conjunto de datos, puede considerarse como el valor \"medio\".\n",
    "\n",
    "La mediana puede ser definida como sigue: \n",
    "Para un conjunto de datos \n",
    "$x$ de $n$ elementos (observaciones), ordenados de menor a mayor,\n",
    "\n",
    "si \n",
    "$n$ es impar, \n",
    "$$ \\mathrm {mediana} (x)=x_{(n+1)/2} $$\n",
    "si \n",
    "$n$ es par, \n",
    "$$ \\mathrm {mediana} (x)={\\frac {x_{(n/2)}+x_{(n/2)+1}}{2}}, $$\n",
    "donde el subíndice indica la posición en el vector ordenado. \n",
    "\n",
    "- **Moda:**\n",
    "\n",
    "La moda es el valor que aparece con más frecuencia en un conjunto de valores de datos. Si $X$ es una variable aleatoria discreta, la moda es el valor $x$ (es decir, $X = x$) en el que la función de masa de probabilidad (PMF) toma su valor máximo. En otras palabras, es el valor que es más probable que se muestree.\n",
    "\n",
    "Al igual que la media y la mediana estadísticas, la moda es una forma de expresar, en un número (normalmente) único, información importante sobre una variable aleatoria o una población. El valor numérico de la moda es el mismo que el de la media y la mediana en una distribución normal y puede ser muy diferente en distribuciones muy asimétricas.\n",
    "\n",
    "La moda no es necesariamente única para una distribución discreta dada, ya que la función de masa de probabilidad puede tomar el mismo valor máximo en varios puntos $x_1, x_2$, etc. El caso más extremo ocurre en distribuciones uniformes, donde todos los valores ocurren con la misma frecuencia.\n",
    "\n",
    "Cuando la función de densidad de probabilidad (PDF) de una distribución continua tiene múltiples máximos locales, es común referirse a todos los máximos locales como moda de la distribución. Esta distribución continua se llama multimodal (en contraposición a unimodal). La moda de una distribución de probabilidad continua se considera a menudo como cualquier valor $x$ en el que su función de densidad de probabilidad tiene un valor máximo local, por lo que cualquier pico es una moda.\n",
    "\n",
    "Podemos considerar a la moda como los argumentos de los máximos (abreviado arg max o argmax) que son los puntos, o elementos, del dominio de alguna función en la que se maximizan los valores de la función.\n",
    "\n",
    "$$ \\operatorname {argmax} _{S}f:={\\underset {x\\in S}{\\operatorname {arg\\,max} }}\\,f(x):=\\{x\\in S~:~f(s)\\leq f(x){\\text{ for all }}s\\in S\\}.$$"
   ]
  },
  {
   "cell_type": "markdown",
   "metadata": {},
   "source": [
    "### Calculemos las medidas de tendencia central para los datos\n",
    "\n",
    "[Volver al índice](#toc)\n",
    "\n",
    "- Media:\n",
    "\n",
    "  - Pandas implementa la función **mean()**:\n",
    "```Python\n",
    "print(\"La media es:\", df[\"Age\"].mean())\n",
    "```\n",
    "  - Podemos sumar los elementos y dividir por el número del vector:\n",
    "```Python\n",
    "print(\"La media es:\", df[\"Age\"].sum() / df[\"Age\"].size)\n",
    "```"
   ]
  },
  {
   "cell_type": "code",
   "execution_count": 6,
   "metadata": {},
   "outputs": [
    {
     "name": "stdout",
     "output_type": "stream",
     "text": [
      "La media es: 31.833333333333332\n",
      "La media es: 31.833333333333332\n"
     ]
    }
   ],
   "source": [
    "print(\"La media es:\", df[\"Age\"].mean())\n",
    "print(\"La media es:\", df[\"Age\"].sum() / df[\"Age\"].size)"
   ]
  },
  {
   "cell_type": "markdown",
   "metadata": {},
   "source": [
    "- Mediana: \n",
    "\n",
    "  - Ordenemos los datos\n",
    "```Python\n",
    "age = df['Age']\n",
    "age = np.sort(age)\n",
    "print(age)\n",
    "```\n",
    "\n",
    "  - Calculemos la media para un número par de observaciones (vea definición):\n",
    "  ```Python\n",
    "punto_medio = len(age_ordenada)//2\n",
    "print(\"La mediana es:\", ((age_ordenada[punto_medio-1] + age_ordenada[punto_medio])) / 2)\n",
    "```"
   ]
  },
  {
   "cell_type": "code",
   "execution_count": 7,
   "metadata": {},
   "outputs": [
    {
     "name": "stdout",
     "output_type": "stream",
     "text": [
      "Datos: [23 23 25 25 26 29 30 30 34 40 46 51]\n",
      "La mediana es: 29.5\n"
     ]
    }
   ],
   "source": [
    "# Ordenemos los datos\n",
    "age = df['Age']\n",
    "age_ordenada = np.sort(age)\n",
    "print(\"Datos:\", age_ordenada)\n",
    "\n",
    "# Calculemos la media para un número par de observaciones\n",
    "punto_medio = len(age_ordenada)//2\n",
    "print(\"La mediana es:\", ((age_ordenada[punto_medio-1] + age_ordenada[punto_medio])) / 2)"
   ]
  },
  {
   "cell_type": "markdown",
   "metadata": {},
   "source": [
    "- También podemos usar pandas para realizar el cálculo.\n",
    "\n",
    "  - Pandas incluye la función **median()**\n",
    "```Python\n",
    "print(\"La mediana es:\", df['Age'].median())\n",
    "```"
   ]
  },
  {
   "cell_type": "code",
   "execution_count": 8,
   "metadata": {},
   "outputs": [
    {
     "name": "stdout",
     "output_type": "stream",
     "text": [
      "La mediana es: 29.5\n",
      "La mediana es: 29.5\n"
     ]
    }
   ],
   "source": [
    "# Pandas incluye la función median \n",
    "print(\"La mediana es:\", df['Age'].median())\n",
    "\n",
    "# Ordenemos los datos usando pandas\n",
    "age_ordenada = df[\"Age\"].sort_values(ignore_index=True)\n",
    "\n",
    "# Calculemos la mediana para un número par de observaciones\n",
    "punto_medio = len(age_ordenada)//2\n",
    "print(\"La mediana es:\", ((age_ordenada[punto_medio-1] + age_ordenada[punto_medio])) / 2)"
   ]
  },
  {
   "cell_type": "markdown",
   "metadata": {},
   "source": [
    "- Moda \n",
    "\n",
    "  - Pandas implementa la función **mode()**"
   ]
  },
  {
   "cell_type": "code",
   "execution_count": 9,
   "metadata": {},
   "outputs": [
    {
     "name": "stdout",
     "output_type": "stream",
     "text": [
      "La moda es:\n",
      "0    23\n",
      "1    25\n",
      "2    30\n",
      "dtype: int64\n"
     ]
    }
   ],
   "source": [
    "print(\"La moda es:\") \n",
    "print(df['Age'].mode())"
   ]
  },
  {
   "cell_type": "markdown",
   "metadata": {},
   "source": [
    "- Moda para valores discretos\n",
    "\n",
    "  - Obtenemos los valores únicos $x$ y sus frecuencias asociadas $fx$\n",
    "    - Note que la primera fila, es una indexación (Python indexa a partir de 0).\n",
    "\n",
    "|    |   0 |   1 |   2 |   3 |   4 |   5 |   6 |   7 |   8 |\n",
    "|:---|----:|----:|----:|----:|----:|----:|----:|----:|----:|\n",
    "| $x$  |  23 |  25 |  26 |  29 |  30 |  34 |  40 |  46 |  51 |\n",
    "| $fx$ |   2 |   2 |   1 |   1 |   2 |   1 |   1 |   1 |   1 |\n",
    "\n",
    "- La moda corresponde a los valores $x$ que se observan con mayor frecuencia ($fx$), en nuestro caso:\n",
    "  - Moda: 23 (2), 25 (2), 30 (2)\n",
    "    - Los valoes 23, 25 y 30 son los que se repiten con mayor frecuencia (2)."
   ]
  },
  {
   "cell_type": "code",
   "execution_count": 10,
   "metadata": {},
   "outputs": [
    {
     "data": {
      "text/html": [
       "<div>\n",
       "<style scoped>\n",
       "    .dataframe tbody tr th:only-of-type {\n",
       "        vertical-align: middle;\n",
       "    }\n",
       "\n",
       "    .dataframe tbody tr th {\n",
       "        vertical-align: top;\n",
       "    }\n",
       "\n",
       "    .dataframe thead th {\n",
       "        text-align: right;\n",
       "    }\n",
       "</style>\n",
       "<table border=\"1\" class=\"dataframe\">\n",
       "  <thead>\n",
       "    <tr style=\"text-align: right;\">\n",
       "      <th></th>\n",
       "      <th>0</th>\n",
       "      <th>1</th>\n",
       "      <th>2</th>\n",
       "      <th>3</th>\n",
       "      <th>4</th>\n",
       "      <th>5</th>\n",
       "      <th>6</th>\n",
       "      <th>7</th>\n",
       "      <th>8</th>\n",
       "    </tr>\n",
       "  </thead>\n",
       "  <tbody>\n",
       "    <tr>\n",
       "      <th>x</th>\n",
       "      <td>23</td>\n",
       "      <td>25</td>\n",
       "      <td>26</td>\n",
       "      <td>29</td>\n",
       "      <td>30</td>\n",
       "      <td>34</td>\n",
       "      <td>40</td>\n",
       "      <td>46</td>\n",
       "      <td>51</td>\n",
       "    </tr>\n",
       "    <tr>\n",
       "      <th>fx</th>\n",
       "      <td>2</td>\n",
       "      <td>2</td>\n",
       "      <td>1</td>\n",
       "      <td>1</td>\n",
       "      <td>2</td>\n",
       "      <td>1</td>\n",
       "      <td>1</td>\n",
       "      <td>1</td>\n",
       "      <td>1</td>\n",
       "    </tr>\n",
       "  </tbody>\n",
       "</table>\n",
       "</div>"
      ],
      "text/plain": [
       "     0   1   2   3   4   5   6   7   8\n",
       "x   23  25  26  29  30  34  40  46  51\n",
       "fx   2   2   1   1   2   1   1   1   1"
      ]
     },
     "execution_count": 10,
     "metadata": {},
     "output_type": "execute_result"
    }
   ],
   "source": [
    "# Obtenermos los valores únicos de x y sus frecuencias fx\n",
    "x, fx = np.unique(df[\"Age\"], return_counts=True)\n",
    "pd.DataFrame({'x': x, \"fx\": fx}).transpose()"
   ]
  },
  {
   "cell_type": "markdown",
   "metadata": {},
   "source": [
    "- Ubicamos las posiciones (índices) donde ocurren las máximas frecuencias:\n",
    "\n",
    "```Python\n",
    "posiciones_max_frecuencias = np.where(fx == fx.max())\n",
    "```\n",
    "\n",
    "- Devolvemos esas posiciones para el vector **x**:\n",
    "\n",
    "```Python\n",
    "x[posiciones_max_frecuencias]\n",
    "```"
   ]
  },
  {
   "cell_type": "code",
   "execution_count": 11,
   "metadata": {},
   "outputs": [
    {
     "name": "stdout",
     "output_type": "stream",
     "text": [
      "Moda:  [23 25 30] con 2 observaciones.\n"
     ]
    }
   ],
   "source": [
    "# Ubicamos donde ocurre el máximo np.where(fx == fx.max()) y devolvemos esas posiciones para x\n",
    "posiciones_max_frecuencias = np.where(fx == fx.max())\n",
    "print(\"Moda: \", x[posiciones_max_frecuencias], \"con\", fx.max(), \"observaciones.\")"
   ]
  },
  {
   "cell_type": "markdown",
   "metadata": {},
   "source": [
    "<a id=\"dispersion\"></a>\n",
    "## Medidas de dispersión\n",
    "\n",
    "[Volver al índice](#toc)\n",
    "\n",
    "- **Rango:**\n",
    "  - El rango de un conjunto de datos es el resultado de restar el máximo y el mínimo de la muestra.\n",
    "  - Para un conjunto de valores $x$ el $Rango(x)$ se define como:\n",
    "$$Rango(x) = max(x) - min(x) = \\text{Valor mayor - valor menor}.$$\n",
    "  - Es sensible a outliers.\n",
    "  - Tiene la misma unidad de medida que las observaciones. \n",
    "\n",
    "- **Varianza muestral (corregida):**\n",
    "  - La varianza muestral $s^2$ se calcula sobre los datos de la muestra y se utiliza para determinar la desviación de las observaciones alrededor de la media.\n",
    "  - La Varianza es la media aritmética de las desviaciones alrededor de la media al cuadrado.\n",
    "  - Considere un conjunto de números $\\{x_1,x_2,...,x_n \\}$ con una media muestral $\\bar{x}$. \n",
    "    - La **varianza** del conjunto es:\n",
    "$$s^2=\\frac{(x_1-\\bar{x})^2+(x_2-\\bar{x})^2+...+(x_n-\\bar{x})^2}{n-1}.$$\n",
    "$$s^2=\\sum_{i=1}^n\\frac{(x_i-\\bar{x})^2}{n-1}.$$\n",
    "\n",
    "- **Desviación estándar (corregida):**\n",
    "  - La desviación estándar es una medida de la cantidad de variación o dispersión de un conjunto de valores. Una desviación estándar baja indica que los valores tienden a estar cerca de la media del conjunto de datos, mientras que una desviación estándar alta indica que los valores se distribuyen en un rango más amplio.\n",
    "  - La desviación estándar se define como la raíz cuadrada de la desviación:\n",
    "  $$s= \\sqrt {\\sum_{i=1}^n\\frac{(x_i-\\bar{x})^2}{n-1}}.$$\n",
    "\n"
   ]
  },
  {
   "cell_type": "markdown",
   "metadata": {},
   "source": [
    "<a id=\"cdisp\"></a>\n",
    "### Calculamos los valores de dispersión definidos arriba\n",
    "\n",
    "[Volver al índice](#toc)\n",
    "\n",
    "- Vea el uso de format, usado en el impresión de la varianza y desviación estándar: https://www.w3schools.com/python/ref_string_format.asp\n",
    "\n",
    "- Pandas implementa las funciones **var()** y **std()**."
   ]
  },
  {
   "cell_type": "code",
   "execution_count": 12,
   "metadata": {},
   "outputs": [
    {
     "name": "stdout",
     "output_type": "stream",
     "text": [
      "El rango es: 28\n",
      "La varianza es 85.24, y la desviación 9.23\n"
     ]
    }
   ],
   "source": [
    "# Imprimimos el rango\n",
    "print(\"El rango es:\", df[\"Age\"].max() - df[\"Age\"].min())\n",
    "\n",
    "# Imprimimos varianza y desviación con 2 decimales\n",
    "print(\"La varianza es {:.2f}, y la desviación {:.2f}\".format(df[\"Age\"].var(), df[\"Age\"].std()))"
   ]
  },
  {
   "cell_type": "markdown",
   "metadata": {},
   "source": [
    "### Opcional: Practica Python\n",
    "\n",
    "<img align=\"left\" src=\"https://raw.githubusercontent.com/marsgr6/r-scripts/master/imgs/python-banner-300x89.png\">\n",
    "\n",
    "<br/><br/>\n",
    "<br/><br/>\n",
    "<br/>\n",
    "\n",
    "- Calculemos la varianza paso a paso:\n",
    "  - Debemos recorrer (iterar) por los valores en el vector **Age**:\n",
    "  - Usamos para esto una lista por comprensión (https://www.w3schools.com/python/python_lists_comprehension.asp): \n",
    "  \n",
    "```Python\n",
    "[... for elemento in vector]\n",
    "\n",
    "for elemento in vector  # recorre cada uno de los elementos en vector\n",
    "for age_i in df[\"Age\"]  # recorre cada uno de los (doce) elementos en df[\"Age\"], \n",
    "                        # age_i toma cada valor individual en una iteración dada\n",
    "...  # definimos una operación que es repetida de acuerdo al bucle for\n",
    "\n",
    "(age_i - df[\"Age\"].mean())**2  ## Operación a realizar\n",
    "\n",
    "# Juntamos todos los elementos para calcular la varianza\n",
    "varianza = sum([(age_i - df[\"Age\"].mean())**2 for age_i in df[\"Age\"]]) / (df[\"Age\"].size - 1)\n",
    "\n",
    "# Usamos la función raíz cuadrada de numpy para calcular la desvación estándar\n",
    "desv_std = np.sqrt(varianza)\n",
    "```"
   ]
  },
  {
   "cell_type": "code",
   "execution_count": 13,
   "metadata": {},
   "outputs": [
    {
     "name": "stdout",
     "output_type": "stream",
     "text": [
      "La varianza es 85.24, y la desviación 9.23\n"
     ]
    }
   ],
   "source": [
    "varianza = sum([(age_i - df[\"Age\"].mean())**2 for age_i in df[\"Age\"]]) / (df[\"Age\"].size - 1)\n",
    "desv_std = np.sqrt(varianza)  # numpy raíz cuadrada sqrt\n",
    "print(\"La varianza es {:.2f}, y la desviación {:.2f}\".format(varianza, desv_std))"
   ]
  },
  {
   "cell_type": "code",
   "execution_count": 14,
   "metadata": {},
   "outputs": [
    {
     "name": "stdout",
     "output_type": "stream",
     "text": [
      "La varianza es 85.24, y la desviación 9.23\n"
     ]
    }
   ],
   "source": [
    "# El cálculo puede ser simplificado gracias a las estrucuturas de datos de pandas\n",
    "varianza = ((df[\"Age\"] - df[\"Age\"].mean())**2).sum() / (df[\"Age\"].size - 1)\n",
    "desv_std = np.sqrt(varianza)\n",
    "print(\"La varianza es {:.2f}, y la desviación {:.2f}\".format(varianza, desv_std))"
   ]
  },
  {
   "cell_type": "markdown",
   "metadata": {},
   "source": [
    "<a id=\"mdc\"></a>\n",
    "## Medidas de dispersión (continuación)\n",
    "\n",
    "[Volver al índice](#toc)\n",
    "\n",
    "- **Cuartiles:**\n",
    "\n",
    "  - Un cuartil es un tipo de cuantil que divide el número de puntos en los datos en cuatro partes, o cuartos, de tamaño más o menos igual. Los datos deben ordenarse de menor a mayor para calcular los cuartiles; como tal, **los cuartiles son estadísticos de orden.** \n",
    "\n",
    "  - Los tres cuartiles principales son los siguientes:\n",
    "\n",
    "    - El primer cuartil (Q1) se define como el número medio entre el número más pequeño (mínimo) y la mediana del conjunto de datos. También se lo conoce como el cuartil empírico inferior o número 25, ya que el 25% de los datos está por debajo de este punto.\n",
    "    - El segundo cuartil (Q2) es la mediana de un conjunto de datos; por lo tanto, el 50% de los datos se encuentra por debajo de este punto.\n",
    "    - El tercer cuartil (Q3) es el valor medio entre la mediana y el valor más alto (máximo) del conjunto de datos. Se lo conoce como el cuartil empírico superior o 75, ya que el 75% de los datos se encuentran por debajo de este punto. \n",
    "    - Note que hay diferentes métodos para calcular cuartiles en el caso discreto: https://en.wikipedia.org/wiki/Quartile#Computing_methods\n",
    "    \n",
    "- **Rango intercuartílico:**\n",
    "\n",
    "  - El **rango intercuartílico RIC** (IQR en inglés), está definido como:\n",
    "  $$IQR = Q3 - Q1$$\n",
    "  - Si bien el máximo y el mínimo (rango) también muestran la dispersión de los datos, los cuartiles superior e inferior pueden proporcionar información más detallada sobre la ubicación de puntos de datos específicos, la presencia de valores atípicos en los datos y la diferencia en la dispersión entre el 50% medio de los datos y los puntos de datos externos.\n",
    "  - El rango intercuartil se utiliza para describir la dispersión de los datos. A medida que aumenta la dispersión de los datos, el IQR se hace más grande."
   ]
  },
  {
   "cell_type": "markdown",
   "metadata": {},
   "source": [
    "<a id=\"cq\"></a>\n",
    "### Calculemos los cuartiles para la variable Age\n",
    "\n",
    "[Volver al índice](#toc)\n",
    "\n",
    "- Recordemos que la función describe() de pandas devuelve los cuartiles: $Q0$ (mínimo), $Q1$, $Q2$, $Q3$, $Q4$ (máximo).\n",
    "\n",
    "```Python\n",
    "df['Age'].describe()\n",
    "```\n",
    "\n",
    "Si el nombre de la variable es simple, podemos usar \n",
    "```Python\n",
    "DataFrame.Variable \n",
    "```\n",
    "para acceder a ella de la misma forma que usamos\n",
    "```Python\n",
    "DataFrame[\"Variable\"]\n",
    "```"
   ]
  },
  {
   "cell_type": "code",
   "execution_count": 15,
   "metadata": {},
   "outputs": [
    {
     "data": {
      "text/plain": [
       "count    12.000000\n",
       "mean     31.833333\n",
       "std       9.232682\n",
       "min      23.000000\n",
       "25%      25.000000\n",
       "50%      29.500000\n",
       "75%      35.500000\n",
       "max      51.000000\n",
       "Name: Age, dtype: float64"
      ]
     },
     "execution_count": 15,
     "metadata": {},
     "output_type": "execute_result"
    }
   ],
   "source": [
    "# Cuartiles usando pandas\n",
    "df['Age'].describe()"
   ]
  },
  {
   "cell_type": "code",
   "execution_count": 16,
   "metadata": {},
   "outputs": [
    {
     "data": {
      "text/plain": [
       "array([25. , 29.5, 35.5])"
      ]
     },
     "execution_count": 16,
     "metadata": {},
     "output_type": "execute_result"
    }
   ],
   "source": [
    "# Cuartiles usando numpy\n",
    "np.quantile(df['Age'], [0.25, 0.5, 0.75])"
   ]
  },
  {
   "cell_type": "markdown",
   "metadata": {},
   "source": [
    "### Opcional: Practica Python\n",
    "\n",
    "<img align=\"left\" src=\"https://raw.githubusercontent.com/marsgr6/r-scripts/master/imgs/python-banner-300x89.png\">\n",
    "\n",
    "<br/><br/>\n",
    "<br/><br/>\n",
    "<br/>\n",
    "\n",
    "\n",
    "Podemos usar la implementación en numpy para calcular cuantiles:\n",
    "```Python\n",
    "Cuartiles = np.quantile(df['Age'], q=[0.25, 0.5, 0.75])\n",
    "```\n",
    "Debemos pasar la serie de datos **df['Age']**, y luego los cuantiles **q=[0.25, 0.5, 0.75]**\n",
    "que deseamos calcular.\n",
    "\n",
    "La función devuelve tantos elementos como el vector $q$ contenga.\n",
    "\n",
    "Podemos imprimir los cuantiles usando un bucle (**for**) para imprimir cada elemento contenido en $Q$:\n",
    "```Python\n",
    "for i, Qi in enumerate(Cuartiles): print(\"Q\"+str(i+1)+\": {}\".format(Qi))\n",
    "```"
   ]
  },
  {
   "cell_type": "code",
   "execution_count": 17,
   "metadata": {},
   "outputs": [
    {
     "name": "stdout",
     "output_type": "stream",
     "text": [
      "Cuartiles: [25.  29.5 35.5]\n",
      "Q1: 25.0\n",
      "Q2: 29.5\n",
      "Q3: 35.5\n"
     ]
    }
   ],
   "source": [
    "Cuartiles = np.quantile(df['Age'], [0.25, 0.5, 0.75])\n",
    "print(\"Cuartiles:\", Cuartiles)\n",
    "# Imprimimos cada elemento individual en Cuartiles\n",
    "for i, Ci in enumerate(Cuartiles): print(\"Q\"+str(i+1)+\": {}\".format(Ci))"
   ]
  },
  {
   "cell_type": "markdown",
   "metadata": {},
   "source": [
    "- Calculemos los cuartiles para un número par de datos:\n",
    "  - Ya hemos calculado antes la mediana o $Q2$.\n",
    "  - Podemos generalizar el cálculo del cuantil $Q_i$ de la siguiente manera para un vector ordenado $x$ de longitud par $n$:\n",
    "  $$\n",
    "  \\mathrm {Q_i}(x)=qi \\cdot x_{(P{qi})} + (1-qi) \\cdot x_{(P{qi}+1)}, \n",
    "  \\quad P{qi} = \\lfloor n \\times q_i \\rfloor.  \\quad \\lfloor x \\rfloor \\text{ indica un redondeo al inferior.}\n",
    "  $$\n",
    "  - Note que el cálculo abajo, corrige la indexación para Python, que indexa a partir de 0.\n",
    "  \n",
    "\n",
    "### Opcional: Practica Python\n",
    "\n",
    "<img align=\"left\" src=\"https://raw.githubusercontent.com/marsgr6/r-scripts/master/imgs/python-banner-300x89.png\">"
   ]
  },
  {
   "cell_type": "code",
   "execution_count": 18,
   "metadata": {},
   "outputs": [
    {
     "name": "stdout",
     "output_type": "stream",
     "text": [
      "Datos: [23 23 25 25 26 29 30 30 34 40 46 51]\n",
      "El primer cuartil (Q1) es: 25.0\n",
      "La mediana (Q2) es: 29.5\n",
      "El tercer cuartil (Q3) es: 35.5\n"
     ]
    }
   ],
   "source": [
    "# Ordenemos los datos\n",
    "age = df['Age']\n",
    "age_ordenada = np.sort(age)\n",
    "print(\"Datos:\", age_ordenada)\n",
    "\n",
    "q1 = 0.25  # Cuartil 2\n",
    "P_q1 = int(age_ordenada.size * q1)  # posición del cuartil 1, use redondeo al inferior\n",
    "print(\"El primer cuartil (Q1) es:\", age_ordenada[P_q1-1]*q1 + age_ordenada[P_q1]*(1-q1))\n",
    "\n",
    "q2 = 0.5  # Cuartil 2\n",
    "P_q2 = int(age_ordenada.size * q2)  # posición del cuartil 2, use redondeo al inferior\n",
    "print(\"La mediana (Q2) es:\", q2*age_ordenada[P_q2-1] + (1-q2)*age_ordenada[P_q2])\n",
    "\n",
    "q3 = 0.75  # Cuartil 2\n",
    "P_q3 = int(age_ordenada.size * q3)  # posición del cuartil 1, use redondeo al inferior\n",
    "print(\"El tercer cuartil (Q3) es:\", q3*age_ordenada[P_q3-1] + (1-q3)*age_ordenada[P_q3])"
   ]
  },
  {
   "cell_type": "code",
   "execution_count": 19,
   "metadata": {},
   "outputs": [
    {
     "name": "stdout",
     "output_type": "stream",
     "text": [
      "Cuartiles: [25.0, 29.5, 35.5]\n"
     ]
    }
   ],
   "source": [
    "# Usemos bucles para el código anterior\n",
    "# Cuartiles\n",
    "Q = [0.25, 0.5, 0.75]\n",
    "# Posciones (índices) de los cuartiles, tiene que ser un número entero\n",
    "# se redondea al inferior dado que la indexación en Python empieza en cero\n",
    "P_q = [int(age_ordenada.size * qi) for qi in Q]\n",
    "\n",
    "print(\"Cuartiles:\", [qi*age_ordenada[p_qi-1] + (1-qi)*age_ordenada[p_qi] \n",
    "                     for qi, p_qi in zip(Q, P_q)])"
   ]
  },
  {
   "cell_type": "markdown",
   "metadata": {},
   "source": [
    "Podemos concluir que el 50% de los datos centrales se encuentran entre $Q1=25$ y $Q3=35.5$. \n",
    "\n",
    "- Calculemos el rango intercuartílico (IQR):\n",
    "$$\n",
    "IQR = Q3 - Q1\n",
    "$$\n",
    "  - Si tuvieramos que comparar dos conjuntos de datos, \n",
    "recordemos que a medida que aumenta la dispersión, el IQR se hace más grande."
   ]
  },
  {
   "cell_type": "code",
   "execution_count": 20,
   "metadata": {},
   "outputs": [
    {
     "name": "stdout",
     "output_type": "stream",
     "text": [
      "IQR: 10.5\n"
     ]
    }
   ],
   "source": [
    "Q1, Q3 = np.quantile(df['Age'], [0.25, 0.75])  # Asignación de tupla\n",
    "IQR = Q3 - Q1\n",
    "print(\"IQR:\", IQR)"
   ]
  },
  {
   "cell_type": "markdown",
   "metadata": {},
   "source": [
    "<img align=\"left\" width=\"80px\" src=\"https://raw.githubusercontent.com/marsgr6/r-scripts/master/imgs/activity.png\">\n",
    "\n",
    "<br/>\n",
    "\n",
    "### Experimente\n",
    "<br/>\n",
    "\n",
    "- **Pregunta 2**: Repita los cálculos de medidas de centralidad y dispersión, para la variable **Rating**.\n",
    "  - Utilice la implementación en pandas y/o numpy. \n",
    "    - Si quiere practicar Python, replique la implementación paso a paso realizada para la variable Age.\n",
    "  - En el caso de la moda, describa como la calcularía. "
   ]
  },
  {
   "cell_type": "markdown",
   "metadata": {},
   "source": [
    "<a id=\"cqc\"></a>\n",
    "### Para el caso de una variable aleatoria continua, los cuartiles pueden determinar de la siguiente manera:\n",
    "\n",
    "[Volver al índice](#toc)\n",
    "\n",
    "- Si definimos una distribución de probabilidad continua como\n",
    "$P(X)$ donde\n",
    "$X$ es una variable aleatoria continua, su función de distribución acumulada (CDF) está dada por,\n",
    "\n",
    "$$ F_{X}(x) = P (X \\leq x).$$\n",
    "\n",
    "- La CDF da la probabilidad de que la variable aleatoria\n",
    "$X$ sea menor que un valor dado $x$.\n",
    "- Por tanto, el primer cuartil es el valor de $x$ que cumple que \n",
    "$F_{X}(x) = 0.25$, el segundo cuartil es\n",
    "$x$ cuando\n",
    "$F_{X} (x) = 0.5$, y el tercer cuartil es\n",
    "$x$ cuando\n",
    "$F_ {X} (x) = 0.75$. \n",
    "Los valores de\n",
    "$x$ se puede encontrar con la función cuantil\n",
    "$Q(p)$ con\n",
    "$p = 0.25$ para el primer cuartil,\n",
    "$p = 0.5$ para el segundo cuartil, y\n",
    "$p = 0.75$ para el tercer cuartil. \n",
    "\n",
    "- La función cuantil es la inversa de la función de distribución acumulada.\n",
    "\n",
    "### Cuartiles de una v.a. continua\n",
    "\n",
    "- Vamos a representar los cuartiles para una variable aleatoria $X$ con una distribución normal estándar $X\\sim N(\\mu=0, \\sigma=1)$.\n",
    "\n",
    "- Note en el panel izquierdo que el area a la izquierda de Q1 es del 25%, a la izquierda de Q2 es 50% y a la izquierda de Q3 es 75% del area total bajo la curva. \n",
    "  - Esto se refleja en la función acumulada en el panel derecho. \n",
    "\n",
    "  - **Conceptos como función de densidad de probabilidad, función de probabilidad acumulada se tratarán en las semanas 2 y 3.**\n",
    "\n",
    "### Opcional: Practica Python\n",
    "\n",
    "<img align=\"left\" src=\"https://raw.githubusercontent.com/marsgr6/r-scripts/master/imgs/python-banner-300x89.png\">\n",
    "\n",
    "<br/><br/>\n",
    "<br/><br/>\n",
    "<br/>\n",
    "\n",
    "A continuación se detalla parte del código:\n",
    "\n",
    "- Note que se usa una lista por comprensión\n",
    "```Python\n",
    "# lista por comprensión\n",
    "[operacion for i in range(repeticiones)]\n",
    "```\n",
    "  - La operación consite en agregar texto al gráfico \n",
    "```Python\n",
    "plt.text(q[i], 0, \"Q\"+str(i+1)) \n",
    "```\n",
    "  - Se repite para cada cuartil (3 veces)\n",
    "```Python\n",
    "for i in range(3)\n",
    "```\n",
    "  - Resultado:\n",
    "```Python\n",
    "[plt.text(q[i], 0, \"Q\"+str(i+1)) for i in range(3)]\n",
    "```\n",
    "\n",
    "- Graficamos lineas verticales en el gráfico:\n",
    "```Python\n",
    "plt.vlines(valor_en_x, minimo_en_y, maximo_en_y, linestyles=estilo_de_linea)\n",
    "```  \n",
    "- Resultado:\n",
    "```Python\n",
    "plt.vlines(q, [0]*3, norm.pdf(q), linestyles=\"dotted\")\n",
    "```\n",
    "- Graficamos lineas horizontales en el gráfico:\n",
    "```Python\n",
    "plt.hlines(valor_en_y, minimo_en_x, maximo_en_x, linestyles=estilo_de_linea)\n",
    "```\n",
    "- Resultado:\n",
    "```Python\n",
    "plt.hlines(p, [-4]*3, q, linestyles=\"dotted\")\n",
    "```"
   ]
  },
  {
   "cell_type": "code",
   "execution_count": 21,
   "metadata": {},
   "outputs": [
    {
     "name": "stdout",
     "output_type": "stream",
     "text": [
      "Cuartiles: [-0.6745  0.      0.6745]\n"
     ]
    },
    {
     "data": {
      "image/png": "[encoded data removed]",
      "text/plain": [
       "<Figure size 864x288 with 2 Axes>"
      ]
     },
     "metadata": {
      "needs_background": "light"
     },
     "output_type": "display_data"
    }
   ],
   "source": [
    "from scipy.stats import norm  # importa una distribución normal\n",
    "\n",
    "plt.figure(figsize=(12,4))  # tamaño de la figura \n",
    "\n",
    "plt.subplot(1,2,1)  # Panel 1\n",
    "x = np.linspace(-4, 4)  # Rango de valores en que graficaremos la función\n",
    "plt.plot(x, norm.pdf(x))  # Función de densidad de probabilidad\n",
    "plt.title(\"PDF\")  \n",
    "\n",
    "p = [0.25, 0.5, 0.75]  # probabilidades acumuladas para Q1, Q2, Q3\n",
    "q = norm.ppf([0.25, 0.5, 0.75])  # Cuartiles, ppf es la función cuantil Q(p)\n",
    "print(\"Cuartiles:\", np.round(q,4))\n",
    "\n",
    "plt.vlines(q, [0]*3, norm.pdf(q), linestyles=\"dotted\")\n",
    "q_text = [plt.text(q[i], 0, \"Q\"+str(i+1)) for i in range(3)]\n",
    "\n",
    "plt.subplot(1,2,2)\n",
    "\n",
    "plt.plot(x, norm.cdf(x))  # Función de probabilidad acumulada \n",
    "plt.title(\"CDF\")\n",
    "\n",
    "plt.hlines(p, [-4]*3, q, linestyles=\"dotted\")\n",
    "plt.vlines(q, [0]*3, p, linestyles=\"dotted\")\n",
    "q_text = [plt.text(q[i], 0, \"Q\"+str(i+1)) for i in range(3)]"
   ]
  },
  {
   "cell_type": "markdown",
   "metadata": {},
   "source": [
    "<a id=\"gd\"></a>\n",
    "## Graficaremos nuestros datos para ver cómo se distribuyen\n",
    "\n",
    "[Volver al índice](#toc)\n",
    "\n",
    "<a id=\"dbp\"></a>\n",
    "### Diagrama de barras y pastel\n",
    "\n",
    "- Construiremos un diagrama de barras mostrando las frecuencias para cada valor único de la variable Age. \n",
    "  - Recuerde que hemos calculado los valores únicos y sus frecuencias cuando calculamos la moda.\n",
    "  - Una serie de pandas tiene implementados los métodos de:\n",
    "    - plot.bar()\n",
    "    - plot.pie()\n",
    "  - **sort_index()** ordena la tabla de frecuencias de menor a mayor."
   ]
  },
  {
   "cell_type": "code",
   "execution_count": 22,
   "metadata": {},
   "outputs": [
    {
     "name": "stdout",
     "output_type": "stream",
     "text": [
      "23    2\n",
      "25    2\n",
      "26    1\n",
      "29    1\n",
      "30    2\n",
      "34    1\n",
      "40    1\n",
      "46    1\n",
      "51    1\n",
      "Name: Age, dtype: int64\n"
     ]
    },
    {
     "data": {
      "text/plain": [
       "<AxesSubplot:>"
      ]
     },
     "execution_count": 22,
     "metadata": {},
     "output_type": "execute_result"
    },
    {
     "data": {
      "image/png": "[encoded data removed]",
      "text/plain": [
       "<Figure size 432x288 with 1 Axes>"
      ]
     },
     "metadata": {
      "needs_background": "light"
     },
     "output_type": "display_data"
    }
   ],
   "source": [
    "# Diagrama de barras para la variable Age\n",
    "age_frecuencias = df['Age'].value_counts()  # devuelve valores únicos y sus frecuencias\n",
    "print(age_frecuencias.sort_index())  # ordenamos de acuerdo a los valores únicos\n",
    "age_frecuencias.sort_index().plot.bar()  # llamamos el método plot.bar() para nuestra serie"
   ]
  },
  {
   "cell_type": "markdown",
   "metadata": {},
   "source": [
    "- La moda es claramente identificable en el gráfico de barras arriba. \n",
    "  - Moda: 23, 25 y 30 con 2 observaciones cada uno. \n",
    "- Podemos representar la misma información usando un gráfico de pastel. \n",
    "  - Siempre que pueda, evite usar pasteles. "
   ]
  },
  {
   "cell_type": "code",
   "execution_count": 23,
   "metadata": {},
   "outputs": [
    {
     "data": {
      "text/plain": [
       "<AxesSubplot:ylabel='Age'>"
      ]
     },
     "execution_count": 23,
     "metadata": {},
     "output_type": "execute_result"
    },
    {
     "data": {
      "image/png": "[encoded data removed]",
      "text/plain": [
       "<Figure size 432x288 with 1 Axes>"
      ]
     },
     "metadata": {},
     "output_type": "display_data"
    }
   ],
   "source": [
    "age_frecuencias.sort_index().plot.pie()"
   ]
  },
  {
   "cell_type": "markdown",
   "metadata": {},
   "source": [
    "<a id=\"hist\"></a>\n",
    "## Histograma\n",
    "\n",
    "[Volver al índice](#toc)\n",
    "\n",
    "- Un histograma es una representación aproximada de la distribución de datos numéricos. Para construir un histograma, el primer paso es \"agrupar\" el rango de valores, es decir, dividir todo el rango de valores en una serie de intervalos, y luego contar cuántos valores caen en cada intervalo. \n",
    "\n",
    "- Los contenedores (bins) generalmente se especifican como intervalos consecutivos que no se superponen de una variable. \n",
    "\n",
    "- Los intervalos de los bins deben ser adyacentes y a menudo del mismo tamaño (pero no es obligatorio que lo sean).\n",
    "\n",
    "### Histogramas en pandas y numpy\n",
    "\n",
    "Llamamos la función **plot.hist** de pandas para graficar el histograma para la serie especificada, e indicamos el número de bins a construir:\n",
    "```Python\n",
    "pandas.Series.plot.hist(bins)\n",
    "```\n",
    "- Ejemplo:\n",
    "```Python\n",
    "df['Age'].plot.hist(bins=4, edgecolor=\"white\")\n",
    "```\n",
    "\n",
    "- Existen diferentes formas de seleccionar el número de bins, y por tanto los intervalos.\n",
    "  - Sin embargo estas son algo arbitrarias. \n",
    "  - La mejor manera de definir el número de bins es de forma empírica. \n",
    "    - Pruebe valores diferentes para **plot.hist(bins=4)**.\n",
    "    - ¿Considera que un número de bins diferente a 4 es mejor para los datos en Age?\n",
    "    - Vea una **versión interactiva para definir el número de bines en:** https://en-interactive.herokuapp.com/#/1/1"
   ]
  },
  {
   "cell_type": "code",
   "execution_count": 24,
   "metadata": {},
   "outputs": [
    {
     "name": "stdout",
     "output_type": "stream",
     "text": [
      "Intervalos: [23. 30. 37. 44. 51.]\n",
      "Frecuencias: [6 3 1 2]\n"
     ]
    },
    {
     "data": {
      "image/png": "[encoded data removed]",
      "text/plain": [
       "<Figure size 432x288 with 1 Axes>"
      ]
     },
     "metadata": {
      "needs_background": "light"
     },
     "output_type": "display_data"
    }
   ],
   "source": [
    "df['Age'].plot.hist(bins=4, edgecolor=\"white\")\n",
    "\n",
    "frecuencias, intervalos = np.histogram(df['Age'], bins=4)\n",
    "print(\"Intervalos:\", intervalos)\n",
    "print(\"Frecuencias:\", frecuencias)"
   ]
  },
  {
   "cell_type": "markdown",
   "metadata": {},
   "source": [
    "### Opcional: Practica Python\n",
    "\n",
    "<img align=\"left\" src=\"https://raw.githubusercontent.com/marsgr6/r-scripts/master/imgs/python-banner-300x89.png\">\n",
    "\n",
    "<br/><br/>\n",
    "<br/><br/>\n",
    "<br/>\n",
    "\n",
    "- Vamos a construir un histograma\n",
    "  - Definimos el número de intervalos (bins) a construir entre el mínimo y máximo de los datos.\n",
    "  - Calculamos el ancho $w$ de los intervalos de la siguiente manera\n",
    "  $$w = \\frac{max(x) - min(x)}{bins}$$\n",
    "  - Definimos el valor mínimo y máximo de cada intervalo $Int$.\n",
    "  - Empezando en $Int_0 = min(x)$\n",
    "    - Repetimos para el número de bins:\n",
    "      $Int_i = Int_{i-1} + w$\n",
    "    - El último valor del vector de intervalos es $Int_{bin+1} = max(x)$.\n",
    "  - Encuentre el número de valores en cada intervalo dado que:\n",
    "    - $Int_i <= x < Int_{i+1}$\n",
    "    - Para el último bin use: $Int_i <= x <= Int_{i+1}$, para poder incluir el valor máximo."
   ]
  },
  {
   "cell_type": "code",
   "execution_count": 25,
   "metadata": {},
   "outputs": [
    {
     "data": {
      "text/plain": [
       "array([23., 30., 37., 44., 51.])"
      ]
     },
     "execution_count": 25,
     "metadata": {},
     "output_type": "execute_result"
    }
   ],
   "source": [
    "bins = 4  # número de bins \n",
    "w = (df['Age'].max()-df['Age'].min()) / bins  # ancho de los bins\n",
    "intervalos = [df['Age'].min()]  # Ini\n",
    "for i in range(bins):\n",
    "    intervalos += [intervalos[-1] + w]\n",
    "    \n",
    "# transformamos una lista en Python a un array, esto nos permite realizar operaciones númericas sobre el vector\n",
    "intervalos = np.array(intervalos)\n",
    "intervalos"
   ]
  },
  {
   "cell_type": "code",
   "execution_count": 26,
   "metadata": {},
   "outputs": [
    {
     "data": {
      "text/plain": [
       "array([6, 3, 1, 2])"
      ]
     },
     "execution_count": 26,
     "metadata": {},
     "output_type": "execute_result"
    }
   ],
   "source": [
    "frecuencias = []  # frecuencias: frecuencias observadas en cada intervalo\n",
    "\n",
    "# Para todos los bins excepto el último\n",
    "for i in range(bins-1):\n",
    "    frecuencias += [np.where((df['Age'] >= intervalos[i]) & (df['Age'] < intervalos[i+1]))[0].size]\n",
    "\n",
    "# Último bin\n",
    "frecuencias += [np.where((df['Age'] >= intervalos[-2]) & (df['Age'] <= intervalos[-1]))[0].size]\n",
    "frecuencias = np.array(frecuencias)  # transformamos una lista de Python en un array de numpy\n",
    "frecuencias"
   ]
  },
  {
   "cell_type": "markdown",
   "metadata": {},
   "source": [
    "- Con la informacion de **intervalos** y **frecuencias** podemos construir un gráfico que replique lo generado por la función **plot.hist** de pandas\n",
    "  - Use para el ancho de las barras, el valor de $w$ calculado."
   ]
  },
  {
   "cell_type": "code",
   "execution_count": 27,
   "metadata": {},
   "outputs": [
    {
     "data": {
      "text/plain": [
       "<BarContainer object of 4 artists>"
      ]
     },
     "execution_count": 27,
     "metadata": {},
     "output_type": "execute_result"
    },
    {
     "data": {
      "image/png": "[encoded data removed]",
      "text/plain": [
       "<Figure size 432x288 with 1 Axes>"
      ]
     },
     "metadata": {
      "needs_background": "light"
     },
     "output_type": "display_data"
    }
   ],
   "source": [
    "centros = (intervalos[1:] + intervalos[:-1])/2\n",
    "plt.bar(centros, frecuencias, width=w, edgecolor='white')"
   ]
  },
  {
   "cell_type": "markdown",
   "metadata": {},
   "source": [
    "<a id=\"histn\"></a>\n",
    "### De acuerdo al análsis requerido, un histograma puede ser normalizado\n",
    "\n",
    "[Volver al índice](#toc)\n",
    "\n",
    "- Esta normalización pude ser para que la suma de las alturas de los bins sea 1 (por probabilidad).\n",
    "- Para que el área de los bins sume 1 (por densidad).\n",
    "\n",
    "- **Seaborn nos ayuda a construir estos histogramas.**\n",
    "  - Por defecto sns.histplot(...) construye frecuencias observadas:\n",
    "  - La opción \n",
    "  ```Python\n",
    "stat=\"probability\"\n",
    "```\n",
    "normaliza el histograma por probabilidad (suma de alturas es 1).\n",
    "  - La opción \n",
    "  ```Python\n",
    "stat=\"density\"\n",
    "```\n",
    "normaliza el histograma por densidad (suma de áreas es 1)."
   ]
  },
  {
   "cell_type": "code",
   "execution_count": 28,
   "metadata": {},
   "outputs": [
    {
     "data": {
      "text/plain": [
       "Text(0.5, 1.0, 'Densidad')"
      ]
     },
     "execution_count": 28,
     "metadata": {},
     "output_type": "execute_result"
    },
    {
     "data": {
      "image/png": "[encoded data removed]",
      "text/plain": [
       "<Figure size 1152x288 with 3 Axes>"
      ]
     },
     "metadata": {
      "needs_background": "light"
     },
     "output_type": "display_data"
    }
   ],
   "source": [
    "plt.figure(figsize=(16,4))  # Definimos tamaño de figura\n",
    "# Usaremos paneles en filas x columnas\n",
    "# subplot(filas, columnas, panel)\n",
    "plt.subplot(1,3,1)  # panel 1\n",
    "sns.histplot(data=df, x=\"Age\", bins=4).set_title(\"Frecuencias\")\n",
    "plt.subplot(1,3,2)  # panel 2\n",
    "sns.histplot(data=df, x=\"Age\", bins=4, stat=\"probability\").set_title(\"Probabilidad\")\n",
    "plt.subplot(1,3,3)  # panel 3\n",
    "sns.histplot(data=df, x=\"Age\", bins=4, stat=\"density\").set_title(\"Densidad\")"
   ]
  },
  {
   "cell_type": "markdown",
   "metadata": {},
   "source": [
    "- Cuando observamos una variable continua como Rating, es preferible construir un histograma normalizado a que el area sea 1 (densidad).\n",
    "  - Podemos sobreponer la **curva de densidad** usando seaborn.\n",
    "  - Vea: M. P. Wand & M. C. Jones, [Kernel Smoothing](https://marsgr6.github.io/presentations/misc/Wand_Jones_KERNEL_SMOOTH.pdf)."
   ]
  },
  {
   "cell_type": "code",
   "execution_count": 29,
   "metadata": {},
   "outputs": [
    {
     "data": {
      "text/plain": [
       "<AxesSubplot:xlabel='Age', ylabel='Density'>"
      ]
     },
     "execution_count": 29,
     "metadata": {},
     "output_type": "execute_result"
    },
    {
     "data": {
      "image/png": "[encoded data removed]",
      "text/plain": [
       "<Figure size 432x288 with 1 Axes>"
      ]
     },
     "metadata": {
      "needs_background": "light"
     },
     "output_type": "display_data"
    }
   ],
   "source": [
    "sns.histplot(data=df, x=\"Age\", bins=4, stat=\"density\", kde=True)"
   ]
  },
  {
   "cell_type": "markdown",
   "metadata": {},
   "source": [
    "<a id=\"density\"></a>\n",
    "## Gráfico de densidad\n",
    "\n",
    "[Volver al índice](#toc)\n",
    "\n",
    "- El gráfico de densidad es una representación de la distribución de una variable numérica. \n",
    "- Utiliza una estimación de densidad de kernel para mostrar la función de densidad de probabilidad de la variable (ver más).\n",
    "- Es una versión suavizada del histograma y se usa en el mismo concepto. \n",
    "  - Vea: M. P. Wand & M. C. Jones, [Kernel Smoothing](https://marsgr6.github.io/presentations/misc/Wand_Jones_KERNEL_SMOOTH.pdf).\n",
    "  - Recurso interactivo: https://mathisonian.github.io/kde/\n",
    "- Para una variable aleatoria continua se cumple que $\\int_{-\\infty}^{\\infty} f(x)dx = 1$. Por tanto el área bajo la curva de densidad y el área del histograma normalizado por densidad, deben ser de 1. \n",
    "\n",
    "    \n",
    "### Grafiquemos las curvas de densidad para Age y Rating"
   ]
  },
  {
   "cell_type": "code",
   "execution_count": 30,
   "metadata": {
    "scrolled": true
   },
   "outputs": [
    {
     "data": {
      "text/plain": [
       "Text(0.5, 1.0, 'Rating')"
      ]
     },
     "execution_count": 30,
     "metadata": {},
     "output_type": "execute_result"
    },
    {
     "data": {
      "image/png": "[encoded data removed]",
      "text/plain": [
       "<Figure size 576x288 with 2 Axes>"
      ]
     },
     "metadata": {
      "needs_background": "light"
     },
     "output_type": "display_data"
    }
   ],
   "source": [
    "plt.figure(figsize=(8,4))\n",
    "plt.subplot(1,2,1)\n",
    "df['Age'].plot.density()\n",
    "plt.title(\"Age\")\n",
    "\n",
    "plt.subplot(1,2,2)\n",
    "df['Rating'].plot.density()\n",
    "plt.title(\"Rating\")"
   ]
  },
  {
   "cell_type": "markdown",
   "metadata": {},
   "source": [
    "- Vamos a graficar un histograma normalizado por densidad y sobreponer su curva de densidad correspondiente para las variables Age y Rating"
   ]
  },
  {
   "cell_type": "code",
   "execution_count": 31,
   "metadata": {},
   "outputs": [
    {
     "data": {
      "text/plain": [
       "Text(0.5, 1.0, 'Rating')"
      ]
     },
     "execution_count": 31,
     "metadata": {},
     "output_type": "execute_result"
    },
    {
     "data": {
      "image/png": "[encoded data removed]",
      "text/plain": [
       "<Figure size 576x288 with 2 Axes>"
      ]
     },
     "metadata": {
      "needs_background": "light"
     },
     "output_type": "display_data"
    }
   ],
   "source": [
    "plt.figure(figsize=(8,4))\n",
    "plt.subplot(1,2,1)\n",
    "df['Age'].plot.density()\n",
    "df['Age'].plot.hist(bins=4, density=True)\n",
    "plt.title(\"Age\")\n",
    "\n",
    "plt.subplot(1,2,2)\n",
    "df['Rating'].plot.density()\n",
    "df['Rating'].plot.hist(bins=4, density=True)\n",
    "plt.title(\"Rating\")"
   ]
  },
  {
   "cell_type": "markdown",
   "metadata": {},
   "source": [
    "- **Volvamos a nuestro histograma de numpy**\n",
    "  - Normalizemos usando probabilidad.\n",
    "  - Construyamos una versión simple de nuestra curva de densidad.\n",
    "    - En realidad es un **gráfico de ojiva**.\n",
    "    - Un gráfico de ojiva, también llamada polígono de frecuencias, es un tipo de polígono que muestra las frecuencias observadas. Un gráfico de ojiva muestra la frecuencia observada en el eje $y$ y los centros de los intervalos (bins) en el eje $x$.\n",
    "    - De manera similar a un histograma, el gráfico de ojiva puede construirse para las frecuencias observadas, las frecuencias relativas (probabilidad), para las frecuencias acumuladas, y para la densidad. "
   ]
  },
  {
   "cell_type": "code",
   "execution_count": 32,
   "metadata": {},
   "outputs": [
    {
     "data": {
      "text/plain": [
       "Text(0.5, 1.0, 'Histograma acumulado')"
      ]
     },
     "execution_count": 32,
     "metadata": {},
     "output_type": "execute_result"
    },
    {
     "data": {
      "image/png": "[encoded data removed]",
      "text/plain": [
       "<Figure size 864x288 with 2 Axes>"
      ]
     },
     "metadata": {
      "needs_background": "light"
     },
     "output_type": "display_data"
    }
   ],
   "source": [
    "# Calculemos el histograma para Age\n",
    "frecuencias, intervalos = np.histogram(df['Age'], bins=4)\n",
    "centros = (intervalos[1:] + intervalos[:-1])/2  # centro de los bins\n",
    "\n",
    "plt.figure(figsize=(12,4))  # Definimos tamaño de figura\n",
    "# Usaremos paneles en filas x columnas\n",
    "# subplot(filas, columnas, panel)\n",
    "plt.subplot(1,2,1)  # panel 1, histograma normalizado por probabilidad\n",
    "# frecuencias/frecuencias.sum(), normaliza por probabilidad, suma de las alturas es 1\n",
    "plt.bar(centros, frecuencias/frecuencias.sum(), width=w, edgecolor='white')\n",
    "plt.plot(centros, frecuencias/frecuencias.sum(), color=\"red\")\n",
    "plt.title('Histograma (probabilidad)')\n",
    "\n",
    "plt.subplot(1,2,2)  # panel 2, histograma acumulado\n",
    "# Vea el uso de la función cumsum()\n",
    "plt.bar(centros, (frecuencias/frecuencias.sum()).cumsum(), width=w, edgecolor='white')\n",
    "plt.plot(centros, (frecuencias/frecuencias.sum()).cumsum(), color=\"red\")\n",
    "plt.title('Histograma acumulado')"
   ]
  },
  {
   "cell_type": "code",
   "execution_count": 33,
   "metadata": {},
   "outputs": [
    {
     "data": {
      "text/plain": [
       "Text(0.5, 1.0, 'Histograma acumulado')"
      ]
     },
     "execution_count": 33,
     "metadata": {},
     "output_type": "execute_result"
    },
    {
     "data": {
      "image/png": "[encoded data removed]",
      "text/plain": [
       "<Figure size 864x288 with 2 Axes>"
      ]
     },
     "metadata": {
      "needs_background": "light"
     },
     "output_type": "display_data"
    }
   ],
   "source": [
    "# Calculemos el histograma para Age normalizado por densidad, density=True\n",
    "frecuencias, intervalos = np.histogram(df['Age'], bins=4, density=True)\n",
    "\n",
    "plt.figure(figsize=(12,4))  # Definimos tamaño de figura\n",
    "# Usaremos paneles en filas x columnas\n",
    "# subplot(filas, columnas, panel)\n",
    "plt.subplot(1,2,1)  # panel 1, histograma normalizado por densidad\n",
    "centros = (intervalos[1:] + intervalos[:-1])/2\n",
    "plt.bar(centros, frecuencias, width=w, edgecolor='white')\n",
    "plt.plot(centros, frecuencias, color=\"red\")\n",
    "plt.title('Histograma (densidad)')\n",
    "\n",
    "plt.subplot(1,2,2)  # panel 2, histograma acumulado\n",
    "# El area de cada bin es calculado como frecuencias*w \n",
    "# Recordemos que en la normalización por densidad, el área de los bins suma 1\n",
    "plt.bar(centros, (frecuencias*w).cumsum(), width=w, edgecolor='white')\n",
    "plt.plot(centros, (frecuencias*w).cumsum(), color=\"red\")\n",
    "plt.title('Histograma acumulado')"
   ]
  },
  {
   "cell_type": "markdown",
   "metadata": {},
   "source": [
    "<a id=\"boxplot\"></a>\n",
    "## Diagramas de caja (Boxplot)\n",
    "\n",
    "[Volver al índice](#toc)\n",
    "\n",
    "Un diagrama de caja muestra un resumen de cinco números:\n",
    "1. El valor menor, mínimo (Q0).\n",
    "2. El primer cuartil (Q1).\n",
    "3. La mediana (Q2).\n",
    "4. El tercer cuartil (Q3).\n",
    "5. El valor mayor, máximo (Q4).\n",
    "\n",
    "<img src=\"https://raw.githubusercontent.com/marsgr6/r-scripts/master/imgs/boxplot.png\" alt=\"\" width=\"400\"/>\n",
    "\n",
    "- El diagrama está compuesto por la caja (box) contenida entre los cuartiles Q1 y Q3, e incluye la mediana Q2.\n",
    "- Los bigotes (whiskers) son las líneas que se extienden más alla de la caja, y se utilizan para indicar la variabilidad fuera de los cuartiles superior (Q3) e inferior (Q1).\n",
    "- El rango intercuartílico RIC (IQR en inglés) se usa para construir los bigotes.\n",
    "  - El límite inferior de los bigotes se extiende hasta:\n",
    "  $$L_i = Q_1 - 1.5 IQR,$$\n",
    "    - siempre y cuando $L_i \\geq min(x)$, en caso contrario se extienden hasta $min(x)$.\n",
    "  - El límite superior de los bigotes se extiende hasta:\n",
    "  $$L_s = Q_3 + 1.5 IQR,$$\n",
    "    - siempre y cuando $L_s \\leq max(x)$, en caso contrario se extienden hasta $max(x)$.\n",
    "    - Recuerde que $IQR = Q_3 - Q_1$.\n",
    "- El diagrama de cajas puede ayudarnos a identificar valores atípicos.\n",
    "  - Un valor atípico es una observación numéricamente distante del resto de los datos. \n",
    "  - Al revisar un diagrama de caja, un valor atípico se define como un punto que se encuentra fuera de los bigotes del diagrama de caja.\n",
    "  \n",
    "<img src=\"https://raw.githubusercontent.com/marsgr6/r-scripts/master/imgs/boxplot5.jpg\" width=\"600\"/>"
   ]
  },
  {
   "cell_type": "code",
   "execution_count": 34,
   "metadata": {},
   "outputs": [
    {
     "name": "stdout",
     "output_type": "stream",
     "text": [
      "count    12.000000\n",
      "mean     31.833333\n",
      "std       9.232682\n",
      "min      23.000000\n",
      "25%      25.000000\n",
      "50%      29.500000\n",
      "75%      35.500000\n",
      "max      51.000000\n",
      "Name: Age, dtype: float64\n"
     ]
    },
    {
     "data": {
      "text/plain": [
       "<AxesSubplot:>"
      ]
     },
     "execution_count": 34,
     "metadata": {},
     "output_type": "execute_result"
    },
    {
     "data": {
      "image/png": "[encoded data removed]",
      "text/plain": [
       "<Figure size 432x288 with 1 Axes>"
      ]
     },
     "metadata": {
      "needs_background": "light"
     },
     "output_type": "display_data"
    }
   ],
   "source": [
    "# Graficamos un diagrama de caja (boxplot) \n",
    "# Identifique el resumen de 5 puntos mencionado\n",
    "print(df['Age'].describe())\n",
    "df['Age'].plot.box(vert=False)"
   ]
  },
  {
   "cell_type": "code",
   "execution_count": 35,
   "metadata": {},
   "outputs": [
    {
     "data": {
      "text/plain": [
       "<AxesSubplot:>"
      ]
     },
     "execution_count": 35,
     "metadata": {},
     "output_type": "execute_result"
    },
    {
     "data": {
      "image/png": "[encoded data removed]",
      "text/plain": [
       "<Figure size 576x288 with 2 Axes>"
      ]
     },
     "metadata": {
      "needs_background": "light"
     },
     "output_type": "display_data"
    }
   ],
   "source": [
    "plt.figure(figsize=(8,4))  # Definimos tamaño de figura\n",
    "# Usaremos paneles en filas x columnas\n",
    "# subplot(filas, columnas, panel)\n",
    "plt.subplot(1,2,1)  # panel 1\n",
    "df['Age'].plot.box()  # vert=True\n",
    "\n",
    "plt.subplot(1,2,2)  # panel 2\n",
    "df['Rating'].plot.box()  # vert=True"
   ]
  },
  {
   "cell_type": "code",
   "execution_count": 36,
   "metadata": {},
   "outputs": [
    {
     "data": {
      "text/plain": [
       "<AxesSubplot:>"
      ]
     },
     "execution_count": 36,
     "metadata": {},
     "output_type": "execute_result"
    },
    {
     "data": {
      "image/png": "[encoded data removed]",
      "text/plain": [
       "<Figure size 864x288 with 2 Axes>"
      ]
     },
     "metadata": {
      "needs_background": "light"
     },
     "output_type": "display_data"
    }
   ],
   "source": [
    "plt.figure(figsize=(12,4))\n",
    "plt.subplot(1,2,1)\n",
    "df['Age'].plot.box(vert=False)\n",
    "\n",
    "plt.subplot(1,2,2)\n",
    "df['Rating'].plot.box(vert=False)"
   ]
  },
  {
   "cell_type": "markdown",
   "metadata": {},
   "source": [
    "<a id=\"shape\"></a>\n",
    "## Estadísticos de forma de la distribución\n",
    "\n",
    "[Volver al índice](#toc)\n",
    "\n",
    "<a id=\"skew\"></a>\n",
    "### Sesgo (skewness) o asimetría\n",
    "\n",
    "- En teoría de probabilidad y estadística, la asimetría es una medida de la asimetría de la distribución de probabilidad de una variable aleatoria de valor real con respecto a su media. \n",
    "\n",
    "- El valor de asimetría puede ser positivo, cero, negativo o indefinido.\n",
    "\n",
    "- Para una distribución unimodal, el sesgo negativo normalmente indica que la cola está en el lado izquierdo de la distribución y el sesgo positivo indica que la cola está a la derecha.\n",
    "\n",
    "- Para una muestra de $n$ valores, dos métodos para estimar los momentos del sesgo poblacional son:\n",
    "\n",
    "$$ b_{1}={\\frac {m_{3}}{s^{3}}}={\\frac {{\\tfrac {1}{n}}\\sum _{i=1}^{n}(x_{i}-{\\overline {x}})^{3}}{\\left[{\\tfrac {1}{n-1}}\\sum _{i=1}^{n}(x_{i}-{\\overline {x}})^{2}\\right]^{3/2}}}\n",
    "$$\n",
    "\n",
    "$$ g_{1}={\\frac {m_{3}}{m_{2}^{3/2}}}={\\frac {{\\tfrac {1}{n}}\\sum _{i=1}^{n}(x_{i}-{\\overline {x}})^{3}}{\\left[{\\tfrac {1}{n}}\\sum _{i=1}^{n}(x_{i}-{\\overline {x}})^{2}\\right]^{3/2}}}\n",
    "$$\n",
    "donde \n",
    "$\\overline{x}$ es la media muestral, y $s$ es la desviación estándar de la muestra, the sample standard deviation, $m^2$ es el segundo momento central de la muestra sesgado (biased), y $m^3$ es el tercer momento central de la muestra.\n",
    "\n",
    "- **Tenemos que una definición común del sesgo muestral es:**\n",
    "$$\n",
    "{\\begin{aligned}G_{1}&={\\frac {k_{3}}{k_{2}^{3/2}}}={\\frac {n^{2}}{(n-1)(n-2)}}\\;b_{1}={\\frac {\\sqrt {n(n-1)}}{n-2}}\\;g_{1},\\\\\\end{aligned}}\n",
    "$$\n",
    "\n",
    "- Interpretamos el valor del sesgo de la siguiente manera:\n",
    "  - Si el sesgo está entre -0,5 y 0,5, los datos son bastante simétricos.\n",
    "  - Si el sesgo está entre -1 y - 0,5 o entre 0,5 y 1, los datos están moderadamente sesgados.\n",
    "  - Si el sesgo es menor que -1 o mayor que 1, los datos están muy sesgados.\n",
    "  \n",
    "\n",
    "<img src=\"https://upload.wikimedia.org/wikipedia/commons/c/cc/Relationship_between_mean_and_median_under_different_skewness.png\" alt=\"\" width=\"600\"/>\n",
    "\n",
    "Explore la relación entre media, mediana y moda de [forma interactiva](https://www.geogebra.org/m/qd7tr6Pr)."
   ]
  },
  {
   "cell_type": "code",
   "execution_count": 37,
   "metadata": {},
   "outputs": [
    {
     "name": "stdout",
     "output_type": "stream",
     "text": [
      "Sesgo usando pandas: 1.135088832399207\n",
      "Sesgo usando la definición arriba: 1.1350888323992072\n"
     ]
    }
   ],
   "source": [
    "print(\"Sesgo usando pandas:\", df['Age'].skew())\n",
    "\n",
    "m3 = ((1/df['Age'].size)*((df['Age'] - df['Age'].mean())**3).sum()) \n",
    "s3 = (((1/(df['Age'].size-1))*((df['Age'] - df['Age'].mean())**2).sum())**(1.5))\n",
    "\n",
    "b1 = m3/ s3\n",
    "\n",
    "g1 = ((1/df['Age'].size)*\n",
    "      ((df['Age'] - df['Age'].mean())**3).sum()) / (((1/(df['Age'].size))*\n",
    "                                               ((df['Age'] - df['Age'].mean())**2).sum())**(1.5))\n",
    "\n",
    "print(\"Sesgo usando la definición arriba:\", df['Age'].size**2 / ((df['Age'].size-1)*(df['Age'].size-2)) * b1)"
   ]
  },
  {
   "cell_type": "markdown",
   "metadata": {},
   "source": [
    "### Curtosis\n",
    "\n",
    "[Volver al índice](#toc)\n",
    "\n",
    "- En teoría y estadística de probabilidad, la curtosis es una medida de la \"cola\" de la distribución de probabilidad de una variable aleatoria de valor real.\n",
    "- Al igual que el sesgo, la curtosis describe la forma de una distribución de probabilidad y existen diferentes formas de cuantificarla para una distribución teórica y las formas correspondientes de estimarla a partir de una muestra de una población.\n",
    "- La curtosis es el cuarto momento estandarizado.\n",
    "- En la práctica se usa el exceso de curtosis definida para una muestra de $n$ valores como:\n",
    "\n",
    "$$\\begin{aligned}G_{2}&={\\frac {k_{4}}{k_{2}^{2}}}={\\frac {(n+1)\\,n}{(n-1)\\,(n-2)\\,(n-3)}}\\;{\\frac {\\sum _{i=1}^{n}(x_{i}-{\\bar {x}})^{4}}{k_{2}^{2}}}-3\\,{\\frac {(n-1)^{2}}{(n-2)(n-3)}}\\end{aligned}$$\n",
    "\n",
    "donde $k_2$ es el estimador no sesgado de la varianza muestral. \n",
    "\n",
    "  - Esta definición se utiliza para que la distribución normal estándar tenga una curtosis de cero.\n",
    "  \n",
    "### Interpretación del exceso de la curtosis:\n",
    "\n",
    "- **Mesocúrtica:** Las distribuciones con cero exceso de curtosis se denominan mesocúrticas o mesocurtóticas. El ejemplo más destacado de una distribución mesocúrtica es la familia de distribución normal, independientemente de los valores de sus parámetros, y la distribución bininomial con $p=0.5$.\n",
    "  \n",
    "- **Leptocúrtica:** Una distribución con un exceso de curtosis positiva se llama leptocúrtica. En términos de forma, una distribución leptocúrtica tiene colas más gruesas, lo que significa que hay más posibilidades de valores atípicos. Ejemplos de distribuciones leptocúrticas incluyen la distribución t de Student, la distribución de Rayleigh, la distribución de Laplace, la distribución exponencial, la distribución de Poisson y la distribución logística.\n",
    "\n",
    "- **Platicúrtica:** Una distribución con exceso de curtosis negativa se denomina platicúrtica. En términos de forma, una distribución platicúrtica tiene colas más delgadas. Ejemplos de distribuciones platicúrticas incluyen las distribuciones uniformes continuas y discretas. "
   ]
  },
  {
   "cell_type": "code",
   "execution_count": 38,
   "metadata": {},
   "outputs": [
    {
     "name": "stdout",
     "output_type": "stream",
     "text": [
      "Curtosis de Age: 0.24930965861233734\n",
      "Curtosis usando la definición arriba: 0.24930965861233823\n"
     ]
    }
   ],
   "source": [
    "print(\"Curtosis de Age:\", df['Age'].kurtosis())\n",
    "\n",
    "n = df['Age'].size\n",
    "k2 = df['Age'].var() \n",
    "\n",
    "curtosis = (n + 1)*n / ((n-1)*\n",
    "                        (n-2)*(n-3)) * ((df['Age'] - \n",
    "                                         df['Age'].mean())**4).sum() / k2**2 - 3*(n-1)**2 / ((n-2)*\n",
    "                                                                                          (n-3))\n",
    "\n",
    "print(\"Curtosis usando la definición arriba:\", curtosis)"
   ]
  },
  {
   "cell_type": "markdown",
   "metadata": {},
   "source": [
    "<a id=\"csc\"></a>\n",
    "### Vamos a calcular el sesgo y la curtosis para las variables Age y Rating \n",
    "\n",
    "[Volver al índice](#toc)"
   ]
  },
  {
   "cell_type": "code",
   "execution_count": 39,
   "metadata": {},
   "outputs": [
    {
     "name": "stdout",
     "output_type": "stream",
     "text": [
      "Sesgo de Age: 1.135088832399207\n",
      "Sesgo de Rating: -0.1536286271073282\n",
      "\n",
      "Curtosis de Age: 0.24930965861233734\n",
      "Curtosis de Rating: -0.4872359114095164\n",
      "\n",
      "Interpretemos los valores a partir de los gráficos:\n"
     ]
    },
    {
     "data": {
      "text/plain": [
       "<AxesSubplot:>"
      ]
     },
     "execution_count": 39,
     "metadata": {},
     "output_type": "execute_result"
    },
    {
     "data": {
      "image/png": "[encoded data removed]",
      "text/plain": [
       "<Figure size 576x576 with 4 Axes>"
      ]
     },
     "metadata": {
      "needs_background": "light"
     },
     "output_type": "display_data"
    }
   ],
   "source": [
    "print(\"Sesgo de Age:\", df['Age'].skew())\n",
    "print(\"Sesgo de Rating:\", df['Rating'].skew())\n",
    "\n",
    "print(\"\\nCurtosis de Age:\", df['Age'].kurtosis())\n",
    "print(\"Curtosis de Rating:\", df['Rating'].kurtosis())\n",
    "\n",
    "print(\"\\nInterpretemos los valores a partir de los gráficos:\")\n",
    "\n",
    "plt.figure(figsize=(8,8))\n",
    "plt.subplot(2,2,1)\n",
    "df['Age'].plot.density()\n",
    "plt.title(\"Age\")\n",
    "\n",
    "plt.subplot(2,2,2)\n",
    "df['Rating'].plot.density()\n",
    "plt.title(\"Rating\")\n",
    "\n",
    "plt.subplot(2,2,3)\n",
    "df['Age'].plot.box(vert=False)\n",
    "\n",
    "plt.subplot(2,2,4)\n",
    "df['Rating'].plot.box(vert=False)"
   ]
  },
  {
   "cell_type": "markdown",
   "metadata": {},
   "source": [
    "**Sesgo:**\n",
    "\n",
    "```text\n",
    "Sesgo de Age: 1.135088832399207\n",
    "Sesgo de Rating: -0.1536286271073282\n",
    "```\n",
    "\n",
    "- Podemos observar en el gráfico de densidad que la variable Age tiene una cola más larga hacia la derecha, por tanto tiene un sesgo positivo.\n",
    "  - El sesgo se observa también en el diagrama de cajas, tanto a interior de la caja, sección a la derecha de la mediana (en verde), como en la extensión de los bigotes, que es mayor para el bigote derecho indicando la asimetría de la distribución y su sesgo positivo. \n",
    "  \n",
    "- Para el caso de la variable Age, existe un ligero sesgo negativo, podemos observar que la cola izquierda es ligeramente mayor a la cola derecha. Sin embargo el valor del sesgo es cercano a cero, es decir la distribución es muy simétrica, como observamos tanto en el gráfico de densidad como en el diagrama de cajas. \n",
    "\n",
    "- Podemos analizar el sesgo muestral usando los cuartiles y el rango intercuartílico.\n",
    "  - Vea: Universidad de Valencia, OCW Estadística I. [Estadísticos de forma](http://ocw.uv.es/ciencias-sociales-y-juridicas/estadistica-i/tema_3_3.pdf).\n",
    "  \n",
    "**Curtosis**\n",
    "\n",
    "```text\n",
    "Curtosis de Age: 0.24930965861233734\n",
    "Curtosis de Rating: -0.4872359114095164\n",
    "```\n",
    "\n",
    "- Age tiene una curtosis positiva (leptocúrtica) indicando colas más gruesas, que las observadas en Rating que tiene una curtosis negativa, indicando colas más delgadas. \n",
    "  - Note que este análsis de colas lo hacemos además de manera visual en las curvas de densidad. Estas curvas son un modelos de los datos observados, que en nuestro caso es una muestra pequeña (12 observaciones). \n",
    "  - Sin embargo para nuestro ejercicio son válidas estas conclusiones. "
   ]
  },
  {
   "cell_type": "markdown",
   "metadata": {},
   "source": [
    "<a id=\"twovars\"></a>\n",
    "## Visualizando la relación entre 2 variables\n",
    "\n",
    "[Volver al índice](#toc)\n",
    "\n",
    "- Hasta el momento hemos visualizado como está distribuida una única variable numérica.\n",
    "  - Esto se conoce como análisis univariado.\n",
    "\n",
    "- Podemos visualizar la relación entre 2 (ó más) variables usando un\n",
    "    - **Gráfico de dispersión:** es un tipo de gráfico o diagrama matemático que utiliza coordenadas cartesianas para mostrar valores (por lo general de dos variables) de un conjunto de datos (DataFrame). \n",
    "    - Si los puntos están codificados (color / forma / tamaño), se puede mostrar información de variables adicionales. \n",
    "    \n",
    "- El análisis gráfico es acompañado de un análisis de correlación\n",
    "\n",
    "  - El coeficiente de correlación de Pearson también conocido como $r$ de Pearson, correlación bivariada, o coloquialmente simplemente como el coeficiente de correlación, es una medida de correlación lineal entre dos conjuntos de datos. \n",
    "\n",
    "  - Es la razón entre la covarianza de dos variables y el producto de sus desviaciones estándar; por lo tanto, es esencialmente una medida normalizada de la covarianza, de modo que el resultado siempre tiene un valor entre -1 y 1. \n",
    "  \n",
    "  - La covarianza se define como:  \n",
    "$$s_{xy}=\\frac{\\sum (x_i-\\bar{x})(y_i-\\bar{y})}{n-1}$$\n",
    "\n",
    "  - El coeficiente de correlación de Pearson como:\n",
    "\n",
    "$$r_{xy}=\\frac{s_{xy}}{s_x s_y}$$\n",
    "\n",
    "  - Al igual que con la covarianza en sí, la medida solo puede reflejar una correlación lineal de variables e ignora muchos otros tipos de relaciones que pueden existir.\n",
    "  \n",
    "  - Más alla de que existen recomendaciones para la interpretación de un coeficiente de correlación, todos estos criterios son en cierto modo arbitrarios. La interpretación de un coeficiente de correlación depende del contexto y los propósitos. Una correlación de 0.8 puede ser muy baja si se está verificando una ley física utilizando instrumentos de alta precisión, pero puede considerarse muy alta en las ciencias sociales, donde puede haber una mayor contribución de factores complejos de observar.\n",
    "  \n",
    "  - El coeficiente de correlación de Pearson también es representado con la letra griega $\\rho$. \n",
    "  \n",
    "  - El gráfico a continuación muestra el valor del coeficiente de correlación $\\rho$ para diferentes casos:\n",
    "  \n",
    "<img src=\"https://upload.wikimedia.org/wikipedia/commons/3/34/Correlation_coefficient.png\" alt=\"\" width=\"600\"/>\n",
    "\n",
    "  - Varios conjuntos de puntos $(x, y)$ y su coeficiente de correlación:\n",
    "  \n",
    "<img src=\"https://upload.wikimedia.org/wikipedia/commons/thumb/0/02/Correlation_examples.png/800px-Correlation_examples.png\" alt=\"\" width=\"600\"/>"
   ]
  },
  {
   "cell_type": "code",
   "execution_count": 40,
   "metadata": {},
   "outputs": [
    {
     "name": "stdout",
     "output_type": "stream",
     "text": [
      "Coeficiente de correlación entre Age y Rating: 0.058586051984634395\n"
     ]
    },
    {
     "data": {
      "text/html": [
       "<div>\n",
       "<style scoped>\n",
       "    .dataframe tbody tr th:only-of-type {\n",
       "        vertical-align: middle;\n",
       "    }\n",
       "\n",
       "    .dataframe tbody tr th {\n",
       "        vertical-align: top;\n",
       "    }\n",
       "\n",
       "    .dataframe thead th {\n",
       "        text-align: right;\n",
       "    }\n",
       "</style>\n",
       "<table border=\"1\" class=\"dataframe\">\n",
       "  <thead>\n",
       "    <tr style=\"text-align: right;\">\n",
       "      <th></th>\n",
       "      <th>Age</th>\n",
       "      <th>Rating</th>\n",
       "    </tr>\n",
       "  </thead>\n",
       "  <tbody>\n",
       "    <tr>\n",
       "      <th>Age</th>\n",
       "      <td>1.000000</td>\n",
       "      <td>0.058586</td>\n",
       "    </tr>\n",
       "    <tr>\n",
       "      <th>Rating</th>\n",
       "      <td>0.058586</td>\n",
       "      <td>1.000000</td>\n",
       "    </tr>\n",
       "  </tbody>\n",
       "</table>\n",
       "</div>"
      ],
      "text/plain": [
       "             Age    Rating\n",
       "Age     1.000000  0.058586\n",
       "Rating  0.058586  1.000000"
      ]
     },
     "execution_count": 40,
     "metadata": {},
     "output_type": "execute_result"
    },
    {
     "data": {
      "image/png": "[encoded data removed]",
      "text/plain": [
       "<Figure size 432x288 with 1 Axes>"
      ]
     },
     "metadata": {
      "needs_background": "light"
     },
     "output_type": "display_data"
    }
   ],
   "source": [
    "# Gráfico de dispersión para las variables x='Age', y='Rating' en el DataFrame\n",
    "df.plot.scatter(x='Age', y='Rating')\n",
    "print(\"Coeficiente de correlación entre Age y Rating:\", df.corr()['Age']['Rating'])\n",
    "df.corr()"
   ]
  },
  {
   "cell_type": "markdown",
   "metadata": {},
   "source": [
    "<a id=\"scatter\"></a>\n",
    "### Interpretemos el gráfico de dispersión \n",
    "\n",
    "[Volver al índice](#toc)\n",
    "\n",
    "- El coeficiente de correlación $r \\approx 0.0586$, es cercano a cero, \n",
    "lo que significa que si $x$ (Age) aumenta, no se observa ni un aumento ni un decremento de la variable $y$ (Rating). Las dos variables no están relacionadas.\n",
    "- En la celda siguiente se puede obervar un gráfico de dispersión con un modelo (de regresión) lineal sobrepuesto sobre los datos. El modelo además construye un intervalo de confianza de 68%.\n",
    "  - En este caso podemos observar que no existe una relación lineal entre ambas variables.\n",
    "  \n",
    "- **Explore de manera interactiva la correlación:** https://en-interactive.herokuapp.com/#/2/1"
   ]
  },
  {
   "cell_type": "code",
   "execution_count": 41,
   "metadata": {},
   "outputs": [
    {
     "data": {
      "text/plain": [
       "<AxesSubplot:xlabel='Age', ylabel='Rating'>"
      ]
     },
     "execution_count": 41,
     "metadata": {},
     "output_type": "execute_result"
    },
    {
     "data": {
      "image/png": "[encoded data removed]",
      "text/plain": [
       "<Figure size 432x288 with 1 Axes>"
      ]
     },
     "metadata": {
      "needs_background": "light"
     },
     "output_type": "display_data"
    }
   ],
   "source": [
    "sns.regplot(data=df, x='Age', y='Rating', ci=68, truncate=False)"
   ]
  },
  {
   "cell_type": "markdown",
   "metadata": {},
   "source": [
    "### Qué pasa si agrupamos nuestros datos\n",
    "\n",
    "- Vamos a construir tres grupos a partir de los valores observados:\n",
    "  - Grupo A: Jóvenes (Age<=30), con rating alto (Rating>=3.5)\n",
    "  - Grupo B: Excluyendo el grupo A de los datos originales, \n",
    "    - Jóvenes (Age<=35), con rating bajo (Rating<=4)\n",
    "  - Grupo C: Mayores a 40 años (Age>=40).\n",
    "- Puede estudiar el código después, céntrese en interpretar el histograma para los diferentes grupos. \n",
    "\n",
    "### Opcional: Practica Python\n",
    "\n",
    "<img align=\"left\" src=\"https://raw.githubusercontent.com/marsgr6/r-scripts/master/imgs/python-banner-300x89.png\">"
   ]
  },
  {
   "cell_type": "code",
   "execution_count": 42,
   "metadata": {},
   "outputs": [
    {
     "name": "stdout",
     "output_type": "stream",
     "text": [
      "Coeficiente de correlación entre Age y Rating para el Grupo A: 0.9752393734811666\n",
      "Coeficiente de correlación entre Age y Rating para el Grupo B: 0.9213632212470316\n",
      "Coeficiente de correlación entre Age y Rating para el Grupo C: 0.9981711985280095\n"
     ]
    },
    {
     "data": {
      "image/png": "[encoded data removed]",
      "text/plain": [
       "<Figure size 432x288 with 1 Axes>"
      ]
     },
     "metadata": {
      "needs_background": "light"
     },
     "output_type": "display_data"
    }
   ],
   "source": [
    "# reset rc params to defaults\n",
    "sns.reset_orig()\n",
    "fig, ax = plt.subplots()\n",
    "df.plot.scatter(x='Age', y='Rating', ax=ax)\n",
    "grupo_A = df[(df['Age']<=30) & (df['Rating']>=3.5)]\n",
    "df_minus_A = pd.concat([df, grupo_A]).drop_duplicates(keep=False)  # df menos group_A\n",
    "grupo_A.plot.scatter(x='Age', y='Rating', ax=ax, c=\"orange\", label=\"Grupo A\")\n",
    "grupo_B = df_minus_A[(df_minus_A.Age<=35) & (df_minus_A.Rating<=4)] \n",
    "grupo_B.plot.scatter(x='Age', y='Rating', ax=ax, c=\"green\", label=\"Grupo B\")\n",
    "grupo_C = df[df['Age']>=40] \n",
    "grupo_C.plot.scatter(x='Age', y='Rating', ax=ax, c=\"cornflowerblue\", label=\"Grupo C\")\n",
    "\n",
    "print(\"Coeficiente de correlación entre Age y Rating para el Grupo A:\", grupo_A.corr()['Age']['Rating'])\n",
    "print(\"Coeficiente de correlación entre Age y Rating para el Grupo B:\", grupo_B.corr()['Age']['Rating'])\n",
    "print(\"Coeficiente de correlación entre Age y Rating para el Grupo C:\", grupo_C.corr()['Age']['Rating'])"
   ]
  },
  {
   "cell_type": "markdown",
   "metadata": {},
   "source": [
    "### ¿Tres modelos mejor que uno?"
   ]
  },
  {
   "cell_type": "code",
   "execution_count": 43,
   "metadata": {},
   "outputs": [
    {
     "data": {
      "text/plain": [
       "<seaborn.axisgrid.FacetGrid at 0x7f8f7d83c910>"
      ]
     },
     "execution_count": 43,
     "metadata": {},
     "output_type": "execute_result"
    },
    {
     "data": {
      "image/png": "[encoded data removed]",
      "text/plain": [
       "<Figure size 436.5x360 with 1 Axes>"
      ]
     },
     "metadata": {
      "needs_background": "light"
     },
     "output_type": "display_data"
    }
   ],
   "source": [
    "df[\"Group\"] = pd.Series([\"Grupo A\"]*len(grupo_A)+[\"Grupo B\"]*len(grupo_B)+[\"Grupo C\"]*len(grupo_C),\n",
    "    index=list(grupo_A.index)+list(grupo_B.index)+list(grupo_C.index))\n",
    "\n",
    "sns.lmplot(data=df, x=\"Age\", y=\"Rating\", hue=\"Group\", ci=68)"
   ]
  },
  {
   "cell_type": "markdown",
   "metadata": {},
   "source": [
    "<a id=\"cor\"></a>\n",
    "### Calculemos el coeficiente de correlación para el grupo A\n",
    "\n",
    "[Volver al índice](#toc)\n",
    "\n",
    "- La covarianza se define como:  \n",
    "$$s_{xy}=\\frac{\\sum (x_i-\\bar{x})(y_i-\\bar{y})}{n-1}$$\n",
    "\n",
    "- El coeficiente de correlación de Pearson como:\n",
    "\n",
    "$$r_{xy}=\\frac{s_{xy}}{s_x s_y}$$\n",
    "\n",
    "- Analizando el signo en la fórmula de la covarianza y observando el gráfico de dispersión, \n",
    "  - Tenemos dos observaciones cuyos valores en $x$ y $y$ están por encima de las respectivas medias \n",
    "  $\\bar{x}$, $\\bar{y}$, es decir en la multiplicación $(x_i-\\bar{x})(y_i-\\bar{y})$ ambos términos son positivos, por tanto su valor es positivo.\n",
    "  - En el caso de las tres observaciones cuyos valores en $x$ y $y$ están por debajo de las respectivas medias \n",
    "  $\\bar{x}$, $\\bar{y}$, es decir en la multiplicación $(x_i-\\bar{x})(y_i-\\bar{y})$ ambos términos son negativos, por tanto su valor resultante es positivo.\n",
    "  - Podemos concluir por tanto que si el valor $x$ aumenta $y$ aumenta, y\n",
    "    - si el valor $x$ disminuye $y$ disminuye, por lo tanto la covarianza y el coeficiente de correlación serán positivos\n",
    "  - Note que el denominandor $r_{xy}$ será siempre positivo dado que las varianzas $s_x$ y $s_y$ son positivas. \n",
    "  \n",
    "- Analice las matrices de covarianza (**DataFrame.cov()**) y de correlación (**DataFrame.corr()**) que hemos usado de pandas.\n",
    "\n",
    "### Opcional: Practica Python\n",
    "\n",
    "<img align=\"left\" src=\"https://raw.githubusercontent.com/marsgr6/r-scripts/master/imgs/python-banner-300x89.png\">"
   ]
  },
  {
   "cell_type": "code",
   "execution_count": 44,
   "metadata": {},
   "outputs": [
    {
     "name": "stdout",
     "output_type": "stream",
     "text": [
      "\n",
      "Matriz de covarianza\n"
     ]
    },
    {
     "data": {
      "text/html": [
       "<div>\n",
       "<style scoped>\n",
       "    .dataframe tbody tr th:only-of-type {\n",
       "        vertical-align: middle;\n",
       "    }\n",
       "\n",
       "    .dataframe tbody tr th {\n",
       "        vertical-align: top;\n",
       "    }\n",
       "\n",
       "    .dataframe thead th {\n",
       "        text-align: right;\n",
       "    }\n",
       "</style>\n",
       "<table border=\"1\" class=\"dataframe\">\n",
       "  <thead>\n",
       "    <tr style=\"text-align: right;\">\n",
       "      <th></th>\n",
       "      <th>Age</th>\n",
       "      <th>Rating</th>\n",
       "    </tr>\n",
       "  </thead>\n",
       "  <tbody>\n",
       "    <tr>\n",
       "      <th>Age</th>\n",
       "      <td>8.8000</td>\n",
       "      <td>1.20650</td>\n",
       "    </tr>\n",
       "    <tr>\n",
       "      <th>Rating</th>\n",
       "      <td>1.2065</td>\n",
       "      <td>0.17392</td>\n",
       "    </tr>\n",
       "  </tbody>\n",
       "</table>\n",
       "</div>"
      ],
      "text/plain": [
       "           Age   Rating\n",
       "Age     8.8000  1.20650\n",
       "Rating  1.2065  0.17392"
      ]
     },
     "metadata": {},
     "output_type": "display_data"
    },
    {
     "name": "stdout",
     "output_type": "stream",
     "text": [
      "Covarianza: 1.2064999999999997\n",
      "Varianza de Age 8.799999999999999\n",
      "Varianza de Rating 0.17391999999999994\n",
      "\n",
      "Matriz de correlación\n"
     ]
    },
    {
     "data": {
      "text/html": [
       "<div>\n",
       "<style scoped>\n",
       "    .dataframe tbody tr th:only-of-type {\n",
       "        vertical-align: middle;\n",
       "    }\n",
       "\n",
       "    .dataframe tbody tr th {\n",
       "        vertical-align: top;\n",
       "    }\n",
       "\n",
       "    .dataframe thead th {\n",
       "        text-align: right;\n",
       "    }\n",
       "</style>\n",
       "<table border=\"1\" class=\"dataframe\">\n",
       "  <thead>\n",
       "    <tr style=\"text-align: right;\">\n",
       "      <th></th>\n",
       "      <th>Age</th>\n",
       "      <th>Rating</th>\n",
       "    </tr>\n",
       "  </thead>\n",
       "  <tbody>\n",
       "    <tr>\n",
       "      <th>Age</th>\n",
       "      <td>1.000000</td>\n",
       "      <td>0.975239</td>\n",
       "    </tr>\n",
       "    <tr>\n",
       "      <th>Rating</th>\n",
       "      <td>0.975239</td>\n",
       "      <td>1.000000</td>\n",
       "    </tr>\n",
       "  </tbody>\n",
       "</table>\n",
       "</div>"
      ],
      "text/plain": [
       "             Age    Rating\n",
       "Age     1.000000  0.975239\n",
       "Rating  0.975239  1.000000"
      ]
     },
     "metadata": {},
     "output_type": "display_data"
    },
    {
     "name": "stdout",
     "output_type": "stream",
     "text": [
      "Coeficiente de correlación: 0.9752393734811675\n"
     ]
    },
    {
     "data": {
      "image/png": "[encoded data removed]",
      "text/plain": [
       "<Figure size 432x288 with 1 Axes>"
      ]
     },
     "metadata": {
      "needs_background": "light"
     },
     "output_type": "display_data"
    }
   ],
   "source": [
    "from IPython.display import display\n",
    "\n",
    "grupo_A.plot.scatter(x=\"Age\", y=\"Rating\")  # gráfico de dispersión\n",
    "plt.vlines(grupo_A.Age.mean(), grupo_A.Rating.min(), grupo_A.Rating.max(), \n",
    "           linestyles=\"dashed\", label=r'$\\bar{x}$')  # media en x, linea vertical\n",
    "plt.hlines(grupo_A.Rating.mean(), grupo_A.Age.min(), grupo_A.Age.max(), \n",
    "           linestyles=\"dashed\", colors=\"red\", label=r'$\\bar{y}$') # media en y, linea horizontal\n",
    "plt.legend()\n",
    "\n",
    "print(\"\\nMatriz de covarianza\")\n",
    "display(grupo_A.cov())\n",
    "covarianza = ((grupo_A.Age - grupo_A.Age.mean())*\n",
    "              (grupo_A.Rating - grupo_A.Rating.mean())\n",
    "             ).sum() / (len(grupo_A) - 1)\n",
    "\n",
    "print(\"Covarianza:\", covarianza)\n",
    "print(\"Varianza de Age\", grupo_A.Age.var())\n",
    "print(\"Varianza de Rating\", grupo_A.Rating.var())\n",
    "\n",
    "print(\"\\nMatriz de correlación\")\n",
    "display(grupo_A.corr())\n",
    "\n",
    "correlacion = covarianza / (grupo_A.Age.std()*grupo_A.Rating.std())\n",
    "print(\"Coeficiente de correlación:\", correlacion)"
   ]
  },
  {
   "cell_type": "markdown",
   "metadata": {},
   "source": [
    "<a id=\"group\"></a>\n",
    "### Descripción de datos agrupados por una variable categórica\n",
    "\n",
    "[Volver al índice](#toc)\n",
    "\n",
    "- El dataframe resultante en nuestro ejercicio de separar los datos originales en grupos nos permite describir el dataset con respecto a estos grupos. \n",
    "```Python\n",
    "df.groupby(\"Group\").describe()\n",
    "```\n",
    "- En el notebook de Análisis Exploratorio veremos un ejemplo más detallado."
   ]
  },
  {
   "cell_type": "code",
   "execution_count": 45,
   "metadata": {},
   "outputs": [
    {
     "data": {
      "text/html": [
       "<div>\n",
       "<style scoped>\n",
       "    .dataframe tbody tr th:only-of-type {\n",
       "        vertical-align: middle;\n",
       "    }\n",
       "\n",
       "    .dataframe tbody tr th {\n",
       "        vertical-align: top;\n",
       "    }\n",
       "\n",
       "    .dataframe thead tr th {\n",
       "        text-align: left;\n",
       "    }\n",
       "\n",
       "    .dataframe thead tr:last-of-type th {\n",
       "        text-align: right;\n",
       "    }\n",
       "</style>\n",
       "<table border=\"1\" class=\"dataframe\">\n",
       "  <thead>\n",
       "    <tr>\n",
       "      <th></th>\n",
       "      <th colspan=\"8\" halign=\"left\">Age</th>\n",
       "      <th colspan=\"8\" halign=\"left\">Rating</th>\n",
       "    </tr>\n",
       "    <tr>\n",
       "      <th></th>\n",
       "      <th>count</th>\n",
       "      <th>mean</th>\n",
       "      <th>std</th>\n",
       "      <th>min</th>\n",
       "      <th>25%</th>\n",
       "      <th>50%</th>\n",
       "      <th>75%</th>\n",
       "      <th>max</th>\n",
       "      <th>count</th>\n",
       "      <th>mean</th>\n",
       "      <th>std</th>\n",
       "      <th>min</th>\n",
       "      <th>25%</th>\n",
       "      <th>50%</th>\n",
       "      <th>75%</th>\n",
       "      <th>max</th>\n",
       "    </tr>\n",
       "    <tr>\n",
       "      <th>Group</th>\n",
       "      <th></th>\n",
       "      <th></th>\n",
       "      <th></th>\n",
       "      <th></th>\n",
       "      <th></th>\n",
       "      <th></th>\n",
       "      <th></th>\n",
       "      <th></th>\n",
       "      <th></th>\n",
       "      <th></th>\n",
       "      <th></th>\n",
       "      <th></th>\n",
       "      <th></th>\n",
       "      <th></th>\n",
       "      <th></th>\n",
       "      <th></th>\n",
       "    </tr>\n",
       "  </thead>\n",
       "  <tbody>\n",
       "    <tr>\n",
       "      <th>Grupo A</th>\n",
       "      <td>5.0</td>\n",
       "      <td>26.400000</td>\n",
       "      <td>2.966479</td>\n",
       "      <td>23.0</td>\n",
       "      <td>25.00</td>\n",
       "      <td>25.0</td>\n",
       "      <td>29.0</td>\n",
       "      <td>30.0</td>\n",
       "      <td>5.0</td>\n",
       "      <td>4.282000</td>\n",
       "      <td>0.417037</td>\n",
       "      <td>3.80</td>\n",
       "      <td>3.980</td>\n",
       "      <td>4.23</td>\n",
       "      <td>4.600</td>\n",
       "      <td>4.80</td>\n",
       "    </tr>\n",
       "    <tr>\n",
       "      <th>Grupo B</th>\n",
       "      <td>4.0</td>\n",
       "      <td>28.250000</td>\n",
       "      <td>4.787136</td>\n",
       "      <td>23.0</td>\n",
       "      <td>25.25</td>\n",
       "      <td>28.0</td>\n",
       "      <td>31.0</td>\n",
       "      <td>34.0</td>\n",
       "      <td>4.0</td>\n",
       "      <td>3.195000</td>\n",
       "      <td>0.499166</td>\n",
       "      <td>2.56</td>\n",
       "      <td>3.040</td>\n",
       "      <td>3.22</td>\n",
       "      <td>3.375</td>\n",
       "      <td>3.78</td>\n",
       "    </tr>\n",
       "    <tr>\n",
       "      <th>Grupo C</th>\n",
       "      <td>3.0</td>\n",
       "      <td>45.666667</td>\n",
       "      <td>5.507571</td>\n",
       "      <td>40.0</td>\n",
       "      <td>43.00</td>\n",
       "      <td>46.0</td>\n",
       "      <td>48.5</td>\n",
       "      <td>51.0</td>\n",
       "      <td>3.0</td>\n",
       "      <td>3.576667</td>\n",
       "      <td>0.563590</td>\n",
       "      <td>2.98</td>\n",
       "      <td>3.315</td>\n",
       "      <td>3.65</td>\n",
       "      <td>3.875</td>\n",
       "      <td>4.10</td>\n",
       "    </tr>\n",
       "  </tbody>\n",
       "</table>\n",
       "</div>"
      ],
      "text/plain": [
       "          Age                                                     Rating  \\\n",
       "        count       mean       std   min    25%   50%   75%   max  count   \n",
       "Group                                                                      \n",
       "Grupo A   5.0  26.400000  2.966479  23.0  25.00  25.0  29.0  30.0    5.0   \n",
       "Grupo B   4.0  28.250000  4.787136  23.0  25.25  28.0  31.0  34.0    4.0   \n",
       "Grupo C   3.0  45.666667  5.507571  40.0  43.00  46.0  48.5  51.0    3.0   \n",
       "\n",
       "                                                             \n",
       "             mean       std   min    25%   50%    75%   max  \n",
       "Group                                                        \n",
       "Grupo A  4.282000  0.417037  3.80  3.980  4.23  4.600  4.80  \n",
       "Grupo B  3.195000  0.499166  2.56  3.040  3.22  3.375  3.78  \n",
       "Grupo C  3.576667  0.563590  2.98  3.315  3.65  3.875  4.10  "
      ]
     },
     "execution_count": 45,
     "metadata": {},
     "output_type": "execute_result"
    }
   ],
   "source": [
    "df.groupby(\"Group\").describe()"
   ]
  },
  {
   "cell_type": "code",
   "execution_count": 46,
   "metadata": {},
   "outputs": [
    {
     "data": {
      "text/plain": [
       "<AxesSubplot:xlabel='Group', ylabel='Rating'>"
      ]
     },
     "execution_count": 46,
     "metadata": {},
     "output_type": "execute_result"
    },
    {
     "data": {
      "image/png": "[encoded data removed]",
      "text/plain": [
       "<Figure size 432x288 with 1 Axes>"
      ]
     },
     "metadata": {
      "needs_background": "light"
     },
     "output_type": "display_data"
    }
   ],
   "source": [
    "sns.boxenplot(data=df, x=\"Group\", y=\"Rating\")"
   ]
  },
  {
   "cell_type": "code",
   "execution_count": 47,
   "metadata": {},
   "outputs": [
    {
     "data": {
      "text/plain": [
       "<AxesSubplot:xlabel='Rating', ylabel='Density'>"
      ]
     },
     "execution_count": 47,
     "metadata": {},
     "output_type": "execute_result"
    },
    {
     "data": {
      "image/png": "[encoded data removed]",
      "text/plain": [
       "<Figure size 432x288 with 1 Axes>"
      ]
     },
     "metadata": {
      "needs_background": "light"
     },
     "output_type": "display_data"
    }
   ],
   "source": [
    "sns.histplot(data=df, x=\"Rating\", hue=\"Group\", bins=4, stat=\"density\", kde=True)"
   ]
  },
  {
   "cell_type": "markdown",
   "metadata": {},
   "source": [
    "- **Revise los siguientes conceptos:**\n",
    "  - La diferencia entre el diagrama de barras y el histograma\n",
    "  - Centralidad de los datos\n",
    "  - Dispersión de los datos\n",
    "  - Forma de los datos \n",
    "  - Simetría de los datos\n",
    "  - Discuta la relación que puede existir entre dos variables numéricas"
   ]
  },
  {
   "cell_type": "markdown",
   "metadata": {},
   "source": [
    "### Fuentes y recursos\n",
    "\n",
    "[Volver al índice](#toc)\n",
    "\n",
    "- https://www.tutorialspoint.com/python_pandas/python_pandas_descriptive_statistics.htm\n",
    "- https://pandas.pydata.org/pandas-docs/stable/visualization.html\n",
    "- Exploratory Data Analysis: \n",
    "    - https://anaconda.org/marsgr6/seaborn/notebook\n",
    "    - https://www.itl.nist.gov/div898/handbook/eda/section1/eda11.htm"
   ]
  }
 ],
 "metadata": {
  "kernelspec": {
   "display_name": "Python 3",
   "language": "python",
   "name": "python3"
  },
  "language_info": {
   "codemirror_mode": {
    "name": "ipython",
    "version": 3
   },
   "file_extension": ".py",
   "mimetype": "text/x-python",
   "name": "python",
   "nbconvert_exporter": "python",
   "pygments_lexer": "ipython3",
   "version": "3.8.3"
  }
 },
 "nbformat": 4,
 "nbformat_minor": 4
}
