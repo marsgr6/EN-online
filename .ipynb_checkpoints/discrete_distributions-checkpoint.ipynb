{
 "cells": [
  {
   "cell_type": "markdown",
   "metadata": {},
   "source": [
    "# Distribuciones discretas\n",
    "\n",
    "<a id=\"toc\"></a>\n",
    "## Contenido\n",
    "\n",
    "- [Instrucciones Generales](#Instruciones-Generales)\n",
    "- [Variables aleatorias discretas](#Variables-aleatorias-discretas)\n",
    "  - [PMF y CDF](#Variables-aleatorias-discretas)\n",
    "  - [Ejemplo introductorio](#Ejemplo-introductorio)\n",
    "  - [Representación gráfica de la PMF y la CDF](#pmfcdf)\n",
    "  - [Valor esperado y la varianza de nuestra distribución discreta](#veva)\n",
    "- [Distribuciones discretas importantes](#Distribuciones-discretas-importantes)\n",
    "  - [Distribución de Bernoulli](#bern)\n",
    "  - [Distribución Binomial](#binom)\n",
    "    - [Ejemplo](#ejeb)\n",
    "  - [Distritución Geométrica](#geom)\n",
    "    - [Ejemplo](#ejeg)\n",
    "    - [Distribución del primer éxito](#fs)\n",
    "  - [Distribución Binomial Negativa](#bn)\n",
    "    - [Ejemplo](#ejebn)\n",
    "  - [Distribución de Poisson](#poiss)\n",
    "    - [Ejemplo](#ejep)\n",
    "    - [Simulación de una v.a. de Poisson **(¡¡¡Importante para el deber!!!)**](#psim)\n",
    "  - [Distribución Hipergeométrica](#hg)\n",
    "    - [Ejemplo](#ejehg)\n",
    "  - [Fuentes y recursos](#Fuentes-y-recursos)"
   ]
  },
  {
   "cell_type": "markdown",
   "metadata": {},
   "source": [
    "## Instruciones Generales:\n",
    "\n",
    "### Código\n",
    "\n",
    "- Cuando aparezca esta imagen en el notebook, encontrará código Python que puede ser intermedio o avanzado. \n",
    "\n",
    "<img align=\"left\" src=\"https://raw.githubusercontent.com/marsgr6/r-scripts/master/imgs/python-banner-300x89.png\">\n",
    "\n",
    "<br/>\n",
    "\n",
    "### Opcional: Practique Python\n",
    "\n",
    "<br/><br/>\n",
    "\n",
    "  - **Esta sección es opcional**.\n",
    "  - Concéntrense en los conceptos que se están tratando. \n",
    "  - Cuando se sienta cómodo con Python estudie el código. \n",
    "\n",
    "### Experimentación\n",
    "\n",
    "- Cuando aparezca esta imagen en el notebook, encontrará instrucciones de actividades de experimentación a realizar de forma autónoma para reforzar los temas tratados. \n",
    "  - Esto puede ser cambiar un fragmento del código. \n",
    "  - O realizar análisis adicionales sobre los resultados presentados. \n",
    "\n",
    "<img align=\"left\" width=\"80px\" src=\"https://raw.githubusercontent.com/marsgr6/r-scripts/master/imgs/activity.png\">\n",
    "\n",
    "<br/>\n",
    "\n",
    "### Experimente\n",
    "<br/>\n",
    "<br/>\n",
    "\n",
    "\n",
    "### Variables aleatorias discretas\n",
    "\n",
    "[Volver al índice](#toc)\n",
    "\n",
    "- Dado un experimento con el espacio muestral $S$, una variable aleatoria (v.a.) es una función del espacio muestral $S$ a los números reales $\\mathbb{R}$. Es común, pero no obligatorio, denotar las variables aleatorias con letras mayúsculas.\n",
    "\n",
    "  - Hay dos tipos de de variables aleatorias que se utilizan en la práctica: discretas y continuas.\n",
    "  \n",
    "- **Variables aleatorias discretas.** \n",
    "\n",
    "  - Se dice que una variable aleatoria $X$ es discreta si hay una lista finita de valores $a_1, a_2, \\dots, a_n$, o una lista infinita de valores $a_1, a_2, \\dots$ tal que $0 \\leq P(X = a_i) \\leq 1$, para cualquier $i$. \n",
    "  - Si $X$ es una variable aleatoria discreta, entonces el conjunto finito o infinito numberable de valores $x$ tal que $P(X = x)> 0$ se denomina soporte de $X$.\n",
    "\n",
    "### PMF y CDF\n",
    "\n",
    "- Definición de Función de Masa de Probabilidad (Probability Mass Function, **PMF**)\n",
    "\n",
    "    - Para una variable aleatoria discreta $X$ con valores posibles $x_1, x_2, x_3, \\cdots , x_n$, una función de masa de probabilidad $f(x_i)$ es una función que cumple las siguientes condiciones:\n",
    "    \n",
    "        1. $f(x_i) \\geq 0$\n",
    "        2. $\\sum^n_{i=1} f(x_i) = 1$\n",
    "        3. $f(x_i) = P(X = x_i)$\n",
    "        \n",
    "    - Es decir $f(x_i)$ es no negativa y suma 1 para todos los valores posibles.\n",
    "\n",
    "- Definición de Función de Distribución Acumulada (Cumulative distribution function, **CDF**) para una variable aleatoria discreta. \n",
    "\n",
    "    - Para una variabel aleatoria discreta $X$, $F(x)$ satisface las siguientes propiedades:\n",
    "        1. $F(x)=P(X \\leq x) = \\sum_{x_i \\leq x} f(x_i)$\n",
    "        2. $0 \\leq F(x) \\leq 1$\n",
    "        3. Si $x \\leq y$, entonces $F(x) \\leq F(y)$\n",
    "    - La CDF se define en la línea de los números reales.\n",
    "    - La CDF es una función no decreciente de $X$ (es decir incrementa o se mantiene constante a medida que $x \\to \\infty $).\n",
    "\n",
    "\n",
    "- Valor esperado y varianza de una variable aleatoria discreta:\n",
    "\n",
    "    - El valor esperado (también llamado esperanza o media) de una variable aleatoria, v.a., discreta $X$ cuyos posibles valores son $x_1, x_2, \\dots$, se define como:\n",
    "    $$\n",
    "    \\mu = E[X] = \\sum_{i=1}^n x_i f(x_i).\n",
    "    $$\n",
    "    - El valor esperado es un promedio pesado (weighted average) del espacio muestral.\n",
    "      - Se obtiene multiplicando cada uno de los resultados posibles $x_1, x_2, \\dots$ por la probabilidad de que ocurra cada resultado $f(x_1), f(x_2), \\dots$ y luego sumando todos esos valores.\n",
    "    - El valor esperado es exactamente lo que se podría pensar que significa. Intuitivamente: el rendimiento que se puede esperar de algún tipo de acción, como cuántas preguntas puede responder correctamente en una prueba de opción múltiple.\n",
    "    - El valor esperado es un valor anticipado para una inversión en algún momento en el futuro.\n",
    "\n",
    "    - La varianza se define como:\n",
    "    $$\n",
    "    \\sigma^2 = E[(X − E[X])^2] = \\sum_{i=1}^n (x_i - \\mu)^2 f(x_i)\n",
    "    $$\n",
    "    \n",
    "\n",
    "### Ejemplos de Variables Aleatorias Discretas\n",
    "- v.a. $X$: Número de veces que se obtiene el número 6 al lanzar un dado $N$ veces.\n",
    "Valores puntuales de toma $X: R(X) = {0,1,2,...N}$.\n",
    "- v.a. $X$: El precio de cierta acción sube (si sube, $X = 1$, no sube $X = 0$). $R(X) = {0,1}.$\n",
    "- v.a. $X$: Número de días que transcurren desde el día en que se vence una obligación crediticia y el día en que se cumple con dicha obligación.\n",
    "$R(X) = {0,1,...,n,...}$.\n",
    "- v.a. $X$: Número de créditos que un estudiante de P&E1 seleccionado al azar tiene inscritos este semestre\n",
    "$R(X) = {m, m+1,..., M}$.\n",
    "- v.a. $X$: Número de hermanos que tiene un estudiante de P&E1 seleccionado al azar.\n",
    "$R(X) = {0,1,...,N}$.\n",
    "\n",
    "### Ejemplo introductorio\n",
    "\n",
    "[Volver al índice](#toc)\n",
    "\n",
    "Una de las variables relevantes en el desempeño de los cajeros automáticos de cierto\n",
    "banco es el número de cajeros de la competencia situados en un radio de 500 metros a\n",
    "la redonda del cajero.\n",
    "\n",
    "De acuerdo con el análisis de información disponible al respecto, se sabe que la variable\n",
    "aleatoria, $X$, que representa el número de cajeros de la competencia para un cajero\n",
    "seleccionado al azar, tiene un soporte, $R(X)$, donde $R(X) = \\{0,1,2,3\\}$ y se distribuye como:\n",
    "\n",
    "| x        | Número de observaciones           |\n",
    "| :-------------: |:-------------:|\n",
    "| 0     | 4 | \n",
    "| 1      | 8      |\n",
    "| 2 | 16      |\n",
    "| 3 | 12      |\n",
    "\n",
    "Tenemos que:\n",
    "\n",
    "$$\n",
    "f(x)=\\left\\{\n",
    "                \\begin{array}{ll}\n",
    "                  0.1,\\ x = 0 \\\\\n",
    "                  0.2,\\ x = 1 \\\\\n",
    "                  0.4,\\ x = 2 \\\\\n",
    "                  0.3,\\ x = 3 \\\\\n",
    "                  0.0,\\ \\text{otherwise}\n",
    "                \\end{array}\n",
    "              \\right.\n",
    "$$\n",
    "\n",
    "Y \n",
    "\n",
    "$$\n",
    "F(x)=\\left\\{\n",
    "                \\begin{array}{ll}\n",
    "                  0.0,\\ \\text{if } x < 0 \\\\\n",
    "                  0.1,\\ 0 \\leq x < 1 \\\\\n",
    "                  0.3,\\ 1 \\leq x < 2  \\\\\n",
    "                  0.7,\\ 2 \\leq x < 3  \\\\\n",
    "                  1.0,\\ x \\geq 3  \n",
    "                \\end{array}\n",
    "              \\right.\n",
    "$$"
   ]
  },
  {
   "cell_type": "code",
   "execution_count": 1,
   "metadata": {},
   "outputs": [
    {
     "data": {
      "text/html": [
       "<div>\n",
       "<style scoped>\n",
       "    .dataframe tbody tr th:only-of-type {\n",
       "        vertical-align: middle;\n",
       "    }\n",
       "\n",
       "    .dataframe tbody tr th {\n",
       "        vertical-align: top;\n",
       "    }\n",
       "\n",
       "    .dataframe thead th {\n",
       "        text-align: right;\n",
       "    }\n",
       "</style>\n",
       "<table border=\"1\" class=\"dataframe\">\n",
       "  <thead>\n",
       "    <tr style=\"text-align: right;\">\n",
       "      <th></th>\n",
       "      <th>x</th>\n",
       "      <th>observaciones</th>\n",
       "    </tr>\n",
       "  </thead>\n",
       "  <tbody>\n",
       "    <tr>\n",
       "      <th>0</th>\n",
       "      <td>0</td>\n",
       "      <td>4</td>\n",
       "    </tr>\n",
       "    <tr>\n",
       "      <th>1</th>\n",
       "      <td>1</td>\n",
       "      <td>8</td>\n",
       "    </tr>\n",
       "    <tr>\n",
       "      <th>2</th>\n",
       "      <td>2</td>\n",
       "      <td>16</td>\n",
       "    </tr>\n",
       "    <tr>\n",
       "      <th>3</th>\n",
       "      <td>3</td>\n",
       "      <td>12</td>\n",
       "    </tr>\n",
       "  </tbody>\n",
       "</table>\n",
       "</div>"
      ],
      "text/plain": [
       "   x  observaciones\n",
       "0  0              4\n",
       "1  1              8\n",
       "2  2             16\n",
       "3  3             12"
      ]
     },
     "execution_count": 1,
     "metadata": {},
     "output_type": "execute_result"
    }
   ],
   "source": [
    "import numpy as np\n",
    "import matplotlib.pyplot as plt\n",
    "import pandas as pd\n",
    "\n",
    "x = np.arange(0, 4)  # valores posibles de x = {0,1,2,3}\n",
    "obs_x = np.array([4, 8, 16, 12])  # frecuencias observadas para cada valor de x\n",
    "\n",
    "table_data = pd.DataFrame({'x': x, 'observaciones': obs_x})  # datos en un dataframe de pandas\n",
    "table_data"
   ]
  },
  {
   "cell_type": "markdown",
   "metadata": {},
   "source": [
    "- Vamos calcular las frecuencias relativas $f_X(x)$, o probabilidad, es decir la PMF empírica (dado que es observada de una muestra).\n",
    "  - A partir de la definición naïve de probabilidad:\n",
    "  $$p(x) = \\frac{observaciones\\ favorables}{observaciones\\ totales}.$$\n",
    "- También calcularemos la función de distribución acumulada CDF ($F_X(x)$). \n",
    "  - Note que hemos denotado a nuestra PMF como **fx** y la CDF como **Fx** en el dataframe. \n",
    "  - Pandas nos permitirá realizar los calculos de una manera simple y con una sintaxis bastante legible. \n",
    "- Observe e interprete los resultados."
   ]
  },
  {
   "cell_type": "code",
   "execution_count": 2,
   "metadata": {},
   "outputs": [
    {
     "data": {
      "text/html": [
       "<div>\n",
       "<style scoped>\n",
       "    .dataframe tbody tr th:only-of-type {\n",
       "        vertical-align: middle;\n",
       "    }\n",
       "\n",
       "    .dataframe tbody tr th {\n",
       "        vertical-align: top;\n",
       "    }\n",
       "\n",
       "    .dataframe thead th {\n",
       "        text-align: right;\n",
       "    }\n",
       "</style>\n",
       "<table border=\"1\" class=\"dataframe\">\n",
       "  <thead>\n",
       "    <tr style=\"text-align: right;\">\n",
       "      <th></th>\n",
       "      <th>x</th>\n",
       "      <th>observaciones</th>\n",
       "      <th>fx</th>\n",
       "      <th>Fx</th>\n",
       "    </tr>\n",
       "  </thead>\n",
       "  <tbody>\n",
       "    <tr>\n",
       "      <th>0</th>\n",
       "      <td>0</td>\n",
       "      <td>4</td>\n",
       "      <td>0.1</td>\n",
       "      <td>0.1</td>\n",
       "    </tr>\n",
       "    <tr>\n",
       "      <th>1</th>\n",
       "      <td>1</td>\n",
       "      <td>8</td>\n",
       "      <td>0.2</td>\n",
       "      <td>0.3</td>\n",
       "    </tr>\n",
       "    <tr>\n",
       "      <th>2</th>\n",
       "      <td>2</td>\n",
       "      <td>16</td>\n",
       "      <td>0.4</td>\n",
       "      <td>0.7</td>\n",
       "    </tr>\n",
       "    <tr>\n",
       "      <th>3</th>\n",
       "      <td>3</td>\n",
       "      <td>12</td>\n",
       "      <td>0.3</td>\n",
       "      <td>1.0</td>\n",
       "    </tr>\n",
       "  </tbody>\n",
       "</table>\n",
       "</div>"
      ],
      "text/plain": [
       "   x  observaciones   fx   Fx\n",
       "0  0              4  0.1  0.1\n",
       "1  1              8  0.2  0.3\n",
       "2  2             16  0.4  0.7\n",
       "3  3             12  0.3  1.0"
      ]
     },
     "execution_count": 2,
     "metadata": {},
     "output_type": "execute_result"
    }
   ],
   "source": [
    "table_data['fx'] = table_data['observaciones'] / table_data['observaciones'].sum()\n",
    "table_data['Fx'] = table_data['fx'].cumsum()\n",
    "table_data"
   ]
  },
  {
   "cell_type": "markdown",
   "metadata": {},
   "source": [
    "- Puede comprobar que efectivamente la suma de la columna $fx$ es igual a 1. \n",
    "\n",
    "- **Compruebe los conceptos de PMF y CDF de manera interactiva:** https://en-interactive.herokuapp.com/#/3/1\n",
    "\n",
    "<img align=\"left\" src=\"https://raw.githubusercontent.com/marsgr6/r-scripts/master/imgs/python-banner-300x89.png\">\n",
    "\n",
    "<br/>\n",
    "\n",
    "### Opcional: Practique Python\n",
    "\n",
    "<br/><br/>\n",
    "\n",
    "- En este notebook definiremos funciones en Python:\n",
    "- La sintaxis es:\n",
    "```Python\n",
    "def nombre_de_la_funcion(parametro1, parametro2, ...):\n",
    "    operaciones_a_realizar\n",
    "    return valor_a_devolver1, valor_a_devolver2, ...\n",
    "```\n",
    "\n",
    "<a id=\"pmfcdf\"></a>\n",
    "### Representación gráfica de la PMF y la CDF\n",
    "\n",
    "[Volver al índice](#toc)"
   ]
  },
  {
   "cell_type": "code",
   "execution_count": 3,
   "metadata": {},
   "outputs": [
    {
     "data": {
      "image/png": "[encoded data removed]",
      "text/plain": [
       "<Figure size 432x288 with 1 Axes>"
      ]
     },
     "metadata": {
      "needs_background": "light"
     },
     "output_type": "display_data"
    }
   ],
   "source": [
    "def plot_pmf(x, pmfx):\n",
    "    fig, ax = plt.subplots(1, 1)\n",
    "    # https://matplotlib.org/api/_as_gen/matplotlib.axes.Axes.vlines.html\n",
    "    ax.vlines(x, 0, pmfx, colors='r', linestyles='-', lw=1)  # líneas verticales\n",
    "    ax.plot(x, pmfx, 'ro', label='Pmf')  # puntos sobre las lineas verticales\n",
    "    for xi, fxi in zip(x, pmfx):\n",
    "        plt.text(xi, fxi, str(fxi))  # Imprimimos el valor de fx (PMF)\n",
    "    plt.show()\n",
    "    \n",
    "plot_pmf(table_data.x, table_data.fx)"
   ]
  },
  {
   "cell_type": "markdown",
   "metadata": {},
   "source": [
    "- Se dibujan líneas verticales para facilitar la comparación de las alturas de diferentes puntos.\n",
    "  - La altura es el valor de la PMF, $f_X(x)$ para ese valor de $x$.\n",
    "- Las líneas no tienen ancho, indicando que el valor de la PMF, $f_X(x)$ corresponde al valor discretro observado $x$, y su altura indica la probabilidad $P(X=x)$. \n",
    "  - Es decir para cualquier valor entre $(1, 2)$, excluidos, la probabilidad es cero, $P(1<X<2)=0$.\n",
    "  \n",
    "- La probabilidad $P(X=x)$ se puede leer directamente en la altura que cada línea. \n",
    "  - Ej.: $P(X=2)=0.4$."
   ]
  },
  {
   "cell_type": "code",
   "execution_count": 4,
   "metadata": {},
   "outputs": [
    {
     "data": {
      "image/png": "[encoded data removed]",
      "text/plain": [
       "<Figure size 432x288 with 1 Axes>"
      ]
     },
     "metadata": {
      "needs_background": "light"
     },
     "output_type": "display_data"
    }
   ],
   "source": [
    "def plot_cdf(rvs_range, cdf_prob, ax=None):\n",
    "    yn = np.insert(cdf_prob, 0, 0)\n",
    "    \n",
    "    if ax is None:\n",
    "        fig, ax = plt.subplots()\n",
    "        ax.set_facecolor('white')\n",
    "\n",
    "    # https://matplotlib.org/api/_as_gen/matplotlib.axes.Axes.hlines.html\n",
    "    ax.hlines(y=yn, xmin=rvs_range[:-1], xmax=rvs_range[1:],\n",
    "              color='red', zorder=1)\n",
    "\n",
    "    # https://matplotlib.org/api/_as_gen/matplotlib.axes.Axes.vlines.html\n",
    "    ax.vlines(x=rvs_range[1:-1], ymin=yn[:-1], ymax=yn[1:], color='red',\n",
    "              linestyle='dotted', zorder=1)\n",
    "\n",
    "    ax.scatter(rvs_range[1:-1], cdf_prob, color='red', s=18, zorder=2)\n",
    "    ax.scatter(rvs_range[1:-1], yn[:-1], color='white', s=18, zorder=2,\n",
    "               edgecolor='red')\n",
    "    return ax\n",
    "\n",
    "x = np.arange(-1, 5)  # Soporte, valores posibles de x +-1 para las colas de la distribución\n",
    "ax = plot_cdf(x, list(table_data.Fx))"
   ]
  },
  {
   "cell_type": "markdown",
   "metadata": {},
   "source": [
    "- Podemos usar la CDF, $F(x)$ para calcular la probabilidad $P(a \\leq X \\leq b) = F(b) - F(a-1)$\n",
    "  - Ejemplo: $P(1 \\leq X \\leq 3) = F(3) - F(0)=1-0.1=0.9$\n",
    "  - También podemso responder: $P(1 \\leq X \\leq 3) = f(1)+f(2)+f(3)=0.2+0.4+0.3=0.9$, donde $f$ es la PMF.\n",
    "  \n",
    "- Al calcular probabilidades usando la CDF, estamos calculado saltos en la función acumulada: \n",
    "  - Para $P(X=x)$, tenemos que $P(X=a)=F(a)-F(a-1)$.\n",
    "  - Ejemplo $P(X=2) = F(2) - F(1) = 0.7-0.3=0.4$.\n",
    "  - **El salto calculado se muestra en la CDF graficada a continuación.**"
   ]
  },
  {
   "cell_type": "code",
   "execution_count": 5,
   "metadata": {},
   "outputs": [
    {
     "data": {
      "text/plain": [
       "Text(-0.5, 0.3, 'F(1)=0.3')"
      ]
     },
     "execution_count": 5,
     "metadata": {},
     "output_type": "execute_result"
    },
    {
     "data": {
      "image/png": "[encoded data removed]",
      "text/plain": [
       "<Figure size 432x288 with 1 Axes>"
      ]
     },
     "metadata": {
      "needs_background": "light"
     },
     "output_type": "display_data"
    }
   ],
   "source": [
    "ax = plot_cdf(x, list(table_data.Fx))\n",
    "ax.text(\n",
    "    # Coordenada y etiqueta \n",
    "    2, 0.37, \"}\", \n",
    "    # Parámetros adicionales \n",
    "    fontsize=85, fontweight=0)\n",
    "ax.text(2.9, 0.47, \"P(X=2)=F(2)-F(1)\", fontsize=20)\n",
    "ax.text(0.5, 0.7, \"F(2)=0.7\", fontsize=20)\n",
    "ax.text(-0.5, 0.3, \"F(1)=0.3\", fontsize=20)"
   ]
  },
  {
   "cell_type": "markdown",
   "metadata": {},
   "source": [
    "- Identifique el salto para el ejemplo $P(1 \\leq X \\leq 3)$."
   ]
  },
  {
   "cell_type": "markdown",
   "metadata": {},
   "source": [
    "- La CDF para el caso discreto tiene la forma característica de escalera. \n",
    "- Esto indica que el salto para un valor entre (1,2) no incluidos, es cero, es decir la probablidad es cero para cualquier valor intermedio. "
   ]
  },
  {
   "cell_type": "markdown",
   "metadata": {},
   "source": [
    "<a id=\"veva\"></a>\n",
    "### Calculemos el valor esperado y la varianza de nuestra distribución discreta\n",
    "\n",
    "[Volver al índice](#toc)\n",
    "\n",
    "- $E[X] = \\sum_i x_i \\cdot f(x)$,\n",
    "  -  para nuestro ejemplo: \n",
    "  \n",
    "  $$E[X] = 0 \\times f(0) + 1 \\times f(1) + 2 \\times f(2) + 3 \\times f(3)$$\n",
    "  \n",
    "  $$E[X] = 0 \\times 0.1 + 1 \\times 0.2 + 2 \\times 0.4 + 3 \\times 0.3=1.9.$$\n",
    "  \n",
    "  - **El valor esperado es el promedio pesado del espacio muestral.**\n",
    "  \n",
    "- Podemos esperar observar que un cajero cuaquiera observado al azar, tendrá en promedio 1.9 cajeros de la competencia a 500 metros. \n",
    "\n",
    "- $Var[X] = \\sum_{i=1}^n (x_i - E[X])^2 f(x_i)$\n",
    "  -  para nuestro ejemplo: \n",
    "  $$Var[X] = (0 - 1.9)^2 \\times 0.1 + (1 - 1.9)^2 \\times 0.2 + (2 - 1.9)^2 \\times 0.4 + (3 - 1.9)^2 \\times 0.3 = 0.89.$$\n",
    "  \n",
    "- **La varianza es el valor esperado de las desviaciones alrededor de la media elevadas al cuadrado.** "
   ]
  },
  {
   "cell_type": "code",
   "execution_count": 6,
   "metadata": {},
   "outputs": [
    {
     "name": "stdout",
     "output_type": "stream",
     "text": [
      "E[X]= 1.9\n",
      "Var[X]= 0.89\n"
     ]
    }
   ],
   "source": [
    "EX = (table_data.x * table_data.fx).sum()\n",
    "VarX = ((table_data.x - EX)**2 * table_data.fx).sum()\n",
    "\n",
    "print(\"E[X]=\", EX)\n",
    "print(\"Var[X]=\", np.round(VarX,4))"
   ]
  },
  {
   "cell_type": "markdown",
   "metadata": {},
   "source": [
    "# Distribuciones discretas importantes\n",
    "\n",
    "[Volver al índice](#toc)\n",
    "\n",
    "<a id=\"bern\"></a>\n",
    "## Distribución de Bernoulli\n",
    "\n",
    "- Se dice que una variable aleatoria, v.a., $X$ tiene una distribución de \n",
    "Bernoulli con parámetro $p$, si \n",
    "$P(X = 1) = p$ y $P(X = 0) = 1 - p$, donde $0 < p < 1$. \n",
    "\n",
    "- Denotamos esto como: $X \\sim Bern(p)$. \n",
    "\n",
    "- El símbolo $\\sim$ se lee \"está distribuida como\".\n",
    "Cualquier v.a. cuyos valores posibles son 0 y 1 tiene una distribución $Bern(p)$, \n",
    "con probabilidad $p$ de que la v.a. sea 1. \n",
    "\n",
    "- El valor de $p$ en $Bern(p)$ es llamado el parámetro de la distribución; \n",
    "determina cual distribución específica de Bernoulli tenemos. \n",
    "\n",
    "- Por tanto no hay una sola distribución de Bernoulli, \n",
    "sino una familia de distribuciones de Bernoulli, dadas por el parámetro $p$. \n",
    "\n",
    "- Por ejemplo, si $X \\sim Bern(1/3)$, \n",
    "sería correcto pero incompleto decir \"$X$ es Bernoulli\"; \n",
    "para especificar completamente la distribución de $X$, \n",
    "debemos decir su nombre (Bernoulli) y el valor de su parámetro (1/3), \n",
    "que es el objetivo de la notación $X \\sim Bern(1/3)$.\n",
    "\n",
    "**Experimento de Bernoulli**. Un experimento que puede dar como resultado un \"éxito\" o un \"fracaso\" (pero no ambos) se denomina experimento de Bernoulli. Se puede pensar en una variable aleatoria de Bernoulli como el indicador de éxito en un ensayo de Bernoulli: es igual a 1 si se produce el éxito y a 0 si se produce un fracaso en el ensayo.\n",
    "\n",
    "Debido a esta \"historia\", el parámetro $p$ a menudo se denomina probabilidad de éxito de la distribución de $Bern(p)$.\n",
    "\n",
    "\n",
    "### PMF de Bernoulli\n",
    "\n",
    "- Ya hemos visto que podemos escribir la PMF de varias maneras, por ejemplo a través de una tabla, a través de una fórmul, además de poder representarla de forma gráfica. \n",
    "\n",
    "- A partir de la tabla siguiente:\n",
    "\n",
    "| <div style=\"width:50px\">$x$</div>      | <div style=\"width:60px\">$P(X=x)$</div> | <div style=\"width:100px\">$f_X(x)$</div>     |\n",
    "| ----------- | ----------- | ----------- |\n",
    "| 0   | 1-p       | $p^0 (1-p)^{1-0}$ |\n",
    "| 1   | p        | $p^1 (1-p)^{1-1}$ |\n",
    "\n",
    "\n",
    "- Podemos generalizar y escribir la PMF como:\n",
    "\n",
    "$$\n",
    "f_X(x; p) = p^x (1-p)^{1-x},\\ x \\in \\{0, 1\\}\n",
    "$$\n",
    "\n",
    "- **Valor esperado y varianza:**\n",
    "\n",
    "$$\n",
    "E[X] = p,\\ Var[X] = p (1 - p)\n",
    "$$\n",
    "\n",
    "- Intente calcular el valor esperado y la varianza de la distribución de Bernoulli a partir de la definción dada al inicio de este notebook. "
   ]
  },
  {
   "cell_type": "markdown",
   "metadata": {},
   "source": [
    "<a id=\"binom\"></a>\n",
    "## Distribución Binomial\n",
    "\n",
    "[Volver al índice](#toc)\n",
    "\n",
    "- Una vez que conocemos Bernoulli, es difícil no empezar a pensar en lo que sucede cuando tenemos más de un experimento de Bernoulli.\n",
    "\n",
    "- **Distribución binomial.** Suponga que se realizan $n$ experimentos de Bernoulli independientes, cada uno con la misma probabilidad de éxito $p$. \n",
    "  - Sea $X$ el número de éxitos. La distribución de $X$ es llamada distribución Binomial con parámetros $n$ y $p$.\n",
    "\n",
    "- Escribimos $X \\sim Bin(n,p)$ para indicar que $X$ tiene la distribución Binomial con parámetros $n$ y $p$, donde $n$ es un entero positivo y $0 < p < 1.$\n",
    "\n",
    "- Observe que definimos la distribución Binomial no por su PMF, sino por una historia sobre el tipo de experimento que podría dar lugar a una variable aleatoria con una distribución Binomial. \n",
    "  - Las distribuciones más famosas en estadística tienen historias que explican por qué se usan tan a menudo como modelos de datos o como bloques de construcción para distribuciones más complicadas.\n",
    "\n",
    "- Pensar en las distribuciones con nombre propio (importantes), en términos de sus historias tiene muchos beneficios. \n",
    "  - Facilita el reconocimiento de patrones, permitiéndonos ver cuando dos problemas son esencialmente idénticos en estructura; a menudo conduce a soluciones más limpias que evitan los cálculos de PMF por completo; y nos ayuda a comprender cómo las distribuciones nombradas están conectadas entre sí.\n",
    "  - Aquí está claro que $Bern(p)$ es la misma distribución que $Bin(1, p)$: Bernoulli es un caso especial de la Binomial.\n",
    "\n",
    "\n",
    "### PMF Binomial \n",
    "\n",
    "- Usando la definición de la historia de la Binomial, encontremos su PMF.\n",
    "\n",
    "- Un experimento que consta de $n$ ensayos de Bernoulli independientes produce una secuencia de éxitos y fracasos. \n",
    "\n",
    "- La probabilidad de cualquier secuencia específica de $x$ éxitos y $n - x$ fracasos es $p^x \\cdot (1 - p)^{n-k}$. \n",
    "  - Hay ${n \\choose x}$ tales secuencias, ya que solo necesitamos seleccionar dónde están los éxitos. Por lo tanto, siendo $X$ el número de éxitos, tenemos que,\n",
    "$$P(X=x) = {n \\choose x} p^x (1-p)^{n-x},\\ x \\in \\{0, 1, \\dots, n\\}$$\n",
    "\n",
    "- **Ejemplo:** Dada una serie de $n=3$ intentos de Bernoulli con probabilidad de éxito $p=0,5$ (lanzamiento de una moneda), el espacio muestral viene dado por la siguiente figura:\n",
    "\n",
    "<img src=\"https://raw.githubusercontent.com/marsgr6/r-scripts/master/imgs/binom.png\" alt=\"drawing\" width=\"600\"/>\n",
    "\n",
    "- Entonces podemos escribir la PMF de la siguiente manera:\n",
    "\n",
    "| <div style=\"width:50px\">$x$</div>      | <div style=\"width:60px\">$P(X=x)$</div> | <div style=\"width:100px\">$f_X(x)$</div>     |\n",
    "| ----------- | ----------- | ----------- |\n",
    "| 0   | 1/8       | ${3 \\choose 0} p^0 (1-p)^{3-0}$ |\n",
    "| 1   | 3/8        | ${3 \\choose 1} p^1 (1-p)^{3-1}$ |\n",
    "| 2   | 3/8        | ${3 \\choose 2} p^2 (1-p)^{3-2}$ |\n",
    "| 3   | 1/8        | ${3 \\choose 3} p^3 (1-p)^{3-3}$ |\n",
    "\n",
    "- Vea que podemos generalizar la PMF en la tabla anterior usando la función $f_X(x; n, p)$ a continuación. \n",
    "\n",
    "$$\n",
    "X \\sim Bin(x; n, p)\n",
    "$$\n",
    "\n",
    "$$\n",
    "f_X(x; n, p) = {n \\choose x} p^x (1-p)^{n-x},\\ x \\in \\{0, 1, \\dots, n\\}\n",
    "$$\n",
    "\n",
    "- **Valor esperado y varianza:**\n",
    "\n",
    "$$\n",
    "E[X] = np,\\ Var[X] = n p (1 - p)\n",
    "$$\n",
    "\n",
    "- **Explore la distribución binomial de manera interactiva:** https://en-interactive.herokuapp.com/#/4/1\n",
    "\n",
    "\n",
    "### PMF de la distribución binomial para diferentes valores de los parámetros \n",
    "\n",
    "<img align=\"left\" src=\"https://raw.githubusercontent.com/marsgr6/r-scripts/master/imgs/python-banner-300x89.png\">\n",
    "\n",
    "<br/>\n",
    "\n",
    "### Opcional: Practique Python\n",
    "\n",
    "<br/><br/>\n",
    "\n",
    "\n",
    "- Python implementa las función PMF para la mayoría de distribuciones comunes:\n",
    "  - Para el caso de la distribución binomial:\n",
    "```Python\n",
    "from scipy.stats import binom  # implementación de la binomial en scipy.stats\n",
    "```\n",
    "  - PMF:\n",
    "```Python\n",
    "binom.pmf(x, n, p)\n",
    "```"
   ]
  },
  {
   "cell_type": "code",
   "execution_count": 7,
   "metadata": {},
   "outputs": [
    {
     "data": {
      "image/png": "[encoded data removed]",
      "text/plain": [
       "<Figure size 720x720 with 4 Axes>"
      ]
     },
     "metadata": {
      "needs_background": "light"
     },
     "output_type": "display_data"
    }
   ],
   "source": [
    "from scipy.stats import binom  # implementación de la binomial en scipy.stats\n",
    "\n",
    "# lista de parámetros [(n1, p1, panel1), (n2, p2, panel2), ...]\n",
    "parametros = [(10, 1/2, 1), (10, 1/8, 2), (100, 0.03, 3), (9, 4/5, 4)]\n",
    "\n",
    "plt.figure(figsize=(10,10))\n",
    "# recorremos la lista asignando la tupla a los valores n y p\n",
    "for n, p, panel in parametros:\n",
    "    # evaluaremos un subconjunto de los valores posibles de la v.a. x={0,...,10}\n",
    "    # range no incluye el valor final 11\n",
    "    x = range(11) \n",
    "    pmfx = binom.pmf(x, n, p)  # Evalúa la PMF, 𝑓𝑋(𝑥;𝑛,𝑝) definida arriba\n",
    "    plt.subplot(2, 2, panel)  # 4 paneles 2filas x 2columnas\n",
    "    plt.vlines(x, [0]*len(x), pmfx, color=\"r\", lw=1)  # grafica las líneas verticales\n",
    "    plt.plot(x, pmfx, '.', color='r')  # grafica los puntos\n",
    "    plt.xlabel(\"x\"); plt.ylabel(\"PMF\")  # etiqueta de los ejes\n",
    "    plt.title(r\"$X \\sim bin($n=\"+ str(n) + \", p=\" + str(p) +\")\")  # título de cada panel"
   ]
  },
  {
   "cell_type": "markdown",
   "metadata": {},
   "source": [
    "<img align=\"left\" width=\"80px\" src=\"https://raw.githubusercontent.com/marsgr6/r-scripts/master/imgs/activity.png\">\n",
    "\n",
    "<br/>\n",
    "\n",
    "### Experimente\n",
    "<br/>\n",
    "\n",
    "- Inteprete en las figuras arriba la simetría de la distribución de acuerdo al parámetro $p$. \n",
    "  - Intente cambiar en el código los valores de los parámetros, $n$ y $p$ y los valores de $x$ que se evalúan si fuera necesario. "
   ]
  },
  {
   "cell_type": "markdown",
   "metadata": {},
   "source": [
    "<a id=\"ejeb\"></a>\n",
    "### Ejemplo\n",
    "\n",
    "[Volver al índice](#toc)\n",
    "\n",
    "La probabilidad de que un paciente se recupere de una rara\n",
    "enfermedad sanguinea es de 0.4. Si se sabe que 15 personas\n",
    "contrajeron la enfermedad, ¿cual es la probabilidad de que \n",
    "\n",
    "**a) sobrevivan al menos 10, $P(X \\geq 10)$:**\n",
    "\n",
    "- Para los parámetros $n=15, p=0.4$, \n",
    "\n",
    "$$P(X \\geq 10) = \\sum_{x=10}^{15} {15 \\choose x} 0.4^x (1-0.4)^{15-x}=0.033833.$$\n",
    "\n",
    "- Otra solución es: $P(X \\geq 10) = 1 - P(X \\leq 9)$:\n",
    "\n",
    "$$P(X \\geq 10) = 1 - \\sum_{x=0}^{9} {15 \\choose x} 0.4^x (1-0.4)^{15-x}=0.033833.$$\n",
    "\n",
    "- Note que en la solución arriba $P(X \\leq 9)$ corresponde a la CDF, $F(9)$, por tanto podemos escribir la solución como $P(X \\geq 10) = 1 - F(9)$.\n",
    "\n",
    "- Debemos tener cuidado cuando evaluamos la PMF o la CDF para que refleje los valores que estamos considerando, por este motivo usamos $P(X \\geq 10) = 1 - F(9)$ y no $P(X \\geq 10) = 1 - F(10)$, dado que en este último caso no estamos incluyendo $X=10$ en nuestro análsis.\n",
    "\n",
    "**b) sobrevivan de 3 a 8 $P(3\\leq X \\leq 8)$:**\n",
    "\n",
    "$$P(3\\leq X \\leq 8) = \\sum_{x=3}^{8} {15 \\choose x} 0.4^x (1-0.4)^{15-x}=0.877839$$\n",
    "\n",
    "- Usando la CDF tenemos:\n",
    "$$P(3\\leq X \\leq 8) = F(8)-F(2)=0.877839$$\n",
    "\n",
    "**c) sobrevivan exactamente 5:**\n",
    "\n",
    "$$P(X = 5) = {15 \\choose 5} 0.4^5 (1-0.4)^{15-5}=0.185938$$\n",
    "\n",
    "- Usando la CDF tenemos:\n",
    "$$P(X = 5) = F(5)-F(4)=0.185938$$\n",
    "\n",
    "### Implementaremos la PMF y la CDF de la binomial en Python:"
   ]
  },
  {
   "cell_type": "code",
   "execution_count": 8,
   "metadata": {},
   "outputs": [
    {
     "name": "stdout",
     "output_type": "stream",
     "text": [
      "Inciso a)\n",
      "Evaluando la PMF: 0.033833\n",
      "Evaluando la CDF: 0.033833\n",
      "Evaluando la CDF: 0.033833\n",
      "\n",
      "Inciso b)\n",
      "b) evaluando la PMF: 0.877839\n",
      "b) evaluando la CDF: 0.877839\n",
      "\n",
      "Inciso c)\n",
      "b) evaluando la PMF: 0.185938\n",
      "b) evaluando la CDF: 0.185938\n"
     ]
    }
   ],
   "source": [
    "# la función comb calcula el número de combinaciones\n",
    "from scipy.special import comb\n",
    "\n",
    "def binomial_pmf(x, n, p):\n",
    "    # x es un valor entero, o una lista de valores enteros\n",
    "    # n, p los parámetros de la distribución\n",
    "    # si el usuario pasa una lista, esta se transforma en un array de numpy\n",
    "    x = np.array(x)\n",
    "    return comb(n, x) * p**x * (1-p)**(n-x)  # Evalúa la PMF, 𝑓𝑋(𝑥;𝑛,𝑝)\n",
    "\n",
    "def binomial_cdf(x, n, p):\n",
    "    # x es un valor entero, P(X<=x)\n",
    "    # n, p los parámetros de la distribución\n",
    "    # generamos un array de 0 a x\n",
    "    x = np.array(range(0, x+1))\n",
    "    return binomial_pmf(x, n, p).sum()  # Evalúa la CDF\n",
    "\n",
    "print(\"Inciso a)\")\n",
    "print(\"Evaluando la PMF:\", binomial_pmf([10, 11, 12, 13, 14, 15], 15, 0.4).sum().round(6))\n",
    "print(\"Evaluando la CDF:\", 1-binomial_pmf([0, 1, 2, 3, 4, 5, 6, 7, 8, 9], 15, 0.4).sum().round(6))\n",
    "print(\"Evaluando la CDF:\", 1-binomial_cdf(9, 15, 0.4).round(6))\n",
    "\n",
    "print(\"\\nInciso b)\")\n",
    "print(\"b) evaluando la PMF:\", binomial_pmf([3, 4, 5, 6, 7, 8], 15, 0.4).sum().round(6))\n",
    "print(\"b) evaluando la CDF:\", (binomial_cdf(8, 15, 0.4).sum() - binomial_cdf(2, 15, 0.4)).round(6))\n",
    "\n",
    "print(\"\\nInciso c)\")\n",
    "print(\"b) evaluando la PMF:\", binomial_pmf(5, 15, 0.4).round(6))\n",
    "print(\"b) evaluando la CDF:\", (binomial_cdf(5, 15, 0.4).sum() - binomial_cdf(4, 15, 0.4)).round(6))"
   ]
  },
  {
   "cell_type": "markdown",
   "metadata": {},
   "source": [
    "- Python implementa las funciones PMF y CDF \n",
    "```Python\n",
    "from scipy.stats import binom  # implementación de la binomial en scipy.stats\n",
    "```\n",
    "  - PMF:\n",
    "```Python\n",
    "binom.pmf(x, n, p)\n",
    "```\n",
    "  - CDF:\n",
    "\n",
    "```Python\n",
    "binom.cdf(x, n, p)\n",
    "```\n",
    "\n",
    "- Vea su uso a continuación:"
   ]
  },
  {
   "cell_type": "code",
   "execution_count": 9,
   "metadata": {},
   "outputs": [
    {
     "name": "stdout",
     "output_type": "stream",
     "text": [
      "Inciso a)\n",
      "Evaluando la PMF: 0.033833\n",
      "Evaluando la CDF: 0.033833\n",
      "Evaluando la CDF: 0.033833\n",
      "\n",
      "Inciso b)\n",
      "b) evaluando la PMF: 0.877839\n",
      "b) evaluando la CDF: 0.877839\n",
      "\n",
      "Inciso c)\n",
      "b) evaluando la PMF: 0.185938\n",
      "b) evaluando la CDF: 0.185938\n"
     ]
    }
   ],
   "source": [
    "print(\"Inciso a)\")\n",
    "print(\"Evaluando la PMF:\", binom.pmf([10, 11, 12, 13, 14, 15], 15, 0.4).sum().round(6))\n",
    "print(\"Evaluando la CDF:\", 1-binom.pmf([0, 1, 2, 3, 4, 5, 6, 7, 8, 9], 15, 0.4).sum().round(6))\n",
    "print(\"Evaluando la CDF:\", 1-binom.cdf(9, 15, 0.4).round(6))\n",
    "\n",
    "print(\"\\nInciso b)\")\n",
    "print(\"b) evaluando la PMF:\", binom.pmf([3, 4, 5, 6, 7, 8], 15, 0.4).sum().round(6))\n",
    "print(\"b) evaluando la CDF:\", (binom.cdf(8, 15, 0.4).sum() - binom.cdf(2, 15, 0.4)).round(6))\n",
    "\n",
    "print(\"\\nInciso c)\")\n",
    "print(\"b) evaluando la PMF:\", binom.pmf(5, 15, 0.4).round(6))\n",
    "print(\"b) evaluando la CDF:\", (binom.cdf(5, 15, 0.4).sum() - binom.cdf(4, 15, 0.4)).round(6))"
   ]
  },
  {
   "cell_type": "markdown",
   "metadata": {},
   "source": [
    "- La PMF y la CDF de la distribución del ejemplo $X \\sim bin(n=15, p=0.4)$ se muestra a continuación"
   ]
  },
  {
   "cell_type": "code",
   "execution_count": 10,
   "metadata": {},
   "outputs": [
    {
     "data": {
      "image/png": "[encoded data removed]",
      "text/plain": [
       "<Figure size 864x360 with 2 Axes>"
      ]
     },
     "metadata": {
      "needs_background": "light"
     },
     "output_type": "display_data"
    }
   ],
   "source": [
    "# Parámetros de la distribución binomial\n",
    "n, p = 15, 0.4\n",
    "\n",
    "f, (ax1, ax2) = plt.subplots(1, 2, figsize=(12,5))  # Dos paneles ax1 y ax2\n",
    "\n",
    "# Panel 1: ax1\n",
    "x = range(n+1)  # evaluaremos un subconjunto de los valores posibles de la v.a. x={0,...,15} \n",
    "pmfx = binom.pmf(x, n, p)  # Evalúa la PMF, 𝑓𝑋(𝑥;𝑛,𝑝) definida arriba\n",
    "ax1.vlines(x, [0]*len(x), pmfx, color=\"r\", lw=1)  # grafica las líneas verticales\n",
    "ax1.plot(x, pmfx, '.', color='r')  # grafica los puntos\n",
    "ax1.set_xlabel(\"x\"); ax1.set_ylabel(\"PMF\")  # etiqueta de los ejes\n",
    "ax1.set_title(r\"$X \\sim bin($n=\"+ str(n) + \", p=\" + str(p) +\")\")  # título del panel\n",
    "ax1.set_xticks(range(n+1))  # define xticks\n",
    "ax1.set_xticklabels(range(n+1))  # define etiquetas de xticks\n",
    "\n",
    "# Panel 2: ax2\n",
    "xcdf = np.array(range(-1,17))\n",
    "Fx = binom.cdf(x, n, p) \n",
    "plot_cdf(xcdf, Fx, ax=ax2)\n",
    "ax2.set_title(\"CDF\")  # título del panel\n",
    "ax2.set_xlabel(\"x\"); ax2.set_ylabel(\"CDF\")  # etiqueta de los ejes\n",
    "ax2.set_xticks(range(n+1))\n",
    "xt = ax2.set_xticklabels(range(n+1))"
   ]
  },
  {
   "cell_type": "markdown",
   "metadata": {},
   "source": [
    "- Podemos usar la implementación en Python de la binomial para calcular su valor esperado y varianza:\n",
    "\n",
    "```Python\n",
    "binom.expect(args=(15, 0.4))\n",
    "binom.var(15, 0.4)\n",
    "```"
   ]
  },
  {
   "cell_type": "code",
   "execution_count": 11,
   "metadata": {},
   "outputs": [
    {
     "name": "stdout",
     "output_type": "stream",
     "text": [
      "E[X] = 6.0\n",
      "Var[X] = 3.6\n",
      "E[X] = 6.0\n",
      "Var[X] = 3.6\n"
     ]
    }
   ],
   "source": [
    "# Parámetros de la distribución binomial\n",
    "n, p = 15, 0.4\n",
    "\n",
    "print(\"E[X] =\", n*p)\n",
    "print(\"Var[X] =\", np.round(n*p*(1-p), 4))\n",
    "\n",
    "print(\"E[X] =\", binom.expect(args=(15, 0.4)).round(4))\n",
    "print(\"Var[X] =\", binom.var(15, 0.4).round(4))"
   ]
  },
  {
   "cell_type": "markdown",
   "metadata": {},
   "source": [
    "- Podemos esperar que en promedio se recuperen 6 pacientes de esta rara enfermedad. \n",
    "\n",
    "- **Compruebe que los valores calculados son correctos.**\n",
    "  - Vea la fórmula del valor esperado y de la varianza para una distribución binomial.  "
   ]
  },
  {
   "cell_type": "markdown",
   "metadata": {},
   "source": [
    "<img align=\"left\" width=\"80px\" src=\"https://raw.githubusercontent.com/marsgr6/r-scripts/master/imgs/activity.png\">\n",
    "\n",
    "<br/>\n",
    "\n",
    "### Experimente\n",
    "<br/>\n",
    "\n",
    "- A partir de la gráfica de la PMF, interprete los valores usados para calcular los incisos del ejercicio.\n",
    "- A partir de la gráfica de la CDF, interprete los saltos usados para calcular los incisos del ejercicio."
   ]
  },
  {
   "cell_type": "markdown",
   "metadata": {},
   "source": [
    "<a id=\"geom\"></a>\n",
    "## Distritución Geométrica\n",
    "\n",
    "[Volver al índice](#toc)\n",
    "\n",
    "- Considere una secuencia de ensayos de Bernoulli independientes,\n",
    "cada uno con la misma probabilidad de éxito $p \\in (0, 1)$,\n",
    "con ensayos realizados hasta que se produce un éxito.\n",
    "\n",
    "- Sea $X$ el número de fallos antes de la primera prueba exitosa.\n",
    "Entonces $X$ tiene una distribución Geométrica con parámetro $p$;\n",
    "denotamos esto por $X \\sim Geom(p)$.\n",
    "\n",
    "- Por ejemplo, si lanzamos una moneda no trucada hasta que caiga cara por primera vez,\n",
    "tenemos que, el número de cruces antes de la primera aparición de cara se distribuye como $Geom(1/2)$.\n",
    "\n",
    "### PMF Geométrica\n",
    "\n",
    "- Para obtener la PMF geométrica de nuestra historia, imagine los \n",
    "experimentos de Bernoulli como una cadena de 0s (fallas) que terminan cuando aparece el primer 1 (éxito).\n",
    "Cada 0 tiene probabilidad $q = 1 - p$ y el 1 final tiene probabilidad $p$,\n",
    "por lo que una cadena de $x$ fallas seguidas de un éxito tiene una probabilidad de $q^x \\cdot p$.\n",
    "\n",
    "| <div style=\"width:50px\">$x$</div>  |  <div style=\"width:60px\">Experiment</div>  | <div style=\"width:60px\">$P(X=x)$</div> | <div style=\"width:60px\">$f_X(x)$</div>     |\n",
    "| ----------- | ----------- | ----------- | ----------- |\n",
    "| 0  | 1 | p        | $p q^{0}$ |\n",
    "| 1  | 01 | qp       | $p q^{1}$  |\n",
    "| 2  | 001 | qqp  | $p q^{2}$  |\n",
    "| 3  | 0001 | qqqp  | $p q^{3}$  |\n",
    "|  . |  |  |        |\n",
    "|  . |  |  |       |\n",
    "|  . |  |  |       |\n",
    "\n",
    "\n",
    "- Vea que podemos generalizar la PMF en la tabla anterior usando la función $f_X(x; p)$ a continuación. \n",
    "\n",
    "$$\n",
    "X \\sim Geom(x; p)\n",
    "$$\n",
    "\n",
    "$$\n",
    "f_X(x; p) = p (1-p)^{x},\\ x \\in \\{0, 1, 2, \\dots \\}\n",
    "$$\n",
    "\n",
    "- **Valor esperado y varianza:**\n",
    "\n",
    "\n",
    "$$\n",
    "E[X] = \\frac{q}{p},\\ Var[X] = \\frac{q}{p^2},\\ q = 1 - p\n",
    "$$"
   ]
  },
  {
   "cell_type": "markdown",
   "metadata": {},
   "source": [
    "<a id=\"ejeg\"></a>\n",
    "### Ejemplo\n",
    "\n",
    "[Volver al índice](#toc)\n",
    "\n",
    "Se sabe que en cierto proceso de fabricacion **uno de cada 100** \n",
    "articulos, en promedio, resulta defectuoso. ¿Cuál es la probabilidad de \n",
    "que el quinto artículo que se inspecciona, en un grupo de 100, sea el\n",
    "primer defectuoso que se encuentra?\n",
    "\n",
    "- $X$: cuenta fracasos (que el artículo que se inspecciona no sea defectuoso).\n",
    "\n",
    "- El parámetro de la distribución de nuestra v.a. $X \\sim Geom(p)$, es $p=1/100$.\n",
    "\n",
    "- El experimento geométrico se detiene cuando aparece el primer éxito. \n",
    "  - Éxito en el ejemplo es encontrar un artículo defectuoso. \n",
    "  - El quinto que se inspecciona equivale a 4 fracasos: $00001$, ó $qqqqp$\n",
    "  \n",
    "- Por tanto calculamos:\n",
    "\n",
    "  - $P(X=4)$, probabilidad de que ocurran 4 fracasos (inspeccionamos 4 artículos no defectuosos hasta encontrar el primer defectuoso). \n",
    "  \n",
    "$$\n",
    "f_X(x; p) = p (1-p)^{x},\\ x = f_X(4; 1/100) = 1/100 (1-1/100)^{4} = 0.0096059601.\n",
    "$$\n",
    "\n",
    "- Usando la CDF: $P(X=4) = F(4) - F(3) = 0.0096059601.$\n",
    "\n",
    "  - La probabilidad de \n",
    "que el quinto artículo que se inspecciona, en un grupo de 100, sea el\n",
    "primer defectuoso que se encuentra es de 0.0096."
   ]
  },
  {
   "cell_type": "code",
   "execution_count": 12,
   "metadata": {},
   "outputs": [
    {
     "name": "stdout",
     "output_type": "stream",
     "text": [
      "Evaluando la PMF: 0.0096059601\n",
      "Evaluando la CDF: 0.0096059601\n"
     ]
    }
   ],
   "source": [
    "def geom_pmf(x, p):\n",
    "    # x es un valor entero, o una lista de valores enteros\n",
    "    # p parámetro de la distribución\n",
    "    x = np.array(x)  # transformamos a numpy array\n",
    "    return p*(1-p)**x  # implementa 𝑓𝑋(𝑥;𝑝)\n",
    "\n",
    "def geom_cdf(x, p):\n",
    "    # x es un valor entero, P(X<=x)\n",
    "    # p parámetro de la distribución\n",
    "    x = np.array(range(0, x+1))\n",
    "    return geom_pmf(x, p).sum()  # Evalúa la CDF\n",
    "\n",
    "print(\"Evaluando la PMF:\", geom_pmf(4, 1/100).round(10))\n",
    "print(\"Evaluando la CDF:\", (geom_cdf(4, 1/100)-geom_cdf(3, 1/100)).round(10))"
   ]
  },
  {
   "cell_type": "markdown",
   "metadata": {},
   "source": [
    "<a id=\"fs\"></a>\n",
    "### Distribución del primer éxito\n",
    "\n",
    "[Volver al índice](#toc)\n",
    "\n",
    "- En una secuencia de \n",
    "experimentos independientes de Bernoulli con probabilidad de éxito $p$,\n",
    "sea $Y$ el número de intentos hasta que\n",
    "primer experimento exitoso, incluido el éxito.\n",
    "\n",
    "- Entonces $Y$ tiene la distribución del primer éxito \n",
    "con parámetro $p$; denotamos esto por $Y \\sim FS(p)$.\n",
    "\n",
    "$$\n",
    "\\text{If } Y \\sim FS(p),\\ \\text{then } Y-1 \\sim Geom(p) \n",
    "$$\n",
    "\n",
    "- Podemos convertir entre las PMF de $Y$ y $Y-1$ por\n",
    "$$\n",
    "P(Y=k) = P (Y-1 = k-1) \n",
    "$$\n",
    "\n",
    "- Al contrario, si\n",
    "$$\n",
    "X\\sim Geom(p),\\ \\text{ entonces } X+1 \\sim FS(p)\n",
    "$$\n",
    "\n",
    "- Valor esperado de la distribución del primer éxito\n",
    "\n",
    "$$\n",
    "E(Y)=E(X+1)=\\frac{q}{p}+1=\\frac{1}{p}\n",
    "$$\n",
    "\n",
    "- Python implementa la distribución del primer éxito, para resolver el ejercicio anterior debemos responder $P(X=5)$."
   ]
  },
  {
   "cell_type": "code",
   "execution_count": 13,
   "metadata": {},
   "outputs": [
    {
     "name": "stdout",
     "output_type": "stream",
     "text": [
      "Evaluando la PMF: 0.0096059601\n"
     ]
    }
   ],
   "source": [
    "from scipy.stats import geom\n",
    "\n",
    "fracasos = 4 # X\n",
    "# PMF de X+1 para la distribución del primer éxito\n",
    "print(\"Evaluando la PMF:\", geom.pmf(fracasos + 1, p=1/100))"
   ]
  },
  {
   "cell_type": "markdown",
   "metadata": {},
   "source": [
    "- Usando la CDF, $P(X=4) = F(4) - F(3)$:"
   ]
  },
  {
   "cell_type": "code",
   "execution_count": 14,
   "metadata": {},
   "outputs": [
    {
     "name": "stdout",
     "output_type": "stream",
     "text": [
      "Evaluando la CDF: 0.0096059601\n"
     ]
    }
   ],
   "source": [
    "print(\"Evaluando la CDF:\", (geom.cdf(fracasos + 1, p=1/100) - geom.cdf(fracasos, p=1/100)).round(10))"
   ]
  },
  {
   "cell_type": "markdown",
   "metadata": {},
   "source": [
    "- La PMF y la CDF de la distribución del ejemplo $X \\sim geom(p=1/100)$ se muestra a continuación"
   ]
  },
  {
   "cell_type": "code",
   "execution_count": 15,
   "metadata": {},
   "outputs": [
    {
     "data": {
      "image/png": "[encoded data removed]",
      "text/plain": [
       "<Figure size 864x360 with 2 Axes>"
      ]
     },
     "metadata": {
      "needs_background": "light"
     },
     "output_type": "display_data"
    }
   ],
   "source": [
    "# Parámetro de la distribución geométrica\n",
    "p = 1/100\n",
    "\n",
    "f, (ax1, ax2) = plt.subplots(1, 2, figsize=(12,5))  # Dos paneles ax1 y ax2\n",
    "\n",
    "x_upper = 50\n",
    "\n",
    "# Panel 1: ax1\n",
    "x = np.arange(x_upper+1)  # evaluaremos un subconjunto de los valores posibles de la v.a. x={0,...,15} \n",
    "pmfx = geom.pmf(x+1, p) # x+1 para tener la distribucón del primer éxito\n",
    "ax1.vlines(x, [0]*len(x), pmfx, color=\"r\", lw=1)  # grafica las líneas verticales\n",
    "ax1.plot(x, pmfx, '.', color='r')  # grafica los puntos\n",
    "ax1.set_xlabel(\"x\"); ax1.set_ylabel(\"PMF\")  # etiqueta de los ejes\n",
    "ax1.set_title(r\"$X \\sim geom($p=\"+ str(p) +\")\")  # título del panel\n",
    "ax1.set_xticks(range(0, x_upper+1, 10))  # define xticks\n",
    "ax1.set_xticklabels(range(0, x_upper+1, 10))  # define etiquetas de xticks\n",
    "\n",
    "# Panel 2: ax2\n",
    "xcdf = np.array(range(-1,x_upper+2))\n",
    "Fx = geom.cdf(x+1, p)  # x+1 para tener la distribucón del primer éxito\n",
    "plot_cdf(xcdf, Fx, ax=ax2)\n",
    "ax2.set_title(\"CDF\")  # título del panel\n",
    "ax2.set_xlabel(\"x\"); ax2.set_ylabel(\"CDF\")  # etiqueta de los ejes\n",
    "ax2.set_xticks(range(0, x_upper+1, 10))  # define xticks\n",
    "xt = ax2.set_xticklabels(range(0, x_upper+1, 10))  # define etiquetas de xticks"
   ]
  },
  {
   "cell_type": "markdown",
   "metadata": {},
   "source": [
    "- Tenga en cuenta que el soporte de la distribución geométrica es no acotada, es decir, $x \\in \\{0, 1, 2, \\dots \\}$. "
   ]
  },
  {
   "cell_type": "code",
   "execution_count": 16,
   "metadata": {},
   "outputs": [
    {
     "name": "stdout",
     "output_type": "stream",
     "text": [
      "E[X] = 99.0\n",
      "Var[X] = 9900.0\n"
     ]
    }
   ],
   "source": [
    "# Parámetro de la distribución geométrica\n",
    "p = 1/100\n",
    "\n",
    "print(\"E[X] =\", (1-p)/p)\n",
    "print(\"Var[X] =\", (1-p)/(p**2))"
   ]
  },
  {
   "cell_type": "markdown",
   "metadata": {},
   "source": [
    "<a id=\"bn\"></a>\n",
    "## Distribución Binomial Negativa\n",
    "\n",
    "[Volver al índice](#toc)\n",
    "\n",
    "- En una secuencia de experimentos de Bernoulli independientes con probabilidad de éxito $p$,\n",
    "si $X$ es el número de fallas antes del $r$-ésimo éxito,\n",
    "entonces se dice que $X$ tiene la distribución Binomial Negativa\n",
    "con los parámetros $r$ y $p$,\n",
    "denotado $X \\sim NBin(r, p)$.\n",
    "\n",
    "- Tanto la distribución binomial como la binomial negativa se basan en\n",
    "ensayos independientes de Bernoulli;\n",
    "difieren en la regla de parada y en lo que están contando:\n",
    "elal Binomial cuenta el número de éxitos en un número fijo de intentos,\n",
    "mientras que la Binomial Negativa cuenta el número de fallos\n",
    "hasta un número fijo de éxitos.\n",
    "\n",
    "- A la luz de estas similitudes, no sorprende que\n",
    "la derivación de la PMF Binomial Negativa tenga una semejanza\n",
    "a la correspondiente derivación para la Binomial.\n",
    "\n",
    "### PMF Binomial Negativa\n",
    "\n",
    "Ejemplo para $X \\sim NBin(r=2, p=0.5)$:\n",
    "\n",
    "| <div style=\"width:50px\">$x$</div>  |  <div style=\"width:80px\">Experiment</div>  | <div style=\"width:80px\">$P(X=x)$</div> | <div style=\"width:120px\">$f_X(x)$</div>     |\n",
    "| ----------- | ----------- | ----------- | ----------- |\n",
    "| 0  | 11 | pp        | ${0 + 2 - 1 \\choose 2 - 1} p q^{0}$ |\n",
    "| 1  | **01**1 | **qp**p       | ${1 + 2 - 1 \\choose 2 - 1} p^2 q^{1}$  |\n",
    "| 2  | **001**1 | **qqp**p  | ${2 + 2 - 1 \\choose 2 - 1} p^2 q^{2}$  |\n",
    "| 3  | **0001**1 | **qqqp**p  | ${3 + 2 - 1 \\choose 2 - 1} p^2 q^{3}$  |\n",
    "|  . |  |  |        |\n",
    "|  . |  |  |       |\n",
    "|  . |  |  |       |\n",
    "\n",
    "- Tenga en cuenta que la secuencia en el experimento (en **negritas**) puede ocurrir de varias maneras. \n",
    "  - Por ejemplo **{001, 010, 100}**.\n",
    "  - De ahí la parte de combinación en la fórmula PMF $f_X(x)$.\n",
    "\n",
    "- Vea que podemos generalizar la PMF en la tabla anterior usando la función $f_X(x; p)$ a continuación. \n",
    "\n",
    "$$\n",
    "X \\sim NBin(x; r, p)\n",
    "$$\n",
    "\n",
    "$$\n",
    "f_X(x; r, p) = {x + r - 1 \\choose r - 1} p^r (1-p)^{x},\\ x \\in \\{0, 1, 2, \\dots\\}\n",
    "$$\n",
    "\n",
    "- **Valor esperado y varianza:**\n",
    "\n",
    "$$\n",
    "E[X] = \\frac{qr}{p},\\ Var[X] = \\frac{qr}{p^2}, q=1-p.\n",
    "$$"
   ]
  },
  {
   "cell_type": "markdown",
   "metadata": {},
   "source": [
    "<a id=\"ejebn\"></a>\n",
    "### Ejemplo\n",
    "\n",
    "[Volver al índice](#toc)\n",
    "\n",
    "En la serie de campeonato de la NBA (National Basketball Association), el equipo que gane 4 de 7 juegos sera el ganador. Suponga que los equipos A y B se enfrentan en los juegos de campeonato y que el equipo A tiene una probabilidad de 0.55 de ganarle al equipo B.\n",
    "\n",
    "- Tenemos una v.a. $X$ que cuenta el número de fracasos, que pierda A un partido, en una serie de basketball.\n",
    "- $X\\sim NBin(r=4, p=0.55)$, $r=4$ indica que al 4to éxito (éxito: **A** gana un partido) se termina el experimento (la serie la gana A). \n",
    "  - El parámetro $p=0.55$ corresponde a la probabilidad de que ocurra un éxisto (éxito: **A** gana un partido). \n",
    "\n",
    "a) ¿Cuál es la probabilidad de que el equipo A gane la serie en 6 juegos?\n",
    "\n",
    "- Para que el equipo A gane en 6 juegos solo puede perder 2 veces (tener 2 fracasos). \n",
    "$$P(X=2) {2 + 4 - 1 \\choose 4 - 1} 0.55^4 (1-0.55)^{2} = 0.18530016$$\n",
    "  - La probabilidad de que el equipo A gane la serie en 6 juegos es de 0.1853.\n",
    "\n",
    "b) ¿Cuál es la probabilidad de que el equipo A gane la serie? \n",
    "- Para que el equipo A gane la serie puede ocurrir que pierde 1 partido, ó pierde 2, ó pierde 3. Cuatro no puede perder dado que no gana la serie en este caso. \n",
    "$$P(X \\leq 3) = \\sum_{x=0}^3 {x + 4 - 1 \\choose 4 - 1} 0.55^4 (1-0.55)^{x}=0.6082878$$\n",
    "  - La probabilidad de que el equipo A gane la serie es de 0.6083. \n",
    "\n",
    "---\n",
    "\n",
    "<img align=\"left\" width=\"80px\" src=\"https://raw.githubusercontent.com/marsgr6/r-scripts/master/imgs/activity.png\">\n",
    "\n",
    "<br/>\n",
    "\n",
    "### Experimente\n",
    "<br/>\n",
    "\n",
    "c) Si ambos equipos se enfrentaran en la eliminatoria de una serie regional y el triunfador fuera el que ganara 3 de 5 juegos, ¿cual es la probabilidad de que el equipo A gane la serie?\n",
    "\n",
    "---\n",
    "\n",
    "- **Resolvamos los incisos a y b del enunciado, en Python:**"
   ]
  },
  {
   "cell_type": "code",
   "execution_count": 17,
   "metadata": {},
   "outputs": [
    {
     "name": "stdout",
     "output_type": "stream",
     "text": [
      "a)\n",
      "Evaluando la PMF: 0.18530016\n",
      "Evaluando la CDF: 0.18530016\n",
      "b)\n",
      "Evaluando la PMF: 0.6082878\n",
      "Evaluando la CDF: 0.6082878\n"
     ]
    }
   ],
   "source": [
    "def nbin_pmf(x, r, p):\n",
    "    # x es un valor entero, o una lista de valores enteros\n",
    "    # r, p parámetros de la distribución\n",
    "    x = np.array(x)\n",
    "    return comb(x + r - 1 , r - 1) * p**r * (1-p)**(x)\n",
    "\n",
    "\n",
    "def nbin_cdf(x, r, p):\n",
    "    # x es un valor entero, P(X<=x)\n",
    "    # r, p parámetros de la distribución\n",
    "    x = np.array(range(0, x+1))\n",
    "    return nbin_pmf(x, r, p).sum()  # Evalúa la CDF\n",
    "\n",
    "# Parámetros de la distribución binomial negativa\n",
    "r, p = 4, 0.55\n",
    "\n",
    "print(\"a)\")\n",
    "print(\"Evaluando la PMF:\", nbin_pmf(2, r, p).round(8))\n",
    "print(\"Evaluando la CDF:\", (nbin_cdf(2, r, p) - nbin_cdf(1, r, p)).round(8))\n",
    "\n",
    "print(\"b)\")\n",
    "print(\"Evaluando la PMF:\", nbin_pmf([0, 1, 2, 3], r, p).sum().round(8))\n",
    "print(\"Evaluando la CDF:\", nbin_cdf(3, r, p).round(8))"
   ]
  },
  {
   "cell_type": "markdown",
   "metadata": {},
   "source": [
    "- Usando la implementación en Python"
   ]
  },
  {
   "cell_type": "code",
   "execution_count": 18,
   "metadata": {},
   "outputs": [
    {
     "name": "stdout",
     "output_type": "stream",
     "text": [
      "a)\n",
      "Evaluando la PMF: 0.18530016\n",
      "Evaluando la CDF: 0.18530016\n",
      "\n",
      "b)\n",
      "Evaluando la PMF: 0.6082878\n",
      "Evaluando la CDF: 0.6082878\n"
     ]
    }
   ],
   "source": [
    "from scipy.stats import nbinom\n",
    "\n",
    "# Parámetros de la distribución binomial negativa\n",
    "r, p = 4, 0.55\n",
    "\n",
    "print(\"a)\")\n",
    "print(\"Evaluando la PMF:\", nbinom.pmf(2, r, p).round(8))\n",
    "print(\"Evaluando la CDF:\", (nbinom.cdf(2, r, p) - nbinom.cdf(1, r, p)).round(8))\n",
    "\n",
    "print(\"\\nb)\")\n",
    "print(\"Evaluando la PMF:\", nbinom.pmf([0,1,2,3], r, p).sum().round(8))\n",
    "print(\"Evaluando la CDF:\", nbinom.cdf(3, r, p).round(8))"
   ]
  },
  {
   "cell_type": "markdown",
   "metadata": {},
   "source": [
    "- La PMF y la CDF de la distribución del ejemplo $X \\sim NBin(r=4, p=0.55)$ se muestra a continuación"
   ]
  },
  {
   "cell_type": "code",
   "execution_count": 19,
   "metadata": {},
   "outputs": [
    {
     "data": {
      "image/png": "[encoded data removed]",
      "text/plain": [
       "<Figure size 864x360 with 2 Axes>"
      ]
     },
     "metadata": {
      "needs_background": "light"
     },
     "output_type": "display_data"
    }
   ],
   "source": [
    "# Parámetro de la distribución binomial negativa\n",
    "r, p = 4, 0.55\n",
    "\n",
    "f, (ax1, ax2) = plt.subplots(1, 2, figsize=(12,5))  # Dos paneles ax1 y ax2\n",
    "\n",
    "x_upper = 12\n",
    "\n",
    "# Panel 1: ax1\n",
    "x = np.arange(x_upper+1)  # evaluaremos un subconjunto de los valores posibles de la v.a. x={0,...,15} \n",
    "pmfx = nbinom.pmf(x, r, p)  # Evalúa la PMF, 𝑓𝑋(𝑥;𝑛,𝑝) definida arriba\n",
    "ax1.vlines(x, [0]*len(x), pmfx, color=\"r\", lw=1)  # grafica las líneas verticales\n",
    "ax1.plot(x, pmfx, '.', color='r')  # grafica los puntos\n",
    "ax1.set_xlabel(\"x\"); ax1.set_ylabel(\"PMF\")  # etiqueta de los ejes\n",
    "ax1.set_title(r\"$X \\sim NBin($r=\"+ str(r) + \", p=\" + str(p) +\")\")  # título del panel\n",
    "ax1.set_xticks(range(0, x_upper+1, 1))  # define xticks\n",
    "ax1.set_xticklabels(range(0, x_upper+1, 1))  # define etiquetas de xticks\n",
    "\n",
    "# Panel 2: ax2\n",
    "xcdf = np.array(range(-1,x_upper+2))\n",
    "Fx = nbinom.cdf(x, r, p) \n",
    "plot_cdf(xcdf, Fx, ax=ax2)\n",
    "ax2.set_title(\"CDF\")  # título del panel\n",
    "ax2.set_xlabel(\"x\"); ax2.set_ylabel(\"CDF\")  # etiqueta de los ejes\n",
    "ax2.set_xticks(range(0, x_upper+1, 1))  # define xticks\n",
    "xt = ax2.set_xticklabels(range(0, x_upper+1, 1))  # define etiquetas de xticks"
   ]
  },
  {
   "cell_type": "markdown",
   "metadata": {},
   "source": [
    "<img align=\"left\" width=\"80px\" src=\"https://raw.githubusercontent.com/marsgr6/r-scripts/master/imgs/activity.png\">\n",
    "\n",
    "<br/>\n",
    "\n",
    "### Experimente\n",
    "<br/>\n",
    "\n",
    "- Note que en nuestro problema solo algunos de los valores posibles de la PMF son posibles. \n",
    "  - ¿Puede identificar cuales?"
   ]
  },
  {
   "cell_type": "markdown",
   "metadata": {},
   "source": [
    "<a id=\"poiss\"></a>\n",
    "## Distribución de Poisson\n",
    "\n",
    "[Volver al índice](#toc)\n",
    "\n",
    "- La distribución de Poisson se usa a menudo en situaciones en las que contamos el número de éxitos en una región o intervalo de tiempo en particular, y hay una gran cantidad de intentos, cada uno con una pequeña probabilidad de éxito. \n",
    "\n",
    "- Por ejemplo, las siguientes variables aleatorias podrían seguir una distribución que es aproximadamente Poisson.\n",
    "\n",
    "- **La cantidad de correos electrónicos que recibe en una hora.** Hay muchas personas que podrían enviarle un correo electrónico en esa hora, pero es poco probable que una persona específica realmente le envíe un correo electrónico en esa hora. Alternativamente, imagina subdividir la hora en milisegundos. Hay $3.6\\times10^6$ segundos en una hora, pero en cualquier milisegundo específico es poco probable que reciba un correo electrónico.\n",
    "\n",
    "- **La cantidad de chispas (chips) en una galleta con chispas de chocolate.** Imagina subdividir la galleta en cubos pequeños; la probabilidad de obtener una chispa de chocolate en un solo cubo es pequeña, pero el número de cubos es grande.\n",
    "\n",
    "- **La cantidad de terremotos en un año en alguna región del mundo.** En cualquier momento y lugar, la probabilidad de que ocurra un terremoto es pequeña, pero hay una gran cantidad de posibles momentos y lugares para que ocurran los terremotos. el transcurso del año.\n",
    "\n",
    "- Decimos que una v.a. tiene una distribución de Poisson denotada por $X \\sim Pois(\\lambda)$.\n",
    "\n",
    "- El parámetro $\\lambda$ se interpreta como la tasa de\n",
    "ocurrencia de estos eventos raros; en los ejemplos anteriores,\n",
    "$\\lambda$ podría ser 20 (correos electrónicos por hora), 10 (chispas por galleta),\n",
    "y 2 (terremotos por año).\n",
    "\n",
    "- El paradigma de Poisson dice que en aplicaciones similares a las anteriores,\n",
    "podemos aproximar la distribución del número de eventos que ocurren\n",
    "por una distribución de Poisson.\n",
    "\n",
    "### PMF de Poisson\n",
    "\n",
    "- Dividimos un intervalo continuo $t$ en $N$ partes de igual ancho $t/N$.\n",
    "- El evento de observar $x$ éxitos en un intervalo continuo $t$, es equivalente a observar $x$ éxitos en $N$ experimentos de Bernoulli.\n",
    "- La probabilidad de acierto $p=\\lambda (t/N)$ depende únicamente del ancho $t/N$ y de una tasa de acierto $\\lambda$.\n",
    "\n",
    "<img src=\"https://raw.githubusercontent.com/marsgr6/r-scripts/master/imgs/line_plot.png\" alt=\"drawing\" width=\"300\"/>\n",
    "\n",
    "- De la distribución binomial tenemos que:\n",
    "$$bin(x; N, \\lambda (t/N)) = {N \\choose x} \\left(\\frac{\\lambda t}{N}\\right)^x \\cdot \n",
    "\\left(1 - \\frac{\\lambda t}{N}\\right)^{N-x}$$\n",
    "\n",
    "- Queremos asegurar que solo puede ocurrir un éxito en cada subdivisión de $t$,\n",
    "esto sucede cuando $N \\to \\infty$. \n",
    "\n",
    "- Resolvemos el siguiente límite:\n",
    "\n",
    "$$ \\lim_{N \\to \\infty} \\left[ {N \\choose x} \\left(\\frac{\\lambda t}{N}\\right)^x \\cdot \n",
    "\\left(1 - \\frac{\\lambda t}{N}\\right)^{N-x} \\right]$$\n",
    "\n",
    "- Podemos reescribir la combinación y la expresión se puede separar con el propósito de calcular los límites de las diferentes partes:\n",
    "\n",
    "$$ \\lim_{N \\to \\infty} \\left[ \\frac{N!}{(N-x)! x!} \\left(\\frac{\\lambda t}{N}\\right)^x \\cdot \n",
    "\\left(1 - \\frac{\\lambda t}{N}\\right)^{N-x} \\right]$$\n",
    "\n",
    "$$ \\frac{(\\lambda t)^x}{x!} \\cdot\n",
    "\\lim_{N \\to \\infty} \\left[ \n",
    "\\frac{N!}{(N-x)!N^x}\n",
    "\\right] \\cdot\n",
    "\\lim_{N \\to \\infty} \\left[ \n",
    "\\left(1-\\frac{\\lambda t}{N}\\right)^N \\right] \\cdot \n",
    "\\lim_{N \\to \\infty} \\left[\\left(1-\\frac{\\lambda t}{N}\\right)^{-x}\n",
    "\\right]\n",
    "$$\n",
    "\n",
    "$$\n",
    "\\lim_{N \\to \\infty} \\left[ \n",
    "\\frac{N!}{(N-x)!N^x}\n",
    "\\right] = \n",
    "\\lim_{N \\to \\infty} \\left[ \n",
    "\\frac{N(N-1)\\cdots(N-x+1)}{N^x}\n",
    "\\right] = 1\n",
    "$$\n",
    "\n",
    "$$\n",
    "\\lim_{N \\to \\infty} \n",
    "\\left[ \n",
    "\\left(1-\\frac{\\lambda t}{N}\\right)^N\n",
    "\\right] = e^{-\\lambda t}\n",
    "$$\n",
    "\n",
    "$$\n",
    "\\lim_{N \\to \\infty} \n",
    "\\left[ \n",
    "{\\left(1-\\frac{\\lambda t}{N}\\right)^{-x}}\n",
    "\\right] = 1.\n",
    "$$\n",
    "\n",
    "- Al volver a ensamblar las partes, se encuentra que la función binomial tiene un límite igual a:\n",
    "\n",
    "$$\n",
    "\\lim_{N \\to \\infty} bin(x;N,\\lambda (t/N)) = \\frac{(\\lambda t)^x}{x!} e^{-\\lambda t}\n",
    "$$\n",
    "\n",
    "Usualmente asumimos $t=1$, pero si $\\lambda$ es constante sobre el intervalo continuo $t$, podríamos usar\n",
    "$t\\geq 1$.\n",
    "\n",
    "### Resumen\n",
    "\n",
    "$$\n",
    "X \\sim Poiss(x; \\lambda)\n",
    "$$\n",
    "\n",
    "$$\n",
    "f_X(x; \\lambda) = \\frac{e^{-\\lambda} \\lambda^x}{x!},\\ x \\in \\{0, 1, 2, \\dots\\}\n",
    "$$\n",
    "\n",
    "- **Valor esperado y varianza:**\n",
    "\n",
    "$$\n",
    "E[X] = \\lambda,\\ Var[X] = \\lambda\n",
    "$$"
   ]
  },
  {
   "cell_type": "markdown",
   "metadata": {},
   "source": [
    "<a id=\"ejep\"></a>\n",
    "### Ejemplo\n",
    "\n",
    "[Volver al índice](#toc)\n",
    "\n",
    "El numero promedio de camiones-tanque que llega cada dia a cierta ciudad portuaria es 10. Las instalaciones en el puerto pueden alojar a lo sumo 15 camiones-tanque por dia. ¿Cuál es la probabilidad de que en un día determinado lleguen mas de 15 camiones y se tenga que rechazar algunos?\n",
    "\n",
    "- $X$: cuenta el número de camiones que llegan a la ciudad portuaria.\n",
    "- Tenemos que $X\\sim Poiss(\\lambda=10)$ describe nuestra v.a.\n",
    "\n",
    "- Respondamos:\n",
    "$$P(X>15)=1−P(X \\leq 15) = 1 - \\sum_{x=0}^{15} \\frac{e^{-\\lambda} \\lambda^x}{x!} = 0.0487.$$\n",
    "\n",
    "  - La probabilidad de que en un día determinado lleguen mas de 15 camiones es de 0.0487. "
   ]
  },
  {
   "cell_type": "code",
   "execution_count": 20,
   "metadata": {},
   "outputs": [
    {
     "name": "stdout",
     "output_type": "stream",
     "text": [
      "Evaluando la PMF: 0.04874040330397866\n",
      "Evaluando la CDF: 0.04874040330397866\n"
     ]
    }
   ],
   "source": [
    "from scipy.special import factorial\n",
    "\n",
    "def poisson_pmf(x, l):\n",
    "    # x es un valor entero, o una lista de valores enteros\n",
    "    # l parámetro de la distribución (lambda)\n",
    "    x = np.array(x)\n",
    "    return np.exp(-l)*l**(x) / factorial(x)\n",
    "\n",
    "def poisson_cdf(x, l):\n",
    "    # x es un valor entero, P(X<=x)\n",
    "    # l parámetro de la distribución, lambda\n",
    "    x = np.array(range(0, x+1))\n",
    "    return poisson_pmf(x, l).sum()\n",
    "\n",
    "# Parámetro de la distribución de poisson lambda\n",
    "l = 10\n",
    "\n",
    "x = np.arange(16)  # valores x={0,1,...,15}\n",
    "\n",
    "print(\"Evaluando la PMF:\", 1 - poisson_pmf(x, l).sum())\n",
    "print(\"Evaluando la CDF:\", 1 - poisson_cdf(15, l))"
   ]
  },
  {
   "cell_type": "markdown",
   "metadata": {},
   "source": [
    "- Usando la implementación en Python"
   ]
  },
  {
   "cell_type": "code",
   "execution_count": 21,
   "metadata": {},
   "outputs": [
    {
     "name": "stdout",
     "output_type": "stream",
     "text": [
      "Evaluando la PMF: 0.048740403303976554\n",
      "Evaluando la CDF: 0.04874040330397866\n"
     ]
    }
   ],
   "source": [
    "from scipy.stats import poisson\n",
    "\n",
    "# Parámetro de la distribución de poisson lambda\n",
    "l = 10\n",
    "\n",
    "x = np.arange(16)  # valores x={0,1,...,15}\n",
    "\n",
    "print(\"Evaluando la PMF:\", 1 - poisson.pmf(x, l).sum())\n",
    "print(\"Evaluando la CDF:\", 1 - poisson.cdf(15, l))"
   ]
  },
  {
   "cell_type": "markdown",
   "metadata": {},
   "source": [
    "- La PMF y la CDF de la distribución del ejemplo $X \\sim Poiss(\\lambda=10)$ se muestra a continuación"
   ]
  },
  {
   "cell_type": "code",
   "execution_count": 22,
   "metadata": {},
   "outputs": [
    {
     "name": "stdout",
     "output_type": "stream",
     "text": [
      "Media: 10\n",
      "Varianza: 10\n"
     ]
    },
    {
     "data": {
      "image/png": "[encoded data removed]",
      "text/plain": [
       "<Figure size 864x360 with 2 Axes>"
      ]
     },
     "metadata": {
      "needs_background": "light"
     },
     "output_type": "display_data"
    }
   ],
   "source": [
    "# Parámetro de la distribución de poisson, lambda\n",
    "l = 10\n",
    "\n",
    "f, (ax1, ax2) = plt.subplots(1, 2, figsize=(12,5))  # Dos paneles ax1 y ax2\n",
    "\n",
    "x_upper = 20\n",
    "\n",
    "# Panel 1: ax1\n",
    "x = np.arange(x_upper+1)  # evaluaremos un subconjunto de los valores posibles de la v.a. x={0,...,15} \n",
    "pmfx = poisson.pmf(x, l)  # Evalúa la PMF, 𝑓𝑋(𝑥;𝑛,𝑝) definida arriba\n",
    "ax1.vlines(x, [0]*len(x), pmfx, color=\"r\", lw=1)  # grafica las líneas verticales\n",
    "ax1.plot(x, pmfx, '.', color='r')  # grafica los puntos\n",
    "ax1.set_xlabel(\"x\"); ax1.set_ylabel(\"PMF\")  # etiqueta de los ejes\n",
    "ax1.set_title(r\"$X \\sim Poisson(\\lambda=$\"+ str(l) +\")\")  # título del panel\n",
    "ax1.set_xticks(range(0, x_upper+1, 1))  # define xticks\n",
    "ax1.set_xticklabels(range(0, x_upper+1, 1))  # define etiquetas de xticks\n",
    "\n",
    "# Panel 2: ax2\n",
    "xcdf = np.array(range(-1,x_upper+2))\n",
    "Fx = poisson.cdf(x, l)\n",
    "plot_cdf(xcdf, Fx, ax=ax2)\n",
    "ax2.set_title(\"CDF\")  # título del panel\n",
    "ax2.set_xlabel(\"x\"); ax2.set_ylabel(\"CDF\")  # etiqueta de los ejes\n",
    "ax2.set_xticks(range(0, x_upper+1, 1))  # define xticks\n",
    "xt = ax2.set_xticklabels(range(0, x_upper+1, 1))  # define etiquetas de xticks\n",
    "\n",
    "print(\"Media:\", l)\n",
    "print(\"Varianza:\", l)"
   ]
  },
  {
   "cell_type": "markdown",
   "metadata": {},
   "source": [
    "<a id=\"psim\"></a>\n",
    "### Simulación de una v.a. de Poisson\n",
    "\n",
    "[Volver al índice](#toc)\n",
    "\n",
    "- Cuando observamos un sistema, a lo que tenemos acceso es a una muestra finita de la población. \n",
    "  - Cuando asumimos que el sistema puede ser modelado con una distribución dada, siempre tenemos que comprobar que nuestra hipótesis es cierta. \n",
    "    - Esto se conoce como ajuste de distribuciones. \n",
    "  - Vamos a hacer un ejercicio simple y vamos a observar de manera visual el comportamiento de una muestra y compararlo con la distribución teórica. \n",
    "\n",
    "- Vamos a realizar una simulación, un muestreo de una v.a. de Poisson para el ejemplo anterior.\n",
    "  - $X \\sim Poiss(\\lambda=10)$.\n",
    "  - El tamaño de la muestra será de tamaño $n=100$.\n",
    "  \n",
    "```Python\n",
    "np.random.seed(12345)  # semilla aleatoria, queremos replicabilidad\n",
    "\n",
    "l = 10  # parámetro lambda\n",
    "n = 100  # tamaño de muestra\n",
    "\n",
    "# distribución.rvs(paramétros, size)\n",
    "# genera un vector aleatorio a partir de la distribución y parámetros dados\n",
    "# size: tamaño del vector devuelto\n",
    "muestra = poisson.rvs(l, size=n)\n",
    "```\n",
    "\n",
    "- Graficaremos las frecuencias observadas en nuestra muestra y compararemos con la distribución teórica de la población $X\\sim Poiss(\\lambda=10)$."
   ]
  },
  {
   "cell_type": "code",
   "execution_count": 23,
   "metadata": {},
   "outputs": [
    {
     "name": "stdout",
     "output_type": "stream",
     "text": [
      "Media de la muestra: 10.45\n",
      "Varianza de la muestra: 9.287500000000001\n",
      "Media poblacional: 10\n",
      "Varianza poblacional: 10\n",
      "P(X>15) = 0.06\n"
     ]
    },
    {
     "data": {
      "image/png": "[encoded data removed]",
      "text/plain": [
       "<Figure size 1008x432 with 2 Axes>"
      ]
     },
     "metadata": {
      "needs_background": "light"
     },
     "output_type": "display_data"
    }
   ],
   "source": [
    "np.random.seed(12345)  # semilla aleatoria, queremos replicabilidad\n",
    "\n",
    "l = 10  # parámetro lambda\n",
    "n = 100  # tamaño de muestra\n",
    "\n",
    "# distribución.rvs(paramétros, size)\n",
    "# genera un vector aleatorio a partir de la distribución y parámetros dados\n",
    "# size: tamaño del vector devuelto\n",
    "muestra = poisson.rvs(l, size=n)\n",
    "\n",
    "plt.figure(figsize=(14,6))  # tamaño de la figura\n",
    "\n",
    "plt.subplot(1,2,1)  # panel 1\n",
    "# Diagrama de barras\n",
    "# x: valores únicos en la muestra\n",
    "# fx: frecuencia de cada valor único x\n",
    "# fx/fx.sum(): frecuencias relativas\n",
    "x, fx = np.unique(muestra, return_counts=True)\n",
    "plt.bar(x, fx/fx.sum())\n",
    "\n",
    "#Vamos a graficar la distribución teórica (curva PMF en rojo) \n",
    "#para los valores observados (barras azules) \n",
    "#en la muestra: entre min(x) y max(x)\n",
    "x_t = np.arange(x.min(), x.max()+1)\n",
    "plt.plot(x_t, poisson.pmf(x_t, l), ':or')\n",
    "plt.title(\"PMF\")\n",
    "plt.xticks(x_t)\n",
    "\n",
    "plt.subplot(1,2,2)  # panel 2\n",
    "# x: valores únicos en la muestra\n",
    "# fx: frecuencia de cada valor único x\n",
    "# fx/fx.sum(): frecuencias relativas\n",
    "# (fx/fx.sum()).cumsum(): frecuencias relativas acumuladas\n",
    "plt.bar(x, (fx/fx.sum()).cumsum())\n",
    "\n",
    "#Vamos a graficar la distribución acumulada teórica (curva CDF en rojo) \n",
    "#para los valores observados (barras azules) \n",
    "#en la muestra: entre min(x) y max(x)\n",
    "plt.plot(x_t, poisson.cdf(x_t, l), ':or')\n",
    "plt.title(\"CDF\")\n",
    "t=plt.xticks(x_t)\n",
    "\n",
    "print(\"Media de la muestra:\", muestra.mean())\n",
    "print(\"Varianza de la muestra:\", muestra.var())\n",
    "\n",
    "print(\"Media poblacional:\", l)  # lambda\n",
    "print(\"Varianza poblacional:\", l)  # lambda\n",
    "\n",
    "# Podemos responder para nuestra muestra la pregunta P(X>15)\n",
    "# número de observaciones favorables: len(np.where(muestra > 15)[0])\n",
    "# total de observaciones, tamaño de muestra: len(muestra), es igual a n\n",
    "print(\"P(X>15) =\", len(np.where(muestra > 15)[0]) / len(muestra))"
   ]
  },
  {
   "cell_type": "markdown",
   "metadata": {},
   "source": [
    "- Recordemos que la solución analítica para nuestra pregunta era de $P(X>15) = 0.0487$ y nuestra media y varianza poblacional $\\lambda = 10$. \n",
    "  - La discrepancia que observamos ocurre debido a que estamos muestreando un subconjunto relativamente pequeño de la población, tamaño de muestra de 100. \n",
    "  - Por la ley de los grandes números sabemos que la media muestral tiende a la media poblacional a medida que el tamaño de la muestra tiende a infinito. "
   ]
  },
  {
   "cell_type": "markdown",
   "metadata": {},
   "source": [
    "<a id=\"hg\"></a>\n",
    "## Distribución Hipergeométrica\n",
    "\n",
    "[Volver al índice](#toc)\n",
    "\n",
    "- Tenemos una urna llena de $w$ bolas blancas y $b$ bolas negras,\n",
    "si se sacan $n$ bolas\n",
    "de la urna con reemplazo se produce una distribución $Bin(n, \\frac{w}{(w + b)})$\n",
    "por el número de bolas blancas obtenidas en $n$ intentos,\n",
    "dado que los sorteos son ensayos de Bernoulli independientes,\n",
    "cada uno con probabilidad $p=\\frac{w}{(w + b)}$ de éxito.\n",
    "\n",
    "- Si, en cambio, muestreamos sin reemplazo, entonces el número de bolas blancas sigue una **Distribución hipergeométrica**.\n",
    "\n",
    "- **Historia hipergeométrica.** Una urna contiene $w = 6$ bolas blancas y $b = 4$ bolas negras. Queremos una muestra muestra de $n = 5$ bolas sin reemplazo. \n",
    "  - El número $X$ de bolas blancas en la muestra sigue una distribución Hipergeométrica; aquí observamos $X = 3$.\n",
    "\n",
    "![](https://i.imgur.com/jGp0QIZ.png)\n",
    "\n",
    "- Considere una urna con $w$ bolas blancas y $b$ bolas negras.\n",
    "Sacamos $n$ bolas de la urna al azar sin reemplazo,\n",
    "tal que todas las muestras de $\\binom{w+b}{n}$ son igualmente probables.\n",
    "\n",
    "- Sea $X$ el número de bolas blancas en la muestra.\n",
    "Entonces se dice que $X$ tiene la **distribución hipergeométrica**\n",
    "con parámetros $w, b$ y $n$; denotamos esto por\n",
    "$X \\sim \\text{HGeom}(w, b, n),\\\n",
    "P(X=k)=\\frac{\\binom{w}{k}\\binom{b}{n-k}}{\\binom{w+b}{n}}$.\n",
    "\n",
    "### PMF Hipergeométrica\n",
    "\n",
    "- Si $X \\sim \\text{HGeom}(K, N, n)$, donde $K$ es el total de elementos de interés (bolas blancas), $N$ el total de elementos en la urna, y $n$ el tamaño de la muestra, \n",
    "entonces la PMF \n",
    "de $X$ es\n",
    "$$\n",
    "f_X(k; K, N, n) = P(X=k)=\\frac{\\dbinom{K}{k}\\dbinom{N-K}{n-k}}{\\dbinom{N}{n}}\n",
    "$$\n",
    "para enteros $k$ que satisfacen $0 \\leq k \\leq K$ y\n",
    "$0 \\leq n-k \\leq N-K$, \n",
    "y $P(X=k)=0$ de lo contrario. Es decir el soporte es: $k\\in \\{max(0,n+K-N),\\dots,min(n,K)\\}$.\n",
    "\n",
    "- **Valor esperado y varianza:**\n",
    "\n",
    "$$\n",
    "\\mu=\\frac{nK}{N}, \\quad \\sigma^2=n\\frac{K}{N}\\frac{(N-K)}{N}\\frac{N-n}{N-1}\n",
    "$$"
   ]
  },
  {
   "cell_type": "markdown",
   "metadata": {},
   "source": [
    "<a id=\"ejehg\"></a>\n",
    "### Ejemplo\n",
    "\n",
    "[Volver al índice](#toc)\n",
    "\n",
    "En una mano de cinco cartas extraídas al azar de un mazo estándar bien barajado,\n",
    "el número de ases en la mano tiene la distribución **HGeom(4, 52, 5)**,\n",
    "que se puede ver al pensar en las cartas ases como bolas blancas y las cartas\n",
    "no ases como bolas negras. Usando la PMF hipergeométrica, \n",
    "calcule la probabilidad de que la mano tenga exactamente tres ases.\n",
    " \n",
    "$$P(X=3) = \\frac{\\dbinom{K}{k}\\dbinom{N-K}{n-k}}{\\dbinom{N}{n}} = \\frac{\\dbinom{4}{3}\\dbinom{52-4}{5-3}}{\\dbinom{52}{5}}=\n",
    "\\frac{\\dbinom{4}{3}\\dbinom{48}{2}}{\\dbinom{52}{5}}=0.001736.\n",
    "$$"
   ]
  },
  {
   "cell_type": "code",
   "execution_count": 24,
   "metadata": {},
   "outputs": [
    {
     "name": "stdout",
     "output_type": "stream",
     "text": [
      "Evaluando la PMF: 0.0017360790470034167\n",
      "Evaluando la PMF: 0.0017360790470034167\n",
      "Evaluando la CDF: 0.0017360790470034582\n"
     ]
    }
   ],
   "source": [
    "# La implementación no verifica que el valor x dado es válido\n",
    "# Vea el rango posible para k (x abajo) en la definición arriba\n",
    "def hypergeom_pmf(x, K, N, n):\n",
    "    # x es un valor entero, o una lista de valores enteros\n",
    "    # K, N, n parámetros de la distribución\n",
    "    x = np.array(x)\n",
    "    return comb(K, x)*comb(N-K,n-x) / comb(N, n)\n",
    "\n",
    "# La implementación no verifica que el valor x dado es válido\n",
    "# Vea el rango posible para k (x abajo), en la definición arriba\n",
    "def hypergeom_cdf(x, K, N, n):\n",
    "    # x es un valor entero, P(X<=x)\n",
    "    # K, N, n parámetros de la distribución\n",
    "    x = np.array(range(0, x+1))\n",
    "    return hypergeom_pmf(x, K, N, n).sum()\n",
    "\n",
    "print(\"Evaluando la PMF:\", comb(4,3)*comb(48,2) / comb(52,5))\n",
    "print(\"Evaluando la PMF:\", hypergeom_pmf(3, K=4, N=52, n=5))\n",
    "print(\"Evaluando la CDF:\", hypergeom_cdf(3, K=4, N=52, n=5) - hypergeom_cdf(2, K=4, N=52, n=5))"
   ]
  },
  {
   "cell_type": "markdown",
   "metadata": {},
   "source": [
    "- Usando la implementación en Python"
   ]
  },
  {
   "cell_type": "code",
   "execution_count": 25,
   "metadata": {},
   "outputs": [
    {
     "name": "stdout",
     "output_type": "stream",
     "text": [
      "Evaluando la PMF: 0.001736079047003418\n",
      "Evaluando la CDF: 0.0017360790470034582\n"
     ]
    }
   ],
   "source": [
    "from scipy.stats import hypergeom\n",
    "\n",
    "print(\"Evaluando la PMF:\", hypergeom.pmf(3, n=4, N=5, M=52))\n",
    "print(\"Evaluando la CDF:\", hypergeom.cdf(3, n=4, N=5, M=52) - hypergeom.cdf(2, n=4, N=5, M=52))"
   ]
  },
  {
   "cell_type": "markdown",
   "metadata": {},
   "source": [
    "- Note que la implementación en Python es diferente a la nuestra, tiene siempre que leer la documentación de la herramienta que esté utilizando para ver como debe pasar los parámetros. \n",
    "\n",
    "- La PMF y la CDF de la distribución del ejemplo $X \\sim Hypergeom(K=4, N=52, n=5)$ se muestra a continuación:"
   ]
  },
  {
   "cell_type": "code",
   "execution_count": 26,
   "metadata": {},
   "outputs": [
    {
     "data": {
      "image/png": "[encoded data removed]",
      "text/plain": [
       "<Figure size 864x360 with 2 Axes>"
      ]
     },
     "metadata": {
      "needs_background": "light"
     },
     "output_type": "display_data"
    }
   ],
   "source": [
    "# Parámetro de la distribución de poisson, lambda\n",
    "l = 10\n",
    "\n",
    "f, (ax1, ax2) = plt.subplots(1, 2, figsize=(12,5))  # Dos paneles ax1 y ax2\n",
    "\n",
    "x_upper = 6\n",
    "\n",
    "# Panel 1: ax1\n",
    "x = np.arange(x_upper+1)  # evaluaremos un subconjunto de los valores posibles de la v.a. x={0,...,15} \n",
    "pmfx = hypergeom.pmf(x, n=4, N=5, M=52)  # Evalúa la PMF, 𝑓𝑋(𝑥;𝑛,𝑝) definida arriba\n",
    "ax1.vlines(x, [0]*len(x), pmfx, color=\"r\", lw=1)  # grafica las líneas verticales\n",
    "ax1.plot(x, pmfx, '.', color='r')  # grafica los puntos\n",
    "ax1.set_xlabel(\"x\"); ax1.set_ylabel(\"PMF\")  # etiqueta de los ejes\n",
    "ax1.set_title(r\"$X \\sim $Hypergeom(K=4, N=52, n=5)\")  # título del panel\n",
    "ax1.set_xticks(range(0, x_upper+1, 1))  # define xticks\n",
    "ax1.set_xticklabels(range(0, x_upper+1, 1))  # define etiquetas de xticks\n",
    "\n",
    "# Panel 2: ax2\n",
    "xcdf = np.array(range(-1,x_upper+2))\n",
    "Fx = hypergeom.cdf(x, n=4, N=5, M=52)\n",
    "plot_cdf(xcdf, Fx, ax=ax2)\n",
    "ax2.set_title(\"CDF\")  # título del panel\n",
    "ax2.set_xlabel(\"x\"); ax2.set_ylabel(\"CDF\")  # etiqueta de los ejes\n",
    "ax2.set_xticks(range(0, x_upper+1, 1))  # define xticks\n",
    "xt = ax2.set_xticklabels(range(0, x_upper+1, 1))  # define etiquetas de xticks"
   ]
  },
  {
   "cell_type": "markdown",
   "metadata": {},
   "source": [
    "# Fuentes y recursos\n",
    "\n",
    "[Volver al índice](#toc)\n",
    "\n",
    "- __[Distribuciones discretas comunes](https://drive.google.com/file/d/0B-dmEvN59Z2Za25CWV81bld4Zms/view)__\n",
    "- PennState Eberly College of Science, STAT 500 Applied Statistics, [Discrete distritubions](https://online.stat.psu.edu/stat500/lesson/3/3.2).\n",
    "- Joseph K. Blitzstein, Jessica Hwang, [Introduction to Probability](https://www.taylorfrancis.com/books/mono/10.1201/9780429428357/introduction-probability-joseph-blitzstein-jessica-hwang).\n",
    "- John Tsitsiklis, and Patrick Jaillet. [RES.6-012 Introduction to Probability](https://ocw.mit.edu/resources/res-6-012-introduction-to-probability-spring-2018/part-i-the-fundamentals/). Spring 2018. Massachusetts Institute of Technology: MIT OpenCourseWare, https://ocw.mit.edu. License: Creative Commons BY-NC-SA."
   ]
  }
 ],
 "metadata": {
  "kernelspec": {
   "display_name": "Python 3",
   "language": "python",
   "name": "python3"
  },
  "language_info": {
   "codemirror_mode": {
    "name": "ipython",
    "version": 3
   },
   "file_extension": ".py",
   "mimetype": "text/x-python",
   "name": "python",
   "nbconvert_exporter": "python",
   "pygments_lexer": "ipython3",
   "version": "3.8.3"
  }
 },
 "nbformat": 4,
 "nbformat_minor": 2
}
