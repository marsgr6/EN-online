{
 "cells": [
  {
   "cell_type": "markdown",
   "metadata": {
    "slideshow": {
     "slide_type": "notes"
    }
   },
   "source": [
    "these notes will not display in the slideshow"
   ]
  },
  {
   "cell_type": "markdown",
   "metadata": {
    "slideshow": {
     "slide_type": "slide"
    }
   },
   "source": [
    "# Probabilidad y estadística interactiva"
   ]
  },
  {
   "cell_type": "markdown",
   "metadata": {
    "slideshow": {
     "slide_type": "notes"
    }
   },
   "source": [
    "## using\n",
    "\n",
    "* ipywidgets\n",
    "* plotly (express)"
   ]
  },
  {
   "cell_type": "markdown",
   "metadata": {
    "slideshow": {
     "slide_type": "notes"
    }
   },
   "source": [
    "* voila\n",
    "* reveal"
   ]
  },
  {
   "cell_type": "code",
   "execution_count": 1,
   "metadata": {
    "slideshow": {
     "slide_type": "-"
    }
   },
   "outputs": [],
   "source": [
    "import numpy as np\n",
    "import matplotlib.pyplot as plt\n",
    "from scipy.stats import norm\n",
    "from scipy.stats import expon\n",
    "import ipywidgets as widgets\n",
    "from IPython.display import display\n",
    "import seaborn as sns\n",
    "import pandas as pd"
   ]
  },
  {
   "cell_type": "markdown",
   "metadata": {
    "slideshow": {
     "slide_type": "slide"
    }
   },
   "source": [
    "### Número de bines en un histograma"
   ]
  },
  {
   "cell_type": "code",
   "execution_count": 46,
   "metadata": {
    "slideshow": {
     "slide_type": "subslide"
    }
   },
   "outputs": [
    {
     "data": {
      "application/vnd.jupyter.widget-view+json": {
       "model_id": "0d6751d0cc524d8ebe9a0b7e2e4dc0e1",
       "version_major": 2,
       "version_minor": 0
      },
      "text/plain": [
       "VBox(children=(SelectionSlider(description='Número de bines', index=1, layout=Layout(width='40%'), options=(1,…"
      ]
     },
     "metadata": {},
     "output_type": "display_data"
    },
    {
     "data": {
      "application/vnd.jupyter.widget-view+json": {
       "model_id": "a8d21a0258c543509e049b31a4e191f0",
       "version_major": 2,
       "version_minor": 0
      },
      "text/plain": [
       "Output()"
      ]
     },
     "metadata": {},
     "output_type": "display_data"
    }
   ],
   "source": [
    "np.random.seed(123)\n",
    "size = 100\n",
    "\n",
    "# create some exponential random data\n",
    "values = expon.rvs(scale=1/4, size=size)\n",
    "\n",
    "# Create gaussian noise\n",
    "noise = norm.rvs(loc=1, size=size)\n",
    "\n",
    "real_data = values + np.abs(noise)\n",
    "\n",
    "def hist_bins(b):\n",
    "    plt.figure(figsize=(8,6))\n",
    "    #plt.hist(real_data, bins=b, density=True, edgecolor=\"seagreen\")\n",
    "    sns.histplot(x=real_data, bins=b, stat=\"density\", kde=True)\n",
    "\n",
    "b = widgets.SelectionSlider(options=list(range(1,11))+[20, 30, 50, 100], value=2,\n",
    "    description='Número de bines',\n",
    "    layout=widgets.Layout(width='40%'))\n",
    "b.style = {'description_width': '120px'}\n",
    "\n",
    "ui = widgets.VBox(children=[b])\n",
    "\n",
    "out = widgets.interactive_output(hist_bins, {'b': b})\n",
    "\n",
    "display(ui, out)"
   ]
  },
  {
   "cell_type": "markdown",
   "metadata": {
    "slideshow": {
     "slide_type": "slide"
    }
   },
   "source": [
    "### Explorando la correlación"
   ]
  },
  {
   "cell_type": "code",
   "execution_count": 3,
   "metadata": {
    "slideshow": {
     "slide_type": "subslide"
    }
   },
   "outputs": [
    {
     "data": {
      "application/vnd.jupyter.widget-view+json": {
       "model_id": "c9ce67bcf3f343e2a0ba4734be2ab599",
       "version_major": 2,
       "version_minor": 0
      },
      "text/plain": [
       "VBox(children=(SelectionSlider(description='Correlación', index=10, layout=Layout(width='40%'), options=(-1.0,…"
      ]
     },
     "metadata": {},
     "output_type": "display_data"
    },
    {
     "data": {
      "application/vnd.jupyter.widget-view+json": {
       "model_id": "54912a5f1405476e8760b2a8c24eb0a6",
       "version_major": 2,
       "version_minor": 0
      },
      "text/plain": [
       "Output()"
      ]
     },
     "metadata": {},
     "output_type": "display_data"
    }
   ],
   "source": [
    "mean = [0, 0]\n",
    "\n",
    "def cov_plot(c, n, l):\n",
    "    np.random.seed(123456)\n",
    "    cov = [[1, c], [c, 1]]\n",
    "    x, y = np.random.multivariate_normal(mean, cov, n).T\n",
    "    data = pd.DataFrame({'x': x, 'y': y})\n",
    "    if l==True:\n",
    "        s = sns.lmplot(data=data, x='x', y='y', height=7, aspect=1, \n",
    "                       scatter_kws={\"s\": 20, 'alpha': 0.5, 'color': \"seagreen\"})\n",
    "    else:\n",
    "        s = sns.lmplot(data=data, x='x', y='y', height=7, aspect=1, fit_reg=False,\n",
    "                       scatter_kws={\"s\": 20, 'alpha': 0.5, 'color': \"seagreen\"})\n",
    "\n",
    "c = widgets.SelectionSlider(value=0, options=[-1.0, -0.9, -0.8, -0.7, -0.6, \n",
    "                                              -0.5, -0.4, -0.3, -0.2, -0.1] + \n",
    "                            [0.0, 0.1, 0.2, 0.3, 0.4, 0.5, 0.6, 0.7, 0.8, 0.9, 1.0],\n",
    "                            description='Correlación',\n",
    "                            layout=widgets.Layout(width='40%'))\n",
    "c.style = {'description_width': '120px'}\n",
    "\n",
    "n = widgets.SelectionSlider(value=100, \n",
    "                            options=list(range(10,101,10))+[200, 500, 1000, 5000],\n",
    "                            description='Tamaño de muestra',\n",
    "                            layout=widgets.Layout(width='40%'))\n",
    "n.style = {'description_width': '120px'}\n",
    "\n",
    "l = widgets.Checkbox(\n",
    "    value=True,\n",
    "    description='Regresión lineal',\n",
    "    layout=widgets.Layout(width='40%'))\n",
    "l.style = {'description_width': '120px'}\n",
    "\n",
    "ui = widgets.VBox(children=[c, n, l])\n",
    "\n",
    "out = widgets.interactive_output(cov_plot, {'c':c, 'n': n, 'l': l})\n",
    "\n",
    "display(ui, out)"
   ]
  },
  {
   "cell_type": "markdown",
   "metadata": {
    "slideshow": {
     "slide_type": "slide"
    }
   },
   "source": [
    "### Teorema del límte central"
   ]
  },
  {
   "cell_type": "code",
   "execution_count": 4,
   "metadata": {
    "slideshow": {
     "slide_type": "subslide"
    }
   },
   "outputs": [
    {
     "data": {
      "application/vnd.jupyter.widget-view+json": {
       "model_id": "63451aa0871945178bfa47a959faa66c",
       "version_major": 2,
       "version_minor": 0
      },
      "text/plain": [
       "VBox(children=(Dropdown(description='Tamaño de muesetra', layout=Layout(width='30%'), options=(1, 2, 5, 10, 30…"
      ]
     },
     "metadata": {},
     "output_type": "display_data"
    },
    {
     "data": {
      "application/vnd.jupyter.widget-view+json": {
       "model_id": "042f4b3b6fd34589968319418def2f1c",
       "version_major": 2,
       "version_minor": 0
      },
      "text/plain": [
       "Output()"
      ]
     },
     "metadata": {},
     "output_type": "display_data"
    }
   ],
   "source": [
    "def clt(n, dist):\n",
    "    simulations = 10000\n",
    "    if dist==\"Uniform\":\n",
    "        X_bar = np.random.random(size=(simulations,n)).mean(axis=1)\n",
    "        mu, sigma2 = 1/2, 1/12  # mu, sigma of the population distribution\n",
    "    if dist==\"Exponential\":\n",
    "        X_bar = expon.rvs(scale=2, size=(simulations,n)).mean(axis=1)\n",
    "        mu, sigma2 = 2, 4  # mu, sigma of the population distribution\n",
    "    plt.figure(figsize=(8,6))\n",
    "    plt.hist(X_bar, bins=40, density=True, edgecolor=\"seagreen\")\n",
    "    xl, xu = X_bar.min(), X_bar.max()\n",
    "    x = np.linspace(xl, xu, 500)\n",
    "    plt.plot(x, norm.pdf(x, loc=mu, scale=np.sqrt(sigma2/n)), linewidth=2)\n",
    "    \n",
    "\n",
    "n = widgets.Dropdown(options=[1, 2, 5, 10, 30, 100], value=1,\n",
    "    description='Tamaño de muesetra',\n",
    "    layout=widgets.Layout(width='30%'))\n",
    "n.style = {'description_width': '120px'}\n",
    "\n",
    "dist = widgets.Dropdown(options=[\"Uniform\", \"Exponential\"], value=\"Uniform\",\n",
    "                       description='Tamaño de muesetra',\n",
    "    layout=widgets.Layout(width='30%'))\n",
    "dist.style = {'description_width': '120px'}\n",
    "\n",
    "ui = widgets.VBox(children=[n, dist])\n",
    "\n",
    "out = widgets.interactive_output(clt, {'n': n, 'dist': dist})\n",
    "\n",
    "display(ui, out)"
   ]
  }
 ],
 "metadata": {
  "celltoolbar": "Slideshow",
  "kernelspec": {
   "display_name": "Python 3",
   "language": "python",
   "name": "python3"
  },
  "language_info": {
   "codemirror_mode": {
    "name": "ipython",
    "version": 3
   },
   "file_extension": ".py",
   "mimetype": "text/x-python",
   "name": "python",
   "nbconvert_exporter": "python",
   "pygments_lexer": "ipython3",
   "version": "3.8.3"
  }
 },
 "nbformat": 4,
 "nbformat_minor": 2
}
