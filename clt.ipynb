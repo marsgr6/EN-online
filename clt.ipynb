{
 "cells": [
  {
   "cell_type": "markdown",
   "metadata": {
    "slideshow": {
     "slide_type": "notes"
    }
   },
   "source": [
    "these notes will not display in the slideshow"
   ]
  },
  {
   "cell_type": "markdown",
   "metadata": {
    "slideshow": {
     "slide_type": "slide"
    }
   },
   "source": [
    "# Probabilidad y estadística interactiva"
   ]
  },
  {
   "cell_type": "markdown",
   "metadata": {
    "slideshow": {
     "slide_type": "notes"
    }
   },
   "source": [
    "## using\n",
    "\n",
    "* ipywidgets\n",
    "* plotly (express)"
   ]
  },
  {
   "cell_type": "markdown",
   "metadata": {
    "slideshow": {
     "slide_type": "notes"
    }
   },
   "source": [
    "* voila\n",
    "* reveal"
   ]
  },
  {
   "cell_type": "code",
   "execution_count": 138,
   "metadata": {
    "slideshow": {
     "slide_type": "-"
    }
   },
   "outputs": [],
   "source": [
    "import numpy as np\n",
    "import matplotlib.pyplot as plt\n",
    "from scipy.stats import norm\n",
    "from scipy.stats import expon\n",
    "import ipywidgets as widgets\n",
    "from IPython.display import display"
   ]
  },
  {
   "cell_type": "markdown",
   "metadata": {
    "slideshow": {
     "slide_type": "slide"
    }
   },
   "source": [
    "### Número de bines en un histograma"
   ]
  },
  {
   "cell_type": "code",
   "execution_count": 172,
   "metadata": {
    "slideshow": {
     "slide_type": "subslide"
    }
   },
   "outputs": [
    {
     "data": {
      "application/vnd.jupyter.widget-view+json": {
       "model_id": "d59e038ac3844285abaccda08ab7138e",
       "version_major": 2,
       "version_minor": 0
      },
      "text/plain": [
       "Label(value='Número de bines: bins.')"
      ]
     },
     "metadata": {},
     "output_type": "display_data"
    },
    {
     "data": {
      "application/vnd.jupyter.widget-view+json": {
       "model_id": "e9974a38174c4dc285d5103b09160b3b",
       "version_major": 2,
       "version_minor": 0
      },
      "text/plain": [
       "interactive(children=(SelectionSlider(description='b', index=1, options=(1, 2, 3, 4, 5, 6, 7, 8, 9, 10, 20, 30…"
      ]
     },
     "metadata": {},
     "output_type": "display_data"
    }
   ],
   "source": [
    "np.random.seed(123)\n",
    "size = 100\n",
    "\n",
    "# create some exponential random data\n",
    "values = expon.rvs(scale=1/4, size=size)\n",
    "\n",
    "# Create gaussian noise\n",
    "noise = norm.rvs(loc=1, size=size)\n",
    "\n",
    "real_data = values + np.abs(noise)\n",
    "\n",
    "def hist_bins(b):\n",
    "    plt.figure(figsize=(8,6))\n",
    "    plt.hist(real_data, bins=b, density=True, edgecolor=\"seagreen\")\n",
    "\n",
    "label = widgets.Label(value='Número de bines: bins.')\n",
    "display(label)\n",
    "\n",
    "f = widgets.interact(hist_bins, \n",
    "                     b=widgets.SelectionSlider(value=2, \n",
    "                                               options=list(range(1,11))+[20, 30, 50, 100]))\n",
    "f.widget.children[0].description = 'bins'"
   ]
  },
  {
   "cell_type": "markdown",
   "metadata": {
    "slideshow": {
     "slide_type": "slide"
    }
   },
   "source": [
    "### Explorando la correlación"
   ]
  },
  {
   "cell_type": "code",
   "execution_count": 173,
   "metadata": {
    "slideshow": {
     "slide_type": "subslide"
    }
   },
   "outputs": [
    {
     "data": {
      "application/vnd.jupyter.widget-view+json": {
       "model_id": "c6fee259b9c84a01b91bdd3b32f3d519",
       "version_major": 2,
       "version_minor": 0
      },
      "text/plain": [
       "interactive(children=(SelectionSlider(description='c', index=10, options=(-1.0, -0.9, -0.8, -0.7, -0.6, -0.5, …"
      ]
     },
     "metadata": {},
     "output_type": "display_data"
    }
   ],
   "source": [
    "mean = [0, 0]\n",
    "\n",
    "def cov_plot(c):\n",
    "    cov = [[1, c], [c, 1]]\n",
    "    x, y = np.random.multivariate_normal(mean, cov, 5000).T\n",
    "    plt.figure(figsize=(8,8))\n",
    "    plt.plot(x, y, '.', alpha=0.5, c=\"seagreen\")\n",
    "    plt.axis('equal')\n",
    "    \n",
    "f = widgets.interact(cov_plot, \n",
    "                     c=widgets.SelectionSlider(value=0, \n",
    "                                               options=[-1.0, -0.9, -0.8, -0.7, -0.6, \n",
    "                                                        -0.5, -0.4, -0.3, -0.2, -0.1] + \n",
    "                                               [0.0, 0.1, 0.2, 0.3, 0.4, 0.5, \n",
    "                                                0.6, 0.7, 0.8, 0.9, 1.0]))\n",
    "f.widget.children[0].description = 'Correlación'"
   ]
  },
  {
   "cell_type": "markdown",
   "metadata": {
    "slideshow": {
     "slide_type": "slide"
    }
   },
   "source": [
    "### Teorema del límte central"
   ]
  },
  {
   "cell_type": "code",
   "execution_count": 175,
   "metadata": {
    "slideshow": {
     "slide_type": "subslide"
    }
   },
   "outputs": [
    {
     "data": {
      "application/vnd.jupyter.widget-view+json": {
       "model_id": "d51507472a984104929f0bcf7f4b6d7b",
       "version_major": 2,
       "version_minor": 0
      },
      "text/plain": [
       "Label(value='Tamaño de muestra: n.')"
      ]
     },
     "metadata": {},
     "output_type": "display_data"
    },
    {
     "data": {
      "application/vnd.jupyter.widget-view+json": {
       "model_id": "9bc712f41f11438899bb02a03f90316e",
       "version_major": 2,
       "version_minor": 0
      },
      "text/plain": [
       "interactive(children=(Dropdown(description='n', options=(1, 2, 5, 10, 30, 100), value=1), Dropdown(description…"
      ]
     },
     "metadata": {},
     "output_type": "display_data"
    }
   ],
   "source": [
    "def clt(n, dist):\n",
    "    simulations = 10000\n",
    "    if dist==\"Uniform\":\n",
    "        X_bar = np.random.random(size=(simulations,n)).mean(axis=1)\n",
    "        mu, sigma2 = 1/2, 1/12  # mu, sigma of the population distribution\n",
    "    if dist==\"Exponential\":\n",
    "        X_bar = expon.rvs(scale=2, size=(simulations,n)).mean(axis=1)\n",
    "        mu, sigma2 = 2, 4  # mu, sigma of the population distribution\n",
    "    plt.figure(figsize=(8,6))\n",
    "    plt.hist(X_bar, bins=40, density=True, edgecolor=\"seagreen\")\n",
    "    xl, xu = X_bar.min(), X_bar.max()\n",
    "    x = np.linspace(xl, xu, 500)\n",
    "    plt.plot(x, norm.pdf(x, loc=mu, scale=np.sqrt(sigma2/n)), linewidth=2)\n",
    "\n",
    "label = widgets.Label(value='Tamaño de muestra: n.')\n",
    "display(label)\n",
    "\n",
    "#interact(clt, n=widgets.IntSlider(min=1, max=100, value=30))\n",
    "f = widgets.interact(clt, n=[1, 2, 5, 10, 30, 100], \n",
    "                     dist=[\"Uniform\", \"Exponential\"])\n",
    "f.widget.children[1].description = 'Distribución'"
   ]
  },
  {
   "cell_type": "markdown",
   "metadata": {
    "slideshow": {
     "slide_type": "skip"
    }
   },
   "source": [
    "inspiration\n",
    "\n",
    "* https://plot.ly/python/plotly-express/\n",
    "* https://community.plot.ly/t/plotly-express-hover-selecting-event-only-partially-working/22136"
   ]
  },
  {
   "cell_type": "markdown",
   "metadata": {
    "slideshow": {
     "slide_type": "notes"
    }
   },
   "source": [
    "alternatively, view pairwise relationships at a glance, with a qualitative colormap of your choice"
   ]
  }
 ],
 "metadata": {
  "celltoolbar": "Slideshow",
  "kernelspec": {
   "display_name": "Python 3",
   "language": "python",
   "name": "python3"
  },
  "language_info": {
   "codemirror_mode": {
    "name": "ipython",
    "version": 3
   },
   "file_extension": ".py",
   "mimetype": "text/x-python",
   "name": "python",
   "nbconvert_exporter": "python",
   "pygments_lexer": "ipython3",
   "version": "3.8.3"
  }
 },
 "nbformat": 4,
 "nbformat_minor": 2
}
