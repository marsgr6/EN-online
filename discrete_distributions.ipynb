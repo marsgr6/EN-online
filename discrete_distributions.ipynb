{
 "cells": [
  {
   "cell_type": "markdown",
   "metadata": {},
   "source": [
    "# Distribuciones discretas\n",
    "\n",
    "### Variables aleatorias\n",
    "\n",
    "- Dado un experimento con el espacio muestral $S$, una variable aleatoria (v.a.) es una función del espacio muestral $S$ a los números reales $\\mathbb{R}$. Es común, pero no obligatorio, denotar las variables aleatorias con letras mayúsculas.\n",
    "\n",
    "  - Hay dos tipos de de variables aleatorias que se utilizan en la práctica: discretas y continuas.\n",
    "  \n",
    "- **Variables aleatorias discretas.** \n",
    "\n",
    "  - Se dice que una variable aleatoria $X$ es discreta si hay una lista finita de valores $a_1, a_2, \\dots, a_n$, o una lista infinita de valores $a_1, a_2, \\dots$ tal que $0 \\leq P(X = a_i) \\leq 1$, para cualquier $i$. \n",
    "  - Si $X$ es una variable aleatoria discreta, entonces el conjunto finito o infinito numberable de valores $x$ tal que $P(X = x)> 0$ se denomina soporte de $X$.\n",
    "\n",
    "### PMF y CDF\n",
    "\n",
    "- Definición de Función de Masa de Probabilidad (Probability Mass Function, **PMF**)\n",
    "\n",
    "    - Para una variable aleatoria discreta $X$ con valores posibles $x_1, x_2, x_3, \\cdots , x_n$, una función de masa de probabilidad $f(x_i)$ es una función que cumple las siguientes condiciones:\n",
    "    \n",
    "        1. $f(x_i) \\geq 0$\n",
    "        2. $\\sum^n_{i=1} f(x_i) = 1$\n",
    "        3. $f(x_i) = P(X = x_i)$\n",
    "        \n",
    "    - Es decir $f(x_i)$ es no negativa y suma 1 para todos los valores posibles.\n",
    "\n",
    "- Definición de Función de Distribución Acumulada (Cumulative distribution function, **CDF**) para una variable aleatoria discreta. \n",
    "\n",
    "    - Para una variabel aleatoria discreta $X$, $F(x)$ satisface las siguientes propiedades:\n",
    "        1. $F(x)=P(X \\leq x) = \\sum_{x_i \\leq x} f(x_i)$\n",
    "        2. $0 \\leq F(x) \\leq 1$\n",
    "        3. Si $x \\leq y$, entonces $F(x) \\leq F(y)$\n",
    "    - La CDF se define en la línea de los números reales.\n",
    "    - La CDF es una función no decreciente de $X$ (es decir incrementa o se mantiene constante a medida que $x \\to \\infty $).\n",
    "\n",
    "\n",
    "- Valor esperado y varianza de una variable aleatoria discreta:\n",
    "\n",
    "    - El valor esperado (también llamado esperanza o media) de una variable aleatoria, v.a., discreta $X$ cuyos posibles valores son $x_1, x_2, \\dots$, se define como:\n",
    "    $$\n",
    "    \\mu = E[X] = \\sum_{i=1}^n x_i f(x_i).\n",
    "    $$\n",
    "\n",
    "    - La varianza se define como:\n",
    "    $$\n",
    "    \\sigma^2 = E[(X − E[X])^2] = \\sum_{i=1}^n (x_i - \\mu)^2 f(x_i)\n",
    "    $$\n",
    "    \n",
    "\n",
    "### Ejemplos de Variables Aleatorias Discretas\n",
    "- v.a. $X$: Número de veces que se obtiene el número 6 al lanzar un dado $N$ veces.\n",
    "Valores puntuales de toma $X: R(X) = {0,1,2,...N}$.\n",
    "- v.a. $X$: El precio de cierta acción sube (si sube, $X = 1$, no sube $X = 0$). $R(X) = {0,1}.$\n",
    "- v.a. $X$: Número de días que transcurren desde el día en que se vence una obligación crediticia y el día en que se cumple con dicha obligación.\n",
    "$R(X) = {0,1,...,n,...}$.\n",
    "- v.a. $X$: Número de créditos que un estudiante de P&E1 seleccionado al azar tiene inscritos este semestre\n",
    "$R(X) = {m, m+1,..., M}$.\n",
    "- v.a. $X$: Número de hermanos que tiene un estudiante de P&E1 seleccionado al azar.\n",
    "$R(X) = {0,1,...,N}$.\n",
    "\n",
    "### Ejemplo introductorio\n",
    "\n",
    "Una de las variables relevantes en el desempeño de los cajeros automáticos de cierto\n",
    "banco es el número de cajeros de la competencia situados en un radio de 500 metros a\n",
    "la redonda del cajero.\n",
    "\n",
    "De acuerdo con el análisis de información disponible al respecto, se sabe que la variable\n",
    "aleatoria, $X$, que representa el número de cajeros de la competencia para un cajero\n",
    "seleccionado al azar, tiene un soporte, $R(X)$, donde $R(X) = \\{0,1,2,3\\}$ y se distribuye como:\n",
    "\n",
    "| x        | Número de observaciones           |\n",
    "| :-------------: |:-------------:|\n",
    "| 0     | 4 | \n",
    "| 1      | 8      |\n",
    "| 2 | 16      |\n",
    "| 3 | 12      |\n",
    "\n",
    "Tenemos que:\n",
    "\n",
    "$$\n",
    "f(x)=\\left\\{\n",
    "                \\begin{array}{ll}\n",
    "                  0.1,\\ x = 0 \\\\\n",
    "                  0.2,\\ x = 1 \\\\\n",
    "                  0.4,\\ x = 2 \\\\\n",
    "                  0.3,\\ x = 3 \\\\\n",
    "                  0.0,\\ \\text{otherwise}\n",
    "                \\end{array}\n",
    "              \\right.\n",
    "$$\n",
    "\n",
    "Y \n",
    "\n",
    "$$\n",
    "F(x)=\\left\\{\n",
    "                \\begin{array}{ll}\n",
    "                  0.0,\\ \\text{if } x < 0 \\\\\n",
    "                  0.1,\\ 0 \\leq x < 1 \\\\\n",
    "                  0.3,\\ 1 \\leq x < 2  \\\\\n",
    "                  0.7,\\ 2 \\leq x < 3  \\\\\n",
    "                  1.0,\\ x \\geq 3  \n",
    "                \\end{array}\n",
    "              \\right.\n",
    "$$"
   ]
  },
  {
   "cell_type": "code",
   "execution_count": 3,
   "metadata": {},
   "outputs": [
    {
     "data": {
      "text/html": [
       "<div>\n",
       "<style scoped>\n",
       "    .dataframe tbody tr th:only-of-type {\n",
       "        vertical-align: middle;\n",
       "    }\n",
       "\n",
       "    .dataframe tbody tr th {\n",
       "        vertical-align: top;\n",
       "    }\n",
       "\n",
       "    .dataframe thead th {\n",
       "        text-align: right;\n",
       "    }\n",
       "</style>\n",
       "<table border=\"1\" class=\"dataframe\">\n",
       "  <thead>\n",
       "    <tr style=\"text-align: right;\">\n",
       "      <th></th>\n",
       "      <th>x</th>\n",
       "      <th>observaciones</th>\n",
       "    </tr>\n",
       "  </thead>\n",
       "  <tbody>\n",
       "    <tr>\n",
       "      <th>0</th>\n",
       "      <td>0</td>\n",
       "      <td>4</td>\n",
       "    </tr>\n",
       "    <tr>\n",
       "      <th>1</th>\n",
       "      <td>1</td>\n",
       "      <td>8</td>\n",
       "    </tr>\n",
       "    <tr>\n",
       "      <th>2</th>\n",
       "      <td>2</td>\n",
       "      <td>16</td>\n",
       "    </tr>\n",
       "    <tr>\n",
       "      <th>3</th>\n",
       "      <td>3</td>\n",
       "      <td>12</td>\n",
       "    </tr>\n",
       "  </tbody>\n",
       "</table>\n",
       "</div>"
      ],
      "text/plain": [
       "   x  observaciones\n",
       "0  0              4\n",
       "1  1              8\n",
       "2  2             16\n",
       "3  3             12"
      ]
     },
     "execution_count": 3,
     "metadata": {},
     "output_type": "execute_result"
    }
   ],
   "source": [
    "import numpy as np\n",
    "import matplotlib.pyplot as plt\n",
    "import pandas as pd\n",
    "\n",
    "x = np.arange(0, 4)\n",
    "obs_x = np.array([4, 8, 16, 12])\n",
    "\n",
    "table_data = pd.DataFrame({'x': x, 'observaciones': obs_x})\n",
    "table_data"
   ]
  },
  {
   "cell_type": "markdown",
   "metadata": {},
   "source": [
    "- Vamos calcular las frecuencias relativas $f_X(x)$, o probabilidad, es decir la PMF empírica (dado que es observada de una muestra).\n",
    "  - A partir de la definición naïve de probabilidad:\n",
    "  $$p(x) = \\frac{observaciones\\ favorables}{observaciones\\ totales}.$$\n",
    "- También calcularemos la función de distribución acumulada CDF ($F_X(x)$). \n",
    "  - Note que hemos denotado a nuestra PMF como **fx** y la CDF como **Fx** en el dataframe. \n",
    "- Observe e interprete los resultados."
   ]
  },
  {
   "cell_type": "code",
   "execution_count": 4,
   "metadata": {},
   "outputs": [
    {
     "data": {
      "text/html": [
       "<div>\n",
       "<style scoped>\n",
       "    .dataframe tbody tr th:only-of-type {\n",
       "        vertical-align: middle;\n",
       "    }\n",
       "\n",
       "    .dataframe tbody tr th {\n",
       "        vertical-align: top;\n",
       "    }\n",
       "\n",
       "    .dataframe thead th {\n",
       "        text-align: right;\n",
       "    }\n",
       "</style>\n",
       "<table border=\"1\" class=\"dataframe\">\n",
       "  <thead>\n",
       "    <tr style=\"text-align: right;\">\n",
       "      <th></th>\n",
       "      <th>x</th>\n",
       "      <th>observaciones</th>\n",
       "      <th>fx</th>\n",
       "      <th>Fx</th>\n",
       "    </tr>\n",
       "  </thead>\n",
       "  <tbody>\n",
       "    <tr>\n",
       "      <th>0</th>\n",
       "      <td>0</td>\n",
       "      <td>4</td>\n",
       "      <td>0.1</td>\n",
       "      <td>0.1</td>\n",
       "    </tr>\n",
       "    <tr>\n",
       "      <th>1</th>\n",
       "      <td>1</td>\n",
       "      <td>8</td>\n",
       "      <td>0.2</td>\n",
       "      <td>0.3</td>\n",
       "    </tr>\n",
       "    <tr>\n",
       "      <th>2</th>\n",
       "      <td>2</td>\n",
       "      <td>16</td>\n",
       "      <td>0.4</td>\n",
       "      <td>0.7</td>\n",
       "    </tr>\n",
       "    <tr>\n",
       "      <th>3</th>\n",
       "      <td>3</td>\n",
       "      <td>12</td>\n",
       "      <td>0.3</td>\n",
       "      <td>1.0</td>\n",
       "    </tr>\n",
       "  </tbody>\n",
       "</table>\n",
       "</div>"
      ],
      "text/plain": [
       "   x  observaciones   fx   Fx\n",
       "0  0              4  0.1  0.1\n",
       "1  1              8  0.2  0.3\n",
       "2  2             16  0.4  0.7\n",
       "3  3             12  0.3  1.0"
      ]
     },
     "execution_count": 4,
     "metadata": {},
     "output_type": "execute_result"
    }
   ],
   "source": [
    "table_data['fx'] = table_data['observaciones'] / table_data['observaciones'].sum()\n",
    "table_data['Fx'] = table_data['fx'].cumsum()\n",
    "table_data"
   ]
  },
  {
   "cell_type": "markdown",
   "metadata": {},
   "source": [
    "- Puede comprobar que efectivamente la suma de la columna $fx$ es igual a 1. \n",
    "\n",
    "### Representación gráfica de la PMF y la CDF"
   ]
  },
  {
   "cell_type": "code",
   "execution_count": 100,
   "metadata": {},
   "outputs": [
    {
     "data": {
      "image/png": "[encoded data removed]",
      "text/plain": [
       "<Figure size 432x288 with 1 Axes>"
      ]
     },
     "metadata": {
      "needs_background": "light"
     },
     "output_type": "display_data"
    }
   ],
   "source": [
    "def plot_pmf(x, pmfx):\n",
    "    fig, ax = plt.subplots(1, 1)\n",
    "    # https://matplotlib.org/api/_as_gen/matplotlib.axes.Axes.vlines.html\n",
    "    ax.vlines(x, 0, pmfx, colors='r', linestyles='-', lw=1)  # líneas verticales\n",
    "    ax.plot(x, pmfx, 'ro', label='Pmf')  # puntos sobre las lineas verticales\n",
    "    for xi, fxi in zip(x, pmfx):\n",
    "        plt.text(xi, fxi, str(fxi))  # Imprimimos el valor de fx (PMF)\n",
    "    plt.show()\n",
    "    \n",
    "plot_pmf(table_data.x, table_data.fx)"
   ]
  },
  {
   "cell_type": "markdown",
   "metadata": {},
   "source": [
    "- Se dibujan líneas verticales para facilitar la comparación de las alturas de diferentes puntos.\n",
    "  - La altura es el valor de la PMF, $f_X(x)$ para ese valor de $x$.\n",
    "- Las líneas no tienen ancho, indicando que el valor de la PMF, $f_X(x)$ corresponde al valor discretro observado $x$, y su altura indica la probabilidad $P(X=x)$. \n",
    "  - Es decir para cualquier valor entre $(1, 2)$, excluidos, la probabilidad es cero, $P(1<X<2)=0$.\n",
    "  \n",
    "- La probabilidad $P(X=x)$ se puede leer directamente en la altura que cada línea. \n",
    "  - Ej.: $P(X=2)=0.4$."
   ]
  },
  {
   "cell_type": "code",
   "execution_count": 67,
   "metadata": {},
   "outputs": [
    {
     "data": {
      "image/png": "[encoded data removed]",
      "text/plain": [
       "<Figure size 432x288 with 1 Axes>"
      ]
     },
     "metadata": {
      "needs_background": "light"
     },
     "output_type": "display_data"
    }
   ],
   "source": [
    "cdfx = np.array([.1, .3, .7, 1.])  # CDF\n",
    "\n",
    "def plot_cdf(rvs_range, cdf_prob):\n",
    "    yn = np.insert(cdf_prob, 0, 0)\n",
    "    fig, ax = plt.subplots()\n",
    "    ax.set_facecolor('white')\n",
    "\n",
    "    # https://matplotlib.org/api/_as_gen/matplotlib.axes.Axes.hlines.html\n",
    "    ax.hlines(y=yn, xmin=rvs_range[:-1], xmax=rvs_range[1:],\n",
    "              color='red', zorder=1)\n",
    "\n",
    "    # https://matplotlib.org/api/_as_gen/matplotlib.axes.Axes.vlines.html\n",
    "    ax.vlines(x=rvs_range[1:-1], ymin=yn[:-1], ymax=yn[1:], color='red',\n",
    "              linestyle='dashed', zorder=1)\n",
    "\n",
    "    ax.scatter(rvs_range[1:-1], cdf_prob, color='red', s=18, zorder=2)\n",
    "    ax.scatter(rvs_range[1:-1], yn[:-1], color='white', s=18, zorder=2,\n",
    "               edgecolor='red')\n",
    "    return ax\n",
    "x = np.arange(-1, 5)  # Provide support +-1\n",
    "ax = plot_cdf(x, list(table_data.Fx))"
   ]
  },
  {
   "cell_type": "markdown",
   "metadata": {},
   "source": [
    "- Podemos usar la CDF, $F(x)$ para calcular la probabilidad $P(a \\leq X \\leq b) = F(b) - F(a-1)$\n",
    "  - Ejemplo: $P(1 \\leq X \\leq 3) = F(3) - F(0)=1-0.1=0.9$\n",
    "  - También podemso responder: $P(1 \\leq X \\leq 3) = f(1)+f(2)+f(3)=0.2+0.4+0.3=0.9$, donde $f$ es la PMF.\n",
    "  \n",
    "- Al calcular probabilidades usando la CDF, estamos calculado saltos en la función acumulada: \n",
    "  - Para $P(X=x)$, tenemos que $P(X=a)=F(a)-F(a-1)$.\n",
    "  - Ejemplo $P(X=2) = F(2) - F(1) = 0.7-0.3=0.4$.\n",
    "  - **El salto calculado se muestra en la CDF graficada a continuación.**"
   ]
  },
  {
   "cell_type": "code",
   "execution_count": 102,
   "metadata": {},
   "outputs": [
    {
     "data": {
      "text/plain": [
       "Text(-0.5, 0.3, 'F(1)=0.3')"
      ]
     },
     "execution_count": 102,
     "metadata": {},
     "output_type": "execute_result"
    },
    {
     "data": {
      "image/png": "[encoded data removed]",
      "text/plain": [
       "<Figure size 432x288 with 1 Axes>"
      ]
     },
     "metadata": {
      "needs_background": "light"
     },
     "output_type": "display_data"
    }
   ],
   "source": [
    "ax = plot_cdf(x, list(table_data.Fx))\n",
    "ax.text(2, 0.37, \"}\",fontsize=85, fontweight=0)\n",
    "ax.text(2.9, 0.47, \"P(X=2)=F(2)-F(1)\", fontsize=20)\n",
    "ax.text(0.5, 0.7, \"F(2)=0.7\", fontsize=20)\n",
    "ax.text(-0.5, 0.3, \"F(1)=0.3\", fontsize=20)"
   ]
  },
  {
   "cell_type": "markdown",
   "metadata": {},
   "source": [
    "- Identifique el salto para el ejemplo $P(1 \\leq X \\leq 3)$."
   ]
  },
  {
   "cell_type": "markdown",
   "metadata": {},
   "source": [
    "- La CDF para el caso discreto tiene la forma característica de escalera. \n",
    "- Esto indica que el salto para un valor entre (1,2) no incluidos, es cero, es decir la probablidad es cero para cualquier valor intermedio. "
   ]
  },
  {
   "cell_type": "markdown",
   "metadata": {},
   "source": [
    "### Calculemos el valor esperado y la varianza de nuestra distribución discreta\n",
    "\n",
    "- $E[X] = \\sum_i x_i \\cdot f(x)$,\n",
    "  -  para nuestro ejemplo: \n",
    "  $$E[X] = 0 \\times f(0) + 1 \\times f(1) + 2 \\times f(2) + 3 \\times f(3)$$\n",
    "  $$E[X] = 0 \\times 0.1 + 1 \\times 0.2 + 2 \\times 0.4 + 3 \\times 0.3=1.9$$.\n",
    "  \n",
    "- **El valor esperado es el promedio pesado del espacio muestral.**\n",
    "\n",
    "- $Var[X] = \\sum_{i=1}^n (x_i - E[X])^2 f(x_i)$\n",
    "  -  para nuestro ejemplo: \n",
    "  $$Var[X] = (0 - 1.9)^2 \\times 0.1 + (1 - 1.9)^2 \\times 0.2 + (2 - 1.9)^2 \\times 0.4 + (3 - 1.9)^2 \\times 0.3 = 0.89.$$\n",
    "  \n",
    "- **La varianza es el valor esperado de las desviaciones alrededor de la media elvadas al cuadrado.** "
   ]
  },
  {
   "cell_type": "code",
   "execution_count": 109,
   "metadata": {},
   "outputs": [
    {
     "name": "stdout",
     "output_type": "stream",
     "text": [
      "E[X]= 1.9\n",
      "Var[X]= 0.89\n"
     ]
    }
   ],
   "source": [
    "EX = (table_data.x * table_data.fx).sum()\n",
    "VarX = ((table_data.x - EX)**2 * table_data.fx).sum()\n",
    "\n",
    "print(\"E[X]=\", EX)\n",
    "print(\"Var[X]=\", np.round(VarX,4))"
   ]
  },
  {
   "cell_type": "markdown",
   "metadata": {},
   "source": [
    "# Distribuciones discretas importantes\n",
    "\n",
    "## Distribución de Bernoulli\n",
    "\n",
    "- Se dice que una variable aleatoria, v.a., $X$ tiene una distribución de \n",
    "Bernoulli con parámetro $p$, si \n",
    "$P(X = 1) = p$ y $P(X = 0) = 1 - p$, donde $0 < p < 1$. \n",
    "\n",
    "- Denotamos esto como: $X \\sim Bern(p)$. \n",
    "\n",
    "- El símbolo $\\sim$ se lee \"está distribuida como\".\n",
    "Cualquier v.a. cuyos valores posibles son 0 y 1 tiene una distribución $Bern(p)$, \n",
    "con probabilidad $p$ de que la v.a. sea 1. \n",
    "\n",
    "- El valor de $p$ en $Bern(p)$ es llamado el parámetro de la distribución; \n",
    "determina cual distribución específica de Bernoulli tenemos. \n",
    "\n",
    "- Por tanto no hay una sola distribución de Bernoulli, \n",
    "sino una familia de distribuciones de Bernoulli, dadas por el parámetro $p$. \n",
    "\n",
    "- Por ejemplo, si $X \\sim Bern(1/3)$, \n",
    "sería correcto pero incompleto decir \"$X$ es Bernoulli\"; \n",
    "para especificar completamente la distribución de $X$, \n",
    "debemos decir su nombre (Bernoulli) y el valor de su parámetro (1/3), \n",
    "que es el objetivo de la notación $X \\sim Bern(1/3)$.\n",
    "\n",
    "**Experimento de Bernoulli**. Un experimento que puede dar como resultado un \"éxito\" o un \"fracaso\" (pero no ambos) se denomina experimento de Bernoulli. Se puede pensar en una variable aleatoria de Bernoulli como el indicador de éxito en un ensayo de Bernoulli: es igual a 1 si se produce el éxito y a 0 si se produce un fracaso en el ensayo.\n",
    "\n",
    "Debido a esta \"historia\", el parámetro $p$ a menudo se denomina probabilidad de éxito de la distribución de $Bern(p)$.\n",
    "\n",
    "\n",
    "### PMF de Bernoulli\n",
    "\n",
    "- Ya hemos visto que podemos escribir la PMF de varias maneras, por ejemplo a través de una tabla, a través de una fórmul, además de poder representarla de forma gráfica. \n",
    "\n",
    "- A partir de la tabla siguiente:\n",
    "\n",
    "| $x$      | $P(X=x)$       | $f_X(x)$       |\n",
    "| ----------- | ----------- | ----------- |\n",
    "|<img width=50/>|<img width=60/>|<img width=100/>|\n",
    "| 0   | 1-p       | $p^0 (1-p)^{1-0}$ |\n",
    "| 1   | p        | $p^1 (1-p)^{1-1}$ |\n",
    "\n",
    "\n",
    "- Podemos generalizar y escribir la PMF como:\n",
    "\n",
    "$$\n",
    "f_X(x; p) = p^x (1-p)^{1-x},\\ x \\in \\{0, 1\\}\n",
    "$$\n",
    "\n",
    "- **Valor esperado y varianza:**\n",
    "\n",
    "$$\n",
    "E[X] = p,\\ Var[X] = p (1 - p)\n",
    "$$\n",
    "\n",
    "- Intente calcular el valor esperado y la varianza de la distribución de Bernoulli a partir de la definción dada al inicio de este notebook. "
   ]
  },
  {
   "cell_type": "markdown",
   "metadata": {},
   "source": [
    "## Distribución Binomial\n",
    "\n",
    "- Una vez que conocemos Bernoulli, es difícil no empezar a pensar en lo que sucede cuando tenemos más de un experimento de Bernoulli.\n",
    "\n",
    "- **Distribución binomial.** Suponga que se realizan $n$ experimentos de Bernoulli independientes, cada uno con la misma probabilidad de éxito $p$. \n",
    "  - Sea $X$ el número de éxitos. La distribución de $X$ es llamada distribución Binomial con parámetros $n$ y $p$.\n",
    "\n",
    "- Escribimos $X \\sim Bin(n,p)$ para indicar que $X$ tiene la distribución Binomial con parámetros $n$ y $p$, donde $n$ es un entero positivo y $0 < p < 1.$\n",
    "\n",
    "- Observe que definimos la distribución Binomial no por su PMF, sino por una historia sobre el tipo de experimento que podría dar lugar a una variable aleatoria con una distribución Binomial. \n",
    "  - Las distribuciones más famosas en estadística tienen historias que explican por qué se usan tan a menudo como modelos de datos o como bloques de construcción para distribuciones más complicadas.\n",
    "\n",
    "- Pensar en las distribuciones con nombre propio (importantes), en términos de sus historias tiene muchos beneficios. \n",
    "  - Facilita el reconocimiento de patrones, permitiéndonos ver cuando dos problemas son esencialmente idénticos en estructura; a menudo conduce a soluciones más limpias que evitan los cálculos de PMF por completo; y nos ayuda a comprender cómo las distribuciones nombradas están conectadas entre sí.\n",
    "  - Aquí está claro que $Bern(p)$ es la misma distribución que $Bin(1, p)$: Bernoulli es un caso especial de la Binomial.\n",
    "\n",
    "\n",
    "### PMF Binomial \n",
    "\n",
    "- Usando la definición de la historia de la Binomial, encontremos su PMF.\n",
    "\n",
    "- Un experimento que consta de $n$ ensayos de Bernoulli independientes produce una secuencia de éxitos y fracasos. \n",
    "\n",
    "- La probabilidad de cualquier secuencia específica de $x$ éxitos y $n - x$ fracasos es $p^x \\cdot (1 - p)^{n-k}$. \n",
    "  - Hay ${n \\choose x}$ tales secuencias, ya que solo necesitamos seleccionar dónde están los éxitos. Por lo tanto, siendo $X$ el número de éxitos, tenemos que,\n",
    "$$P(X=x) = {n \\choose x} p^x (1-p)^{n-x},\\ x \\in \\{0, 1, \\dots, n\\}$$\n",
    "\n",
    "- **Ejemplo:** Dada una serie de $n=3$ intentos de Bernoulli con probabilidad de éxito $p=0,5$ (lanzamiento de una moneda), el espacio muestral viene dado por la siguiente figura:\n",
    "\n",
    "<img src=\"https://raw.githubusercontent.com/marsgr6/r-scripts/master/imgs/binom.png\" alt=\"drawing\" width=\"600\"/>\n",
    "\n",
    "- Entonces podemos escribir la PMF de la siguiente manera:\n",
    "\n",
    "| $x$      | $P(X=x)$       | $f_X(x)$       |\n",
    "| ----------- | ----------- | ----------- |\n",
    "|<img width=50/>|<img width=60/>|<img width=100/>|\n",
    "| 0   | 1/8       | ${3 \\choose 0} p^0 (1-p)^{3-0}$ |\n",
    "| 1   | 3/8        | ${3 \\choose 1} p^1 (1-p)^{3-1}$ |\n",
    "| 2   | 3/8        | ${3 \\choose 2} p^2 (1-p)^{3-2}$ |\n",
    "| 3   | 1/8        | ${3 \\choose 3} p^3 (1-p)^{3-3}$ |\n",
    "\n",
    "- Vea que podemos generalizar la PMF en la tabla anterior usando la función $f_X(x; n, p)$ a continuación. \n",
    "\n",
    "$$\n",
    "X \\sim Bin(x; n, p)\n",
    "$$\n",
    "\n",
    "$$\n",
    "f_X(x; n, p) = {n \\choose x} p^x (1-p)^{n-x},\\ x \\in \\{0, 1, \\dots, n\\}\n",
    "$$\n",
    "\n",
    "- **Valor esperado y varianza:**\n",
    "\n",
    "$$\n",
    "E[X] = np,\\ Var[X] = n p (1 - p)\n",
    "$$"
   ]
  },
  {
   "cell_type": "code",
   "execution_count": 5,
   "metadata": {},
   "outputs": [
    {
     "data": {
      "image/png": "[encoded data removed]",
      "text/plain": [
       "<Figure size 432x288 with 1 Axes>"
      ]
     },
     "metadata": {
      "needs_background": "light"
     },
     "output_type": "display_data"
    }
   ],
   "source": [
    "def binomial(n=1, p=0.5):\n",
    "    x = 0\n",
    "    for i in range(n):\n",
    "        x = x + bernoulli(p)\n",
    "\n",
    "    return x\n",
    "\n",
    "n, p = 10, 0.5\n",
    "size = 1000  # sequence length\n",
    "\n",
    "RVS = [binomial(n, p) for i in range(size)]\n",
    "\n",
    "unique, counts = np.unique(RVS, return_counts=True)\n",
    "plt.bar(unique, counts / size)\n",
    "\n",
    "# ploting binomial polygon curve\n",
    "from scipy.stats import binom\n",
    "x = np.linspace(0, n, dtype='int')  # variable range\n",
    "px = binom.pmf(x, n, p)\n",
    "plt.plot(x, px, '--ro')\n",
    "plt.legend(['Theoretical pmf'])\n",
    "\n",
    "plt.show()"
   ]
  },
  {
   "cell_type": "markdown",
   "metadata": {},
   "source": [
    "## Distritución Geométrica\n",
    "\n",
    "- Considere una secuencia de ensayos de Bernoulli independientes,\n",
    "cada uno con la misma probabilidad de éxito $p \\in (0, 1)$,\n",
    "con ensayos realizados hasta que se produce un éxito.\n",
    "\n",
    "- Sea $X$ el número de fallos antes de la primera prueba exitosa.\n",
    "Entonces $X$ tiene una distribución Geométrica con parámetro $p$;\n",
    "denotamos esto por $X \\sim Geom(p)$.\n",
    "\n",
    "- Por ejemplo, si lanzamos una moneda no trucada hasta que caiga cara por primera vez,\n",
    "tenemos que, el número de cruces antes de la primera aparición de cara se distribuye como $Geom(1/2)$.\n",
    "\n",
    "### PMF Geométrica\n",
    "\n",
    "- Para obtener la PMF geométrica de nuestra historia, imagine los \n",
    "experimentos de Bernoulli como una cadena de 0s (fallas) que terminan cuando aparece el primer 1 (éxito).\n",
    "Cada 0 tiene probabilidad $q = 1 - p$ y el 1 final tiene probabilidad $p$,\n",
    "por lo que una cadena de $x$ fallas seguidas de un éxito tiene una probabilidad de $q^x \\cdot p$.\n",
    "\n",
    "\n",
    "| $x$      | Experiment  | $P(X=x)$       | $f_X(x)$       |\n",
    "| ----------- | ----------- | ----------- | ----------- |\n",
    "|<img width=50/>|<img width=50/>|<img width=60/>|<img width=100/>|\n",
    "| 0  | 1 | p        | $p q^{0}$ |\n",
    "| 1  | 01 | qp       | $p q^{1}$  |\n",
    "| 2  | 001 | qqp  | $p q^{2}$  |\n",
    "| 3  | 0001 | qqqp  | $p q^{3}$  |\n",
    "|  . |  |  |        |\n",
    "|  . |  |  |       |\n",
    "|  . |  |  |       |\n",
    "\n",
    "\n",
    "- Vea que podemos generalizar la PMF en la tabla anterior usando la función $f_X(x; p)$ a continuación. \n",
    "\n",
    "$$\n",
    "X \\sim Geom(x; p)\n",
    "$$\n",
    "\n",
    "$$\n",
    "f_X(x; p) = p (1-p)^{x},\\ x \\in \\{0, 1, 2, \\dots \\}\n",
    "$$\n",
    "\n",
    "- **Valor esperado y varianza:**\n",
    "\n",
    "\n",
    "$$\n",
    "E[X] = \\frac{q}{p},\\ Var[X] = \\frac{q}{p^2},\\ q = 1 - p\n",
    "$$\n",
    "\n",
    "### Python simulation"
   ]
  },
  {
   "cell_type": "code",
   "execution_count": 6,
   "metadata": {},
   "outputs": [
    {
     "data": {
      "image/png": "[encoded data removed]",
      "text/plain": [
       "<Figure size 432x288 with 1 Axes>"
      ]
     },
     "metadata": {
      "needs_background": "light"
     },
     "output_type": "display_data"
    }
   ],
   "source": [
    "def geometric(p=0.5):\n",
    "    x = 0\n",
    "    while not bernoulli(p):\n",
    "        x = x + 1\n",
    "\n",
    "    return x\n",
    "\n",
    "p = 0.5\n",
    "size = 1000  # sequence length\n",
    "\n",
    "RVS = [geometric(p) for i in range(size)]\n",
    "\n",
    "unique, counts = np.unique(RVS, return_counts=True)\n",
    "plt.bar(unique, counts / size)\n",
    "\n",
    "# ploting geometric polygon curve\n",
    "from scipy.stats import geom\n",
    "x = np.linspace(0, max(RVS), dtype='int')  # variable range\n",
    "px = geom.pmf(x+1, p)\n",
    "plt.plot(x, px, '--ro')\n",
    "plt.legend(['Theoretical pmf'])\n",
    "\n",
    "plt.show()"
   ]
  },
  {
   "cell_type": "markdown",
   "metadata": {},
   "source": [
    "## Distribución Binomial Negativa\n",
    "\n",
    "- En una secuencia de experimentos de Bernoulli independientes con probabilidad de éxito $p$,\n",
    "si $X$ es el número de fallas antes del $r$-ésimo éxito,\n",
    "entonces se dice que $X$ tiene la distribución Binomial Negativa\n",
    "con los parámetros $r$ y $p$,\n",
    "denotado $X \\sim NBin(r, p)$.\n",
    "\n",
    "- Tanto la distribución binomial como la binomial negativa se basan en\n",
    "ensayos independientes de Bernoulli;\n",
    "difieren en la regla de parada y en lo que están contando:\n",
    "elal Binomial cuenta el número de éxitos en un número fijo de intentos,\n",
    "mientras que la Binomial Negativa cuenta el número de fallos\n",
    "hasta un número fijo de éxitos.\n",
    "\n",
    "- A la luz de estas similitudes, no sorprende que\n",
    "la derivación de la PMF Binomial Negativa tenga una semejanza\n",
    "a la correspondiente derivación para la Binomial.\n",
    "\n",
    "### PMF Binomial Negativa\n",
    "\n",
    "Ejemplo para $X \\sim NBin(r=2, p=0.5)$:\n",
    "\n",
    "| $x$      | Experiment  | $P(X=x)$       | $f_X(x)$       |\n",
    "| ----------- | ----------- | ----------- | ----------- |\n",
    "|<img width=50/>|<img width=50/>|<img width=60/>|<img width=100/>|\n",
    "| 0  | 11 | pp        | ${0 + 2 - 1 \\choose 2 - 1} p q^{0}$ |\n",
    "| 1  | **01**1 | **qp**p       | ${1 + 2 - 1 \\choose 2 - 1} p^2 q^{1}$  |\n",
    "| 2  | **001**1 | **qqp**p  | ${2 + 2 - 1 \\choose 2 - 1} p^2 q^{2}$  |\n",
    "| 3  | **0001**1 | **qqqp**p  | ${3 + 2 - 1 \\choose 2 - 1} p^2 q^{3}$  |\n",
    "|  . |  |  |        |\n",
    "|  . |  |  |       |\n",
    "|  . |  |  |       |\n",
    "\n",
    "- Tenga en cuenta que la secuencia en el experimento (en **negritas**) puede ocurrir de varias maneras. De ahí la parte de combinación en la fórmula PMF $f_X(x)$.\n",
    "\n",
    "- Vea que podemos generalizar la PMF en la tabla anterior usando la función $f_X(x; p)$ a continuación. \n",
    "\n",
    "$$\n",
    "X \\sim NBin(x; r, p)\n",
    "$$\n",
    "\n",
    "$$\n",
    "f_X(x; r, p) = {x + r - 1 \\choose r - 1} p^r (1-p)^{x},\\ x \\in \\{0, 1, 2, \\dots\\}\n",
    "$$\n",
    "\n",
    "- **Valor esperado y varianza:**\n",
    "\n",
    "$$\n",
    "E[X] = \\frac{qr}{p},\\ Var[X] = \\frac{qr}{p^2}, q=1-p.\n",
    "$$\n",
    "\n",
    "### Python simulation"
   ]
  },
  {
   "cell_type": "code",
   "execution_count": 7,
   "metadata": {},
   "outputs": [
    {
     "data": {
      "image/png": "[encoded data removed]",
      "text/plain": [
       "<Figure size 432x288 with 1 Axes>"
      ]
     },
     "metadata": {
      "needs_background": "light"
     },
     "output_type": "display_data"
    }
   ],
   "source": [
    "def nbin(r=1, p=0.5):\n",
    "    x = 0\n",
    "    for k in range(r):\n",
    "        x = x + geometric(p)\n",
    "\n",
    "    return x\n",
    "\n",
    "r, p = 3, 0.5\n",
    "size = 10000  # sequence length\n",
    "\n",
    "RVS = [nbin(r, p) for i in range(size)]\n",
    "\n",
    "unique, counts = np.unique(RVS, return_counts=True)\n",
    "plt.bar(unique, counts / size)\n",
    "\n",
    "# ploting neg binomial polygon curve\n",
    "from scipy.stats import nbinom\n",
    "x = np.linspace(0, max(RVS), dtype='int')  # variable range\n",
    "px = nbinom.pmf(x, r, p)\n",
    "plt.plot(x, px, '--ro')\n",
    "plt.legend(['Theoretical pmf'])\n",
    "\n",
    "plt.show()"
   ]
  },
  {
   "cell_type": "markdown",
   "metadata": {},
   "source": [
    "## Distribución de Poisson\n",
    "\n",
    "- La distribución de Poisson se usa a menudo en situaciones en las que contamos el número de éxitos en una región o intervalo de tiempo en particular, y hay una gran cantidad de intentos, cada uno con una pequeña probabilidad de éxito. \n",
    "\n",
    "- Por ejemplo, las siguientes variables aleatorias podrían seguir una distribución que es aproximadamente Poisson.\n",
    "\n",
    "- **La cantidad de correos electrónicos que recibe en una hora.** Hay muchas personas que podrían enviarle un correo electrónico en esa hora, pero es poco probable que una persona específica realmente le envíe un correo electrónico en esa hora. Alternativamente, imagina subdividir la hora en milisegundos. Hay $3.6\\times10^6$ segundos en una hora, pero en cualquier milisegundo específico es poco probable que reciba un correo electrónico.\n",
    "\n",
    "- **La cantidad de chispas (chips) en una galleta con chispas de chocolate.** Imagina subdividir la galleta en cubos pequeños; la probabilidad de obtener una chispa de chocolate en un solo cubo es pequeña, pero el número de cubos es grande.\n",
    "\n",
    "- **La cantidad de terremotos en un año en alguna región del mundo.** En cualquier momento y lugar, la probabilidad de que ocurra un terremoto es pequeña, pero hay una gran cantidad de posibles momentos y lugares para que ocurran los terremotos. el transcurso del año.\n",
    "\n",
    "- Decimos que una v.a. tiene una distribución de Poisson denotada por $X \\sim Pois(\\lambda)$.\n",
    "\n",
    "- El parámetro $\\lambda$ se interpreta como la tasa de\n",
    "ocurrencia de estos eventos raros; en los ejemplos anteriores,\n",
    "$\\lambda$ podría ser 20 (correos electrónicos por hora), 10 (chispas por galleta),\n",
    "y 2 (terremotos por año).\n",
    "\n",
    "- El paradigma de Poisson dice que en aplicaciones similares a las anteriores,\n",
    "podemos aproximar la distribución del número de eventos que ocurren\n",
    "por una distribución de Poisson.\n",
    "\n",
    "### PMF de Poisson\n",
    "\n",
    "- Dividimos un intervalo continuo $t$ en $N$ partes de igual ancho $t/N$.\n",
    "- El evento de observar $x$ éxitos en un intervalo continuo $t$, es equivalente a observar $x$ éxitos en $N$ experimentos de Bernoulli.\n",
    "- La probabilidad de acierto $p=\\lambda (t/N)$ depende únicamente del ancho $t/N$ y de una tasa de acierto $\\lambda$.\n",
    "\n",
    "<img src=\"https://raw.githubusercontent.com/marsgr6/r-scripts/master/imgs/line_plot.png\" alt=\"drawing\" width=\"300\"/>\n",
    "\n",
    "- De la distribución binomial tenemos que:\n",
    "$$bin(x; N, \\lambda (t/N)) = {N \\choose x} \\left(\\frac{\\lambda t}{N}\\right)^x \\cdot \n",
    "\\left(1 - \\frac{\\lambda t}{N}\\right)^{N-x}$$\n",
    "\n",
    "- Queremos asegurar que solo puede ocurrir un éxito en cada subdivisión de $t$,\n",
    "esto sucede cuando $N \\to \\infty$. \n",
    "\n",
    "- Resolvemos el siguiente límite:\n",
    "\n",
    "$$ \\lim_{N \\to \\infty} \\left[ {N \\choose x} \\left(\\frac{\\lambda t}{N}\\right)^x \\cdot \n",
    "\\left(1 - \\frac{\\lambda t}{N}\\right)^{N-x} \\right]$$\n",
    "\n",
    "- Podemos reescribir la combinación y la expresión se puede separar con el propósito de calcular los límites de las diferentes partes:\n",
    "\n",
    "$$ \\lim_{N \\to \\infty} \\left[ \\frac{N!}{(N-x)! x!} \\left(\\frac{\\lambda t}{N}\\right)^x \\cdot \n",
    "\\left(1 - \\frac{\\lambda t}{N}\\right)^{N-x} \\right]$$\n",
    "\n",
    "$$ \\frac{(\\lambda t)^x}{x!} \\cdot\n",
    "\\lim_{N \\to \\infty} \\left[ \n",
    "\\frac{N!}{(N-x)!N^x}\n",
    "\\right] \\cdot\n",
    "\\lim_{N \\to \\infty} \\left[ \n",
    "\\left(1-\\frac{\\lambda t}{N}\\right)^N \\right] \\cdot \n",
    "\\lim_{N \\to \\infty} \\left[\\left(1-\\frac{\\lambda t}{N}\\right)^{-x}\n",
    "\\right]\n",
    "$$\n",
    "\n",
    "$$\n",
    "\\lim_{N \\to \\infty} \\left[ \n",
    "\\frac{N!}{(N-x)!N^x}\n",
    "\\right] = \n",
    "\\lim_{N \\to \\infty} \\left[ \n",
    "\\frac{N(N-1)\\cdots(N-x+1)}{N^x}\n",
    "\\right] = 1\n",
    "$$\n",
    "\n",
    "$$\n",
    "\\lim_{N \\to \\infty} \n",
    "\\left[ \n",
    "\\left(1-\\frac{\\lambda t}{N}\\right)^N\n",
    "\\right] = e^{-\\lambda t}\n",
    "$$\n",
    "\n",
    "$$\n",
    "\\lim_{N \\to \\infty} \n",
    "\\left[ \n",
    "{\\left(1-\\frac{\\lambda t}{N}\\right)^{-x}}\n",
    "\\right] = 1.\n",
    "$$\n",
    "\n",
    "- Al volver a ensamblar las partes, se encuentra que la función binomial tiene un límite igual a:\n",
    "\n",
    "$$\n",
    "\\lim_{N \\to \\infty} bin(x;N,\\lambda (t/N)) = \\frac{(\\lambda t)^x}{x!} e^{-\\lambda t}\n",
    "$$\n",
    "\n",
    "Usualmente asumimos $t=1$, pero si $\\lambda$ es constante sobre el intervalo continuo $t$, podríamos usar\n",
    "$t\\geq 1$.\n",
    "\n",
    "### Resumen\n",
    "\n",
    "$$\n",
    "X \\sim Poiss(x; \\lambda)\n",
    "$$\n",
    "\n",
    "$$\n",
    "f_X(x; \\lambda) = \\frac{e^{-\\lambda} \\lambda^x}{x!},\\ x \\in \\{0, 1, 2, \\dots\\}\n",
    "$$\n",
    "\n",
    "- **Valor esperado y varianza:**\n",
    "\n",
    "$$\n",
    "E[X] = \\lambda,\\ Var[X] = \\lambda\n",
    "$$\n",
    "\n",
    "### Python simulation"
   ]
  },
  {
   "cell_type": "code",
   "execution_count": 8,
   "metadata": {},
   "outputs": [
    {
     "data": {
      "image/png": "[encoded data removed]",
      "text/plain": [
       "<Figure size 432x288 with 1 Axes>"
      ]
     },
     "metadata": {
      "needs_background": "light"
     },
     "output_type": "display_data"
    }
   ],
   "source": [
    "def poiss(lam):\n",
    "    u = np.random.rand()\n",
    "    cp = np.exp(-lam)\n",
    "    k = 0\n",
    "    factorial_k = 1\n",
    "    while cp < u:\n",
    "        k = k + 1\n",
    "        factorial_k = factorial_k * k\n",
    "        cp = cp + np.exp(-lam) * lam**k / factorial_k\n",
    "\n",
    "    return k\n",
    "\n",
    "lam = 4\n",
    "size = 10000  # sequence length\n",
    "\n",
    "RVS = [poiss(lam) for i in range(size)]\n",
    "\n",
    "unique, counts = np.unique(RVS, return_counts=True)\n",
    "plt.bar(unique, counts / size)\n",
    "\n",
    "# ploting poisson polygon curve\n",
    "from scipy.stats import poisson\n",
    "x = np.linspace(0, max(RVS), dtype='int')  # variable range\n",
    "px = poisson.pmf(x, lam)\n",
    "plt.plot(x, px, '--ro')\n",
    "plt.legend(['Theoretical pmf'])\n",
    "\n",
    "plt.show()"
   ]
  },
  {
   "cell_type": "markdown",
   "metadata": {},
   "source": [
    "## Distribución Hipergeométrica\n",
    "\n",
    "- Tenemos una urna llena de $w$ bolas blancas y $b$ bolas negras,\n",
    "si se sacan $n$ bolas\n",
    "de la urna con reemplazo se produce una distribución $Bin(n, w/(w + b))$\n",
    "por el número de bolas blancas obtenidas en $n$ intentos,\n",
    "dado que los sorteos son ensayos de Bernoulli independientes,\n",
    "cada uno con probabilidad $w/(w+b)$ de éxito.\n",
    "\n",
    "- Si, en cambio, muestreamos sin reemplazo, entonces el número de bolas blancas sigue una **Distribución hipergeométrica**.\n",
    "\n",
    "- **Historia hipergeométrica.** Una urna contiene $w = 6$ bolas blancas y $b = 4$ bolas negras. Queremos una muestra muestra de $n = 5$ bolas sin reemplazo. \n",
    "  - El número $X$ de bolas blancas en la muestra sigue una distribución Hipergeométrica; aquí observamos $X = 3$.\n",
    "\n",
    "![](https://i.imgur.com/jGp0QIZ.png)\n",
    "\n",
    "- Considere una urna con $w$ bolas blancas y $b$ bolas negras.\n",
    "Sacamos $n$ bolas de la urna al azar sin reemplazo,\n",
    "tal que todas las muestras de $\\binom{w+b}{n}$ son igualmente probables.\n",
    "\n",
    "- Sea $X$ el número de bolas blancas en la muestra.\n",
    "Entonces se dice que $X$ tiene la \\textbf{distribución hipergeométrica}\n",
    "con parámetros $w, b$ y $n$; denotamos esto por\n",
    "$X \\sim \\text{HGeom}(w, b, n),\\\n",
    "P(X=k)=\\frac{\\binom{w}{k}\\binom{b}{n-k}}{\\binom{w+b}{n}}$.\n",
    "\n",
    "### PMF Hipergeométrica\n",
    "\n",
    "- Si $X \\sim \\text{HGeom}(K, N, n)$, entonces la PMF \n",
    "de $X$ es\n",
    "$$\n",
    "f_X(k; K, N, n) = P(X=k)=\\frac{\\dbinom{K}{k}\\dbinom{N-K}{n-k}}{\\dbinom{N}{n}}\n",
    "$$\n",
    "para enteros $k$ que satisfacen $0 \\leq k \\leq K$ y\n",
    "$0 \\leq n-k \\leq N-K$, \n",
    "y $P(X=k)=0$ de lo contrario. Es decir el soporte es: $k\\in \\{max(0,n+K-N),\\dots,min(n,K)\\}$.\n",
    "\n",
    "- **Valor esperado y varianza:**\n",
    "\n",
    "$$\n",
    "\\mu=\\frac{nK}{N}, \\quad \\sigma^2=n\\frac{K}{N}\\frac{(N-K)}{N}\\frac{N-n}{N-1}\n",
    "$$"
   ]
  },
  {
   "cell_type": "code",
   "execution_count": 9,
   "metadata": {},
   "outputs": [
    {
     "data": {
      "image/png": "[encoded data removed]",
      "text/plain": [
       "<Figure size 432x288 with 1 Axes>"
      ]
     },
     "metadata": {
      "needs_background": "light"
     },
     "output_type": "display_data"
    }
   ],
   "source": [
    "def urna(w, b, n):\n",
    "    \"\"\"\n",
    "    w: number of white balls\n",
    "    b: number of black balls\n",
    "    n: sample size (without replacement)\n",
    "    returns a string containing the sample of size n\n",
    "    \"\"\"\n",
    "    bolas = 'w' * w + 'b' * b\n",
    "    bL = [b for b in bolas]\n",
    "    np.random.shuffle(bL)\n",
    "    return ''.join(bL)[:n]\n",
    "\n",
    "\n",
    "def sim_urna(w, b, n, rep):\n",
    "    \"\"\"\n",
    "    Simulates urna sampling for a given number of\n",
    "    repetitions (rep)\n",
    "    returns a sequence containing the counts for the white balls\n",
    "    \"\"\"\n",
    "    R = []\n",
    "    for i in range(rep):\n",
    "        R.append(urna(w, b, n).count('w'))\n",
    "\n",
    "    return R\n",
    "\n",
    "RVS = sim_urna(6, 4, 5, 10000)\n",
    "\n",
    "# Plots RVS frequencies\n",
    "unique, counts = np.unique(RVS, return_counts=True)\n",
    "plt.bar(unique, counts / size)\n",
    "\n",
    "# Plot pmf\n",
    "from scipy.stats import hypergeom  # import Python implementation \n",
    "x = np.linspace(min(RVS), max(RVS), dtype='int')  # variable range\n",
    "px = hypergeom.pmf(x, 10, 6, 5)\n",
    "plt.plot(x, px, '--ro')\n",
    "plt.legend(['Theoretical pmf'])\n",
    "\n",
    "plt.show()"
   ]
  },
  {
   "cell_type": "code",
   "execution_count": 10,
   "metadata": {},
   "outputs": [
    {
     "data": {
      "image/png": "[encoded data removed]",
      "text/plain": [
       "<Figure size 432x288 with 1 Axes>"
      ]
     },
     "metadata": {
      "needs_background": "light"
     },
     "output_type": "display_data"
    }
   ],
   "source": [
    "# Another version of the urn implementation\n",
    "# HGeom(K,N,n)\n",
    "\n",
    "def hgeom(K, N, n):\n",
    "    # K: white balls\n",
    "    # N: total balls\n",
    "    # n: sample size\n",
    "    urn = K*[1] + (N-K)*[0]  # urn, 1: white, 0: black\n",
    "    np.random.shuffle(urn)  # urn shuffle\n",
    "    return sum(urn[:n])\n",
    "\n",
    "K = 6  # white balss, n in python\n",
    "N = 10  # Total balls, M in python\n",
    "n = 5  # sample size, N in python\n",
    "\n",
    "X = np.array([hgeom(K, N, n) for i in range(10000)])  # random vector\n",
    "\n",
    "x, fx = np.unique(X, return_counts=True)  # count of unique values and frequencies\n",
    "\n",
    "bp = plt.bar(x, fx/sum(fx), width=0.1, label=\"Simulated frequencies\")  # barplot\n",
    "plt.plot(x, hypergeom.pmf(x, n=K, N=n, M=N), ':xr', label=\"Theoretical PMF\")  # Python implementation\n",
    "l = plt.legend()"
   ]
  },
  {
   "cell_type": "markdown",
   "metadata": {},
   "source": [
    "# Sources and resources\n",
    "\n",
    "- PennState Eberly College of Science, STAT 500 Applied Statistics, [Discrete distritubions](https://online.stat.psu.edu/stat500/lesson/3/3.2).\n",
    "- Joseph K. Blitzstein, Jessica Hwang, [Introduction to Probability](https://www.taylorfrancis.com/books/mono/10.1201/9780429428357/introduction-probability-joseph-blitzstein-jessica-hwang).\n",
    "- John Tsitsiklis, and Patrick Jaillet. [RES.6-012 Introduction to Probability](https://ocw.mit.edu/resources/res-6-012-introduction-to-probability-spring-2018/part-i-the-fundamentals/). Spring 2018. Massachusetts Institute of Technology: MIT OpenCourseWare, https://ocw.mit.edu. License: Creative Commons BY-NC-SA."
   ]
  },
  {
   "cell_type": "markdown",
   "metadata": {},
   "source": [
    "**Homework 1:** For all the **discrete distributions** above, use the scipy.stats function to generate a random variate vector, and plot the theoretical pmf to compare with the generated frequencies. You can go to the wiki page of each distribution to replicate for the **parameters** given in the examples. Or go to the slides: https://drive.google.com/file/d/0B-dmEvN59Z2ZOF9US1RxcVRyQnc/view, and try the examples and excercises.\n",
    "1. Generate RVS and plot bar graph with relative frequencies\n",
    "2. Plot theoretical PMF and compare with bar diagram\n",
    "3. Calculate theoretical E[X] and Var[X] and compare with sample mean and variance of RVS\n",
    "4. Calculate cumulative frequencies of RVS in point **(1)**\n",
    "5. Plot theoretical CDF and compare with point **(4)**"
   ]
  }
 ],
 "metadata": {
  "kernelspec": {
   "display_name": "Python 3",
   "language": "python",
   "name": "python3"
  },
  "language_info": {
   "codemirror_mode": {
    "name": "ipython",
    "version": 3
   },
   "file_extension": ".py",
   "mimetype": "text/x-python",
   "name": "python",
   "nbconvert_exporter": "python",
   "pygments_lexer": "ipython3",
   "version": "3.8.3"
  }
 },
 "nbformat": 4,
 "nbformat_minor": 2
}
