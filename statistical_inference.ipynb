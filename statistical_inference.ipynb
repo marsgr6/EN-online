{
 "cells": [
  {
   "cell_type": "markdown",
   "metadata": {},
   "source": [
    "# Estadística Inferencial\n",
    "\n",
    "<a id=\"toc\"></a>\n",
    "## Contenido\n",
    "\n",
    "- [Instrucciones Generales](#Instruciones-Generales)\n",
    "- [Inferencia Estadística](#infstat)\n",
    "  - [Función generatriz de momentos](#fgm)\n",
    "  - [Ley de los grandes números](#lln)\n",
    "  - [Teorema del límite central](#clt)\n",
    "- [Estimación puntual](#pointest)\n",
    "  - [Media vs. mediana como estimadores de la media poblacional](#meanmed)\n",
    "  - [Estimador sesgado y no sesgado de la varianza](#var)\n",
    "- [Estimación por intervalos](#intest)\n",
    "  - [Intervalo de Confianza para la media cuando se muestrea una distribución normal con varianza conocida](#zint)\n",
    "  - [Intervalo de Confianza para la media cuando se muestrea una distribución normal con varianza desconocida](#tint)\n",
    "  - [Intervalo de Confianza para la diferencia de medias cuando se muestrean dos distribuciones normales independientes con varianzas desconocidas pero iguales](#tdint)\n",
    "  - [Intervalo t de Welch (Welch's t-Interval)](#welch)\n",
    "  - [Intervalo para datos pareado (Paired t-Interval)](#paired)\n",
    "  - [Intervalo de confianza para la varianza de una población](#varpop)\n",
    "  - [Intervalo de Confianza con respecto al cociente de varianzas de dos distribuciones normales independientes](#varcoc)\n",
    "  - [Intervalo de Confianza para la proporción (una sola muestra) para muestras grandes](#prop)\n",
    "  - [Intervalo de Confianza para la diferencia de proporciones cuando se muestrean dos poblaciones independientes](#propdiff)\n",
    "  - [Resumen de fórmulas](#fic)\n",
    "- [Pruebas de hipótesis](#ph)  \n",
    "  - [Prueba de hipótesis para la media cuando se muestrea una población normal con varianza conocida](#phz)\n",
    "  - [Error de Tipo I ($\\alpha$), Tipo II ($\\beta$) y poder de la prueba (power=$1-\\beta$)](#beta)\n",
    "  - [Prueba de hipótesis para la media cuando se muestrea una población normal con varianza desconocida](#pht)\n",
    "  - [Prueba t para datos pareados](#pairedtest)\n",
    "  - [Prueba de hipótesis para la diferencia de medias cuando se muestrean dos poblaciones normales independientes con varianzas desconocidas pero iguales](#varnotequal)\n",
    "  - [Prueba de hipótesis para la diferencia de medias cuando se muestrean dos poblaciones normales independientes cunado las varianzas no son iguales (Welch's t-test)](#welchttest)\n",
    "  - [Prueba de hipótesis para las varianzas cuando se muestrean dos poblaciones normales independientes](#twovars)\n",
    "  - [Prueba de hipótesis para la varianza cuando se muestrea una distribución normal](#onevar)\n",
    "  - [Prueba de hipótesis para la proporción](#oneprop)\n",
    "  - [Prueba de hipótesis para la diferencia de proporciones cuando se muestrean dos poblaciones independientes, no necesariamente normales, para muestras grandes ($n_X, n_Y \\geq 30$) y varianzas conocidas](#twoprop)\n",
    "  - [Prueba de Bondad de Ajuste](#chi2ba)\n",
    "  - [Prueba de independecia Chi-cuadrado (Chi-Square Test of Independence)](#chi2ind)\n",
    "  - [Resumen de fórmulas](#fph)"
   ]
  },
  {
   "cell_type": "markdown",
   "metadata": {},
   "source": [
    "## Instruciones Generales\n",
    "\n",
    "### Código\n",
    "\n",
    "- Cuando aparezca esta imagen en el notebook, encontrará código Python que puede ser intermedio o avanzado. \n",
    "\n",
    "<img align=\"left\" src=\"https://raw.githubusercontent.com/marsgr6/r-scripts/master/imgs/python-banner-300x89.png\">\n",
    "\n",
    "<br/>\n",
    "\n",
    "### Opcional: Practique Python\n",
    "\n",
    "<br/><br/>\n",
    "\n",
    "  - **Esta sección es opcional**.\n",
    "  - Concéntrense en los conceptos que se están tratando. \n",
    "  - Cuando se sienta cómodo con Python estudie el código. \n",
    "\n",
    "### Experimentación\n",
    "\n",
    "- Cuando aparezca esta imagen en el notebook, encontrará instrucciones de actividades de experimentación a realizar de forma autónoma para reforzar los temas tratados. \n",
    "  - Esto puede ser cambiar un fragmento del código. \n",
    "  - O realizar análisis adicionales sobre los resultados presentados. \n",
    "\n",
    "<img align=\"left\" width=\"80px\" src=\"https://raw.githubusercontent.com/marsgr6/r-scripts/master/imgs/activity.png\">\n",
    "\n",
    "<br/>\n",
    "\n",
    "### Experimente\n",
    "<br/>\n",
    "<br/>\n",
    "\n",
    "<a id=\"infstat\"></a>\n",
    "### Inferencia Estadística\n",
    "\n",
    "[Volver al índice](#toc)\n",
    "\n",
    "- Vamos a presentar algunos conceptos que nos serán útiles para entender la inferencia estadística.\n",
    "\n",
    "- Hemos presentado conceptos de distribución de una variable aleatoria (v.a.) tanto para el caso discreto como continuo. \n",
    "  - En nuestros ejemplos siempre hemos conocido los parámetros poblacionales de nuestra distribución.\n",
    "\n",
    "- Cuando observamos un sistema, tenemos acceso a una muestra finita (subconjunto), $x_1, x_2, \\dots, x_n$ de la población, que sigue cierta distribución, ej. $X\\sim N(\\mu, \\sigma)$. \n",
    "  - En la mayoría de los casos, desconocemos la distribución de la población y desconocemos sus parámetros $\\mu, \\sigma$.\n",
    "\n",
    "- **La estadística inferencial** se encarga de inferir información acerca de los parámetros poblacionales, ej. $\\mu, \\sigma$, a partir de la muestra observada. \n",
    "\n",
    "- Por ejemplo la media muestral $\\bar{X} = \\frac{1}{n} \\sum_{i=1}^n x_i$ es un **estimador puntual** de la media poblacional $\\mu$ y la varianza muestral $s^2 = \\frac{1}{n-1}\\sum_{i=1}^n (x_i - \\bar{X})^2$ es un estimador no sesgado de la varianza poblacional.\n",
    "\n",
    "<img src=\"https://raw.githubusercontent.com/marsgr6/r-scripts/master/imgs/sample.png\" alt=\"\" width=\"600\" />\n",
    "\n",
    "- Presentaremos conceptos como función generatriz de momentos, que nos serán útiles para demostrar el teorema del límite central. \n",
    "\n",
    "- El teorema del límite central nos dice qué distribución tiene la v.a. $\\bar{X}$. \n",
    "  - Conocer la distribución de $\\bar{X}$ nos ayudará a inferir información acerca del parámetro poblacional $\\mu$. \n",
    "\n",
    "- Algunos conceptos que debemos tener en cuenta para esta sección:\n",
    "  - **Población:** es el conjunto de elementos que son objeto de estudio estadístico.\n",
    "  - **Individuo:** cada uno de los elementos de la población. \n",
    "    - El número total de individuos de la población se suele denotar como $N$.\n",
    "  - **Muestra:** es una parte (subconjunto) de la población con la que realmente se realiza el estudio.\n",
    "  - **Tamaño de muestra:** es el número de elementos del que se compone la muestra y se suele denotar como **n**.\n",
    "  - **Estadístico:** cualquier función de la muestra. Por ejemplo, la media o la varianza muestrales son estadísticos. \n",
    "  - **Estimadores:** son estadísticos independientes de los parámetros de la población, y que se utilizan para aproximarlos."
   ]
  },
  {
   "cell_type": "markdown",
   "metadata": {},
   "source": [
    "<a id=\"fgm\"></a>\n",
    "## Función generatriz de momentos (FGM)\n",
    "\n",
    "[Volver al índice](#toc)\n",
    "\n",
    "$$\n",
    "M_X(t) = E[e^{tX}]= \\left\\{\n",
    "                \\begin{array}{ll}\n",
    "                  \\sum_{R(X)} g_X(x)  e^{tx},\\ X \\text{: va. discreta,} \\\\\n",
    "                  \\int_{R(X)} [f_X(x)  e^{tx}] dx,\\ X \\text{: v.a. continua.}\n",
    "                \\end{array}\n",
    "              \\right.\n",
    "$$\n",
    "\n",
    "Usando el FGM, podemos obtener los momentos de la variable aleatoria $X$, $E[X^n]$, derivando la función $n$ veces y evaluando $t=0$.\n",
    "\n",
    "$$\n",
    "E[X] = M_x'(t=0)\n",
    "$$\n",
    "\n",
    "$$\n",
    "E[X^2] = M_x''(t=0)\n",
    "$$\n",
    "\n",
    "$$\n",
    "E[X^n] = M_x^n(t=0)\n",
    "$$\n",
    "\n",
    "Por lo tanto, podemos usar el FGM para calcular el valor esperado y la varianza de $X$.\n",
    "\n",
    "### La FGM determina la distribución\n",
    "\n",
    "La FGM de una variable aleatoria determina su distribución: si dos v.a.s. tienen la misma FGM, deben tener\n",
    "la misma distribución.\n",
    "\n",
    "### Suma de variables aleatorias independientes\n",
    "\n",
    "Si $X$ y $Y$ son independientes,\n",
    "entonces la FGM de $X + Y$ es el producto de las FGM individuales:\n",
    "\n",
    "$$\n",
    "M_X+Y(t) = M_X(t)M_Y(t).\n",
    "$$\n",
    "\n",
    "Esto es cierto porque si $X$ y $Y$ son independientes, entonces $E[e^{t(X+Y)}] = E[e^{tX}]E[e^{tY}]$.\n",
    "\n",
    "Podemos extender esto a $n$ variables:\n",
    "\n",
    "$$W = X_1 + X_n + \\cdots + X_n,$$ entonces\n",
    "\n",
    "$$\n",
    "M_W(t) = E[e^{tW}] = E[e^{t(X_1+X_2+\\cdots + X_n)}] = E[e^{tX_1}]E[e^{tX_2}] \\cdots E[e^{tX_n}]\n",
    "$$\n",
    "\n",
    "$$\n",
    "M_W(t) = M_{X_1}(t) M_{X_2}(t) \\dots M_{X_n}(t) \n",
    "$$\n",
    "\n",
    "### Suma de variables aleatorias normales independientes\n",
    "\n",
    "Si tenemos una colección de v.a.s. normales independientes. $X_1 + X_2 + \\cdots + X_n$, con $X_i \\sim N(\\mu_i, \\sigma_i^2)$. Entonces la distribución de $W = X_1 + X_n + \\cdots + X_n$, es\n",
    "\n",
    "\n",
    "$$\n",
    "W \\sim \\mathcal{N} \\left(\\sum \\mu_i, \\sum \\sigma_i^2 \\right).\n",
    "$$\n",
    "\n",
    "\n",
    "**Demostración**\n",
    "\n",
    "La función generadora de momentos de una variable aleatoria $X \\sim N(\\mu, \\sigma^2)$ es $M_X(t) = e^{t \\mu + 1/2 \\sigma^2 t^2}$.\n",
    "\n",
    "$$\n",
    "M_W(t) = M_{X_1}(t) M_{X_2}(t) \\dots M_{X_n}(t) \n",
    "$$\n",
    "\n",
    "$$\n",
    "M_W(t) = [e^{t \\mu_1 + 1/2 \\sigma_1^2 t^2}] [e^{t \\mu_2 + 1/2 \\sigma_2^2 t^2}] \\cdots [e^{t \\mu_n + 1/2 \\sigma_n^2 t^2}]\n",
    "$$ \n",
    "\n",
    "$$\n",
    "M_W(t) = e^{t(\\mu_1 + \\mu_2 + \\cdots + \\mu_n) + 1/2 t^2 (\\sigma_1^2 + \\sigma_2^2 + \\cdots + \\sigma_n^2) }\n",
    "$$\n",
    "\n",
    "La última expresión corresponde a la FGM de una distribución normal, y dado que la FGM determina la distribución, tenemos que\n",
    "$$W \\sim N (\\mu_1 + \\mu_2 + \\cdots + \\mu_n, \\sigma_1^2 + \\sigma_2^2 + \\cdots + \\sigma_n^2).$$\n",
    "\n",
    "En general si $W = \\sum a_i X_i$, tenemos:\n",
    "\n",
    "$$\n",
    "W \\sim \\mathcal{N} \\left(\\sum a_i \\mu_i, \\sum a_i^2 \\sigma_i^2 \\right).\n",
    "$$\n",
    "\n",
    "<a id=\"lln\"></a>\n",
    "### Ley de los grandes números\n",
    "\n",
    "- En la teoría de la probabilidad, la ley de los grandes números (LGN) es un teorema que describe el resultado de realizar el mismo experimento un gran número de veces (obtener una muestra muy grande). \n",
    "\n",
    "- De acuerdo con la ley, el promedio de los resultados obtenidos de una gran cantidad de ensayos debe estar cerca del valor esperado y tiende a acercarse al valor esperado a medida que se realizan más ensayos.\n",
    "\n",
    "- Supongamos que tenemos una v.a. i.i.d. $X_1 , X_2 , X_3 , \\dots$\n",
    "con media finita $\\mu$ y varianza finita $\\sigma^2$.\n",
    "Para todos los enteros positivos $n$, sea\n",
    "$$\n",
    "\\bar{X}_n=\\frac{X_1 + \\cdots + X_n}{n}\n",
    "$$\n",
    "sea la media muestral de $X_1$ a $X_n$.\n",
    "La media muestral es en sí misma una v.a., con media\n",
    "$\\mu$ y varianza $\\sigma^2/n$:\n",
    "$$\n",
    "E(\\bar{X}_n)=\\frac{1}{n}E(X_1+\\cdots+X_n)=\n",
    "\\frac{1}{n}(E(X_1)+\\cdots+E(X_n))=\\mu,\n",
    "$$\n",
    "$$\n",
    "Var(\\bar{X}_n)=\\frac{1}{n^2}Var(X_1+\\cdots+X_n)=\n",
    "\\frac{1}{n^2}(Var(X_1)+\\cdots+Var(X_n))=\\frac{\\sigma^2}{n}.\n",
    "$$\n",
    "\n",
    "- La ley de los grandes números dice que a medida que el tamaño de la muestra $n$ crece, la media muestral $\\bar{X}_n$ converge a la verdadera media $\\mu$.\n",
    "\n",
    "- Pero, ¿cuál es la distribución de $\\bar{X}_n$ a lo largo del camino para convertirse en un constante?\n",
    "\n",
    "<a id=\"clt\"></a>\n",
    "### Teorema del límite central\n",
    "\n",
    "- En la teoría de la probabilidad, el teorema del límite central (TLC) establece que, en muchas situaciones, cuando se suman variables aleatorias independientes, su suma tiende hacia una distribución normal incluso si las variables originales en sí no están distribuidas de forma normal. \n",
    "\n",
    "- El TLC es un concepto clave en la teoría de la probabilidad porque implica que los métodos probabilísticos y estadísticos que funcionan para distribuciones normales pueden aplicarse a muchos problemas que involucran otros tipos de distribuciones.\n",
    "\n",
    "Si tenemos una colección de v.a.s. normales i.i.d. $X_1 + X_2 + \\cdots + X_n$, con $X_i \\sim N(\\mu, \\sigma^2)$.\n",
    "\n",
    "Entonces para $n$ lo suficientemente grande tenemos:\n",
    "\n",
    "$$\n",
    "\\sum X_i \\sim N(n \\mu, n \\sigma^2) \\Rightarrow \\frac{\\sum X_i - n \\mu}{\\sigma \\sqrt{n}} \\sim N(0,1)\n",
    "$$\n",
    "\n",
    "$$\n",
    "\\bar{X} = \\frac{\\sum X_i}{n}  \\sim N(\\mu, \\sigma^2 / n) \\Rightarrow \\frac{\\bar{X} - \\mu}{ \\sigma / \\sqrt{n}} \\sim N(0,1)\n",
    "$$\n",
    "\n",
    "- Demostración\n",
    "\n",
    "$$\n",
    "E[\\bar{X}] = E \\left[\\frac{\\sum X_i}{n} \\right] = \\frac{1}{n} E \\left[\\sum X_i \\right]\n",
    "= \\frac{1}{n} E \\left[X_1 + X_2 + \\cdots + X_n \\right] = \\frac{n \\mu}{n} = \\mu.\n",
    "$$\n",
    "\n",
    "$$\n",
    "Var[\\bar{X}] = Var \\left[\\frac{\\sum X_i}{n} \\right] = \\frac{1}{n^2} var \\left[\\sum X_i \\right]\n",
    "= \\frac{1}{n^2} E \\left[X_1 + X_2 + \\cdots + X_n \\right] = \\frac{n \\sigma^2}{n^2} = \\frac{\\sigma^2}{n}.\n",
    "$$\n",
    "\n",
    "- En este punto conocemos ya la distribución que tiene la media muestral $\\bar{X}$.\n",
    "  - Esto nos será útil para inferir información acerca de la media poblacional $\\mu$ usando el estimador $\\bar{X}$.\n",
    "- La distribución normal es una distribución importante por su relación con el teorema del límite central. \n",
    "\n",
    "- **Vea una demostración interactiva:**\n",
    "  - Ley de los grandes números: https://en-interactive.herokuapp.com/#/5/1\n",
    "  - Teorema del Límite Central: https://en-interactive.herokuapp.com/#/6/1"
   ]
  },
  {
   "cell_type": "markdown",
   "metadata": {},
   "source": [
    "<a id=\"pointest\"></a>\n",
    "### Estimación puntual\n",
    "\n",
    "[Volver al índice](#toc)\n",
    "\n",
    "- Vamos a discutir estimación puntual y algunas de las características deseables para un estimador. \n",
    "\n",
    "- De nuevo vamos a partir de la definición de la media muestral $\\bar{X} = \\frac{1}{n} \\sum_{i=1}^n x_i$ es un **estimador puntual** de la media poblacional $\\mu$.\n",
    "\n",
    "<img src=\"https://raw.githubusercontent.com/marsgr6/r-scripts/master/imgs/sample.png\" alt=\"\" width=\"600\" />\n",
    "\n",
    "\n",
    "- **Definición:**\n",
    "\n",
    "  - Sea $X$ una variable aleatoria (población) cuya distribución $f_X(x)$ depende de un parámetro $\\theta$\n",
    "desconocido. \n",
    "- Un estimador del parámetro $\\theta$ es un **estadístico** $\\hat{\\theta} = T(X_1, X_2, \\dots, X_n)$ que se utiliza para estimar el valor de dicho parámetro, con base en los valores observados de la muestra aleatoria.\n",
    "\n",
    "### Criterios para la selección de un estimador:\n",
    "1. Que sea centrado (no sesgado), es decir, que $E[\\hat{\\theta}] = \\theta$.\n",
    "2. De mínima varianza, en el sentido que si $\\hat{\\theta_1}$ y $\\hat{\\theta_2}$ son estimadores centrados de $\\theta$, se considera mejor aquel de menor varianza.\n",
    "3. Es deseable que sea lineal respecto a las variables de la muestra.\n",
    "\n",
    "### Ejemplo\n",
    "\n",
    "- Sea $X_1, X_2, \\dots X_n$ una muestra aleatoria de una v.a. $X$, con media $\\mu$ y \n",
    "varianza $\\sigma^2$ (parámetros desconocidos).\n",
    "- Entonces:\n",
    "$$\\hat{\\mu} = \\bar{X} = \\frac{1}{n} \\sum_{i=1}^n x_i$$\n",
    "y \n",
    "$$\\hat{\\sigma^2} = s^2= \\frac{1}{n-1}\\sum_{i=1}^n (x_i - \\bar{X})^2$$\n",
    "son estimadores puntuales de la media $\\mu$ y la\n",
    "varianza $\\sigma^2$ poblacionales, respectivamente."
   ]
  },
  {
   "cell_type": "markdown",
   "metadata": {},
   "source": [
    "<a id=\"meanmed\"></a>\n",
    "- **Estimadores de la media poblacional: media muestral $\\bar{X}$ vs. mediana de la muestra.**\n",
    "\n",
    "  1. Vamos a generar una muestra aleatoria a partir de una distribución uniforme estándar:\n",
    "  $$X\\sim U(a, b), a=0, b=1.$$\n",
    "    - La muestra tiene tamaño n=30. \n",
    "  2. A partir de la muestra vamos a calcular la media muestral $\\bar{X}$. \n",
    "  3. Repetimos 1 y 2 un número dado de veces **size = 100000**.\n",
    "  4. Construiremos un gráfico de densidad con las **size = 100000** observaciones (cálculos) que hicimos de la media muestral $\\bar{X}$. \n",
    "    - Note que $\\bar{X}$ es una v.a. \n",
    "\n",
    "- Repetimos el proceso anterior, pero en lugar de calcular el gráfico de densidad para la media muestral $\\bar{X}$, lo haremos para la mediana de la muestra. \n",
    "\n",
    "- Conocemos la distribución de origen $X\\sim U(a, b), a=0, b=1$, podemos calcular por tanto la media poblacional y usar como referencia, para observar si las curvas están centradas alrededor de $\\mu$:\n",
    "$$\\mu = \\frac{1}{2} (a+b)$$\n",
    "\n",
    "  - Vea: https://en.wikipedia.org/wiki/Continuous_uniform_distribution"
   ]
  },
  {
   "cell_type": "markdown",
   "metadata": {},
   "source": [
    "<img align=\"left\" src=\"https://raw.githubusercontent.com/marsgr6/r-scripts/master/imgs/python-banner-300x89.png\">\n",
    "\n",
    "<br/>\n",
    "\n",
    "### Opcional: Practique Python\n"
   ]
  },
  {
   "cell_type": "code",
   "execution_count": 1,
   "metadata": {},
   "outputs": [
    {
     "data": {
      "image/png": "[encoded data removed]",
      "text/plain": [
       "<Figure size 576x432 with 1 Axes>"
      ]
     },
     "metadata": {
      "needs_background": "light"
     },
     "output_type": "display_data"
    }
   ],
   "source": [
    "import numpy as np\n",
    "import pandas as pd\n",
    "import matplotlib.pyplot as plt\n",
    "import seaborn as sns\n",
    "from scipy.stats import uniform\n",
    "\n",
    "# fijamos una semilla para tener reproducibilidad de los resultados\n",
    "np.random.seed(123)\n",
    "\n",
    "size = 100000  # repeticiones de la simulación\n",
    "n = 30  # tamaño de muestra\n",
    "\n",
    "# parámetros de la distribución uniforme\n",
    "a = 0\n",
    "b = 1\n",
    "\n",
    "U = uniform.rvs(a, b-a, size=(size,n))  # v.a. uniforme X \\sim U(0,1)\n",
    "# Vea la media y varianza: https://en.wikipedia.org/wiki/Continuous_uniform_distribution\n",
    "mu = 1/2 * (a + b)\n",
    "\n",
    "Umean = U.mean(axis=1)\n",
    "Umedian = np.median(U, axis=1)\n",
    "\n",
    "plt.figure(figsize=(8,6))\n",
    "sns.kdeplot(Umean, label=r\"Media muestral ($\\bar{X}$)\", bw_adjust=3)\n",
    "sns.kdeplot(Umedian, label=\"Mediana muestral\", bw_adjust=3)\n",
    "plt.vlines(mu, 0, 7.2, linestyles=\"dashed\", label=\"Media poblacional\")\n",
    "l = plt.legend()"
   ]
  },
  {
   "cell_type": "markdown",
   "metadata": {},
   "source": [
    "- Podemos observar en la figura arriba que la distribución de la media (curva azul), así como de la mediana (curva naranaja) de la muestra están centradas alrededor de la media poblacional $\\mu = \\frac{1}{2} (a+b)$ representada por la línea punteada.\n",
    "  - Sin embargo la media muestral $\\bar{X}$, es el estimador de mínima varianza. \n",
    "  \n",
    "- Podemos apreciar que $E[\\bar{X}] \\approx \\mu$, tal como esperamos para un estimador que sea centrado (no sesgado), decir, que $E[\\hat{\\theta}] = \\theta$.\n",
    "\n",
    "[Volver al índice](#toc)"
   ]
  },
  {
   "cell_type": "markdown",
   "metadata": {},
   "source": [
    "<a id=\"var\"></a>\n",
    "- **Observemos dos estimadores para la varianza poblacional:**\n",
    "\n",
    "  - Estimador de máxima verosimilitud: $$\\hat{\\sigma^2} = \\frac{1}{n}\\sum_{i=1}^n (x_i - \\bar{X})^2.$$\n",
    "  - Estimador no sesgado: $$\\hat{\\sigma^2} = s^2 = \\frac{1}{n-1}\\sum_{i=1}^n (x_i - \\bar{X})^2.$$\n",
    "  \n",
    "- Vamos a repetir el proceso que implementamos para la media y la mediana, esta vez para los 2 estimadores definidos arriba.  \n",
    "\n",
    "- Conocemos la distribución de origen $X\\sim U(a, b), a=0, b=1$, podemos calcular por tanto la varianza de la población y usarla como referencia, para observar si las curvas están centradas alrededor de $\\mu$:\n",
    "$$\\sigma^2 = \\frac{1}{12} (b-a)^2.$$\n",
    "  - Vea: https://en.wikipedia.org/wiki/Continuous_uniform_distribution"
   ]
  },
  {
   "cell_type": "code",
   "execution_count": 2,
   "metadata": {},
   "outputs": [
    {
     "data": {
      "image/png": "[encoded data removed]",
      "text/plain": [
       "<Figure size 576x432 with 1 Axes>"
      ]
     },
     "metadata": {
      "needs_background": "light"
     },
     "output_type": "display_data"
    }
   ],
   "source": [
    "size = 100000  # repeticiones de la simulación\n",
    "n = 30  # tamaño de muestra\n",
    "\n",
    "# parámetros de la distribución uniforme\n",
    "a = 0\n",
    "b = 1\n",
    "\n",
    "mu = 1/2 * (a + b)\n",
    "\n",
    "sigma2 = 1/12 * (b - a)**2\n",
    "\n",
    "U = uniform.rvs(a, b-a, size=(size,n))  # v.a. uniforme X \\sim U(0,1)\n",
    "\n",
    "Uvar_mv = np.var(U, axis=1)  # estimador de máxima verosimilitud\n",
    "Uvar_ns = np.var(U, axis=1, ddof=1)  # estimador centrado\n",
    "\n",
    "plt.figure(figsize=(8,6))\n",
    "sns.kdeplot(Uvar_mv, label=r\"Varianza muestral (estimador de máxima verosimilitud)\", bw_adjust=3)\n",
    "sns.kdeplot(Uvar_ns, label=\"Varianza muestral (estimador no sesgado)\", bw_adjust=3)\n",
    "plt.vlines(sigma2, 0, 28, linestyles=\"dashed\", label=\"Varianza poblacional\")\n",
    "plt.xlabel(r\"$s^2$\")\n",
    "l = plt.legend()"
   ]
  },
  {
   "cell_type": "markdown",
   "metadata": {},
   "source": [
    "- Podemos observar que el estimador de máxima verosimilitud (curva azul) es sesgado con respecto a la varianza poblacional $\\sigma^2 = \\frac{1}{12} (b-a)^2$. \n",
    "  - Este debe corregirse para poder tener un estimador centrado (curva naranja). \n",
    "- Note que el estimador de máxima verosimilitud tiene en el denominador $n$ mientras que el estimador no sesgado divide por $n-1$, es decir el estimador de máxima verosimilitud divide por un valor más grande, por tanto subestima el valor de la varianza poblacional, y la curva azul está sesgada a la izquierda. \n",
    "    - ¿Qué ocurre para $n \\rightarrow \\infty$?\n",
    "\n",
    "<a id=\"intest\"></a>\n",
    "## Estimación por intervalos\n",
    "\n",
    "[Volver al índice](#toc)\n",
    "\n",
    "- Más útil que dar una **estimación puntual** del parámetro poblacional, es dar una estimación por intervalo. \n",
    "  - Esto lo conocemos como un **intervalo de confianza** para el parámetro del que estamos infiriendo información. \n",
    "  \n",
    "- Vamos a presentar algunos conceptos que nos serán útiles para entender algunos de los estadísticos utilizados para construir **intervalos de confianza** y **pruebas de hipótesis** acerca de los parámetros poblacionales. "
   ]
  },
  {
   "cell_type": "markdown",
   "metadata": {},
   "source": [
    "### Distribución de algunos estadísticos importantes\n",
    "\n",
    "Si $X$ y $Y$ son dos variable aleatorias distribuidas como\n",
    "$$\n",
    "X \\sim \\mathcal{N}\\left(\\mu_X, \\sigma_X^2\\right) \\textrm{ y } \n",
    "Y \\sim \\mathcal{N}\\left(\\mu_Y, \\sigma_Y^2\\right),\n",
    "$$ \n",
    "y se seleccionan dos muestras aleatorias \n",
    "$X_1,X_2,\\dots,X_n$ y $Y_1,Y_2,\\dots,Y_m$, \n",
    "determine la distribución de probabilidad de \n",
    "los siguientes estadísticos:\n",
    "\n",
    "---\n",
    "\n",
    "$$\n",
    "\\frac{\\bar{X} - \\mu_X}{\\sigma_X / \\sqrt n} \\sim \\mathcal{N}(0,1).\\quad (1)\n",
    "$$\n",
    "\n",
    "Sabemos que v.a. $\\bar{X}$ (media muestral)\n",
    "está distribuida como $\\bar{X}\\sim \\mathcal{N}\\left(\\mu_X, \\frac{\\sigma_X^2}{n}\\right)$.\n",
    "Al normalizar para parámetros conocidos de la población,\n",
    "es decir, restar la media $\\mu$ y dividir por la desviación \n",
    "$\\sqrt{\\frac{\\sigma_X^2}{n}}$, tenemos la expresión en la Ec. (1).\n",
    "\n",
    "---\n",
    "\n",
    "\\begin{equation}\n",
    "    \\boldsymbol{(n-1)\\frac{S_X^2}{\\sigma_X^2}} \\sim \\chi^2_{(n-1)}.\\quad (2)\n",
    "\\end{equation}\n",
    "\n",
    "$$\n",
    "\\sum_{i=1}^n(X_i - \\mu)^2  = \\sum_{i=1}^n[(X_i - \\bar{X}) + (\\bar{X} - \\mu)]^2\n",
    "$$\n",
    "$$\n",
    " = \\sum_{i=1}^n(X_i - \\bar{X})^2 + \\sum_{i=1}^n(\\bar{X} - \\mu)^2 + 2(\\bar{X} - \\mu)\\sum_{i=1}^n(X_i - \\bar{X})\n",
    "$$\n",
    "$$\n",
    " = \\sum_{i=1}^n(X_i - \\bar{X})^2 + n(\\bar{X} - \\mu)^2\n",
    "$$\n",
    "\n",
    "Partimos de sumar y restar $\\bar{X}$, es decir hemos suamdo cero,\n",
    "por lo que ambas expresiones de la igualdad son equivalentes.\n",
    "Luego descomponemos la expresión resultante como se muestra en la segunda línea.\n",
    "El término $\\sum_{i=1}^n(X_i - \\bar{X})$ es igual a cero, \n",
    "y la sumatoria en el segundo término es una suma constante,\n",
    "por lo tanto es igual a $n$ veces $(\\bar{X} - \\mu)^2$. \n",
    "Partimos de la expresión obtenida arriba, \n",
    "$$\n",
    "\\sum_{i=1}^n(X_i - \\mu)^2 \n",
    " = \\sum_{i=1}^n(X_i - \\bar{X})^2 + n(\\bar{X} - \\mu)^2.\n",
    "$$\n",
    "dividimos \n",
    "cada término de la igualdad entre $\\sigma^2$ y \n",
    "sustituimos $\\sum_{i=1}^n(X_i - \\bar{X})^2$ por $(n - 1)S^2$.\n",
    "Esto último proviene de despejar de la definición\n",
    "del estimador insesgado de la varianza\n",
    "muestral $S^2 = \\frac{1}{n-1}\\sum_{i=1}^n(X_i - \\bar{X})^2$.\n",
    "\n",
    "El resulado es:\n",
    "\n",
    "$$\n",
    "\\frac{1}{\\sigma^2}\\sum_{i=1}^n(X_i - \\mu)^2 = \n",
    "\\frac{(n - 1)S^2}{\\sigma^2} + \n",
    "\\frac{(\\bar{X} - \\mu)^2}{\\sigma^2/n}.\n",
    "$$\n",
    "\n",
    "Note que el término en rojo está distribuido como\n",
    "$\\frac{1}{\\sigma^2}\\sum_{i=1}^n(X_i - \\mu)^2 \\sim \\chi^2_{(n)}$.\n",
    "El término siguiente está distribuido como \n",
    "$\\frac{(\\bar{X} - \\mu)^2}{\\sigma^2/n} \\sim \\chi^2_{(1)}$.\n",
    "Recuerde que $Z_1^2 + Z_2^2 + \\dots + Z_n^2 \\sim \\chi^2_{(n)}$, donde $Z\\sim \\mathcal{N}(0,1)$.\n",
    "Sabemos que $W = \\sum_{i=1}^n W_i = \\chi^2_{(\\sum \\nu_i)}$, con $W_i \\sim \\chi^2_{(\\nu_i)}$, \n",
    "por tanto al despejar $\\frac{(n - 1)S^2}{\\sigma^2}$ resulta la expresión en la Ec. (2).\n",
    "\n",
    "---\n",
    "\n",
    "$$    \n",
    "\\frac{\\bar{X}-\\mu_X}{S_X/\\sqrt{n}} \\sim t_{(n-1)}.\\quad (3)\n",
    "$$\n",
    "\n",
    "Tenemos que \n",
    "$$\n",
    "U=(n-1)\\frac{S_X^2}{\\sigma_X^2} \\sim \\chi^2_{(\\nu=n-1)},\\quad \n",
    "Z=\\frac{\\bar{X} - \\mu_X}{\\sigma_X / \\sqrt n} \\sim \\mathcal{N}(0,1).\n",
    "$$\n",
    "Usando la definición de la variable aleatoria \n",
    "$$T=\\frac{Z}{\\sqrt{U/\\nu}}\\sim t_{\\nu},$$\n",
    "donde $\\nu$ son los grados de libertad de la distribución,\n",
    "comprobamos la expresión de la Ec. (3) a continuación:\n",
    "\n",
    "$$\n",
    "T=\\frac{Z}{\\sqrt{U/\\nu}} \\\\\n",
    "=\\frac{\\frac{\\bar{X} - \\mu_X}{\\sigma_X / \\sqrt n}}{\\sqrt{\\frac{(n-1)\\frac{S_X^2}{\\sigma_X^2}}{n-1}}}\n",
    "=\\frac{\\frac{\\bar{X} - \\mu_X}{\\sigma_X / \\sqrt n}}{\\sqrt{\\frac{S_X^2}{\\sigma_X^2}}}\n",
    "=\\frac{\\frac{\\bar{X} - \\mu_X}{\\sigma_X / \\sqrt n}}{\\frac{S_X}{\\sigma_X}}\n",
    "$$\n",
    "\n",
    "$$\n",
    "=\\frac{\\bar{X} - \\mu_X}{S_X / \\sqrt n} \\sim t_{(n-1)}.\n",
    "$$\n",
    "\n",
    "---\n",
    "\n",
    "\\begin{equation}\n",
    "    \\boldsymbol{\\frac{S_Y^2 \\sigma_X^2}{S_X^2 \\sigma_Y^2}}\n",
    "    \\sim F_{(\\omega=m-1, \\nu=n-1)}.\\quad (4)\n",
    "\\end{equation}\n",
    "\n",
    "Tenemos que \n",
    "$$\n",
    "U=(m-1)\\frac{S_Y^2}{\\sigma_Y^2} \\sim \\chi^2_{(\\omega=m-1)},\\\n",
    "V=(n-1)\\frac{S_X^2}{\\sigma_X^2} \\sim \\chi^2_{(\\nu=n-1)}.\n",
    "$$\n",
    "De la definición de la v.a. $W = \\frac{U/\\omega}{V/\\nu} \\sim F(\\omega, \\nu)$,\n",
    "comporbamos la expresión de la Ec. (4):\n",
    "\n",
    "$$\n",
    "W = \\frac{U/\\omega}{V/\\nu} \n",
    "$$\n",
    "\n",
    "$$\n",
    "= \\frac{\\frac{(m-1)\\frac{S_Y^2}{\\sigma_Y^2}}{m-1}}\n",
    "{\\frac{(n-1)\\frac{S_X^2}{\\sigma_X^2}}{n-1}} = \n",
    "\\frac{\\frac{S_Y^2}{\\sigma_Y^2}}{\\frac{S_X^2}{\\sigma_X^2}}\n",
    "= \\frac{S_Y^2 \\sigma_X^2}{S_X^2 \\sigma_Y^2} \\sim F_{(\\omega=m-1, \\nu=n-1)}.\n",
    "$$\n",
    "\n",
    "- Puede observar las distribuciones muestrales discutidas anteriormente, $Z$, $\\chi^2$, $T$, y $F$ generadas por simulación en el siguiente notebook: https://anaconda.org/marsgr6/sampling_distributions/notebook."
   ]
  },
  {
   "cell_type": "markdown",
   "metadata": {},
   "source": [
    "<a id=\"zint\"></a>\n",
    "### Intervalo de Confianza para la media cuando se muestrea una distribución normal con varianza conocida\n",
    "\n",
    "[Volver al índice](#toc)\n",
    "\n",
    "- **Supuestos:**\n",
    "\n",
    "  1. Variable aleatoria (población): $X \\sim N(\\mu, \\sigma^2)$.\n",
    "  2. Parámetros poblacionales: $\\mu$ desconocida, $\\sigma^2$ conocida. \n",
    "  3. Muestra aleatoria: $\\bar{X}, n$, calculables a partir de la muestra aleatoria. \n",
    "  \n",
    "  \n",
    "- **Estadístico:**\n",
    "  1. Estimador del parámetro $\\mu$:\n",
    "  $$\n",
    "  \\bar{X} \\sim N(\\mu, \\frac{\\sigma^2}{n}).\n",
    "  $$\n",
    "  2. Construcción del estadístico:\n",
    "  $$\n",
    "  \\frac{\\bar{X} - \\mu_X}{\\sigma_X / \\sqrt n} \\sim N(0,1).\n",
    "  $$\n",
    "  \n",
    "- **Construcción del intervalo de confianza para el parámetro $\\mu$:**\n",
    "\n",
    "$$\n",
    "P \\left(z_{(\\alpha/2)} \\leq \\frac{\\bar{X} - \\mu_X}{\\sigma_X / \\sqrt n} \\leq z_{(1-\\alpha/2)} \\right) = 1 - \\alpha\n",
    "$$\n",
    "\n",
    "- El valor de $\\alpha$ es un valor definido por el investigador que quiere inferir información acerca del parámetro poblacional $\\mu_X$ a partir de una muestra. \n",
    "  - El valor de $\\alpha$ se refiere a la probabilidad de que el valor verdadero del parámetro de la población se encuentre fuera del intervalo de confianza. \n",
    "  - El valor de $\\alpha$ generalmente se expresa como una proporción. \n",
    "  - Por lo tanto, si el nivel de confianza ($1-\\alpha$) del intervalo es del 95%, entonces $\\alpha$ \n",
    "  sería igual a 1 - 0.95 = 0.05.\n",
    "  - Normalmente queremos un alto nivel de confianza como 75%, 95% o 99%.\n",
    "  - Cuanto mayor sea el nivel de confianza (CL), menor será la precisión (más ancho el intervalo).\n",
    "  \n",
    "- Vamos a reescribir la desigualdad de tal forma que construimos el intervalo para el parámetro poblacional $\\mu$:\n",
    "\n",
    "$$\n",
    "P \\left(z_{(\\alpha/2)} \\leq \\frac{\\bar{X} - \\mu_X}{\\sigma_X / \\sqrt n} \\leq z_{(1-\\alpha/2)} \\right) = 1 - \\alpha\n",
    "$$\n",
    "\n",
    "- Multiplicamos por $\\sigma_X / \\sqrt n$\n",
    "$$\n",
    "P \\left(z_{(\\alpha/2)}\\cdot \\sigma_X / \\sqrt n \\leq \\bar{X} - \\mu_X \\leq z_{(1-\\alpha/2)} \\cdot \\sigma_X / \\sqrt n \\right) = 1 - \\alpha\n",
    "$$\n",
    "\n",
    "- Restamos $\\bar{X}$:\n",
    "$$\n",
    "P \\left(-\\bar{X} + z_{(\\alpha/2)}\\cdot \\sigma_X / \\sqrt n \\leq - \\mu_X \\leq -\\bar{X} + z_{(1-\\alpha/2)} \\cdot \\sigma_X / \\sqrt n \\right) = 1 - \\alpha\n",
    "$$\n",
    "\n",
    "- Multiplicamos por -1:\n",
    "$$\n",
    "P \\left(\\bar{X} - z_{(\\alpha/2)}\\cdot \\sigma_X / \\sqrt n \\geq \\mu_X \\geq \\bar{X} - z_{(1-\\alpha/2)} \\cdot \\sigma_X / \\sqrt n \\right) = 1 - \\alpha\n",
    "$$\n",
    "\n",
    "- Invertimos el sentido de la desigualdad:\n",
    "$$\n",
    "P \\left(\\bar{X} - z_{(1-\\alpha/2)} \\cdot \\sigma_X / \\sqrt n \\leq \\mu_X \\leq \\bar{X} - z_{(\\alpha/2)} \\cdot \\sigma_X / \\sqrt n \\right) = 1 - \\alpha\n",
    "$$\n",
    "  - El valor $z_{(1-\\alpha/2)}$ es positivo y restaría a $\\bar{X}$ para obtener el límite inferior. \n",
    "  - Note que el valor $z_{(\\alpha/2)}$ es negativo, multiplicado por menos se vuelve positivo y sumaría al valor de $\\bar{X}$ para el límite superior, como esperaríamos para cumplir con la desigualdad. \n",
    "  \n",
    "- Teniendo en cuenta la simetría de las colas y que la distribución $Z\\sim N(0,1)$ es una función par, podemos simplificar nuestro intervalo de confianza, de la siguiente forma:\n",
    "\n",
    "$$IC_{(1-a)100\\%} = \\left[ \\bar{X} \\pm z_{(1-\\alpha/2)} \\cdot \\frac{\\sigma_X}{\\sqrt n} \\right]$$ \n",
    "\n",
    "- $\\frac{\\sigma_X}{\\sqrt n}$ se conococe como el error estándar de la media (SEM) o, simplemente, el error estándar (SE).\n",
    "  - Vea: http://www.mas.ncl.ac.uk/~njnsm/medfac/docs/se&ci.pdf\n",
    "  \n",
    "- Podemos resumir el cálculo del intervalo de confianza de la siguiente manera:\n",
    "\n",
    "$$\\text{Mejor estimador} \\pm \\text{Margen de error}$$\n",
    "\n",
    "$$\\text{Margen de error} = z * \\text{Error estándar}$$"
   ]
  },
  {
   "cell_type": "markdown",
   "metadata": {},
   "source": [
    "### Ejemplo\n",
    "\n",
    "- Variable de interés: precio de las acciones de compañías del sector tecnológico en US.\n",
    "Se sabe que el precio de los acciones de compañías del sector tecnológico en EUA se comporta como una v.a. $N(\\mu, \\sigma^2=400)$. Se tiene una muesetra aleatoria de tamaño 9 dada por: (100, 109, 110, 80, 65, 125,120, 85, 85).  \n",
    "  - Calcular el IC para $\\mu$, de 90% y 95% de confiabilidad."
   ]
  },
  {
   "cell_type": "code",
   "execution_count": 3,
   "metadata": {},
   "outputs": [
    {
     "name": "stdout",
     "output_type": "stream",
     "text": [
      "IC(95.0%): (84.60024010306631, 110.73309323026703)\n",
      "IC(95.0%): (84.60024010306631, 110.73309323026703)\n"
     ]
    }
   ],
   "source": [
    "from scipy.stats import norm  # importamos al distribucion normal\n",
    "\n",
    "muestra = np.array([100, 109, 110, 80, 65, 125,120, 85, 85])\n",
    "media_muestral = muestra.mean()  # X barra\n",
    "sigma2 = 400  # varianza conocida sigma2\n",
    "sigma = np.sqrt(sigma2)  # desviación estándar sigma\n",
    "n = 9  # tamaño de la muestra\n",
    "se = sigma/np.sqrt(n)  # error estándar sigma/sqrt(n)\n",
    "\n",
    "alpha = 0.05  # IC 95%\n",
    "z_alpha = norm.ppf(1-alpha/2)  # función cuantil\n",
    "\n",
    "print(r\"IC(\"+str((1-alpha)*100)+\"%):\", \n",
    "      (media_muestral - z_alpha*se,  media_muestral + z_alpha*se))\n",
    "\n",
    "# Python implementa el cálculo del intervalo de confianza\n",
    "# loc: media muestral\n",
    "# scale: error estándar sigma/sqrt(n)\n",
    "print(r\"IC(\"+str((1-alpha)*100)+\"%):\", \n",
    "      norm.interval(1-alpha, loc=muestra.mean(), scale=se))"
   ]
  },
  {
   "cell_type": "markdown",
   "metadata": {},
   "source": [
    "- La interpretación de este intervalo es que tenemos un 95% de confianza en que el valor promedio de las acciones tecnológicas en EUA está entre 84.60 y 110.73.\n",
    "\n",
    "- Vamos a calcular el IC para $\\mu$, de 90% de confiabilidad\n",
    "  - Graficaremos ambos intervalos para interpretar su construcción de manera gráfica."
   ]
  },
  {
   "cell_type": "code",
   "execution_count": 4,
   "metadata": {},
   "outputs": [
    {
     "name": "stdout",
     "output_type": "stream",
     "text": [
      "IC(90.0%): (86.70097582032352, 108.63235751300982)\n",
      "IC(95.0%): (84.60024010306631, 110.73309323026703)\n"
     ]
    },
    {
     "data": {
      "image/png": "[encoded data removed]",
      "text/plain": [
       "<Figure size 576x432 with 1 Axes>"
      ]
     },
     "metadata": {
      "needs_background": "light"
     },
     "output_type": "display_data"
    }
   ],
   "source": [
    "muestra = np.array([100, 109, 110, 80, 65, 125,120, 85, 85])\n",
    "media_muestral = muestra.mean()  # X barra\n",
    "sigma2 = 400  # varianza conocida\n",
    "ssigma = np.sqrt(sigma2)  # desviación estándar\n",
    "n = 9  # tamaño de la muestra\n",
    "se = sigma / np.sqrt(n)  # estándar error \n",
    "\n",
    "# PDF\n",
    "plt.figure(figsize=(8,6))\n",
    "x = np.linspace(media_muestral-3*se, media_muestral+3*se, 200)\n",
    "plt.plot(x, norm.pdf(x, media_muestral, se))\n",
    "\n",
    "alpha = 0.1  # # IC 90%\n",
    "\n",
    "# Python implementa el cálculo del intervalo de confianza\n",
    "# loc: media muestral\n",
    "# scale: error estándar s/sqrt(n)\n",
    "\n",
    "# IC 90%\n",
    "IC90 = norm.interval(1-alpha, loc=muestra.mean(), scale=se)  # intervalo IC90\n",
    "print(r\"IC(\"+str((1-alpha)*100)+\"%):\", IC90)\n",
    "\n",
    "# sombreamos cola izquierda para IC90\n",
    "x_left = np.linspace(media_muestral-3*se, IC90[0])\n",
    "plt.fill_between(x_left, norm.pdf(x_left, media_muestral, se), color='forestgreen', alpha=0.5)\n",
    "# sombreamos cola derecha para IC90\n",
    "x_right = np.linspace(IC90[1], media_muestral+3*se)\n",
    "plt.fill_between(x_right, norm.pdf(x_right, media_muestral, se), \n",
    "                 color='forestgreen', alpha=0.5, label=\"IC 90%\")\n",
    "plt.annotate(\"90%\", xy=(IC90[0], 0.0075), xytext=(IC90[1], 0.0075), \n",
    "             va=\"center\", # alineado vertical\n",
    "             arrowprops=dict(arrowstyle=\"<->\", color=\"forestgreen\"))\n",
    "\n",
    "# IC 95%\n",
    "alpha = 0.05  # # IC 95%\n",
    "IC95 = norm.interval(1-alpha, loc=muestra.mean(), scale=se)  # intervalo IC95\n",
    "print(r\"IC(\"+str((1-alpha)*100)+\"%):\", IC95)\n",
    "\n",
    "# sombreamos cola izquierda para IC95\n",
    "x_left = np.linspace(media_muestral-3*se, IC95[0])\n",
    "plt.fill_between(x_left, norm.pdf(x_left, media_muestral, se), color='orangered', alpha=0.5)\n",
    "# sombreamos cola derecha para IC95\n",
    "x_right = np.linspace(IC95[1], media_muestral+3*se)\n",
    "plt.fill_between(x_right, norm.pdf(x_right, media_muestral, se), \n",
    "                 color='orangered', alpha=0.5, label=\"IC 95%\")\n",
    "plt.annotate(\"95%\", xy=(IC95[0], 0.0025), xytext=(IC95[1], 0.0025), \n",
    "             va=\"center\", # alineado vertical\n",
    "             arrowprops=dict(arrowstyle=\"<->\", color ='orangered'))\n",
    "plt.text(IC95[0]-5, 0.005, r\"$\\alpha/2$\", fontsize=12)\n",
    "plt.text(IC95[1]+3, 0.005, r\"$\\alpha/2$\", fontsize=12)\n",
    "plt.xlabel(\"Acciones (stocks)\")\n",
    "legend=plt.legend()"
   ]
  },
  {
   "cell_type": "markdown",
   "metadata": {},
   "source": [
    "- De la misma manera, que calculamos un nivel de confianza del 95%, hemos calculado el del 90%. \n",
    "- Solo necesitamos cambiar el valor $z$ para el nivel de confianza indicado. \n",
    "- Note que el rango de un intervalo de confianza es mayor para un nivel de confianza más alto, tal como se muestra en la figura arriba.\n",
    "  - Cuanto mayor sea el nivel de confianza (CL), menor será la precisión (más ancho el intervalo).\n",
    "- Note que cada una de las colas tienen un area de $\\alpha/2$.\n",
    "  - El area que corresponde al intervalo de confianza es de $1 - \\alpha$.\n",
    "- Cuanto mayor sea el tamaño de la muestra, más preciso será el intervalo de confianza.\n",
    "  - Compruébelo a partir de la formula, ¿qué pasa cuando $n$ crece?"
   ]
  },
  {
   "cell_type": "markdown",
   "metadata": {},
   "source": [
    "<a id=\"tint\"></a>\n",
    "### Intervalo de Confianza para la media cuando se muestrea una distribución normal con varianza desconocida\n",
    "\n",
    "[Volver al índice](#toc)\n",
    "\n",
    "- **Supuestos:**\n",
    "\n",
    "  1. Variable aleatoria (población): $X \\sim N(\\mu, \\sigma^2)$.\n",
    "  2. Parámetros poblacionales: $\\mu$, $\\sigma^2$ desconocidas. \n",
    "  3. Muestra aleatoria: $\\bar{X}, n, s$, calculables a partir de la muestra aleatoria.\n",
    "  \n",
    "- **Estadístico:**\n",
    "  1. Estimador del parámetro $\\mu$:\n",
    "  $$\n",
    "  \\bar{X} \\sim N(\\mu, \\frac{\\sigma^2}{n}).\n",
    "  $$\n",
    "  2. Construcción del estadístico:\n",
    "  $$\n",
    "  \\frac{\\bar{X} - \\mu_X}{s / \\sqrt n} \\sim t_{(n-1)}.\n",
    "  $$\n",
    "  \n",
    "- **Construcción del intervalo de confianza para el parámetro $\\mu$:**\n",
    "\n",
    "$$\n",
    "P \\left(t_{(\\alpha/2,n-1)} \\leq \\frac{\\bar{X} - \\mu_X}{s / \\sqrt n} \\leq t_{(1-\\alpha/2, n-1)} \\right) = 1 - \\alpha\n",
    "$$\n",
    "\n",
    "- El valor de $\\alpha$ es un valor definido por el investigador que quiere inferir información acerca del parámetro poblacional $\\mu_X$ a partir de una muestra. \n",
    "  - El valor de $\\alpha$ se refiere a la probabilidad de que el valor verdadero del parámetro de la población se encuentre fuera del intervalo de confianza. \n",
    "  - El valor de $\\alpha$ generalmente se expresa como una proporción. \n",
    "  - Por lo tanto, si el nivel de confianza ($1-\\alpha$) del intervalo es del 95%, entonces $\\alpha$ \n",
    "  sería igual a 1 - 0.95 = 0.05.\n",
    "  \n",
    "- Vamos a reescribir la desigualdad de tal forma que construimos el intervalo para el parámetro poblacional $\\mu$:\n",
    "\n",
    "$$\n",
    "P \\left(t_{(\\alpha/2, n-1)} \\leq \\frac{\\bar{X} - \\mu_X}{s / \\sqrt n} \\leq t_{(1-\\alpha/2,n-1)} \\right) = 1 - \\alpha\n",
    "$$\n",
    "\n",
    "- Multiplicamos por $\\sigma_X / \\sqrt n$\n",
    "$$\n",
    "P \\left(t_{(\\alpha/2,n-1)}\\cdot s / \\sqrt n \\leq \\bar{X} - \\mu_X \\leq t_{(1-\\alpha/2,n-1)} \\cdot s / \\sqrt n \\right) = 1 - \\alpha\n",
    "$$\n",
    "\n",
    "- Restamos $\\bar{X}$:\n",
    "$$\n",
    "P \\left(-\\bar{X} + t_{(\\alpha/2,n-1)}\\cdot s / \\sqrt n \\leq - \\mu_X \\leq -\\bar{X} + t_{(1-\\alpha/2,n-1)} \\cdot s / \\sqrt n \\right) = 1 - \\alpha\n",
    "$$\n",
    "\n",
    "- Multiplicamos por -1:\n",
    "$$\n",
    "P \\left(\\bar{X} - t_{(\\alpha/2,n-1)}\\cdot s / \\sqrt n \\geq \\mu_X \\geq \\bar{X} - t_{(1-\\alpha/2,n-1)} \\cdot s / \\sqrt n \\right) = 1 - \\alpha\n",
    "$$\n",
    "\n",
    "- Invertimos el sentido de la desigualdad:\n",
    "$$\n",
    "P \\left(\\bar{X} - t_{(1-\\alpha/2,n-1)} \\cdot s / \\sqrt n \\leq \\mu_X \\leq \\bar{X} - t_{(\\alpha/2,n-1)} \\cdot s / \\sqrt n \\right) = 1 - \\alpha\n",
    "$$\n",
    "  - El valor $t_{(1-\\alpha/2,n-1)}$ es positivo y restaría a $\\bar{X}$ para obtener el límite inferior. \n",
    "  - Note que el valor $t_{(\\alpha/2,n-1)}$ es negativo, multiplicado por menos se vuelve positivo y sumaría al valor de $\\bar{X}$ para el límite superior, como esperaríamos para cumplir con la desigualdad. \n",
    "  \n",
    "- Teniendo en cuenta la simetría de las colas y que la distribución $t_{(n-1)}$ es tambíen una función par, podemos simplificar nuestro intervalo de confianza, de la siguiente forma:\n",
    "\n",
    "$$IC_{(1-a)100\\%} = \\left[ \\bar{X} \\pm t_{(1-\\alpha/2,n-1)} \\cdot \\frac{s}{\\sqrt n} \\right]$$\n",
    "\n",
    "### Ejemplo\n",
    "\n",
    "- Se ha recopilado la muestra aleatoria de los activos de 1000 clientes de un banco. Según el comportamiento de los datos, esta variable se comporta como un v.a. $N(\\mu, \\sigma^2)$. \n",
    "  - Con base en la muestra, se calculó que $\\bar{X} = 517 (\\$M)$,  y $s = 300 (\\$M)$.\n",
    "  \n",
    "- Hallar el IC para $\\mu$, de 90% y 95% de confiabilidad."
   ]
  },
  {
   "cell_type": "code",
   "execution_count": 5,
   "metadata": {},
   "outputs": [
    {
     "name": "stdout",
     "output_type": "stream",
     "text": [
      "IC(90.0%): (501.3810646405426, 532.6189353594574)\n",
      "IC(95.0%): (498.38359430750654, 535.6164056924935)\n"
     ]
    }
   ],
   "source": [
    "from scipy.stats import t  # importamos la distribución t\n",
    "\n",
    "media_muestral = 517\n",
    "s = 300  # desviación estándar\n",
    "n = 1000  # tamaño de muestra, 1000 clientes\n",
    "df = n - 1  # grados de libertad de la distribución t\n",
    "se = s / np.sqrt(n)  # error estándar\n",
    "\n",
    "# IC 90%\n",
    "alpha = 0.1\n",
    "# usando la implementación en Python t.interval\n",
    "IC90 = t.interval(1-alpha, df, loc=media_muestral, scale=se)\n",
    "print(r\"IC(\"+str((1-alpha)*100)+\"%):\", IC90)\n",
    "\n",
    "# IC 95%\n",
    "alpha = 0.05\n",
    "IC95 = t.interval(1-alpha, df, loc=media_muestral, scale=se)\n",
    "print(r\"IC(\"+str((1-alpha)*100)+\"%):\", IC95)"
   ]
  },
  {
   "cell_type": "markdown",
   "metadata": {},
   "source": [
    "- La interpretación del intervalo es que tenemos un 90% de confianza en que el valor promedio de los activos de un cliente del banco está entre 501.38, 532.62 ($M).\n",
    "\n",
    "- La interpretación del intervalo es que tenemos un 95% de confianza en que el valor promedio de los activos de un cliente del banco está entre 498.38, 535.62 ($M).\n",
    "\n",
    "- Cuanto mayor sea el nivel de confianza (CL), menor será la precisión (más ancho el intervalo)."
   ]
  },
  {
   "cell_type": "markdown",
   "metadata": {},
   "source": [
    "### Otro ejemplo\n",
    "\n",
    "- Calcularemos un intervalo de confianza del 88 por ciento para la media de una sola muestra. \n",
    "  - Usaremos los siguientes datos: \n",
    "  \n",
    "```Python\n",
    "muestra = np.array([3,7,11,0,7,0,4,5,6,2])\n",
    "```"
   ]
  },
  {
   "cell_type": "code",
   "execution_count": 6,
   "metadata": {},
   "outputs": [
    {
     "name": "stdout",
     "output_type": "stream",
     "text": [
      "IC(88.0%): (2.6315982587598374, 6.368401741240162)\n",
      "IC(88.0%): (2.631598258759838, 6.368401741240162)\n"
     ]
    }
   ],
   "source": [
    "alpha = 0.12  # 1 - alpha = 0.88\n",
    "muestra = np.array([3,7,11,0,7,0,4,5,6,2])\n",
    "media_muestral = muestra.mean()  # media muestral\n",
    "n = len(muestra)  # tamaño de la muestra\n",
    "s = muestra.std(ddof=1)  # desviación estándar no sesgada\n",
    "se = s / np.sqrt(n)  # error estándar\n",
    "df = n - 1  # grados de libertad para t\n",
    "t_alpha = t.ppf(1-alpha/2, df)  # función cuantil \n",
    "\n",
    "IC88p = t.interval(1-alpha, df, loc=media_muestral, scale=se)  # Implementación Python\n",
    "IC88m = (media_muestral - t_alpha * se, media_muestral + t_alpha*se)  # cálculo 'a mano' usando la fórmula\n",
    "print(r\"IC(\"+str((1-alpha)*100)+\"%):\", IC88p)\n",
    "print(r\"IC(\"+str((1-alpha)*100)+\"%):\", IC88m)"
   ]
  },
  {
   "cell_type": "markdown",
   "metadata": {},
   "source": [
    "- Recuerde que un intervalo de confianza para la media basado en la distribución T es válido cuando:\n",
    "\n",
    "  - Los datos provienen de una distribución normal.\n",
    "  - Tenemos muchos datos. \n",
    "    - ¿Cuánto es muchos datos? Muchos libros de texto utilizan 30 observaciones de datos como regla general.\n",
    "\n",
    "### Resumiendo para una media muestral \n",
    "\n",
    "- Tenemos que:\n",
    "\n",
    "![](https://raw.githubusercontent.com/marsgr6/r-scripts/master/imgs/one_sample_mean.png)"
   ]
  },
  {
   "cell_type": "markdown",
   "metadata": {},
   "source": [
    "[Volver al índice](#toc)\n",
    "\n",
    "### Distribución t\n",
    "\n",
    "- La distribución $t$ es simétrica y tiene forma de campana, como la distribución normal $Z$. \n",
    "  - Sin embargo, la distribución $t$ tiene colas más pesadas, lo que significa que es más propensa a producir valores que caen lejos de su media.\n",
    "- Si tomamos una muestra de $n$ observaciones de una distribución normal, entonces la distribución $t$ con\n",
    "$\\nu=n-1$ grados de libertad se pueden definir como la distribución de la ubicación de la media de la muestra en relación con la media real, dividida por la desviación estándar de la muestra, después de multiplicar por el término de estandarización\n",
    "${\\sqrt {n}}$.\n",
    "- La distribución $t$ tiende a la distribución $Z$ a medida que el tamaño de muestra aumenta. "
   ]
  },
  {
   "cell_type": "code",
   "execution_count": 7,
   "metadata": {},
   "outputs": [
    {
     "data": {
      "image/png": "[encoded data removed]",
      "text/plain": [
       "<Figure size 576x432 with 1 Axes>"
      ]
     },
     "metadata": {
      "needs_background": "light"
     },
     "output_type": "display_data"
    }
   ],
   "source": [
    "plt.figure(figsize=(8,6))\n",
    "# Evaluamos para 4 desviaciones alrededor de la media\n",
    "x = np.linspace(-4, 4, 200)  # 200 valores para suavizar\n",
    "\n",
    "# Distribución normal estándar\n",
    "plt.plot(x, norm.pdf(x), label=r\"$Z\\sim N(0,1)$\")\n",
    "\n",
    "# Vamos a graficar la distribución t(n-1) para diferentes tamaños de muestra n\n",
    "n = [2, 5, 10, 30]  # sample sizes\n",
    "for ni in n:\n",
    "    # grados de libertad ni-1\n",
    "    plt.plot(x, t.pdf(x, ni-1), label=r\"$t_{(\"+ str(ni) + \"-1)}$\")\n",
    "plt.xlabel('X')\n",
    "legend = plt.legend()"
   ]
  },
  {
   "cell_type": "markdown",
   "metadata": {},
   "source": [
    "### Simulación de intervalos de confianza\n",
    "\n",
    "<br/>\n",
    "\n",
    "\n",
    "<img align=\"left\" src=\"https://raw.githubusercontent.com/marsgr6/r-scripts/master/imgs/python-banner-300x89.png\">\n",
    "\n",
    "<br/>\n",
    "\n",
    "### Opcional: Practique Python\n",
    "<br/><br/>\n",
    "\n",
    "- Vamos a realizar una prueba t para la media poblacional $\\mu$ a partir de una muestra de la v.a. $X \\sim U(0,1)$. \n",
    "  - Tamaño de muestra 30.\n",
    "  - Nivel de confianza $(1-\\alpha)=0.95$.\n",
    "  \n",
    "- Vea una versión interactiva en: https://en-interactive.herokuapp.com/#/8/1"
   ]
  },
  {
   "cell_type": "code",
   "execution_count": 8,
   "metadata": {},
   "outputs": [
    {
     "name": "stdout",
     "output_type": "stream",
     "text": [
      "La media poblacional está en el intervalo 95.0 % de las veces.\n"
     ]
    },
    {
     "data": {
      "image/png": "[encoded data removed]",
      "text/plain": [
       "<Figure size 576x432 with 1 Axes>"
      ]
     },
     "metadata": {
      "needs_background": "light"
     },
     "output_type": "display_data"
    }
   ],
   "source": [
    "from scipy.stats import t\n",
    "\n",
    "size = 100  # número de veces que calcularemos el IC\n",
    "n = 30  # tamaño de muestra\n",
    "alpha = 0.05\n",
    "df = n - 1  # grados de libertad para t\n",
    "\n",
    "# Estamos muestreando la distribución uniforme estándar\n",
    "a, b = 0, 1\n",
    "mu = (a+b)/2  # mu: media poblacional\n",
    "\n",
    "# fijamos una semilla para tener reproducibilidad de los resultados\n",
    "np.random.seed(7)\n",
    "\n",
    "U = uniform.rvs(a, b-a, size=(size,n))  # uniform rvs\n",
    "Um = np.mean(U, axis=1)  # media muestral \n",
    "Us = np.std(U, ddof=1, axis=1)  # varianza muestral\n",
    "se = Us / np.sqrt(n)  # error estándar\n",
    "\n",
    "ICL, ICU = t.interval(1-alpha, df, loc=Um, scale=se)  # Intervalo de confianza \n",
    "\n",
    "CI = np.vstack([ICL, ICU]).transpose()  # unimos ICL, ICU en 2 columnas\n",
    "# comprobamos que mu está en el intervalo\n",
    "# para esto debe cumplirse que limite inferior < mu y límite superior mayor que mu\n",
    "# np.logical_and(CI[:,0] < mu, CI[:,1] > mu)\n",
    "# ubicamos los índices donde se cumple la condición anterior \n",
    "# np.where(condicion)[]\n",
    "cont = np.where(np.logical_and(CI[:,0] < mu, CI[:,1] > mu))[0]\n",
    "\n",
    "plt.figure(figsize=(8,6))\n",
    "\n",
    "# Graficamos cada intervalo como una línea horizontal\n",
    "# Si el intervalo contiene la media poblacinal mu es negro\n",
    "# rojo en caso contrario\n",
    "for pos, limits in enumerate(CI):\n",
    "    if pos in cont:  # está dentro del intervalo\n",
    "        col = 'k'  # color negro\n",
    "    else:  # está fuera del intervalo\n",
    "        col = 'r'  # color rojo\n",
    "    plt.hlines(pos+1, limits[0], limits[1], colors=col)  # línea horizontal\n",
    "\n",
    "plt.vlines(mu, 0, size+1, colors='b', label=r\"$\\mu$\")\n",
    "plt.legend()\n",
    "\n",
    "# Contemos cuantas veces el intervalo contiene la media poblacional\n",
    "# Si el intervalo (lineal horizontal) contiene la media, este se intersecta con la línea vertical azul\n",
    "print(\"La media poblacional está en el intervalo\", np.shape(cont)[0]/size*100, \"% de las veces.\")"
   ]
  },
  {
   "cell_type": "markdown",
   "metadata": {},
   "source": [
    "- En la figura arriba, podemos observar 100 repeticiones de la construcción de un intervalo de confianza para la media. \n",
    "\n",
    "- Note que arriba hemos realizado un t-test, a partir de una muestra que proviene de una distribución uniforme con un tamaño de muestra $n=30$, estamos violando el supuesto de normalidad de la población. \n",
    "  - En el recurso a continuación se discuten los supuestos para la prueba t y sus resultados dependiendo de la distribución de origen. \n",
    "\n",
    "<img src=\"https://raw.githubusercontent.com/marsgr6/r-scripts/master/imgs/t_test.png\" alt=\"\" width=\"600\" />\n",
    "\n",
    "  - Vea: https://www.youtube.com/watch?v=U1O4ZFKKD1k"
   ]
  },
  {
   "cell_type": "markdown",
   "metadata": {},
   "source": [
    "<a id=\"tdint\"></a>\n",
    "### Intervalo de Confianza para la diferencia de medias cuando se muestrean dos distribuciones normales independientes con varianzas desconocidas pero iguales\n",
    "\n",
    "[Volver al índice](#toc)\n",
    "\n",
    "- **Supuestos:**\n",
    "  1. Variables aleatorias: $X_1 \\sim N(\\mu_1, \\sigma^2)$, $X_2 \\sim N(\\mu_2, \\sigma^2)$.\n",
    "  2. Parámetros poblacionales: $\\mu_1,\\ \\mu_2,\\ \\sigma$ desconocidas.\n",
    "  3. Muestras aleatorias: $\\bar{X}_1,\\ n_1,\\ s_1,\\ \\bar{X}_2,\\ n_2,\\ s_2$ calculables a partir de la muestra aleatoria.\n",
    "\n",
    "- **Estadístico:** \n",
    "  - Estimador del parámetro ($\\mu_1-\\mu_2$):\n",
    "  $$\\bar{X}_1 - \\bar{X}_2 \\sim N \\left(\\mu_1 - \\mu_2, \\frac{\\sigma^2}{n_1}+\\frac{\\sigma^2}{n_2}\\right)$$\n",
    "  - Estadístico: $$\\frac{\\bar{X}_1 - \\bar{X}_2 - (\\mu_1 - \\mu_2)}\n",
    "{s_p \\sqrt{\\frac{1}{n_1}+\\frac{1}{n_2}}} \\sim t_{(n_1+n_2-2)}\n",
    "     \\text{, donde, }\n",
    "     s_p = \\sqrt{\\frac{s_1^2(n_1-1) + s_2^2(n_2-1)}{n_1+n_2-2}}$$\n",
    "     \n",
    "  - $s_p$ se conoce como la desviación estándar agrupada (pooled standard deviation).\n",
    "  \n",
    "- **Construcción del intervalo de confianza para el parámetro ($\\mu_1-\\mu_2$):**\n",
    "$$P \\left( t_{(\\alpha/2, n_1+n_2-2)} \\leq \\frac{\\bar{X}_1 - \\bar{X}_2 - (\\mu_1 - \\mu_2)}\n",
    "{s_p \\sqrt{\\frac{1}{n_1}+\\frac{1}{n_2}}} \\leq t_{(1-\\alpha/2, n_1+n_2-2)} \\right) = 1-\\alpha$$\n",
    "\n",
    "$$IC_{(1-\\alpha)100\\%} = \\left[\\bar{X}_1 - \\bar{X}_2 \\pm t_{(1-\\alpha/2, n_1+n_2-2)} \\cdot s_p \\sqrt{\\frac{1}{n_1}+\\frac{1}{n_2}} \\right]$$\n",
    "\n",
    "  - En este caso la demostración es un poco más compleja que las anteriores, puede ver en el [siguiente enlace](https://online.stat.psu.edu/stat415/lesson/3/3.1).\n",
    "  \n",
    "### Ejemplo\n",
    "\n",
    "Se estudian los hábitos alimenticios de dos especies de arañas lanzadoras de redes. Las especies, Deinopis y Menneus, coexisten en el este de Australia. Se obtuvieron los siguientes datos sobre el tamaño, en milímetros, de las presas de muestras aleatorias de las dos especies:\n",
    "\n",
    "Tamaño de muestras aleatorias de oración de la araña Deinopis en milímetros\n",
    "\n",
    "```Python\n",
    "deinopis = [12.9, 10.2, 7.4, 7.0, 10.5, 11.9, 7.1, 9.9, 14.4, 11.3]\n",
    "```\n",
    "\n",
    "Tamaño de muestras de oración aleatorias de la araña Menneus en milímetros\n",
    "\n",
    "```Python\n",
    "menneus = [10.2, 6.9, 10.9, 11.0, 10.1, 5.3, 7.5, 10.3, 9.2, 8.8]\n",
    "```\n",
    "\n",
    "¿Cuál es la diferencia, si la hay, en el tamaño medio de la presa (de las poblaciones) de las dos especies?"
   ]
  },
  {
   "cell_type": "code",
   "execution_count": 9,
   "metadata": {},
   "outputs": [
    {
     "name": "stdout",
     "output_type": "stream",
     "text": [
      "t_alpha 2.100922 IC(95.0%): (-0.8520326742900641, 3.332032674290068)\n"
     ]
    }
   ],
   "source": [
    "deinopis = np.array([12.9, 10.2, 7.4, 7.0, 10.5, 11.9, 7.1, 9.9, 14.4, 11.3])\n",
    "\n",
    "menneus = np.array([10.2, 6.9, 10.9, 11.0, 10.1, 5.3, 7.5, 10.3, 9.2, 8.8])\n",
    "\n",
    "n1, n2 = len(deinopis), len(menneus)  # tamaños de las muestras\n",
    "\n",
    "m1, m2 = deinopis.mean(), menneus.mean()  # medias de las muestras\n",
    "\n",
    "s1, s2 = deinopis.std(ddof=1), menneus.std(ddof=1)  # desviaciones de las muestras\n",
    "\n",
    "# desviación agrupada\n",
    "sp = np.sqrt((s1**2*(n1-1) + s2**2*(n2-1)) / (n1 + n2 - 2))\n",
    "df = n1 + n2 - 2  # grados de libertad para t\n",
    "alpha = 0.05\n",
    "t_alpha = t.ppf(1-alpha/2, df)  # función cuantil \n",
    "se = sp * np.sqrt(1/n1 + 1/n2)  # error estándar\n",
    "IC95 = (m1 - m2) - t_alpha * se, (m1 - m2) + t_alpha * se\n",
    "print('t_alpha', np.round(t_alpha, 6), r\"IC(\"+str((1-alpha)*100)+\"%):\", IC95)"
   ]
  },
  {
   "cell_type": "markdown",
   "metadata": {},
   "source": [
    "- Podemos estar seguros en un 95% de que la diferencia media en el tamaño de la presa está entre -0.85 mm y 3.33 mm. \n",
    "  - Debido a que el intervalo contiene el valor 0, no podemos concluir que las medias de la población sean diferentes.\n",
    "  \n",
    "- Usando la implementación en Python tenemos que usar **CompareMeans** del módulo **statsmodels**:"
   ]
  },
  {
   "cell_type": "code",
   "execution_count": 10,
   "metadata": {},
   "outputs": [
    {
     "name": "stdout",
     "output_type": "stream",
     "text": [
      "IC(95.0%): (-0.8520326742900659, 3.3320326742900663)\n"
     ]
    }
   ],
   "source": [
    "from statsmodels.stats.weightstats import DescrStatsW, CompareMeans\n",
    "\n",
    "cm = CompareMeans(DescrStatsW(deinopis), DescrStatsW(menneus))\n",
    "\n",
    "IC95 = cm.tconfint_diff(alpha=0.05, alternative='two-sided', usevar='pooled')\n",
    "\n",
    "print(r\"IC(\"+str((1-alpha)*100)+\"%):\", IC95)"
   ]
  },
  {
   "cell_type": "markdown",
   "metadata": {},
   "source": [
    "<a id=\"welch\"></a>\n",
    "### Intervalo t de Welch (Welch's t-Interval)\n",
    "\n",
    "[Volver al índice](#toc)\n",
    "\n",
    "Si queremos usar la el intervalo $t$ con la desviación estándar agrupada $s_p$ para el conjunto de dos muestras como una forma de crear una estimación del intervalo para\n",
    "$\\mu_1-\\mu_2$, la diferencia en las medias de dos poblaciones independientes, entonces debemos estar seguros de que las varianzas de la población\n",
    "$\\sigma_1^2$ y $\\sigma_2^2$ son iguales. Sin embargo, ¿qué hacemos si no podemos asumir las varianzas iguales? Es decir, ¿y si $\\sigma_1^2 \\neq \\sigma_2^2$?\n",
    "Si ese es el caso, usamos lo que normalmente se conoce como intervalo t de Welch.\n",
    "\n",
    "- **Intervalo t de Welch para $\\mu_1-\\mu_2$:** \n",
    "Si los datos se distribuyen normalmente (o si, las distribuciones subyacentes no son demasiado sesgadas, y $n_1$ y $n_2$ son lo suficientemente grandes), y las varianzas de la población, no puede suponerse que sean iguales, $\\sigma_1^2 \\neq \\sigma_2^2$\n",
    "\n",
    "Entonces el intervalo de confianza de $(1-\\alpha)\\%$\n",
    "para la diferencia en las medias de la población $\\mu_1-\\mu_2$ es: \n",
    "$$IC_{(1-\\alpha)100\\%} = \n",
    "\\left[ \\bar{X}_1 - \\bar{X}_2 \\pm \n",
    "t_{(1-\\alpha/2, r)} \\sqrt{\\frac{s_1^2}{n_1} + \\frac{s_2^2}{n_2}}\\right]$$\n",
    "donde los grados de libertad $r$ se aproximan por:\n",
    "$$r=\\frac{\\left( \\frac{s^2_1}{n_1} + \\frac{s^2_2}{n_2} \\right)^2}\n",
    "{\\frac{(s^2_1/n_1)^2}{n_1 - 1} + \\frac{s^2_2/n_2}{n_2 - 1}}.$$\n",
    "\n",
    "Si es necesario, como suele ser el caso, tome la parte entera de $\\lfloor r \\rfloor$.\n",
    "\n",
    "**Retomemos el ejemplo de las especies de araña Deinopis y Menneus.**\n",
    "\n",
    "- Python no implementa el intervalo t de Welch.\n",
    "  - Implementaremos una función simple para este intervalo.\n",
    "  - Vea: [intervalos de confianza en Python]( https://aegis4048.github.io/comprehensive_confidence_intervals_for_python_developers#ind_unequal)"
   ]
  },
  {
   "cell_type": "code",
   "execution_count": 11,
   "metadata": {},
   "outputs": [
    {
     "name": "stdout",
     "output_type": "stream",
     "text": [
      "IC(95.0%): (-0.8709356118051668, 3.3509356118051707)\n"
     ]
    }
   ],
   "source": [
    "deinopis = np.array([12.9, 10.2, 7.4, 7.0, 10.5, 11.9, 7.1, 9.9, 14.4, 11.3])\n",
    "\n",
    "menneus = np.array([10.2, 6.9, 10.9, 11.0, 10.1, 5.3, 7.5, 10.3, 9.2, 8.8])\n",
    "\n",
    "def welch_t_interval(muestra_1, muestra_2, alpha=0.05):\n",
    "    n1, n2 = len(muestra_1), len(muestra_2)  # tamaños de las muestras\n",
    "    m1, m2 = muestra_1.mean(), muestra_2.mean()  # medias de las muestras\n",
    "    # desviaciones de las muestras\n",
    "    s1, s2 = muestra_1.std(ddof=1), muestra_2.std(ddof=1)\n",
    "    se = np.sqrt(s1**2 / n1 + s2**2 / n2)  # error estándar\n",
    "    r = (s1**2 / n1 + s2**2/n2 )**2 / ( \n",
    "        (s1**2 / n1)**2/(n1-1) + (s2**2 / n2)**2/(n2-1) \n",
    "    )  # grados de libertad\n",
    "    r = int(r)  # nos quedamos solo con la parte entera\n",
    "    t_alpha = t.ppf(1-alpha/2, r)  # función cuantil \n",
    "    lower, upper = (m1 - m2) - t_alpha * se, (m1 - m2) + t_alpha * se\n",
    "    return lower, upper\n",
    "\n",
    "IC95 = welch_t_interval(deinopis, menneus)\n",
    "print(r\"IC(\"+str((1-alpha)*100)+\"%):\", IC95)"
   ]
  },
  {
   "cell_type": "markdown",
   "metadata": {},
   "source": [
    "<a id=\"paired\"></a>\n",
    "### Intervalo t para datos pareados\n",
    "[Volver al índice](#toc)\n",
    "\n",
    "- En algunos estudios, hacemos dos observaciones sobre el mismo individuo. Por ejemplo, podríamos ver los puntajes previos y posteriores a una prueba de cada estudiante en un curso. \n",
    "- En otros estudios, podríamos hacer una observación sobre cada uno de dos individuos similares. Por ejemplo, algunos ensayos de medicamentos implican el emparejamiento de sujetos similares para que uno reciba el medicamento y el otro reciba un placebo.\n",
    "  \n",
    "- En ambos tipos de estudios, estamos trabajando con datos emparejados, y cada vez que trabajamos con datos emparejados, normalmente estamos interesados en la diferencia entre cada par, por ejemplo, la diferencia entre los datos de los individuos que recibieron la medicina y el placebo.\n",
    "\n",
    "- Dada \n",
    "$X_1$ (etiquetada como No afectado) \n",
    "y $X_2$ (etiquetada como Afectado) y corresponden a nuestro datos pareados, $X_1$ observaciones pre, y $X_2$ observaciones post, (o placebo y medicina, según el ejemplo).\n",
    "\n",
    "- Nos interesa encontrar un intervalo de confianza para la diferencia de medias:\n",
    "$$\\mu_1 - \\mu_2$$\n",
    "\n",
    "- Si los pares de mediciones fueran independientes, podríamos calcular un intervalo\n",
    "t de Welch\n",
    "o un intervalo t dependiendo de si podemos suponer o no que las varianzas de la población son iguales. \n",
    "\n",
    "- Pero, las medidas de $X_1$ y $X_2$ no son independientes, ya que se miden en el 'mismo par de individuo'. En este caso podemos expresar el problema para la diferencia en las medidas de los individuos afectados y no afectados:\n",
    "\n",
    "$$D = X_1 - X_2.$$\n",
    "\n",
    "- De esta manera removemos el efecto pareado, y podemos estimar un intervalo de confinaza para $\\mu_D$:\n",
    "\n",
    "$$\\mu_D = \\mu_1 - \\mu_2.$$\n",
    "\n",
    "- Entonces, volvemos a la situación en la que podemos usar el modelo de una muestra, y construir un intervalo t para estimar $\\mu_D$. **Solo tenemos que dar el paso extra de calcular las diferencias.**\n",
    "\n",
    "- **Supuestos:**\n",
    "  1. Variable aleatoria: $D \\sim N(\\mu_D, \\sigma^2)$.\n",
    "  2. Parámetros poblacionales: $\\mu_D,\\ \\sigma$ desconocidas.\n",
    "  3. Muestras aleatoria: $\\bar{d} = \\frac{1}{n}\\sum_{i=1}^n d_i = x_1^i - x_2^i$; y $s_d$ calculables a partir de la muestra aleatoria.\n",
    "  \n",
    "- **Estadístico:**\n",
    "  1. Estimador del parámetro $\\mu_D$: \n",
    "  $$\\bar{d} = \\frac{1}{n}\\sum_{i=1}^n d_i = x_1^i - x_2^i.$$\n",
    "  \n",
    "- **Construcción del intervalo de confianza**\n",
    "\n",
    "$$IC_{(1-a)100\\%} = \\left[ \\bar{d} \\pm t_{(1-\\alpha/2,n-1)} \\cdot \\frac{s_d}{\\sqrt n} \\right]$$\n",
    "\n",
    "<a id=\"pairedej\"></a>\n",
    "### Ejemplo\n",
    "\n",
    "En un estudio, los investigadores informaron los resultados que controló las diferencias genéticas y socioeconómicas al examinar 15 pares de gemelos idénticos, donde uno de los gemelos era esquizofrénico y el otro no. Los investigadores utilizaron imágenes de resonancia magnética para medir los volúmenes (en centímetros cúbicos) de varias regiones y subregiones dentro del cerebro de los gemelos. Los siguientes datos provienen de una de las subregiones, el hipocampo izquierdo:\n",
    "\n",
    "|      Par       |    1 |    2 |    3 |    4 |    5 |    6 |    7 |    8 |    9 |   10 |   11 |   12 |   13 |   14 |   15 |\n",
    "|:------------|-----:|-----:|-----:|-----:|-----:|-----:|-----:|-----:|-----:|-----:|-----:|-----:|-----:|-----:|-----:|\n",
    "| No_Afectado | 1.94 | 1.44 | 1.56 | 1.58 | 2.06 | 1.66 | 1.75 | 1.77 | 1.78 | 1.92 | 1.25 | 1.93 | 2.04 | 1.62 | 2.08 |\n",
    "| Afectado    | 1.27 | 1.63 | 1.47 | 1.39 | 1.93 | 1.26 | 1.71 | 1.67 | 1.28 | 1.85 | 1.02 | 1.34 | 2.02 | 1.59 | 1.97 |\n",
    "\n",
    "¿Cuál es la magnitud de la diferencia en los volúmenes del hipocampo izquierdo entre (todos) los individuos afectados y no afectados?"
   ]
  },
  {
   "cell_type": "code",
   "execution_count": 12,
   "metadata": {},
   "outputs": [
    {
     "name": "stdout",
     "output_type": "stream",
     "text": [
      "IC(95.0%): (0.06670410469491994, 0.33062922863841343)\n"
     ]
    }
   ],
   "source": [
    "# index_col=0, indica que los datos contienen una columna (la 0) de índice\n",
    "# el índice es un valor único \n",
    "# ejemplo: la cédula o código único del participante en el estudio\n",
    "datos_pareados = pd.read_csv(\"data/paired_data.csv\", index_col=0)\n",
    "\n",
    "# calculemos la diferencia d = x1 - x2, x1: No afectado, x2: Afectado\n",
    "datos_pareados['d'] = datos_pareados['No_Afectado'] - datos_pareados['Afectado']\n",
    "\n",
    "alpha = 0.05  \n",
    "n = len(datos_pareados['d'])\n",
    "df = n - 1  # grados de libertad: tamaño de muestra - 1\n",
    "d_bar = datos_pareados['d'].mean()  # promedio de d\n",
    "# desviación de d, recordemos que pandas usa por defecto ddof=1\n",
    "s_d = datos_pareados['d'].std()  # s_d\n",
    "se = s_d / np.sqrt(n) # error estándar\n",
    "t_alpha = t.ppf(1-alpha/2, df)\n",
    "\n",
    "IC95 = t.interval(1-alpha, df, loc=d_bar, scale=se)\n",
    "print(r\"IC(\"+str((1-alpha)*100)+\"%):\", IC95)"
   ]
  },
  {
   "cell_type": "markdown",
   "metadata": {},
   "source": [
    "- Es decir, podemos estar seguros en un 95 % de que el tamaño medio de los individuos no afectados es entre 0.0667 y 0.3306 centímetros cúbicos más grande que el tamaño medio de los individuos afectados.\n",
    "\n",
    "  - Ver: https://online.stat.psu.edu/stat415/lesson/3/3.3"
   ]
  },
  {
   "cell_type": "markdown",
   "metadata": {},
   "source": [
    "<a id=\"varpop\"></a>\n",
    "### Intervalo de confianza para la varianza de una población\n",
    "\n",
    "[Volver al índice](#toc)\n",
    "\n",
    "- **Supuestos:**\n",
    "\n",
    "  1. Variable aleatoria: $X \\sim N(\\mu, \\sigma^2)$\n",
    "  2. Parámetros poblacionales: $\\mu,\\ \\sigma^2$ desconocidas.\n",
    "  3. Muestra aleatoria: $\\bar{X},\\ n,\\ s$ calculables a partir de la muestra aleatoria.\n",
    "  \n",
    "- **Estadístico:**\n",
    "\n",
    "$$\\frac{s^2}{\\sigma^2}(n-1) \\sim \\chi^2_{(n-1)}$$\n",
    "\n",
    "- **Construcción del Intervalo de confianza para el parámetro $\\sigma^2$:**\n",
    "\n",
    "$$P\\left( \\chi^2_{(\\alpha/2, n-1)} \\leq \n",
    "\\frac{s^2}{\\sigma^2}(n-1) \\leq \\chi^2_{(1-\\alpha/2, n-1)} \\right) = 1-\\alpha$$\n",
    "\n",
    "  - Multiplicamos la desigualdad por $\\frac{1}{s^2 (n-1)}$:\n",
    "  \n",
    "$$P\\left( \\frac{1}{s^2(n-1)} \\chi^2_{(\\alpha/2, n-1)} \\leq \n",
    "\\frac{1}{\\sigma^2} \\leq \\frac{1}{s^2 (n-1)} \n",
    "\\chi^2_{(1-\\alpha/2, n-1)} \\right) = 1-\\alpha$$\n",
    "\n",
    "  - Invertimos las fracciones de la desigualdad, note que el oreden de la desigualdad ha cambiado:\n",
    "  \n",
    "$$P\\left( \\frac{s^2(n-1)}{\\chi^2_{(\\alpha/2, n-1)}} \\geq \n",
    "\\sigma^2 \\geq \\frac{s^2 (n-1)}{\\chi^2_{(1-\\alpha/2, n-1)}} \\right) = 1-\\alpha$$\n",
    "\n",
    "  - Finalmente reordenamos los términos de la desigualdad:\n",
    "  \n",
    "$$P\\left( \\frac{s^2 (n-1)}{\\chi^2_{(1-\\alpha/2, n-1)}} \\leq \n",
    "\\sigma^2 \\leq \\frac{s^2(n-1)}{\\chi^2_{(\\alpha/2, n-1)}} \\right) = 1-\\alpha$$\n",
    "\n",
    "- Podemos escribir el intervalo de confianza como:\n",
    "\n",
    "$$IC_{(1-\\alpha)100\\%} = \\left[ \\frac{s^2 (n-1)}{\\chi^2_{(1-\\alpha/2, n-1)}}, \n",
    "\\frac{s^2(n-1)}{\\chi^2_{(\\alpha/2, n-1)}} \\right]$$\n",
    "\n",
    "- Note que usamos los valores ($\\chi^2_{(1-\\alpha/2, n-1)}, \\chi^2_{(\\alpha/2, n-1)}$) dado que la distribución $\\chi^2$ es no simétrica.\n",
    "\n",
    "### Ejemplo:\n",
    "\n",
    "Un fabricante de dulces produce, empaca y vende paquetes de dulces destinados a pesar 52 gramos. Al gerente de control de calidad que trabaja para la empresa le preocupa que la variación en los pesos reales de los paquetes de 52 gramos fuera mayor de lo aceptable. Es decir, le preocupaba que algunos paquetes pesaran significativamente menos de 52 gramos y otros pesaran significativamente más de 52 gramos. En un intento de estimar $\\sigma$, la desviación estándar de los pesos de todos los paquetes de 52 gramos que fabrica la empresa, tomó una muestra aleatoria de n = 10 paquetes de la línea de producción. La muestra aleatoria arrojó una varianza muestral de 4.2 gramos. Use la muestra aleatoria para derivar un intervalo de confianza del 95% para $\\sigma$."
   ]
  },
  {
   "cell_type": "code",
   "execution_count": 13,
   "metadata": {},
   "outputs": [
    {
     "name": "stdout",
     "output_type": "stream",
     "text": [
      "IC(95.0%): (1.9870925409024447, 13.997980661780439)\n"
     ]
    }
   ],
   "source": [
    "from scipy.stats import chi2\n",
    "s2 = 4.2  # varianza de la muestra\n",
    "n = 10 # tamaño de la muestra\n",
    "df = n - 1  # grados de libertad para chi2\n",
    "alpha = 0.05\n",
    "se = s2 * (n-1)  # error estándar\n",
    "\n",
    "IC95 = se / chi2.ppf(1-alpha/2, df), se / chi2.ppf(alpha/2, df)\n",
    "print(r\"IC(\"+str((1-alpha)*100)+\"%):\", IC95)"
   ]
  },
  {
   "cell_type": "markdown",
   "metadata": {},
   "source": [
    "Podemos estar 95% seguros de que la varianza $\\sigma^2$ de los pesos de todos los paquetes de dulces que salen de la línea de fábrica está entre 1.99 y 14.0 gramos cuadrados. \n",
    "\n",
    "- Tomando la raíz cuadrada de los límites de confianza, obtenemos el intervalo de confianza del 95% para la desviación estándar de la población $\\sigma$. "
   ]
  },
  {
   "cell_type": "code",
   "execution_count": 14,
   "metadata": {},
   "outputs": [
    {
     "name": "stdout",
     "output_type": "stream",
     "text": [
      "IC(95.0%): 1.4096426997301283 3.741387531622518\n"
     ]
    }
   ],
   "source": [
    "print(r\"IC(\"+str((1-alpha)*100)+\"%):\", np.sqrt(IC95[0]), np.sqrt(IC95[1]))"
   ]
  },
  {
   "cell_type": "markdown",
   "metadata": {},
   "source": [
    "Podemos estar 95% seguros de que la desviación estándar $\\sigma$ de los pesos de todos los paquetes de dulces que salen de la línea de fábrica está entre 1.41 y 3.74 gramos.\n",
    "\n",
    "  - El intervalo de la desviación no contiene al cero. Por lo tanto la línea de producción está empacando más dulces de lo indicado en el paquete (52 gramos) generando pérdidas para la empresa."
   ]
  },
  {
   "cell_type": "markdown",
   "metadata": {},
   "source": [
    "<a id=\"varcoc\"></a>\n",
    "### Intervalo de Confianza con respecto al cociente de varianzas de dos distribuciones normales independientes\n",
    "\n",
    "[Volver al índice](#toc)\n",
    "\n",
    "- **Supuestos:**\n",
    "  1. Variables aleatorias $X_1 \\sim N(\\mu_1, \\sigma_1^2),\\ X_2 \\sim N(\\mu_2, \\sigma_2^2)$\n",
    "  2. Parámetros poblacionales $\\mu_1,\\ \\sigma_1^2,\\ \\mu_2,\\ \\sigma_2^2$ desconocidas.\n",
    "  3. Muestra aleatoria: $\\bar{X}_1,\\ n_1,\\ s_1,\\ \\bar{X}_2,\\ n_2,\\ s_2$ calculables a partir de la muestra aleatoria. \n",
    "  \n",
    "- **Estadístico**:\n",
    "$$\\frac{s_2^2 \\sigma_1^2}{s_1^2 \\sigma_2^2} \\sim F_{(n_2-1,n_1-1)}$$\n",
    "\n",
    "  - Al inicio de este notebook hemos demostrado la distribución de los estadísticos más importantes, incluido el descrito arriba. \n",
    "    - Ver: https://online.stat.psu.edu/stat415/lesson/4/4.3\n",
    "    \n",
    "- **Construcción del intervalo de confianza para el parámetro \n",
    "$\\frac{\\sigma_1^2}{\\sigma_2^2}$**\n",
    "\n",
    "$$P \\left( F_{(a/2,n_2-1,n_1-1)} \\leq \n",
    "\\frac{s_2^2 \\sigma_1^2}{s_1^2 \\sigma_2^2}  \n",
    "\\leq F_{(1-a/2,n_2-1,n_1-1)} \\right) \n",
    "= 1-\\alpha$$\n",
    "\n",
    "- Multiplicamos por $\\frac{s_1^2}{s_2^2}$\n",
    "\n",
    "$$P \\left(\\frac{s_1^2}{s_2^2} F_{(a/2,n_2-1,n_1-1)} \\leq \n",
    "\\frac{\\sigma_1^2}{\\sigma_2^2}  \n",
    "\\leq \\frac{s_1^2}{s_2^2} F_{(1-a/2,n_2-1,n_1-1)} \\right) \n",
    "= 1-\\alpha$$\n",
    "\n",
    "- Podemos escribir el intervalo de confianza como:\n",
    "\n",
    "$$IC_{(1-\\alpha)100\\%} = \\left[ \\frac{s_1^2}{s_2^2} F_{(a/2,n_2-1,n_1-1)}, \n",
    "\\frac{s_1^2}{s_2^2} F_{(1-a/2,n_2-1,n_1-1)}\n",
    "\\right]$$\n",
    "\n",
    "### Ejemplo\n",
    "\n",
    "**Retomemos el ejemplo de las especies de araña Deinopis y Menneus.**\n",
    "\n",
    "- Implementaremos una función simple para el intervalo de confianza del parámetro $\\frac{\\sigma_1^2}{\\sigma_2^2}$.\n",
    "  - Vea: [intervalos de confianza en Python]( https://aegis4048.github.io/comprehensive_confidence_intervals_for_python_developers#ind_unequal)"
   ]
  },
  {
   "cell_type": "code",
   "execution_count": 15,
   "metadata": {},
   "outputs": [
    {
     "name": "stdout",
     "output_type": "stream",
     "text": [
      "IC(95.0%): (0.4362556597895196, 7.071106122331457)\n"
     ]
    }
   ],
   "source": [
    "from scipy.stats import f\n",
    "\n",
    "deinopis = np.array([12.9, 10.2, 7.4, 7.0, 10.5, 11.9, 7.1, 9.9, 14.4, 11.3])\n",
    "\n",
    "menneus = np.array([10.2, 6.9, 10.9, 11.0, 10.1, 5.3, 7.5, 10.3, 9.2, 8.8])\n",
    "\n",
    "n1 = len(deinopis)\n",
    "n2 = len(menneus)\n",
    "v1 = deinopis.var(ddof=1)  # varianza s1^2 \n",
    "v2 = menneus.var(ddof=1)  # varianza s2^2 \n",
    "alpha = 0.05\n",
    "df1 = n1-1  # grados de libertad n1, F\n",
    "df2 = n2-1  # grados de libertad n2, F\n",
    "se = v1/v2  # error estándar\n",
    "\n",
    "IC95 = f.ppf(alpha/2, df1, df2)*se, f.ppf(1-alpha/2, df1, df2)*se\n",
    "print(r\"IC(\"+str((1-alpha)*100)+\"%):\", IC95)"
   ]
  },
  {
   "cell_type": "markdown",
   "metadata": {},
   "source": [
    "- Podemos estar 95% seguros de que la relación de las dos varianzas de población está entre 0.434 y 7.071. \n",
    "  - Debido a que el intervalo contiene el valor 1, no podemos concluir que las varianzas de la población difieren). \n",
    "  \n",
    "- Los intervalos de confianza para las varianzas generalmente han perdido el favor de los estadísticos, porque no son muy precisos cuando los datos no se distribuyen normalmente. \n",
    "  - En ese caso, decimos que son \"sensibles\" al supuesto de normalidad, o que los intervalos \"no son robustos\"."
   ]
  },
  {
   "cell_type": "markdown",
   "metadata": {},
   "source": [
    "<a id=\"prop\"></a>\n",
    "### Intervalo de Confianza para la proporción (una sola muestra) para muestras grandes\n",
    "\n",
    "[Volver al índice](#toc)\n",
    "\n",
    "- **Supuestos:**\n",
    "  1. Variable aleatoria: $X \\sim Bernoulli(p)$. $E[X]=p$, $Var[X]=p (1-p)$.\n",
    "- **Estadístico:**\n",
    "  1. Estimador del parámetro $p$: $\\hat{p}$. \n",
    "  $$\\hat{p} = \\frac{1}{n}\\sum_{i=1}^n x_i$$\n",
    "  2. Estadístico: $$\\frac{\\hat{p} - p}{\\sqrt{\\frac{p(1-p)}{n}}} \\sim Z$$\n",
    "- Muestra aleatoria: $n$ y $\\hat{p}$ calculables a partir de la muestra aleatoria.\n",
    "- **Construcción del intervalo de confianza para el parámetro $p$:**\n",
    "  - Vea: https://online.stat.psu.edu/stat415/lesson/5/5.1\n",
    "\n",
    "$$P \\left( z_{\\alpha/2} \\leq \n",
    "\\frac{\\hat{p} - p}{\\sqrt{\\frac{p(1-p)}{n}}} \\leq\n",
    "z_{1-\\alpha/2} \n",
    "\\right) = 1 - \\alpha$$\n",
    "\n",
    "- Multipliquemos por $\\sqrt{\\frac{p(1-p)}{n}}$\n",
    "\n",
    "$$P \\left( z_{\\alpha/2} \\sqrt{\\frac{p(1-p)}{n}} \\leq \n",
    "\\hat{p} - p \\leq\n",
    "z_{1-\\alpha/2} \\sqrt{\\frac{p(1-p)}{n}}\n",
    "\\right) = 1 - \\alpha$$\n",
    "\n",
    "- Restemos $\\hat{p}$. \n",
    "\n",
    "$$P \\left( - \\hat{p} + z_{\\alpha/2} \\sqrt{\\frac{p(1-p)}{n}} \\leq \n",
    "- p \\leq\n",
    "-\\hat{p} + z_{1-\\alpha/2} \\sqrt{\\frac{p(1-p)}{n}}\n",
    "\\right) = 1 - \\alpha$$\n",
    "\n",
    "- Multipliquemos por (-1):\n",
    "\n",
    "$$P \\left( \\hat{p} - z_{\\alpha/2} \\sqrt{\\frac{p(1-p)}{n}} \\geq \n",
    "p \\geq\n",
    "\\hat{p} - z_{1-\\alpha/2} \\sqrt{\\frac{p(1-p)}{n}}\n",
    "\\right) = 1 - \\alpha$$\n",
    "\n",
    "- Cambiemos el sentido de la deisgualdad:\n",
    "\n",
    "$$P \\left( \\hat{p} - z_{1-\\alpha/2} \\sqrt{\\frac{p(1-p)}{n}} \\leq \n",
    "p \\leq\n",
    "\\hat{p} - z_{\\alpha/2} \\sqrt{\\frac{p(1-p)}{n}}\n",
    "\\right) = 1 - \\alpha$$\n",
    "\n",
    "- Note que para estimar el intervalo de confianza para $p$, necesitamos saber la proporción poblacional, el parámetro poblacional $p$. \n",
    "  - Reemplazamos $p$ por $\\hat{p}$ en el cálculo de los puntos extremos del intervalo de confianza:\n",
    "  \n",
    "  $$P \\left( \\hat{p} - z_{1-\\alpha/2} \\sqrt{\\frac{\\hat{p}(1-\\hat{p})}{n}} \\leq \n",
    "p \\leq\n",
    "\\hat{p} - z_{\\alpha/2} \\sqrt{\\frac{\\hat{p}(1-\\hat{p})}{n}}\n",
    "\\right) = 1 - \\alpha$$\n",
    "\n",
    "  - El valor $z_{(1-\\alpha/2)}$ es positivo y restaría a $\\hat{p}$ para obtener el límite inferior. \n",
    "  - Note que el valor $z_{(\\alpha/2)}$ es negativo, multiplicado por menos se vuelve positivo y sumaría al valor de $\\hat{p}$ para el límite superior, como esperaríamos para cumplir con la desigualdad. \n",
    "  \n",
    "- Teniendo en cuenta la simetría de las colas y que la distribución $Z\\sim N(0,1)$ es una función par, podemos simplificar nuestro intervalo de confianza, de la siguiente forma:\n",
    "\n",
    "$$IC_{(1-\\alpha)\\%} = \\left[ \\hat{p} \\pm z_{1-\\alpha/2} \n",
    "\\sqrt{\\frac{\\hat{p}(1-\\hat{p})}{n}} \\right]$$\n",
    "\n",
    "### Ejemplo\n",
    "\n",
    "En una muestra aleatoria de n = 500 familias en la ciudad de Quito, Ecuador, se encuentra que 340 están suscritas a Netflix. Calcule un intervalo de confianza del 95% para la proporción real de familias de Quito que están suscritas a Netlfix."
   ]
  },
  {
   "cell_type": "code",
   "execution_count": 16,
   "metadata": {},
   "outputs": [
    {
     "name": "stdout",
     "output_type": "stream",
     "text": [
      "IC(95.0%): (0.639112313849203, 0.7208876861507971)\n"
     ]
    }
   ],
   "source": [
    "hat_p = 340 / 500  # estimador de p\n",
    "n = 500  # tamaño de muestra\n",
    "alpha = 0.05\n",
    "z_alpha = norm.ppf(1-alpha/2)\n",
    "se = np.sqrt(hat_p*(1-hat_p)/n)  # error estándar\n",
    "IC95 = hat_p - z_alpha*se, hat_p + z_alpha*se\n",
    "print(r\"IC(\"+str((1-alpha)*100)+\"%):\", IC95)"
   ]
  },
  {
   "cell_type": "markdown",
   "metadata": {},
   "source": [
    "- Podemos estar seguros en un 95% de que entre el 63.91% y el 72.09% de las familias de Quito están suscritos a Netflix. "
   ]
  },
  {
   "cell_type": "code",
   "execution_count": 17,
   "metadata": {},
   "outputs": [
    {
     "name": "stdout",
     "output_type": "stream",
     "text": [
      "IC(95.0%): (0.639112313849203, 0.7208876861507971)\n"
     ]
    }
   ],
   "source": [
    "# Python implmenta este intervalo\n",
    "from statsmodels.stats.proportion import proportion_confint\n",
    "IC95 = proportion_confint(count=340, nobs=500, alpha=0.05, method='normal')\n",
    "print(r\"IC(\"+str((1-alpha)*100)+\"%):\", IC95)"
   ]
  },
  {
   "cell_type": "markdown",
   "metadata": {},
   "source": [
    "<a id=\"propdiff\"></a>\n",
    "### Intervalo de Confianza para la diferencia de proporciones cuando se muestrean dos poblaciones independientes\n",
    "\n",
    "[Volver al índice](#toc)\n",
    "\n",
    "- **Supuestos:**\n",
    "  1. Variables aleatorias: \n",
    "  $$X_1 \\sim Bernoulli(p_1), \\quad\n",
    "  X_2 \\sim Bernoulli(p_2)$$\n",
    "  $$E[X_1]=p_1, Var[X_1]=p_1 (1-p_1),\\quad E[X_2]=p_2, Var[X_2]=p_2 (1-p_2)$$\n",
    "  \n",
    "- **Estadístico:**\n",
    "\n",
    "  1. Estimador el parámetro ($p_1+p_2$): $\\hat{p_1}+\\hat{p_2}$.\n",
    "  2. Estadístico: \n",
    "  $$\\frac{\\hat{p_1}+\\hat{p_2} - (p_1+p_2)}\n",
    "  {\\sqrt{\\frac{\\hat{p_1}(1-\\hat{p_1})}{n_1}} + \n",
    "  \\sqrt{\\frac{\\hat{p_2}(1-\\hat{p_2})}{n_2}}\n",
    "  } \\sim N(0,1)$$\n",
    "  \n",
    "- **Construcción del Intervalo de confianza para el parámetro (p1 - p2):**\n",
    "\n",
    "$$IC_{(1-\\alpha)100\\%} = \\left[ \\hat{p_1} - \\hat{p_2} \\pm\n",
    "z_{1-\\alpha/2} \n",
    "\\sqrt{\\frac{\\hat{p_1}(1-\\hat{p_1})}{n_1} + \\frac{\\hat{p_2}(1-\\hat{p_2})}{n_2}} \\right]$$\n",
    "  - Vea: https://online.stat.psu.edu/stat415/lesson/5/5.2\n",
    "  \n",
    "### Ejemplo\n",
    "\n",
    "¿Cuál es la prevalencia de la anemia en los países en desarrollo?\n",
    "\n",
    "| | Mujeres africanas     | Mujeres de las Américas |\n",
    "| ----------- | ----------- | ----------- |\n",
    "| Tamaño de la muestra      | 2100       | 1900       |\n",
    "| Número con anemia  | 849        | 323      |\n",
    "\n",
    "Encuentre un intervalo de confianza del 95% para la diferencia en las proporciones de todas las mujeres africanas con anemia y todas las mujeres de las Américas con anemia."
   ]
  },
  {
   "cell_type": "code",
   "execution_count": 18,
   "metadata": {},
   "outputs": [
    {
     "name": "stdout",
     "output_type": "stream",
     "text": [
      "IC(95.0%): (0.2073443507014389, 0.2612270778699897)\n"
     ]
    }
   ],
   "source": [
    "p1 = 849 / 2100  # proporción africana\n",
    "p2 = 323 / 1900  # proporción americana\n",
    "n1 = 2100\n",
    "n2 = 1900\n",
    "alpha = 0.05\n",
    "z_alpha = norm.ppf(1-alpha/2)\n",
    "se = np.sqrt(p1*(1-p1)/n1 + p2*(1-p2)/n2)\n",
    "IC95 = (p1-p2) - z_alpha*se, (p1-p2) + z_alpha*se\n",
    "print(r\"IC(\"+str((1-alpha)*100)+\"%):\", IC95)"
   ]
  },
  {
   "cell_type": "markdown",
   "metadata": {},
   "source": [
    "Podemos estar seguros en un 95% de que hay entre un 20.7% y un 26.1% más de mujeres africanas con anemia que de mujeres de las Américas.\n",
    "\n",
    "- Versiones recientes de **statsmodels** implementan este intervalo, vea la [documentación](https://www.statsmodels.org/stable/generated/statsmodels.stats.proportion.confint_proportions_2indep.html)."
   ]
  },
  {
   "cell_type": "code",
   "execution_count": 19,
   "metadata": {},
   "outputs": [
    {
     "name": "stdout",
     "output_type": "stream",
     "text": [
      "IC(95.0%): (0.2070724389090843, 0.2609361799283984)\n"
     ]
    }
   ],
   "source": [
    "from statsmodels.stats.proportion import confint_proportions_2indep\n",
    "\n",
    "IC95 = confint_proportions_2indep(count1=849, nobs1=2100, \n",
    "                           count2=323, nobs2=1900, \n",
    "                           compare='diff', alpha=0.05, correction=False)\n",
    "print(r\"IC(\"+str((1-0.05)*100)+\"%):\", IC95)"
   ]
  },
  {
   "cell_type": "markdown",
   "metadata": {},
   "source": [
    "<img align=\"left\" src=\"https://raw.githubusercontent.com/marsgr6/r-scripts/master/imgs/python-banner-300x89.png\">\n",
    "\n",
    "<br/>\n",
    "\n",
    "### Opcional: Practique Python\n",
    "<br/>\n",
    "\n",
    "- Vea la implementación siguiente:\n",
    "  - Confidence interval for the difference between two proportions in Python en  [stackoverflow](https://stackoverflow.com/questions/47570903/confidence-interval-for-the-difference-between-two-proportions-in-python)"
   ]
  },
  {
   "cell_type": "code",
   "execution_count": 20,
   "metadata": {},
   "outputs": [
    {
     "name": "stdout",
     "output_type": "stream",
     "text": [
      "IC(95.0%): [0.20734435 0.26122708]\n"
     ]
    }
   ],
   "source": [
    "def two_proprotions_confint(success_a, size_a, success_b, size_b, significance = 0.05):\n",
    "    \"\"\"\n",
    "    A/B test for two proportions;\n",
    "    given a success a trial size of group A and B compute\n",
    "    its confidence interval;\n",
    "    resulting confidence interval matches R's prop.test function\n",
    "\n",
    "    Parameters\n",
    "    ----------\n",
    "    success_a, success_b : int\n",
    "        Number of successes in each group\n",
    "\n",
    "    size_a, size_b : int\n",
    "        Size, or number of observations in each group\n",
    "\n",
    "    significance : float, default 0.05\n",
    "        Often denoted as alpha. Governs the chance of a false positive.\n",
    "        A significance level of 0.05 means that there is a 5% chance of\n",
    "        a false positive. In other words, our confidence level is\n",
    "        1 - 0.05 = 0.95\n",
    "\n",
    "    Returns\n",
    "    -------\n",
    "    prop_diff : float\n",
    "        Difference between the two proportion\n",
    "\n",
    "    confint : 1d ndarray\n",
    "        Confidence interval of the two proportion test\n",
    "    \"\"\"\n",
    "    prop_a = success_a / size_a\n",
    "    prop_b = success_b / size_b\n",
    "    var = prop_a * (1 - prop_a) / size_a + prop_b * (1 - prop_b) / size_b\n",
    "    se = np.sqrt(var)\n",
    "\n",
    "    # z critical value\n",
    "    confidence = 1 - significance\n",
    "    z = norm.ppf(confidence + significance / 2)\n",
    "\n",
    "    # standard formula for the confidence interval\n",
    "    # point-estimtate +- z * standard-error\n",
    "    prop_diff = prop_a - prop_b\n",
    "    confint = prop_diff + np.array([-1, 1]) * z * se\n",
    "    return prop_diff, confint\n",
    "\n",
    "dif_prop, IC95 = two_proprotions_confint(849, n1, 323, n2, significance = 0.05)\n",
    "print(r\"IC(\"+str((1-alpha)*100)+\"%):\", IC95)"
   ]
  },
  {
   "cell_type": "markdown",
   "metadata": {},
   "source": [
    "<a id=\"fic\"></a>\n",
    "### Resumen de fórmulas\n",
    "\n",
    "- Ver __[resumen de fórmulas](https://drive.google.com/open?id=13UyYrWb4MtYr2vJpSnvZWyETH1mW360W)__ para construir intevalos de confianza."
   ]
  },
  {
   "cell_type": "markdown",
   "metadata": {},
   "source": [
    "<a id=\"ph\"></a>\n",
    "## Pruebas de hipótesis \n",
    "\n",
    "[Volver al índice](#toc)\n",
    "\n",
    "- En la sección anterior, desarrollamos métodos estadísticos, en forma de intervalos de confianza, para responder a la pregunta ¿cuál es el valor del parámetro $\\theta$?\n",
    "\n",
    "- En esta sección, aprenderemos cómo responder una pregunta ligeramente diferente, ¿es el valor del parámetro $\\theta$ tal o cuál? \n",
    "  - Por ejemplo, en lugar de intentar estimar $\\mu$, la temperatura corporal media de los adultos, podríamos estar interesados en probar si $\\mu$, la temperatura corporal media de los adultos es realmente de 37 grados centígrados. \n",
    "  - Intentaremos responder tales preguntas usando el método estadístico conocido como **prueba de hipótesis**.\n",
    "\n",
    "- Realizaermos pruebas de hipótesis para los parámetros de población habituales, que incluyen:\n",
    "  - la media poblacional, $\\mu$;\n",
    "  - la diferencia de dos poblaciones, $\\mu_1 - \\mu_2$;\n",
    "  - la varianza poblacional, $\\sigma^2$; \n",
    "  - la razón de dos varianzas poblacionales, $\\frac{\\sigma_1^2}{\\sigma_2^2}$; \n",
    "  - la proporción poblacional, $p$; \n",
    "  - la diferencia en dos propociones poblacionales, $p_1 - p_2$.\n",
    "\n",
    "- Partiremos de un ejemplo simple para presentar los pasos detrás de una prueba de hipótesis y luego nos enfocaremos en ejercicios para los diferentes casos. \n",
    "  - **Los supuestos, y estadísticos presentados para los intervalos de confianza aplican para las pruebas de hipótesis.**\n",
    "\n",
    "<a id=\"phz\"></a>\n",
    "### Prueba de hipótesis para la media cuando se muestrea una población normal con varianza conocida\n",
    "\n",
    "[Volver al índice](#toc)\n",
    "\n",
    "**Paso 1:** Identificar el parámetro a evaluar: $\\mu$ \n",
    "\n",
    "**Paso 2:** Formular la prueba de hipótesis.\n",
    "\n",
    "| Cola inferior     | Cola superior | Dos colas     |\n",
    "| :---:        |    :----:   |          :---: |\n",
    "|<img width=100/>|<img width=100/>|<img width=100/>|\n",
    "| $H_0:\\ \\mu = \\mu_0$     | $H_0:\\ \\mu = \\mu_0$      | $H_0:\\ \\mu = \\mu_0$  |\n",
    "| $H_1:\\ \\mu < \\mu_0$  | $H_1:\\ \\mu > \\mu_0$        | $H_0:\\ \\mu \\neq \\mu_0$     |\n",
    "\n",
    "**Paso 3:** Definir supuestos para seleccionar el estadístico de prueba.\n",
    "  - Vea el intervalo de confianza equivalente.\n",
    "  \n",
    " \n",
    "  $$\\hat{\\mu} = \\bar{X},\\quad \\frac{\\bar{X}-\\mu}{\\sigma / \\sqrt{n}} \\sim N(0,1)$$\n",
    "\n",
    "  \n",
    "**Paso 4:** Calcular el estimador apropiado para el parámetro y el estadístico de prueba $z_p$, bajo $H_0$.\n",
    "\n",
    "$$z_p = \\frac{\\bar{X}-\\mu_0}{\\sigma / \\sqrt{n}}$$\n",
    "\n",
    "**Paso 5:** Graficar la distribución del estadístico, identificar el punto crítico $z_c(\\alpha)$ y la región crítica de acuerdo al **nivel de significancia** $\\alpha$. \n",
    "\n",
    "**Paso 6:** Calcular y ubicar el estadístico de prueba en la gráfica de la distribución. \n",
    "\n",
    "**Paso 7:** Concluir\n",
    "\n",
    "| Cola inferior     | Cola superior | Dos colas     |\n",
    "| :---:        |    :----:   |          :---: |\n",
    "|<img width=120/>|<img width=120/>|<img width=120/>|\n",
    "| Recharzar $H_0$ cuando   | Recharzar $H_0$ cuando  | Recharzar $H_0$ cuando  |\n",
    "| $z_p < z_{\\alpha}$  | $z_p > z_{1-\\alpha}$ | $z_p < z_{\\alpha/2} \\\\ z_p > z_{1-\\alpha/2}$    |\n",
    "\n",
    "\n",
    "### Ejemplo\n",
    "\n",
    "Se toman los tiempos de armado de 20 piezas en una línea de ensamblaje (tiempos en segundos):\n",
    "\n",
    "```Python\n",
    "datos = np.array([9.8, 9.7, 9.6, 9.9, 10.5, 10.4, 9.9, 10.2, 11.2, 10.1, 10.6, 10.9, 10.3, 10.6, 10.5, 9.6, 11.1, 9.6, 9.8, 9.7])\n",
    "```\n",
    "\n",
    "Se define la variable aleatoria $X$ como el tiempo necesario para armar una unidad. Se asume que $X$ sigue una distribución $X \\sim N(\\mu, \\sigma^2=0.6^2)$. Es decir una desviación $\\sigma=0.6$.\n",
    "\n",
    "Con un **nivel de significancia ($\\alpha$) del 5%**, ¿existe alguna razón para pensar que el **tiempo medio de armado es mayor que 10 segundos**?\n",
    "\n",
    "**Paso 1:** Identificar el parámetro a evaluar: $\\mu$.\n",
    "\n",
    "**Paso 2:** Formular la prueba de hipótesis.\n",
    "\n",
    "| Cola superior | \n",
    "|    :----:   | \n",
    "|<img width=100/>|\n",
    "| $H_0:\\ \\mu_0 = 10$      |\n",
    "| $H_1:\\ \\mu_0 > 10$        | \n",
    "\n",
    "\n",
    "**Paso 3:** Definir supuestos para seleccionar el estadístico de prueba.\n",
    "  - Vea el intervalo de confianza equivalente.\n",
    "  \n",
    "  $$\\hat{\\mu} = \\bar{X},\\quad \\frac{\\bar{X}-\\mu_0}{\\sigma / \\sqrt{n}} \\sim N(0,1)$$\n",
    "\n",
    "**Paso 4:** Calcular el estimador apropiado para el parámetro y el estadístico de prueba $z_p$.\n",
    "\n",
    "$$z_p = \\frac{\\bar{X}-\\mu_0}{\\sigma / \\sqrt{n}} =  \\frac{10.2-10}{0.6/\\sqrt{20}}=1.4907.$$\n",
    "\n",
    "- Bajo $H_0:\\ \\mu = 10$, el estadístico de prueba tiene un valor de $Z_p=1.4907$.\n",
    "\n",
    "**Paso 5 y 6:** Identificar el punto crítico $z_{(1-\\alpha)}=1.6449$ y la región crítica, y ubicar el estadístico de prueba $z_p=1.4907$, en la gráfica de la distribución.\n",
    "\n",
    "![](https://raw.githubusercontent.com/marsgr6/r-scripts/master/imgs/z_test.png)\n",
    "\n",
    "**Paso 7:** Concluir \n",
    "\n",
    "- Dado que no se cumple $z_p > z_{1-\\alpha}$, no podemos rechazar $H_0$. \n",
    "\n",
    "| Cola superior | \n",
    "|    :----:   | \n",
    "|<img width=120/>|\n",
    "| Recharzar $H_0$ cuando  | \n",
    "| $z_p > z_{1-\\alpha}$ |\n",
    "\n",
    "- **Conclusión:** No existe evidencia estadística que demuestre que el tiempo de ensamblaje promedio sea mayor a 10 segundos."
   ]
  },
  {
   "cell_type": "code",
   "execution_count": 21,
   "metadata": {},
   "outputs": [
    {
     "data": {
      "text/plain": [
       "{'zp': 1.4907119849998547,\n",
       " 'zc': 1.6448536269514722,\n",
       " 'decision': 'No rechace H0'}"
      ]
     },
     "execution_count": 21,
     "metadata": {},
     "output_type": "execute_result"
    },
    {
     "data": {
      "image/png": "[encoded data removed]",
      "text/plain": [
       "<Figure size 576x432 with 1 Axes>"
      ]
     },
     "metadata": {
      "needs_background": "light"
     },
     "output_type": "display_data"
    }
   ],
   "source": [
    "datos = np.array([9.8, 9.7, 9.6, 9.9, 10.5, 10.4, 9.9, 10.2, 11.2, 10.1, \n",
    "                  10.6, 10.9, 10.3, 10.6, 10.5, 9.6, 11.1, 9.6, 9.8, 9.7])\n",
    "n = len(datos)  # tamaño de muestra\n",
    "x_bar = datos.mean()  # media muestral x barra\n",
    "mu = 10  # H_0, hipótesis nula\n",
    "s = 0.6  # desviación poblacional conocida sigma\n",
    "zp = (x_bar - mu) / (s/np.sqrt(n))  # estadístico de prueba\n",
    "\n",
    "# Graficamos la distribución Z\n",
    "x = np.linspace(-4, 4, 200)  # x a +- 4 desviaciones de la media\n",
    "zx = norm.pdf(x)  # zx = N(0,1)\n",
    "plt.figure(figsize=(8,6))\n",
    "plt.plot(x, zx)\n",
    "\n",
    "# Graficamos punto crítico y sombreamos región crítica\n",
    "# cola superior de acuerdo a la hipótesis alternativa H1\n",
    "alpha = 0.05  # nivel de significancia\n",
    "zc = norm.ppf(1-alpha)  # punto crítico, cola superior z(1-alpha)\n",
    "x_cola_superior = np.linspace(zc, 4)  # cola superior\n",
    "plt.fill_between(x_cola_superior, norm.pdf(x_cola_superior), \n",
    "                 color=\"orange\", alpha=.4, \n",
    "                 label=r\"Región crítica (rechazar $H_0$)\")\n",
    "plt.vlines(zc, 0, norm.pdf(zc), 'r')\n",
    "plt.plot(zc, 0, 'Dr', label=r\"Punto crítico $z_c$\")\n",
    "plt.text(zc, 0, r'$z_c=$'+str(np.round(zc, 4)), color=\"red\")\n",
    "\n",
    "plt.plot(zp, 0, 'Pg', label=r\"Punto de prueba $z_p$\")\n",
    "plt.text(zp-1, 0.015, r'$z_p=$'+str(np.round(zp, 4)), color=\"green\")\n",
    "plt.xlabel(r'$Z$')\n",
    "l = plt.legend()\n",
    "\n",
    "Conclusion = {False: \"No rechace H0\", True: \"Rechace H0\"}  # Para zp>zc\n",
    "{'zp': zp, 'zc': zc, 'decision': Conclusion[zp>zc]}"
   ]
  },
  {
   "cell_type": "markdown",
   "metadata": {},
   "source": [
    "### Ejemplo\n",
    "\n",
    "Se sabe que los niños de cierta edad tienen un peso medio de $\\mu=85$ libras. Se denuncia que los niños que viven en un hogar infantil municipal están desnutridos. Como evidencia, una muestra de n=25 niños (de la misma edad) se pesan, y se determina que tienen un peso medio de $\\bar{x} = 80.94$ libras. \n",
    "Se sabe que la desviación estándar de la población es de $\\sigma=11.6$ libras (¡la parte poco realista de este ejemplo!). \n",
    "- Con base en los datos disponibles, y con un nivel de significancia de $\\alpha=0.05$, ¿qué se debe concluir con respecto a la denuncia?\n",
    "\n",
    "$$H_0: \\mu_0 = 85$$\n",
    "$$H_1: \\mu_0 < 85$$"
   ]
  },
  {
   "cell_type": "code",
   "execution_count": 22,
   "metadata": {},
   "outputs": [
    {
     "data": {
      "text/plain": [
       "{'zp': -1.750000000000001, 'zc': -1.6448536269514729, 'decision': 'Rechace H0'}"
      ]
     },
     "execution_count": 22,
     "metadata": {},
     "output_type": "execute_result"
    },
    {
     "data": {
      "image/png": "[encoded data removed]",
      "text/plain": [
       "<Figure size 576x432 with 1 Axes>"
      ]
     },
     "metadata": {
      "needs_background": "light"
     },
     "output_type": "display_data"
    }
   ],
   "source": [
    "n = 25\n",
    "x_bar = 80.94  # media muestral x barra\n",
    "mu = 85  # H_0, hipótesis nula\n",
    "s = 11.6  # desviación poblacional conocida sigma\n",
    "zp = (x_bar - mu) / (s/np.sqrt(n))  # estadístico de prueba\n",
    "\n",
    "# Graficamos la distribución Z\n",
    "x = np.linspace(-4, 4, 200)  # x a +- 4 desviaciones de la media\n",
    "zx = norm.pdf(x)  # zx = N(0,1)\n",
    "plt.figure(figsize=(8,6))\n",
    "plt.plot(x, zx)\n",
    "\n",
    "# Graficamos punto crítico y sombreamos región crítica\n",
    "# cola superior de acuerdo a la hipótesis alternativa H1\n",
    "alpha = 0.05  # nivel de significancia\n",
    "zc = norm.ppf(alpha)  # punto crítico, cola inferior z(alpha)\n",
    "x_cola_inferior = np.linspace(-4, zc)  # cola inferior\n",
    "plt.fill_between(x_cola_inferior, norm.pdf(x_cola_inferior), \n",
    "                 color=\"orange\", alpha=.4, \n",
    "                 label=r\"Región crítica (rechazar $H_0$)\")\n",
    "plt.vlines(zc, 0, norm.pdf(zc), 'r')\n",
    "plt.plot(zc, 0, 'Dr', label=r\"Punto crítico $z_c$\")\n",
    "plt.text(zc, 0, r'$z_c=$'+str(np.round(zc, 4)), color=\"red\")\n",
    "\n",
    "plt.plot(zp, 0, 'Pg', label=r\"Punto de prueba $z_p$\")\n",
    "plt.text(zp-1, 0.015, r'$z_p=$'+str(np.round(zp, 4)), color=\"green\")\n",
    "plt.xlabel(r'$Z$')\n",
    "l = plt.legend()\n",
    "\n",
    "Conclusion = {False: \"No rechace H0\", True: \"Rechace H0\"}  # Para zp<zc\n",
    "{'zp': zp, 'zc': zc, 'decision': Conclusion[zp<zc]}"
   ]
  },
  {
   "cell_type": "markdown",
   "metadata": {},
   "source": [
    "- **Conclusión:** Existe evidencia estadística para afirmar que la media del peso de los niños que viven en el hogar infantil municipal es menor a 85 libras.\n",
    "\n",
    "### Valor $p$ ($p$-value)\n",
    "\n",
    "- El enfoque de la región crítica anterior, nos dice que rechacemos la hipótesis nula, al nivel de significancia $\\alpha=0.05$. Dado que $z_p$ < $z_c$, y por tanto $z_p$, cae en la región de rechazo. \n",
    "\n",
    "- Podemos obtener la misma conclusión usando el enfoque del valor $p$ ($p$-value), si $p$-value $ \\leq \\alpha$.\n",
    "\n",
    "- **El valor p:**\n",
    "\n",
    "  - Es la probabilidad, bajo el supuesto de que la hipótesis nula es verdadera, de obtener un resultado igual o más extremo que el resultado obtenido en el experimento (el estadísdtico de prueba $z_p$).\n",
    "  - En nuestro ejemplo de cola inferior esto se traduce como $p$-value$=P(Z<z_p)$\n",
    "  - Para cola superior: $p$-value$=P(Z>z_p)$.\n",
    "  - Para dos colas: $p$-value$=min(P({Z<z_p|H_0), P(Z>z_p|H_0)}) \\cdot 2$.\n",
    "    - En una prueba de dos colas, la traducción de \"igual o más extremo que\" es esencialmente igual o más distante, en cualquier dirección opuesta a la media. Estamos probando si la media se ha movido en cualquier dirección, en este caso.\n",
    "    - Dada la simetría de la distribución, multiplicamos por 2 para obtener el $p$-value. \n",
    "  \n",
    "### Ejemplo\n",
    "\n",
    "- En nuestro ejemplo el $p$-value es $P(Z<z_p) = P(Z<-1.75) = 0.0401$.\n",
    "\n",
    "- Dado que $p$-value $ \\leq \\alpha$, rechazamos $H_0$.\n",
    "\n",
    "- **Representemos esto de forma gráfica.**"
   ]
  },
  {
   "cell_type": "code",
   "execution_count": 23,
   "metadata": {},
   "outputs": [
    {
     "name": "stdout",
     "output_type": "stream",
     "text": [
      "{'zp': -1.750000000000001, 'zc': -1.6448536269514729, 'decision': 'Rechace H0'}\n"
     ]
    },
    {
     "data": {
      "text/plain": [
       "{'p_value': 0.04005915686381699, 'alpha': 0.05, 'decision': 'Rechace H0'}"
      ]
     },
     "execution_count": 23,
     "metadata": {},
     "output_type": "execute_result"
    },
    {
     "data": {
      "image/png": "[encoded data removed]",
      "text/plain": [
       "<Figure size 576x432 with 1 Axes>"
      ]
     },
     "metadata": {
      "needs_background": "light"
     },
     "output_type": "display_data"
    }
   ],
   "source": [
    "n = 25\n",
    "x_bar = 80.94  # media muestral x barra\n",
    "mu = 85  # H_0, hipótesis nula\n",
    "s = 11.6  # desviación poblacional conocida sigma\n",
    "zp = (x_bar - mu) / (s/np.sqrt(n))  # estadístico de prueba\n",
    "\n",
    "# Graficamos la distribución X\n",
    "x = np.linspace(-4, 4, 200)  # x a +- 4 desviaciones de la media\n",
    "zx = norm.pdf(x)  # zx = N(0,1)\n",
    "plt.figure(figsize=(8,6))\n",
    "plt.plot(x, zx)\n",
    "\n",
    "# Graficamos punto crítico y sombreamos región crítica\n",
    "# cola superior de acuerdo a la hipótesis alternativa H1\n",
    "alpha = 0.05  # nivel de significancia\n",
    "zc = norm.ppf(alpha)  # punto crítico, cola inferior z(alpha)\n",
    "\n",
    "p_value = norm.cdf(zp)  # valor p: P(Z<zp) = F(zp)\n",
    "\n",
    "x_cola_inferior = np.linspace(-4, zc)  # cola inferior\n",
    "plt.fill_between(x_cola_inferior, norm.pdf(x_cola_inferior), \n",
    "                 color=\"orange\", alpha=.4, \n",
    "                 label=r\"Región crítica (rechazar $H_0$)\")\n",
    "plt.vlines(zc, 0, norm.pdf(zc), 'r')\n",
    "plt.plot(zc, 0, 'Dr', label=r\"Punto crítico $z_c$\")\n",
    "plt.text(zc, 0, r'$z_c=$'+str(np.round(zc, 4)), color=\"red\")\n",
    "\n",
    "# p-value\n",
    "x_p_value = np.linspace(-4, zp)  # cola inferior\n",
    "plt.fill_between(x_p_value, norm.pdf(x_p_value), \n",
    "                 color=\"green\", alpha=.4, \n",
    "                 label=r\"$p$-value\")\n",
    "plt.vlines(zp, 0, norm.pdf(zp), 'g')\n",
    "plt.plot(zp, 0, 'Pg', label=r\"Punto de prueba $z_p$\")\n",
    "plt.text(zp-1, 0.015, r'$z_p=$'+str(np.round(zp, 4)), color=\"green\")\n",
    "plt.xlabel(r'$Z$')\n",
    "l = plt.legend()\n",
    "\n",
    "Conclusion = {False: \"No rechace H0\", True: \"Rechace H0\"}  # Para zp<zc\n",
    "print({'zp': zp, 'zc': zc, 'decision': Conclusion[zp<zc]})\n",
    "{'p_value': p_value, 'alpha': alpha, 'decision': Conclusion[p_value<alpha]}"
   ]
  },
  {
   "cell_type": "markdown",
   "metadata": {},
   "source": [
    "- Un último enfoque, y misma conclusión, consiste en representar el problema usando la variable $\\bar{X} \\sim N(\\mu, \\sqrt{\\sigma^2/n})$.\n",
    "  - Note que el p-value es el mismo que obtuvimos para la variable estandarizada $Z\\sim N(0,1)$."
   ]
  },
  {
   "cell_type": "code",
   "execution_count": 24,
   "metadata": {},
   "outputs": [
    {
     "name": "stdout",
     "output_type": "stream",
     "text": [
      "{'xp': 80.94, 'xc': 81.18393958547259, 'decision': 'Rechace H0'}\n"
     ]
    },
    {
     "data": {
      "text/plain": [
       "{'p_value': 0.04005915686381699, 'alpha': 0.05, 'decision': 'Rechace H0'}"
      ]
     },
     "execution_count": 24,
     "metadata": {},
     "output_type": "execute_result"
    },
    {
     "data": {
      "image/png": "[encoded data removed]",
      "text/plain": [
       "<Figure size 576x432 with 1 Axes>"
      ]
     },
     "metadata": {
      "needs_background": "light"
     },
     "output_type": "display_data"
    }
   ],
   "source": [
    "n = 25\n",
    "x_bar = 80.94  # media muestral x barra\n",
    "mu = 85  # H_0, hipótesis nula\n",
    "s = 11.6  # desviacioón poblacional conocida sigma\n",
    "se = s / np.sqrt(n)\n",
    "xp = x_bar  # estadístico de prueba\n",
    "\n",
    "# Graficamos la distribución X_bar\n",
    "x = np.linspace(mu-4*se, mu+4*se, 200)  # x a +- 4 desviaciones de la media\n",
    "pdfx = norm.pdf(x, mu, se)  # zx = N(0,1)\n",
    "plt.figure(figsize=(8,6))\n",
    "plt.plot(x, pdfx)\n",
    "\n",
    "# Graficamos punto crítico y sombreamos región crítica\n",
    "# cola superior de acuerdo a la hipótesis alternativa H1\n",
    "alpha = 0.05  # nivel de significancia\n",
    "xc = norm.ppf(alpha, mu, se)  # punto crítico, cola inferior z(alpha)\n",
    "\n",
    "p_value = norm.cdf(xp, mu, se)  # valor p: P(X<xp) = F(xp)\n",
    "\n",
    "x_cola_inferior = np.linspace(mu-4*se, xc)  # cola inferior\n",
    "plt.fill_between(x_cola_inferior, norm.pdf(x_cola_inferior, mu, se), \n",
    "                 color=\"orange\", alpha=.4, \n",
    "                 label=r\"Región crítica (rechazar $H_0$)\")\n",
    "plt.vlines(xc, 0, norm.pdf(xc), 'r')\n",
    "plt.plot(xc, 0, 'Dr', label=r\"Punto crítico $x_c$\")\n",
    "plt.text(xc, 0, r'$x_c=$'+str(np.round(xc, 4)), color=\"red\")\n",
    "\n",
    "# p-value\n",
    "x_p_value = np.linspace(mu-4*se, xp, mu, se)  # cola inferior\n",
    "plt.fill_between(x_p_value, norm.pdf(x_p_value, mu, se), \n",
    "                 color=\"green\", alpha=.4, \n",
    "                 label=r\"$p$-value\")\n",
    "plt.vlines(xp, 0, norm.pdf(xp), 'g')\n",
    "plt.plot(xp, 0, 'Pg', label=r\"Punto de prueba $x_p$\")\n",
    "plt.text(xp-1, 0.015, r'$x_p=$'+str(np.round(xp, 4)), color=\"green\")\n",
    "plt.xlabel(r'$\\bar{X}$')\n",
    "l = plt.legend()\n",
    "\n",
    "Conclusion = {False: \"No rechace H0\", True: \"Rechace H0\"}  # Para xp<xc\n",
    "print({'xp': xp, 'xc': xc, 'decision': Conclusion[xp<xc]})\n",
    "{'p_value': p_value, 'alpha': alpha, 'decision': Conclusion[p_value<alpha]}"
   ]
  },
  {
   "cell_type": "markdown",
   "metadata": {},
   "source": [
    "<img align=\"left\" width=\"80px\" src=\"https://raw.githubusercontent.com/marsgr6/r-scripts/master/imgs/activity.png\">\n",
    "\n",
    "<br/>\n",
    "\n",
    "### Experimente\n",
    "<br/>\n",
    "\n",
    "- Calcule el $p$-value para el ejercicio de ensamblaje, tenga en cuenta que es un cálculo por la cola superior. \n",
    "  - ¿Cuál es la conclusión usando el $p$-value?\n",
    "  \n",
    "- Para el ejercicio de ensamblaje, exprese la solución en términos de $\\bar{X}$, tenga en cuenta que es un cálculo por la cola superior. \n",
    "  - ¿Cuál es la conclusión?"
   ]
  },
  {
   "cell_type": "markdown",
   "metadata": {},
   "source": [
    "<a id=\"beta\"></a>\n",
    "### Error de Tipo I ($\\alpha$), Tipo II ($\\beta$) y poder de la prueba (power=$1-\\beta$)\n",
    "\n",
    "[Volver al índice](#toc)\n",
    "\n",
    "<table class=\"issArticleTable\" style=\"width: 550px; height: 164px;\" border=\"1\" width=\"481\" cellspacing=\"2\" cellpadding=\"2\" align=\"center\"><tbody><tr><td style=\"text-align:center\" class=\"issCaptionCell\" colspan=\"3\" bgcolor=\"#cccccc\"><strong></strong> <strong>Posibles Resultados de una prueba de hipótesis</strong></td>\n",
    "</tr><tr><td bgcolor=\"#cccccc\"><strong></strong></td>\n",
    "<td colspan=\"2\" bgcolor=\"#cccccc\" style=\"text-align:center\">\n",
    "<strong>Decisiones</strong>\n",
    "</td>\n",
    "</tr><tr><td><strong>Realidad</strong></td>\n",
    "<td style=\"text-align:center\">No rechazar $H_0$</td>\n",
    "<td style=\"text-align:center\">\n",
    "Rechazar $H_0$\n",
    "</td>\n",
    "</tr>\n",
    "<tr><td>$H_0$ es verdad</td>\n",
    "<td style=\"text-align:center\">Buena decisión ($P=1-\\alpha$)</td>\n",
    "<td style=\"text-align:center\">\n",
    "Error de tipo I ($P=\\alpha$)\n",
    "</td>\n",
    "</tr>\n",
    " <tr><td valign=\"top\">$H_0$ es falsa</td>\n",
    "<td style=\"text-align:center\">\n",
    "Error de Tipo II ($P=\\beta$)\n",
    "</td>\n",
    "<td style=\"text-align:center\">\n",
    "Buena decisión ($P=1 – \\beta$, es el poder de la prueba.)\n",
    "</td>\n",
    "</tr></tbody></table>\n",
    "\n",
    "### Ejemplo\n",
    "\n",
    "- Suponga que vamos a realizar una muestra aleatoria de tamaño $n=36$ de una población distribuida $X \\sim N(\\mu, sigma^2)$, donde $\\sigma=21$ y $\\mu$ es desconocida.\n",
    "\n",
    "- Vamos a probar:\n",
    "\n",
    "$$H_0: \\mu_0=50$$\n",
    "$$H_1: \\mu_0 < 50$$\n",
    "\n",
    "- Con un nivel de significancia de $\\alpha=0.09$. \n",
    "\n",
    "- Si en realidad $\\mu=40$, cual es la $P(\\text{Error de tipo II})$. \n",
    "\n",
    "$$P(\\text{Error de tipo II}) = P(\\text{No rechazar } H_0 | \\mu=40).$$\n",
    "\n",
    "  - Vea: https://www.youtube.com/watch?v=BJZpx7Mdde4\n",
    "  \n",
    "- No es dificil calcular $\\beta=P(\\text{Error de tipo II}) = P(\\text{No rechazar } H_0 | \\mu=40)$ y el poder de la prueba (power=$1-\\beta$), en la figura abajo. \n",
    "\n",
    "![](https://raw.githubusercontent.com/marsgr6/r-scripts/master/imgs/alfa_beta_power.png)\n",
    "\n",
    "```Python\n",
    "{'beta': 0.06471065809896848,\n",
    " 'power': 0.9352893419010315}\n",
    "```\n",
    "\n",
    "- Piénselo un poco y luego analice el código a continuación. \n",
    "  - Vea una versión interactiva en: https://en-interactive.herokuapp.com/#/9/1"
   ]
  },
  {
   "cell_type": "code",
   "execution_count": 25,
   "metadata": {},
   "outputs": [
    {
     "data": {
      "text/plain": [
       "{'Valor crítico': 45.30735738208424,\n",
       " 'beta': 0.06471065809896848,\n",
       " 'power': 0.9352893419010315}"
      ]
     },
     "execution_count": 25,
     "metadata": {},
     "output_type": "execute_result"
    },
    {
     "data": {
      "image/png": "[encoded data removed]",
      "text/plain": [
       "<Figure size 576x432 with 1 Axes>"
      ]
     },
     "metadata": {
      "needs_background": "light"
     },
     "output_type": "display_data"
    }
   ],
   "source": [
    "n = 36\n",
    "mu = 50  # H_A, hipótesis nula\n",
    "s = 21  # desviacioón poblacional conocida sigma\n",
    "se = s / np.sqrt(n)\n",
    "\n",
    "# Graficamos la distribución X\n",
    "x = np.linspace(mu-4*se, mu+4*se, 200)  # x a +- 4 desviaciones de la media\n",
    "pdfx = norm.pdf(x, mu, se)  # zx = N(0,1)\n",
    "plt.figure(figsize=(8,6))\n",
    "plt.plot(x, pdfx)\n",
    "\n",
    "# Graficamos punto crítico y sombreamos región crítica\n",
    "# cola superior de acuerdo a la hipótesis alternativa H1\n",
    "alpha = 0.09  # nivel de significancia\n",
    "xc = norm.ppf(alpha, mu, se)  # punto crítico, cola inferior z(alpha)\n",
    "\n",
    "x_alpha = np.linspace(mu-4*se, xc)  # cola inferior\n",
    "plt.fill_between(x_alpha, norm.pdf(x_alpha, mu, se), \n",
    "                 color=\"orange\", alpha=.5, hatch='/',\n",
    "                 label=r\"$\\alpha$\")\n",
    "plt.vlines(mu, 0, norm.pdf(mu, mu, se), \n",
    "           linestyles=\"dashed\", color=\"cornflowerblue\", label=r\"$\\mu=$\"+str(mu))\n",
    "\n",
    "mu1 = 40  # H_B, realidad\n",
    "\n",
    "# Graficamos la distribución X\n",
    "x = np.linspace(mu1-4*se, mu1+4*se, 200)  # x a +- 4 desviaciones de la media\n",
    "pdfx = norm.pdf(x, mu1, se)  # zx = N(0,1)\n",
    "plt.plot(x, pdfx, 'g')\n",
    "plt.vlines(xc, 0, norm.pdf(xc, mu1, se), color=\"g\")\n",
    "x_beta = np.linspace(xc, mu1+4*se)  # beta\n",
    "plt.fill_between(x_beta, norm.pdf(x_beta, mu1, se), \n",
    "                 color=\"green\", alpha=.3,\n",
    "                 label=r\"$\\beta$\")\n",
    "plt.vlines(mu1, 0, norm.pdf(mu1, mu1, se), \n",
    "           linestyles=\"dashed\", color=\"green\", label=r\"$\\mu=$\"+str(mu1))\n",
    "\n",
    "x_power = np.linspace(mu1-4*se, xc)  # power\n",
    "plt.fill_between(x_power, norm.pdf(x_power, mu1, se), \n",
    "                 color=\"cyan\", alpha=.2, hatch='o',\n",
    "                 label=r\"$power$\")\n",
    "\n",
    "plt.xlabel(r'$\\bar{X}$')\n",
    "l = plt.legend()\n",
    "beta = 1-norm.cdf(xc, mu1, se) \n",
    "{\"Valor crítico\": xc, \"beta\": beta, \"power\": 1-beta}"
   ]
  },
  {
   "cell_type": "markdown",
   "metadata": {},
   "source": [
    "<a id=\"pht\"></a>\n",
    "### Prueba de hipótesis para la media cuando se muestrea una población normal con varianza desconocida\n",
    "\n",
    "[Volver al índice](#toc)\n",
    "\n",
    "**Paso 1:** Identificar el parámetro a evaluar: $\\mu$ \n",
    "\n",
    "**Paso 2:** Formular la prueba de hipótesis.\n",
    "\n",
    "| Cola inferior     | Cola superior | Dos colas     |\n",
    "| :---:        |    :----:   |          :---: |\n",
    "|<img width=100/>|<img width=100/>|<img width=100/>|\n",
    "| $H_0:\\ \\mu = \\mu_0$     | $H_0:\\ \\mu = \\mu_0$      | $H_0:\\ \\mu = \\mu_0$  |\n",
    "| $H_1:\\ \\mu < \\mu_0$  | $H_1:\\ \\mu > \\mu_0$        | $H_0:\\ \\mu \\neq \\mu_0$     |\n",
    "\n",
    "**Paso 3:** Definir supuestos para seleccionar el estadístico de prueba.\n",
    "- Vea el intervalo de confianza equivalente.\n",
    "  1. Variable aleatoria (población): $X \\sim N(\\mu, \\sigma^2)$.\n",
    "  2. Parámetros poblacionales: $\\mu$ conocida ($H_0$), $\\sigma^2$ desconocida. \n",
    "  3. Muestra aleatoria: $\\bar{X}, n, s$, calculables a partir de la muestra aleatoria. \n",
    "\n",
    "**Paso 4:** Calcular el estimador apropiado para el parámetro y el estadístico de prueba $z_p$, bajo $H_0$.\n",
    "\n",
    "$$\\hat{\\mu} = \\bar{X},\\quad t_p = \\frac{\\bar{X}-\\mu_0}{s / \\sqrt{n}} \\sim t_{n-1}.$$\n",
    "\n",
    "**Paso 5:** Graficar la distribución del estadístico, identificar el punto crítico $t_c(\\alpha)$ y la región crítica de acuerdo al **nivel de significancia** $\\alpha$. \n",
    "\n",
    "**Paso 6:** Calcular y ubicar el estadístico de prueba $t_p$ en la gráfica de la distribución. \n",
    "\n",
    "**Paso 7:** Concluir\n",
    "\n",
    "| Cola inferior     | Cola superior | Dos colas     |\n",
    "| :---:        |    :----:   |          :---: |\n",
    "|<img width=120/>|<img width=120/>|<img width=120/>|\n",
    "| Recharzar $H_0$ cuando   | Recharzar $H_0$ cuando  | Recharzar $H_0$ cuando  |\n",
    "| $t_p < t_{(\\alpha, n-1)}$  | $t_p > t_{(1-\\alpha, n-1)}$ | $t_p < t_{(\\alpha/2, n-1)} \\\\ t_p > t_{(1-\\alpha/2,n-1)}$    |\n",
    "\n",
    "\n",
    "### Ejemplo\n",
    "\n",
    "Hemos recolectado una muestra aleatoria de 31 barras energéticas de varias tiendas diferentes para representar la población de barras energéticas disponibles para el consumidor general. Las etiquetas de las barras afirman que cada barra contiene 20 gramos de proteína.\n",
    "\n",
    "- Vea la [fuente](https://www.jmp.com/en_sg/statistics-knowledge-portal/t-test/one-sample-t-test.html).\n",
    "\n",
    "```Python\n",
    "muestra = np.array([20.70,27.46,22.15,19.85,21.29,24.75,\n",
    "                    20.75,22.91,25.34,20.33,21.54,21.08,\n",
    "                    22.14,19.56,21.10,18.04,24.12,19.95,\n",
    "                    19.72,18.28,16.26,17.46,20.53,22.12,\n",
    "                    25.06,22.44,19.08,19.88,21.39,22.33,25.79\n",
    "                   ])\n",
    "```\n",
    "\n",
    "- Vamos a probar:\n",
    "\n",
    "$$H_0: \\mu_0=20$$\n",
    "$$H_1: \\mu_0 \\neq 20$$\n",
    "\n",
    "- Con un nivel de significancia de $\\alpha=0.05$. "
   ]
  },
  {
   "cell_type": "code",
   "execution_count": 26,
   "metadata": {},
   "outputs": [
    {
     "name": "stdout",
     "output_type": "stream",
     "text": [
      "{'tp': 3.0668316352840814, 'tcr': 2.0422724563012373, 'decision': 'Rechace H0'}\n",
      "{'p_value': 0.0045526210606354756, 'alpha': 0.05, 'decision': 'Rechace H0'}\n"
     ]
    },
    {
     "data": {
      "text/plain": [
       "Ttest_1sampResult(statistic=3.0668316352840814, pvalue=0.004552621060635394)"
      ]
     },
     "execution_count": 26,
     "metadata": {},
     "output_type": "execute_result"
    },
    {
     "data": {
      "image/png": "[encoded data removed]",
      "text/plain": [
       "<Figure size 576x432 with 1 Axes>"
      ]
     },
     "metadata": {
      "needs_background": "light"
     },
     "output_type": "display_data"
    }
   ],
   "source": [
    "from scipy.stats import ttest_1samp\n",
    "\n",
    "muestra = np.array([20.70,27.46,22.15,19.85,21.29,24.75,\n",
    "                    20.75,22.91,25.34,20.33,21.54,21.08,\n",
    "                    22.14,19.56,21.10,18.04,24.12,19.95,\n",
    "                    19.72,18.28,16.26,17.46,20.53,22.12,\n",
    "                    25.06,22.44,19.08,19.88,21.39,22.33,25.79\n",
    "                   ])\n",
    "\n",
    "n = len(muestra)  # tamaño de muestra\n",
    "df = n - 1  # grados de libertad\n",
    "mu = 20  # media poblacional H_0\n",
    "x_bar = muestra.mean()  # media muestral\n",
    "s = muestra.std(ddof=1)  # desviaon desviación la muestra\n",
    "tp = (x_bar - mu) / (s/np.sqrt(n))  # estadístico de prueba tp\n",
    "alpha = 0.05\n",
    "\n",
    "x = np.linspace(-4, 4, 200)\n",
    "tx = t.pdf(x, df)  # pdf de t\n",
    "\n",
    "plt.figure(figsize=(8,6))\n",
    "plt.plot(x, tx)  # pdf\n",
    "\n",
    "# Región crítica a partir de alpha\n",
    "# Note que la prueba es de dos colas\n",
    "tc_l = t.ppf(alpha/2, df)  # cola inferior alpha/2\n",
    "tc_r = t.ppf(1-alpha/2, df)  # cola superior 1-alpha/2\n",
    "\n",
    "# cola izquierda area: alpha/2\n",
    "x_l = np.linspace(-4, tc_l)\n",
    "plt.fill_between(x_l, t.pdf(x_l, df), color='orange', alpha=0.5)\n",
    "plt.vlines(tc_l, 0, t.pdf(tc_l, df), color='red')\n",
    "plt.plot(tc_l, 0, 'Dr')\n",
    "\n",
    "# cola derecha area: alpha/2\n",
    "x_r = np.linspace(tc_r, 4)\n",
    "plt.fill_between(x_r, t.pdf(x_r, df), color='orange', \n",
    "                 alpha=0.5, label=r'Región de rechazo: $\\alpha/2+\\alpha/2$')\n",
    "plt.vlines(tc_r, 0, t.pdf(tc_r, df), color='red')\n",
    "plt.plot(tc_r, 0, 'Dr')\n",
    "\n",
    "plt.plot(tp, 0, 'Pg', label=r'Punto de preuba $t_p$')\n",
    "plt.legend()\n",
    "\n",
    "p_value = 1-t.cdf(tp, df)\n",
    "p_value = p_value*2  # multiplicamos por 2 ya que es un pruba de 2 colas\n",
    "\n",
    "Conclusion = {False: \"No rechace H0\", True: \"Rechace H0\"}  # Para xp<xc\n",
    "print({'tp': tp, 'tcr': tc_r, 'decision': Conclusion[tp>tc_r]})\n",
    "print({'p_value': p_value, 'alpha': alpha, 'decision': Conclusion[p_value<alpha]})\n",
    "\n",
    "# Python implementa la prueba t para una muestra\n",
    "# prueba de dos colas alternative='two-sided'\n",
    "# alternative: {'two-sided', 'less', 'greater'}\n",
    "ttest_1samp(muestra, popmean=20, alternative='two-sided')"
   ]
  },
  {
   "cell_type": "markdown",
   "metadata": {},
   "source": [
    "<a id=\"pairedtest\"></a>\n",
    "### Prueba t para datos pareados\n",
    "\n",
    "[Volver al índice](#toc)\n",
    "\n",
    "- Toda nuestra teoría requiere la independencia de las medidas, hemos presentado ya como solventar esto para datos pareados cuando construimos el intervalo de confianza equivalente para\n",
    "$$D = X - Y.$$ \n",
    "Lo conseguimos restando las dos medidas considerando las medidas independientes. \n",
    "\n",
    "- Entonces, nuestra hipótesis nula contempla una única media, que denotaremos como $\\mu_D$, \n",
    "la media de las diferencias:\n",
    "\n",
    "$$H_0: \\mu_D = \\mu_X - \\mu_Y = 0$$\n",
    "\n",
    "- Ya podemos usar la prueba t de una media para realizar la prueba de hipótesis. En esta situación, nuestras medidas son diferencias $d_i$ cuya media es $\\bar{d}$ y su desviación estandar es $s_D$. \n",
    "\n",
    "- Formulación:\n",
    "  \n",
    "| Cola inferior     | Cola superior | Dos colas     |\n",
    "| :---:        |    :----:   |          :---: |\n",
    "|<img width=100/>|<img width=100/>|<img width=100/>|\n",
    "| $H_0:\\ \\mu_D = 0$     | $H_0:\\ \\mu_D = 0$      | $H_0:\\ \\mu_D = 0$  |\n",
    "| $H_1:\\ \\mu_D < 0$  | $H_1:\\ \\mu_D > 0$        | $H_0:\\ \\mu_D \\neq 0$ |\n",
    "\n",
    "- Estadístico de prueba:\n",
    "\n",
    "$$t_p=\\frac{\\bar{d}}{s_D / \\sqrt{n}} \\sim t_{n-1}.$$\n",
    "\n",
    "- Conclusión:\n",
    "\n",
    "| Cola inferior     | Cola superior | Dos colas     |\n",
    "| :---:        |    :----:   |          :---: |\n",
    "|<img width=120/>|<img width=120/>|<img width=120/>|\n",
    "| Recharzar $H_0$ cuando   | Recharzar $H_0$ cuando  | Recharzar $H_0$ cuando  |\n",
    "| $t_p < t_{(\\alpha, n-1)}$  | $t_p > t_{(1-\\alpha, n-1)}$ | $t_p < t_{(\\alpha/2, n-1)} \\\\ t_p > t_{(1-\\alpha/2,n-1)}$    |\n",
    "\n",
    "\n",
    "\n",
    "### Ejemplo\n",
    "\n",
    "Los participantes de un estudio usaron margarina Clora durante 4 semanas. Su colesterol (en mmol/L) se midió antes de la dieta especial, y después de 4 semanas. Lleve a cabo una prueba t pareada para comprobar si el uso de margarina Clora durante 4 semanas cambia los niveles de colesterol.\n",
    "\n",
    "- Vea el siguiente [enlace](https://www.sheffield.ac.uk/polopoly_fs/1.885203!/file/96_Paired_ttest.pdf)\n",
    "\n",
    "- Formulación: \n",
    "\n",
    "$$H_0: \\mu_D = 0$$\n",
    "$$H_0: \\mu_D \\neq 0$$\n",
    "\n",
    "- Nivel de significancia: $\\alpha=0.01$."
   ]
  },
  {
   "cell_type": "code",
   "execution_count": 27,
   "metadata": {},
   "outputs": [
    {
     "data": {
      "text/html": [
       "<div>\n",
       "<style scoped>\n",
       "    .dataframe tbody tr th:only-of-type {\n",
       "        vertical-align: middle;\n",
       "    }\n",
       "\n",
       "    .dataframe tbody tr th {\n",
       "        vertical-align: top;\n",
       "    }\n",
       "\n",
       "    .dataframe thead th {\n",
       "        text-align: right;\n",
       "    }\n",
       "</style>\n",
       "<table border=\"1\" class=\"dataframe\">\n",
       "  <thead>\n",
       "    <tr style=\"text-align: right;\">\n",
       "      <th></th>\n",
       "      <th>Before</th>\n",
       "      <th>After4weeks</th>\n",
       "      <th>diferencia</th>\n",
       "    </tr>\n",
       "    <tr>\n",
       "      <th>Subject</th>\n",
       "      <th></th>\n",
       "      <th></th>\n",
       "      <th></th>\n",
       "    </tr>\n",
       "  </thead>\n",
       "  <tbody>\n",
       "    <tr>\n",
       "      <th>1</th>\n",
       "      <td>6.42</td>\n",
       "      <td>5.83</td>\n",
       "      <td>-0.59</td>\n",
       "    </tr>\n",
       "    <tr>\n",
       "      <th>2</th>\n",
       "      <td>6.76</td>\n",
       "      <td>6.20</td>\n",
       "      <td>-0.56</td>\n",
       "    </tr>\n",
       "    <tr>\n",
       "      <th>3</th>\n",
       "      <td>6.56</td>\n",
       "      <td>5.83</td>\n",
       "      <td>-0.73</td>\n",
       "    </tr>\n",
       "    <tr>\n",
       "      <th>4</th>\n",
       "      <td>4.80</td>\n",
       "      <td>4.27</td>\n",
       "      <td>-0.53</td>\n",
       "    </tr>\n",
       "    <tr>\n",
       "      <th>5</th>\n",
       "      <td>8.43</td>\n",
       "      <td>7.71</td>\n",
       "      <td>-0.72</td>\n",
       "    </tr>\n",
       "    <tr>\n",
       "      <th>6</th>\n",
       "      <td>7.49</td>\n",
       "      <td>7.12</td>\n",
       "      <td>-0.37</td>\n",
       "    </tr>\n",
       "    <tr>\n",
       "      <th>7</th>\n",
       "      <td>8.05</td>\n",
       "      <td>7.25</td>\n",
       "      <td>-0.80</td>\n",
       "    </tr>\n",
       "    <tr>\n",
       "      <th>8</th>\n",
       "      <td>5.05</td>\n",
       "      <td>4.63</td>\n",
       "      <td>-0.42</td>\n",
       "    </tr>\n",
       "    <tr>\n",
       "      <th>9</th>\n",
       "      <td>5.77</td>\n",
       "      <td>5.31</td>\n",
       "      <td>-0.46</td>\n",
       "    </tr>\n",
       "    <tr>\n",
       "      <th>10</th>\n",
       "      <td>3.91</td>\n",
       "      <td>3.70</td>\n",
       "      <td>-0.21</td>\n",
       "    </tr>\n",
       "    <tr>\n",
       "      <th>11</th>\n",
       "      <td>6.77</td>\n",
       "      <td>6.15</td>\n",
       "      <td>-0.62</td>\n",
       "    </tr>\n",
       "    <tr>\n",
       "      <th>12</th>\n",
       "      <td>6.44</td>\n",
       "      <td>5.59</td>\n",
       "      <td>-0.85</td>\n",
       "    </tr>\n",
       "    <tr>\n",
       "      <th>13</th>\n",
       "      <td>6.17</td>\n",
       "      <td>5.56</td>\n",
       "      <td>-0.61</td>\n",
       "    </tr>\n",
       "    <tr>\n",
       "      <th>14</th>\n",
       "      <td>7.67</td>\n",
       "      <td>7.11</td>\n",
       "      <td>-0.56</td>\n",
       "    </tr>\n",
       "    <tr>\n",
       "      <th>15</th>\n",
       "      <td>7.34</td>\n",
       "      <td>6.84</td>\n",
       "      <td>-0.50</td>\n",
       "    </tr>\n",
       "    <tr>\n",
       "      <th>16</th>\n",
       "      <td>6.85</td>\n",
       "      <td>6.40</td>\n",
       "      <td>-0.45</td>\n",
       "    </tr>\n",
       "    <tr>\n",
       "      <th>17</th>\n",
       "      <td>5.13</td>\n",
       "      <td>4.52</td>\n",
       "      <td>-0.61</td>\n",
       "    </tr>\n",
       "    <tr>\n",
       "      <th>18</th>\n",
       "      <td>5.73</td>\n",
       "      <td>5.13</td>\n",
       "      <td>-0.60</td>\n",
       "    </tr>\n",
       "  </tbody>\n",
       "</table>\n",
       "</div>"
      ],
      "text/plain": [
       "         Before  After4weeks  diferencia\n",
       "Subject                                 \n",
       "1          6.42         5.83       -0.59\n",
       "2          6.76         6.20       -0.56\n",
       "3          6.56         5.83       -0.73\n",
       "4          4.80         4.27       -0.53\n",
       "5          8.43         7.71       -0.72\n",
       "6          7.49         7.12       -0.37\n",
       "7          8.05         7.25       -0.80\n",
       "8          5.05         4.63       -0.42\n",
       "9          5.77         5.31       -0.46\n",
       "10         3.91         3.70       -0.21\n",
       "11         6.77         6.15       -0.62\n",
       "12         6.44         5.59       -0.85\n",
       "13         6.17         5.56       -0.61\n",
       "14         7.67         7.11       -0.56\n",
       "15         7.34         6.84       -0.50\n",
       "16         6.85         6.40       -0.45\n",
       "17         5.13         4.52       -0.61\n",
       "18         5.73         5.13       -0.60"
      ]
     },
     "execution_count": 27,
     "metadata": {},
     "output_type": "execute_result"
    }
   ],
   "source": [
    "# index_col=0, indica que los datos contienen una columna (la 0) de índice\n",
    "# el índice es un valor único \n",
    "# ejemplo: la cédula o código único del participante en el estudio\n",
    "datos = pd.read_csv(\"data/colesterol.csv\", index_col=0)\n",
    "datos['diferencia'] =  datos['After4weeks'] - datos['Before']\n",
    "datos"
   ]
  },
  {
   "cell_type": "code",
   "execution_count": 28,
   "metadata": {},
   "outputs": [
    {
     "data": {
      "text/html": [
       "<div>\n",
       "<style scoped>\n",
       "    .dataframe tbody tr th:only-of-type {\n",
       "        vertical-align: middle;\n",
       "    }\n",
       "\n",
       "    .dataframe tbody tr th {\n",
       "        vertical-align: top;\n",
       "    }\n",
       "\n",
       "    .dataframe thead th {\n",
       "        text-align: right;\n",
       "    }\n",
       "</style>\n",
       "<table border=\"1\" class=\"dataframe\">\n",
       "  <thead>\n",
       "    <tr style=\"text-align: right;\">\n",
       "      <th></th>\n",
       "      <th>Before</th>\n",
       "      <th>After4weeks</th>\n",
       "      <th>diferencia</th>\n",
       "    </tr>\n",
       "  </thead>\n",
       "  <tbody>\n",
       "    <tr>\n",
       "      <th>count</th>\n",
       "      <td>18.000000</td>\n",
       "      <td>18.000000</td>\n",
       "      <td>18.000000</td>\n",
       "    </tr>\n",
       "    <tr>\n",
       "      <th>mean</th>\n",
       "      <td>6.407778</td>\n",
       "      <td>5.841667</td>\n",
       "      <td>-0.566111</td>\n",
       "    </tr>\n",
       "    <tr>\n",
       "      <th>std</th>\n",
       "      <td>1.191087</td>\n",
       "      <td>1.123352</td>\n",
       "      <td>0.155569</td>\n",
       "    </tr>\n",
       "    <tr>\n",
       "      <th>min</th>\n",
       "      <td>3.910000</td>\n",
       "      <td>3.700000</td>\n",
       "      <td>-0.850000</td>\n",
       "    </tr>\n",
       "    <tr>\n",
       "      <th>25%</th>\n",
       "      <td>5.740000</td>\n",
       "      <td>5.175000</td>\n",
       "      <td>-0.617500</td>\n",
       "    </tr>\n",
       "    <tr>\n",
       "      <th>50%</th>\n",
       "      <td>6.500000</td>\n",
       "      <td>5.830000</td>\n",
       "      <td>-0.575000</td>\n",
       "    </tr>\n",
       "    <tr>\n",
       "      <th>75%</th>\n",
       "      <td>7.217500</td>\n",
       "      <td>6.730000</td>\n",
       "      <td>-0.470000</td>\n",
       "    </tr>\n",
       "    <tr>\n",
       "      <th>max</th>\n",
       "      <td>8.430000</td>\n",
       "      <td>7.710000</td>\n",
       "      <td>-0.210000</td>\n",
       "    </tr>\n",
       "  </tbody>\n",
       "</table>\n",
       "</div>"
      ],
      "text/plain": [
       "          Before  After4weeks  diferencia\n",
       "count  18.000000    18.000000   18.000000\n",
       "mean    6.407778     5.841667   -0.566111\n",
       "std     1.191087     1.123352    0.155569\n",
       "min     3.910000     3.700000   -0.850000\n",
       "25%     5.740000     5.175000   -0.617500\n",
       "50%     6.500000     5.830000   -0.575000\n",
       "75%     7.217500     6.730000   -0.470000\n",
       "max     8.430000     7.710000   -0.210000"
      ]
     },
     "execution_count": 28,
     "metadata": {},
     "output_type": "execute_result"
    }
   ],
   "source": [
    "datos.describe()"
   ]
  },
  {
   "cell_type": "code",
   "execution_count": 29,
   "metadata": {},
   "outputs": [
    {
     "data": {
      "text/plain": [
       "Ttest_relResult(statistic=-15.438872730914381, pvalue=1.9575345773928476e-11)"
      ]
     },
     "execution_count": 29,
     "metadata": {},
     "output_type": "execute_result"
    }
   ],
   "source": [
    "# Python implementa este test\n",
    "from scipy.stats import ttest_rel \n",
    "\n",
    "# alternative: {'two-sided', 'less', 'greater'}\n",
    "ttest_rel(datos['After4weeks'], datos['Before'], alternative='two-sided')"
   ]
  },
  {
   "cell_type": "markdown",
   "metadata": {},
   "source": [
    "- Un valor $p$ muy bajo indica evidencia en contra de la hipótesis nula. \n",
    "$$p-value < \\alpha.$$\n",
    "\n",
    "- Hay evidencia significativa (p-value < 0.001) de un cambio en los niveles de colesterol. \n",
    "  - En promedio, los participantes redujeron su colesterol en 0.5661 mmol/L."
   ]
  },
  {
   "cell_type": "markdown",
   "metadata": {},
   "source": [
    "Prueba de hipótesis para la diferencia de medias cuando se muestrean dos poblaciones normales independientes con varianzas desconocidas pero iguales"
   ]
  },
  {
   "cell_type": "markdown",
   "metadata": {},
   "source": [
    "<a id=\"varnotequal\"></a>\n",
    "### Prueba de hipótesis para la diferencia de medias cuando se muestrean dos poblaciones normales independientes con varianzas desconocidas pero iguales\n",
    "\n",
    "[Volver al índice](#toc)\n",
    "\n",
    "- Formulación:\n",
    "  \n",
    "| Cola inferior     | Cola superior | Dos colas     |\n",
    "| :---:        |    :----:   |          :---: |\n",
    "|<img width=150/>|<img width=150/>|<img width=150/>|\n",
    "| $H_0:\\ \\mu_X - \\mu_Y = a$ | $H_0:\\ \\mu_X - \\mu_Y = a$ | $H_0:\\ \\mu_X - \\mu_Y = a$    |\n",
    "| $H_1:\\ \\mu_X - \\mu_Y < a$ | $H_1:\\ \\mu_X - \\mu_Y > a$ | $H_0:\\ \\mu_X - \\mu_Y \\neq a$ |\n",
    "\n",
    "- Estadístico de prueba:\n",
    "\n",
    "$$t_p = \\frac{\\bar{X} - \\bar{Y} - (\\mu_X - \\mu_Y)}{s_p \\sqrt{\\frac{1}{n_X} + \\frac{1}{n_Y}} } \\sim t_{(n_X+n_Y-2)}, \\quad s_p=\\sqrt{ \\frac{s^2_X(n_X - 1) + s^2_Y(n_Y - 1)}{n_X + n_Y - 2} }$$\n",
    "\n",
    "- Conclusión:\n",
    "\n",
    "| Cola inferior     | Cola superior | Dos colas     |\n",
    "| :---:        |    :----:   |          :---: |\n",
    "|<img width=120/>|<img width=120/>|<img width=120/>|\n",
    "| Recharzar $H_0$ cuando   | Recharzar $H_0$ cuando  | Recharzar $H_0$ cuando  |\n",
    "| $t_p < t_{(\\alpha, n_X+n_Y-2)}$  | $t_p > t_{(1-\\alpha, n_X+n_Y-2)}$ | $t_p < t_{(\\alpha/2, n_X+n_Y-2)} \\\\ t_p > t_{(1-\\alpha/2,n_X+n_Y-2)}$    |\n",
    "\n",
    "- Ejemplo: \n",
    "\n",
    "Una forma de medir el estado físico de una persona es medir su porcentaje de grasa corporal. Los porcentajes promedio de grasa corporal varían según la edad, pero según algunas pautas, el rango normal para los hombres es del 15 al 20% de grasa corporal y el rango normal para las mujeres es del 20 al 25% de grasa corporal.\n",
    "\n",
    "Nuestros datos de muestra son de un grupo de hombres y mujeres que realizan ejercicio en un gimnasio tres veces por semana durante un año. El entrenador midió la grasa corporal. La siguiente tabla muestra los datos.\n",
    "\n",
    "- Vea la [fuente](https://www.jmp.com/en_ch/statistics-knowledge-portal/t-test/two-sample-t-test.html).\n",
    "\n",
    "$$H_0: \\mu_{mujer} - \\mu_{hombre} = 0$$\n",
    "$$H_0: \\mu_{mujer} - \\mu_{hombre} \\neq 0$$\n",
    "\n",
    "- Nivel de significancia $\\alpha=0.05$."
   ]
  },
  {
   "cell_type": "code",
   "execution_count": 30,
   "metadata": {},
   "outputs": [
    {
     "data": {
      "text/html": [
       "<div>\n",
       "<style scoped>\n",
       "    .dataframe tbody tr th:only-of-type {\n",
       "        vertical-align: middle;\n",
       "    }\n",
       "\n",
       "    .dataframe tbody tr th {\n",
       "        vertical-align: top;\n",
       "    }\n",
       "\n",
       "    .dataframe thead tr th {\n",
       "        text-align: left;\n",
       "    }\n",
       "\n",
       "    .dataframe thead tr:last-of-type th {\n",
       "        text-align: right;\n",
       "    }\n",
       "</style>\n",
       "<table border=\"1\" class=\"dataframe\">\n",
       "  <thead>\n",
       "    <tr>\n",
       "      <th></th>\n",
       "      <th colspan=\"8\" halign=\"left\">Body_Fat_Percentages</th>\n",
       "    </tr>\n",
       "    <tr>\n",
       "      <th></th>\n",
       "      <th>count</th>\n",
       "      <th>mean</th>\n",
       "      <th>std</th>\n",
       "      <th>min</th>\n",
       "      <th>25%</th>\n",
       "      <th>50%</th>\n",
       "      <th>75%</th>\n",
       "      <th>max</th>\n",
       "    </tr>\n",
       "    <tr>\n",
       "      <th>Group</th>\n",
       "      <th></th>\n",
       "      <th></th>\n",
       "      <th></th>\n",
       "      <th></th>\n",
       "      <th></th>\n",
       "      <th></th>\n",
       "      <th></th>\n",
       "      <th></th>\n",
       "    </tr>\n",
       "  </thead>\n",
       "  <tbody>\n",
       "    <tr>\n",
       "      <th>Men</th>\n",
       "      <td>13.0</td>\n",
       "      <td>14.946154</td>\n",
       "      <td>6.842589</td>\n",
       "      <td>1.0</td>\n",
       "      <td>13.300</td>\n",
       "      <td>15.0</td>\n",
       "      <td>19.0</td>\n",
       "      <td>25.0</td>\n",
       "    </tr>\n",
       "    <tr>\n",
       "      <th>Women</th>\n",
       "      <td>10.0</td>\n",
       "      <td>22.290000</td>\n",
       "      <td>5.319660</td>\n",
       "      <td>12.0</td>\n",
       "      <td>21.175</td>\n",
       "      <td>22.5</td>\n",
       "      <td>25.3</td>\n",
       "      <td>30.0</td>\n",
       "    </tr>\n",
       "  </tbody>\n",
       "</table>\n",
       "</div>"
      ],
      "text/plain": [
       "      Body_Fat_Percentages                                                 \\\n",
       "                     count       mean       std   min     25%   50%   75%   \n",
       "Group                                                                       \n",
       "Men                   13.0  14.946154  6.842589   1.0  13.300  15.0  19.0   \n",
       "Women                 10.0  22.290000  5.319660  12.0  21.175  22.5  25.3   \n",
       "\n",
       "             \n",
       "        max  \n",
       "Group        \n",
       "Men    25.0  \n",
       "Women  30.0  "
      ]
     },
     "execution_count": 30,
     "metadata": {},
     "output_type": "execute_result"
    }
   ],
   "source": [
    "datos = pd.read_csv(\"data/body_fat.csv\")\n",
    "datos.groupby('Group').describe()"
   ]
  },
  {
   "cell_type": "code",
   "execution_count": 31,
   "metadata": {},
   "outputs": [
    {
     "data": {
      "image/png": "[encoded data removed]",
      "text/plain": [
       "<Figure size 864x432 with 2 Axes>"
      ]
     },
     "metadata": {
      "needs_background": "light"
     },
     "output_type": "display_data"
    }
   ],
   "source": [
    "fig, axes = plt.subplots(1, 2, figsize=(12,6))\n",
    "\n",
    "sns.kdeplot(data=datos, x=\"Body_Fat_Percentages\", hue=\"Group\", \n",
    "            fill=True, common_norm=True, alpha=0.2, ax=axes[0])\n",
    "\n",
    "b = sns.boxplot(data=datos, x=\"Group\", y=\"Body_Fat_Percentages\", ax=axes[1])"
   ]
  },
  {
   "cell_type": "code",
   "execution_count": 32,
   "metadata": {},
   "outputs": [
    {
     "data": {
      "text/plain": [
       "(Ttest_indResult(statistic=2.799960442832919, pvalue=0.010730607904197957),\n",
       " 'Diferencia',\n",
       " 7.343846153846153)"
      ]
     },
     "execution_count": 32,
     "metadata": {},
     "output_type": "execute_result"
    }
   ],
   "source": [
    "from scipy.stats import ttest_ind\n",
    "\n",
    "# filtramos datos\n",
    "hombres = datos[datos['Group']=='Men']['Body_Fat_Percentages']\n",
    "mujeres = datos[datos['Group']=='Women']['Body_Fat_Percentages']\n",
    "\n",
    "mx = mujeres.mean()\n",
    "my = hombres.mean()\n",
    "\n",
    "# Asumimos varianzas iguales equal_var=True\n",
    "# y prueba de dos colas alternative='two-sided'\n",
    "# alternative: {'two-sided', 'less', 'greater'}\n",
    "ttest_ind(mujeres, hombres, \n",
    "          equal_var=True, alternative='two-sided'), \"Diferencia\", mx - my"
   ]
  },
  {
   "cell_type": "markdown",
   "metadata": {},
   "source": [
    "- Dado que el $p$-value < 0.05, rechazamos la hipótesis nula de que la grasa corporal media para hombres y mujeres es igual, y concluimos que tenemos evidencia de que la grasa corporal en la población es diferente entre hombres y mujeres.\n",
    "  - La diferencia promedio es de 7.3438% de grasa corporal."
   ]
  },
  {
   "cell_type": "markdown",
   "metadata": {},
   "source": [
    "<a id=\"welchttest\"></a>\n",
    "### Prueba de hipótesis para la diferencia de medias cuando se muestrean dos poblaciones normales independientes cunado las varianzas no son iguales (Welch's t-test)\n",
    "\n",
    "[Volver al índice](#toc)\n",
    "\n",
    "- Formulación:\n",
    "  \n",
    "| Cola inferior     | Cola superior | Dos colas     |\n",
    "| :---:        |    :----:   |          :---: |\n",
    "|<img width=150/>|<img width=150/>|<img width=150/>|\n",
    "| $H_0:\\ \\mu_X - \\mu_Y = a$ | $H_0:\\ \\mu_X - \\mu_Y = a$ | $H_0:\\ \\mu_X - \\mu_Y = a$    |\n",
    "| $H_1:\\ \\mu_X - \\mu_Y < a$ | $H_1:\\ \\mu_X - \\mu_Y > a$ | $H_0:\\ \\mu_X - \\mu_Y \\neq a$ |\n",
    "\n",
    "- Estadístico de prueba:\n",
    "\n",
    "$$t_p = \\frac{\\bar{X} - \\bar{Y} - (\\mu_X - \\mu_Y)}{\\sqrt{\\frac{s^2_X}{n_X} + \\frac{s^2_Y}{n_Y}} } \\sim t_{(r)}, \\quad \n",
    "r= \\frac{ \n",
    "\\left( \\frac{s^2_X}{n_X} + \\frac{s^2_Y}{n_Y} \\right)^2 } \n",
    "{\\frac{(s^2_X/n_X)^2}{n_X-1} + \\frac{(s^2_Y/n_Y)^2}{n_Y-1}} $$\n",
    "\n",
    "- Conclusión:\n",
    "\n",
    "| Cola inferior     | Cola superior | Dos colas     |\n",
    "| :---:        |    :----:   |          :---: |\n",
    "|<img width=120/>|<img width=120/>|<img width=120/>|\n",
    "| Recharzar $H_0$ cuando   | Recharzar $H_0$ cuando  | Recharzar $H_0$ cuando  |\n",
    "| $t_p < t_{(\\alpha, r)}$  | $t_p > t_{(1-\\alpha, r)}$ | $t_p < t_{(\\alpha/2, r)} \\\\ t_p > t_{(1-\\alpha/2,r)}$    |"
   ]
  },
  {
   "cell_type": "code",
   "execution_count": 33,
   "metadata": {},
   "outputs": [
    {
     "data": {
      "text/plain": [
       "(Ttest_indResult(statistic=2.8957935572829467, pvalue=0.008649760076182724),\n",
       " 'Diferencia',\n",
       " 7.343846153846153)"
      ]
     },
     "execution_count": 33,
     "metadata": {},
     "output_type": "execute_result"
    }
   ],
   "source": [
    "mx = mujeres.mean()\n",
    "my = hombres.mean()\n",
    "\n",
    "# Asumimos varianzas iguales equal_var=True\n",
    "# y prueba de dos colas alternative='two-sided'\n",
    "# alternative: {'two-sided', 'less', 'greater'}\n",
    "ttest_ind(mujeres, hombres, \n",
    "          equal_var=False, alternative='two-sided'), \"Diferencia\", mx - my"
   ]
  },
  {
   "cell_type": "markdown",
   "metadata": {},
   "source": [
    "- Dado que el $p$-value < 0.05, rechazamos la hipótesis nula de que la grasa corporal media para hombres y mujeres es igual, y concluimos que tenemos evidencia de que la grasa corporal en la población es diferente entre hombres y mujeres.\n",
    "\n",
    "  - La diferencia promedio es de 7.3438% de grasa corporal."
   ]
  },
  {
   "cell_type": "markdown",
   "metadata": {},
   "source": [
    "<a id=\"twovars\"></a>\n",
    "### Prueba de hipótesis para las varianzas cuando se muestrean dos poblaciones normales independientes.\n",
    "\n",
    "[Volver al índice](#toc)\n",
    "\n",
    "- Formulación:\n",
    "  \n",
    "| Cola inferior     | Cola superior | Dos colas     |\n",
    "| :---:        |    :----:   |          :---: |\n",
    "|<img width=100/>|<img width=100/>|<img width=100/>|\n",
    "| $H_0:\\ \\sigma^2_X = \\sigma^2_Y$     | $H_0:\\ \\sigma^2_X = \\sigma^2_Y$ | $H_0:\\ \\sigma^2_X = \\sigma^2_Y$  |\n",
    "| $H_1:\\ \\sigma^2_X < \\sigma^2_Y$  | $H_1:\\ \\sigma^2_X > \\sigma^2_Y$        | $H_0:\\ \\sigma^2_X \\neq \\sigma^2_Y$ |\n",
    "\n",
    "- Estadístico de prueba:\n",
    "\n",
    "$$F_p=\\frac{s^2_X}{s^2_Y} \\sim F_{(n_X-1, n_Y-1)}.$$\n",
    "\n",
    "- Conclusión:\n",
    "\n",
    "| Cola inferior     | Cola superior | Dos colas     |\n",
    "| :---:        |    :----:   |          :---: |\n",
    "|<img width=160/>|<img width=160/>|<img width=160/>|\n",
    "| Recharzar $H_0$ cuando   | Recharzar $H_0$ cuando  | Recharzar $H_0$ cuando  |\n",
    "| $F_p < F_{(\\alpha, n_X-1, n_Y-1)}$  | $F_p > F_{(1-\\alpha, n_X-1, n_Y-1)}$ | $F_p < F_{(\\alpha/2, n_X-1, n_Y-1)} \\\\ F_p > F_{(1-\\alpha/2,n_X-1, n_Y-1)}$    |\n",
    "\n",
    "\n"
   ]
  },
  {
   "cell_type": "code",
   "execution_count": 34,
   "metadata": {},
   "outputs": [
    {
     "data": {
      "text/plain": [
       "{'F-test result': {'statistic': 0.604403201133248,\n",
       "  'p-value': 0.45612785705453396},\n",
       " 'f-value': (0.2585168156256846, 3.435845641861058),\n",
       " 'alpha': 0.05}"
      ]
     },
     "execution_count": 34,
     "metadata": {},
     "output_type": "execute_result"
    }
   ],
   "source": [
    "# importamos distribución F\n",
    "from scipy.stats import f\n",
    "\n",
    "def f_test(*args, alpha=0.05, alternative='two-sided'):\n",
    "    # *args: array o lista\n",
    "    if len(args) == 2:\n",
    "        x = np.array(args[0])\n",
    "        y = np.array(args[1])\n",
    "        dfx = x.size-1  # define grados de libertad del numerador \n",
    "        dfy = y.size-1  # define grados de libertad del denominador \n",
    "        fp = np.var(x, ddof=1)/np.var(y, ddof=1)  # calcula F test statistic \n",
    "    # *args: varianzas\n",
    "    else:\n",
    "        fp = args[0] / args[1]  # calcula F test statistic\n",
    "        nx = args[2]\n",
    "        ny = args[3]\n",
    "        dfx = nx-1  # define grados de libertad del numerador\n",
    "        dfy = ny-1  # define grados de libertad del denominador \n",
    "    \n",
    "    alpha_c = alpha\n",
    "    if alternative=='two-sided': alpha_c = alpha_c / 2\n",
    "    f_critical = f.ppf(alpha_c, dfx, dfy), f.ppf(1-alpha_c, dfx, dfy)\n",
    "    f_areas = f.cdf(fp, dfx, dfy), 1-f.cdf(fp, dfx, dfy)  # areas colas\n",
    "    \n",
    "    colas = {'less': {'p-value': f_areas[0], \"f-value\": f_critical[0]}, \n",
    "             'greater': {'p-value': f_areas[1], \"f-value\": f_critical[1]},\n",
    "             'two-sided': {'p-value': min(f_areas)*2, \"f-value\": f_critical}\n",
    "            }\n",
    "    return {\"F-test result\": {\"statistic\": fp, \n",
    "                       \"p-value\": colas[alternative]['p-value']},\n",
    "                       \"f-value\": colas[alternative]['f-value'],\n",
    "                       \"alpha\": alpha}\n",
    "\n",
    "f_test(mujeres, hombres)"
   ]
  },
  {
   "cell_type": "markdown",
   "metadata": {},
   "source": [
    "- Dado que el $p-value>\\alpha$ no tenemos evidencia suficiente para rechazar la hipótesis nula. \n",
    "  - Por tanto podemos considerar que las varianzas son iguales y realizar el test correspondiente para diferencia de medias cuando las varianzas son iguales."
   ]
  },
  {
   "cell_type": "markdown",
   "metadata": {},
   "source": [
    "### Ejemplo\n",
    "\n",
    "- Se han registrado dos conjuntos de observaciones. En la primera muestra, se tienen los resultados de una prueba a estudiantes de colegios públicos. En la segunda muestra, se tienen los resultados de una prueba a estudiantes de colegios privados.\n",
    "\n",
    "  - Existe evidencia para decir que la varianza de los colegios privados es menor a la de los colegios púbicos. Use un nivel de significancia de $\\alpha=0.05$."
   ]
  },
  {
   "cell_type": "code",
   "execution_count": 35,
   "metadata": {},
   "outputs": [
    {
     "data": {
      "text/html": [
       "<div>\n",
       "<style scoped>\n",
       "    .dataframe tbody tr th:only-of-type {\n",
       "        vertical-align: middle;\n",
       "    }\n",
       "\n",
       "    .dataframe tbody tr th {\n",
       "        vertical-align: top;\n",
       "    }\n",
       "\n",
       "    .dataframe thead th {\n",
       "        text-align: right;\n",
       "    }\n",
       "</style>\n",
       "<table border=\"1\" class=\"dataframe\">\n",
       "  <thead>\n",
       "    <tr style=\"text-align: right;\">\n",
       "      <th></th>\n",
       "      <th>Nota</th>\n",
       "    </tr>\n",
       "    <tr>\n",
       "      <th>Colegio</th>\n",
       "      <th></th>\n",
       "    </tr>\n",
       "  </thead>\n",
       "  <tbody>\n",
       "    <tr>\n",
       "      <th>Privado</th>\n",
       "      <td>142.092857</td>\n",
       "    </tr>\n",
       "    <tr>\n",
       "      <th>Publico</th>\n",
       "      <td>96.791714</td>\n",
       "    </tr>\n",
       "  </tbody>\n",
       "</table>\n",
       "</div>"
      ],
      "text/plain": [
       "               Nota\n",
       "Colegio            \n",
       "Privado  142.092857\n",
       "Publico   96.791714"
      ]
     },
     "execution_count": 35,
     "metadata": {},
     "output_type": "execute_result"
    }
   ],
   "source": [
    "datos = pd.read_csv(\"data/notas.csv\")\n",
    "# debemos transformar los datos para graficar\n",
    "# pasamos de formato wide a long\n",
    "datos_melted = pd.melt(datos)\n",
    "# renombramos columnas\n",
    "datos_melted.rename(columns={'variable': 'Colegio', 'value': 'Nota'}, inplace=True)\n",
    "datos_melted.groupby('Colegio').var()  # varianza"
   ]
  },
  {
   "cell_type": "code",
   "execution_count": 36,
   "metadata": {},
   "outputs": [
    {
     "data": {
      "image/png": "[encoded data removed]",
      "text/plain": [
       "<Figure size 864x432 with 2 Axes>"
      ]
     },
     "metadata": {
      "needs_background": "light"
     },
     "output_type": "display_data"
    }
   ],
   "source": [
    "fig, axes = plt.subplots(1, 2, figsize=(12,6))\n",
    "\n",
    "sns.kdeplot(data=datos_melted, x=\"Nota\", hue=\"Colegio\", \n",
    "            fill=True, common_norm=True, alpha=0.2, ax=axes[0])\n",
    "\n",
    "b = sns.boxplot(data=datos_melted, x=\"Colegio\", y=\"Nota\", ax=axes[1])"
   ]
  },
  {
   "cell_type": "code",
   "execution_count": 37,
   "metadata": {},
   "outputs": [
    {
     "data": {
      "text/plain": [
       "{'F-test result': {'statistic': 1.4680270743363513,\n",
       "  'p-value': 0.7591082413702556},\n",
       " 'f-value': 0.40262094298131085,\n",
       " 'alpha': 0.05}"
      ]
     },
     "execution_count": 37,
     "metadata": {},
     "output_type": "execute_result"
    }
   ],
   "source": [
    "# Para la prueba usamos el formato wide\n",
    "# de usar el long deberiamos filtrar\n",
    "f_test(datos['Privado'], datos['Publico'], alternative=\"less\")"
   ]
  },
  {
   "cell_type": "markdown",
   "metadata": {},
   "source": [
    "- No existe evidencia para decir que la varianza de los colegios privados es menor a la de los colegios púbicos con un nivel de significancia de $\\alpha=0.05$."
   ]
  },
  {
   "cell_type": "markdown",
   "metadata": {},
   "source": [
    "### Ejemplo\n",
    "\n",
    "- Vea: https://online.stat.psu.edu/stat415/lesson/12/12.2\n",
    "    \n",
    "Un psicólogo realizó una encuesta aleatoria\n",
    "$n_v=34$ estudiantes universitarios hombres y un azar\n",
    "$n_m=29$ estudiantes mujeres universitarias. \n",
    "Aquí hay un resumen descriptivo de los resultados de su encuesta:  \n",
    "\n",
    "![](https://raw.githubusercontent.com/marsgr6/r-scripts/master/imgs/FastestDrivenData.png)\n",
    "\n",
    "Hay suficiente evidencia con un $\\alpha=0.05$, para concluir que existe diferencia en la varianza entre hombres y mujeres."
   ]
  },
  {
   "cell_type": "code",
   "execution_count": 38,
   "metadata": {},
   "outputs": [
    {
     "data": {
      "text/plain": [
       "{'F-test result': {'statistic': 0.368406722605876,\n",
       "  'p-value': 0.008568585406633605},\n",
       " 'f-value': (0.478689932486996, 2.044072894606612),\n",
       " 'alpha': 0.05}"
      ]
     },
     "execution_count": 38,
     "metadata": {},
     "output_type": "execute_result"
    }
   ],
   "source": [
    "f_test(12.2**2, 20.1**2, 29, 34, alternative=\"two-sided\")"
   ]
  },
  {
   "cell_type": "markdown",
   "metadata": {},
   "source": [
    "- Rechazamos la hipótesis nula a favor de la hipótesis alternativa. Hay pruebas suficientes en el $\\alpha=0.05$ nivel para concluir que las varianzas de la población no son iguales."
   ]
  },
  {
   "cell_type": "markdown",
   "metadata": {},
   "source": [
    "<a id=\"onevar\"></a>\n",
    "\n",
    "### Prueba de hipótesis para la varianza cuando se muestrea una distribución normal\n",
    "\n",
    "[Volver al índice](#toc)\n",
    "\n",
    "- Formulación:\n",
    "  \n",
    "| Cola inferior     | Cola superior | Dos colas     |\n",
    "| :---:        |    :----:   |          :---: |\n",
    "|<img width=100/>|<img width=100/>|<img width=100/>|\n",
    "| $H_0:\\ \\sigma^2 = \\sigma^2_0$     | $H_0:\\ \\sigma^2 = \\sigma^2_0$ | $H_0:\\ \\sigma^2 = \\sigma^2_0$  |\n",
    "| $H_1:\\ \\sigma^2 < \\sigma^2_0$  | $H_1:\\ \\sigma^2 > \\sigma^2_0$        | $H_0:\\ \\sigma^2 \\neq \\sigma^2_0$ |\n",
    "\n",
    "- Estadístico de prueba:\n",
    "\n",
    "$$\\chi^2_p=\\frac{s^2}{\\sigma^2_0}(n-1) \\sim \\chi^2_{(n-1)}.$$\n",
    "\n",
    "- Conclusión:\n",
    "\n",
    "| Cola inferior     | Cola superior | Dos colas     |\n",
    "| :---:        |    :----:   |          :---: |\n",
    "|<img width=120/>|<img width=120/>|<img width=120/>|\n",
    "| Recharzar $H_0$ cuando   | Recharzar $H_0$ cuando  | Recharzar $H_0$ cuando  |\n",
    "| $\\chi^2_p < \\chi^2_{(\\alpha, n-1)}$  | $\\chi^2_p > \\chi^2_{(1-\\alpha, n-1)}$ | $\\chi^2_p < \\chi^2_{(\\alpha/2, n-1)} \\\\ \\chi^2_p > \\chi^2_{(1-\\alpha/2,n-1)}$    |\n",
    "\n",
    "\n",
    "### Ejemplo\n",
    "\n",
    "Un fabricante de cascos de seguridad para trabajadores de la construcción está preocupado por la media y la variación de las fuerzas que sus cascos transmiten a los usuarios cuando se someten a una fuerza externa. El fabricante ha diseñado los cascos para que la fuerza media transmitida por los cascos a los trabajadores sea de 800 libras (o menos) con una desviación estándar de menos de 40 libras. Las pruebas se realizaron en una muestra aleatoria de $n = 40$ cascos, y se encontró que la media de la muestra y la desviación estándar de la muestra eran 825 libras y 48.5 libras, respectivamente.\n",
    "\n",
    "¿Proporcionan los datos suficiente evidencia, al nivel $\\alpha=0.05$, para concluir que la desviación estándar de la población excede las 40 libras?"
   ]
  },
  {
   "cell_type": "code",
   "execution_count": 39,
   "metadata": {},
   "outputs": [
    {
     "data": {
      "text/plain": [
       "{'chi2-test result': {'statistic': 57.33609375,\n",
       "  'p-value': 0.029283675144775367}}"
      ]
     },
     "execution_count": 39,
     "metadata": {},
     "output_type": "execute_result"
    }
   ],
   "source": [
    "from scipy.stats import chi2\n",
    "\n",
    "def chi2_test(popvar, s2, n, alternative=\"two-sided\"):\n",
    "    \n",
    "    chi2p = (n-1)*s2 / popvar  # estadistico de prueba\n",
    "\n",
    "    f_areas = chi2.cdf(chi2p, n-1), 1-chi2.cdf(chi2p, n-1)  # areas colas\n",
    "    \n",
    "    colas = {'less': {'p-value': f_areas[0]}, \n",
    "             'greater': {'p-value': f_areas[1]},\n",
    "             'two-sided': {'p-value': min(f_areas)*2}\n",
    "            }\n",
    "    return {\"chi2-test result\": {\"statistic\": chi2p, \n",
    "                       \"p-value\": colas[alternative]['p-value']}}\n",
    "\n",
    "chi2_test(40**2, 48.5**2, 40, alternative=\"greater\")"
   ]
  },
  {
   "cell_type": "markdown",
   "metadata": {},
   "source": [
    "- Como $p-value=0.029 \\leq 0.05$, rechazamos la hipótesis nula a favor de la hipótesis alternativa.\n",
    "\n",
    "### Ejemplo\n",
    "\n",
    "- Repitamos para una prueba de dos colas."
   ]
  },
  {
   "cell_type": "code",
   "execution_count": 40,
   "metadata": {},
   "outputs": [
    {
     "data": {
      "text/plain": [
       "{'chi2-test result': {'statistic': 57.33609375,\n",
       "  'p-value': 0.058567350289550735}}"
      ]
     },
     "execution_count": 40,
     "metadata": {},
     "output_type": "execute_result"
    }
   ],
   "source": [
    "from scipy.stats import chi2\n",
    "\n",
    "def chi2_test(popvar, s2, n, alternative=\"two-sided\"):\n",
    "    \n",
    "    chi2p = (n-1)*s2 / popvar  # estadistico de prueba\n",
    "\n",
    "    f_areas = chi2.cdf(chi2p, n-1), 1-chi2.cdf(chi2p, n-1)  # areas colas\n",
    "    \n",
    "    colas = {'less': {'p-value': f_areas[0]}, \n",
    "             'greater': {'p-value': f_areas[1]},\n",
    "             'two-sided': {'p-value': min(f_areas)*2}\n",
    "            }\n",
    "    return {\"chi2-test result\": {\"statistic\": chi2p, \n",
    "                       \"p-value\": colas[alternative]['p-value']}}\n",
    "\n",
    "chi2_test(40**2, 48.5**2, 40, alternative=\"two-sided\")"
   ]
  },
  {
   "cell_type": "markdown",
   "metadata": {},
   "source": [
    "- Debido a que $p-value=0.058>0.05$, no podemos rechazar la hipótesis nula a favor de la hipótesis alternativa bilateral.\n",
    "\n",
    "**El ejemplo anterior ilustra un hecho importante,** a saber, que la conclusión de la prueba unilateral no siempre concuerda con la conclusión de la prueba bilateral. **Si tiene razones para creer que el parámetro diferirá del valor nulo en una dirección particular, debe realizar la prueba unilateral.**\n",
    "\n",
    "- Vea: https://online.stat.psu.edu/stat415/lesson/12/12.1"
   ]
  },
  {
   "cell_type": "markdown",
   "metadata": {},
   "source": [
    "<a id=\"oneprop\"></a>\n",
    "### Prueba de hipótesis para la proporción\n",
    "\n",
    "[Volver al índice](#toc)\n",
    "\n",
    "- Formulación:\n",
    "  \n",
    "| Cola inferior     | Cola superior | Dos colas     |\n",
    "| :---:        |    :----:   |          :---: |\n",
    "|<img width=100/>|<img width=100/>|<img width=100/>|\n",
    "| $H_0:\\ p = p_0$ | $H_0:\\ p = p_0$ | $H_0:\\ p = p_0$  |\n",
    "| $H_1:\\ p < p_0$ | $H_1:\\ p > p_0$ | $H_0:\\ p \\neq p_0$ |\n",
    "\n",
    "- Estadístico de prueba:\n",
    "\n",
    "$$z_p = \\frac{\\hat{p}- p_0}{\\sqrt{\\frac{p_0 (1-p_0)}{n}}}$$\n",
    "\n",
    "- Conclusión:\n",
    "\n",
    "| Cola inferior     | Cola superior | Dos colas     |\n",
    "| :---:        |    :----:   |          :---: |\n",
    "|<img width=120/>|<img width=120/>|<img width=120/>|\n",
    "| Recharzar $H_0$ cuando   | Recharzar $H_0$ cuando  | Recharzar $H_0$ cuando  |\n",
    "| $z_p < z_{\\alpha}$  | $z_p > z_{1-\\alpha}$ | $z_p < z_{\\alpha/2} \\\\ z_p > z_{1-\\alpha/2}$ \n",
    "\n",
    "### Ejemplo\n",
    "\n",
    "Sea $p$ igual a la proporción de conductores que usan cinturón de seguridad en un estado que no tiene una ley de uso obligatorio del cinturón de seguridad. Se afirmó que $p=0.14$. Se realizó una campaña publicitaria para aumentar esta proporción. Dos meses después de la campaña, 104 de una muestra aleatoria de n=590 conductores usaban cinturones de seguridad. ¿Fue exitosa la campaña?\n",
    "\n",
    "- Vea: https://online.stat.psu.edu/stat415/lesson/9/9.2"
   ]
  },
  {
   "cell_type": "code",
   "execution_count": 41,
   "metadata": {},
   "outputs": [
    {
     "data": {
      "text/plain": [
       "{'Proportion z-test': {'statistic': 2.5390691224460658,\n",
       "  'p-value': 0.005557393050512838},\n",
       " 'z-value': 2.3263478740408408,\n",
       " 'alpha': 0.01}"
      ]
     },
     "execution_count": 41,
     "metadata": {},
     "output_type": "execute_result"
    }
   ],
   "source": [
    "def z_test_prop(count, nobs, popprop, alpha=0.05, alternative=\"two-sided\"):\n",
    "    # estadístico de prueba\n",
    "    zp = (count/nobs - popprop)/np.sqrt(popprop*(1-popprop)/nobs)\n",
    "    \n",
    "    f_areas = norm.cdf(zp), 1-norm.cdf(zp)  # areas colas\n",
    "    \n",
    "    alpha_c = alpha\n",
    "    if alternative=='two-sided': alpha_c = alpha_c / 2\n",
    "    f_critical = norm.ppf(alpha_c), norm.ppf(1-alpha_c)\n",
    "    f_areas = norm.cdf(zp), 1-norm.cdf(zp)  # areas colas\n",
    "    \n",
    "    colas = {'less': {'p-value': f_areas[0], \"f-value\": f_critical[0]}, \n",
    "             'greater': {'p-value': f_areas[1], \"f-value\": f_critical[1]},\n",
    "             'two-sided': {'p-value': min(f_areas)*2, \"f-value\": f_critical}\n",
    "            }\n",
    "    return {\"Proportion z-test\": {\"statistic\": zp, \n",
    "                       \"p-value\": colas[alternative]['p-value']},\n",
    "                       \"z-value\": colas[alternative]['f-value'],\n",
    "                       \"alpha\": alpha}\n",
    "\n",
    "z_test_prop(104, 590, 0.14, alpha=0.01, alternative=\"greater\")"
   ]
  },
  {
   "cell_type": "markdown",
   "metadata": {},
   "source": [
    "- Rechazamos la hipótesis nula porque el estadístico de prueba cae en la región crítica, es decir, porque $Z=2.52>2.326$, podemos rechazar la hipótesis nula a favor de la hipótesis alternativa. Hay suficiente evidencia al nivel $\\alpha=0.01$ para concluir que la campaña fue exitosa y la proporción es $p>0.14$."
   ]
  },
  {
   "cell_type": "markdown",
   "metadata": {},
   "source": [
    "<a id=\"twoprop\"></a>\n",
    "### Prueba de hipótesis para la diferencia de proporciones cuando se muestrean dos poblaciones independientes, no necesariamente normales, para muestras grandes ($n_X, n_Y \\geq 30$) y varianzas conocidas\n",
    "\n",
    "[Volver al índice](#toc)\n",
    "\n",
    "- Formulación:\n",
    "  \n",
    "| Cola inferior     | Cola superior | Dos colas     |\n",
    "| :---:        |    :----:   |          :---: |\n",
    "|<img width=150/>|<img width=150/>|<img width=150/>|\n",
    "| $H_0:\\ p_X - p_Y = a$ | $H_0:\\ p_X - p_Y = a$ | $H_0:\\ p_X - \\mu_Y = a$    |\n",
    "| $H_1:\\ p_X - p_Y < a$ | $H_1:\\ p_X - p_Y > a$ | $H_0:\\ p_X - \\mu_Y \\neq a$ |\n",
    "\n",
    "- Estadístico de prueba:\n",
    "\n",
    "$$z_p = \\frac{\\hat{p}_X - \\hat{p}_X - (p_X - p_Y)}\n",
    "{\n",
    "\\sqrt{\\hat{p} \\hat{q} \\left( \\frac{1}{n_X} + \\frac{1}{n_Y} \\right) }\n",
    "} \\sim N(0,1), \\quad \n",
    "\\hat{p} = \\frac{ x + y } \n",
    "{n_X + n_Y} $$\n",
    "\n",
    "- Conclusión:\n",
    "\n",
    "\n",
    "| Cola inferior     | Cola superior | Dos colas     |\n",
    "| :---:        |    :----:   |          :---: |\n",
    "|<img width=120/>|<img width=120/>|<img width=120/>|\n",
    "| Recharzar $H_0$ cuando   | Recharzar $H_0$ cuando  | Recharzar $H_0$ cuando  |\n",
    "| $z_p < z_{\\alpha}$  | $z_p > z_{1-\\alpha}$ | $z_p < z_{\\alpha/2} \\\\ z_p > z_{1-\\alpha/2}$    |\n",
    "\n",
    "### Ejemplo\n",
    "\n",
    "La revista Time informó el resultado de una encuesta telefónica de 800 estadounidenses adultos. La pregunta planteada a los estadounidenses que fueron encuestados fue: ¿Debería aumentarse el impuesto federal sobre los cigarrillos para pagar la reforma del sistema de salud?\n",
    "\n",
    "- Los resultados de la encuesta fueron:\n",
    "\n",
    "![](https://raw.githubusercontent.com/marsgr6/r-scripts/master/imgs/time_survey.png)\n",
    "\n",
    "  - ¿Hay suficiente evidencia en el $\\alpha = 0.05$, por ejemplo, para concluir que las dos poblaciones (fumadores y no fumadores) difieren significativamente con respecto a sus opiniones?"
   ]
  },
  {
   "cell_type": "code",
   "execution_count": 42,
   "metadata": {},
   "outputs": [
    {
     "data": {
      "text/plain": [
       "{'statistic': 8.985900954503084, 'p-value': 2.566230446480293e-19}"
      ]
     },
     "execution_count": 42,
     "metadata": {},
     "output_type": "execute_result"
    }
   ],
   "source": [
    "from statsmodels.stats.proportion import proportions_ztest\n",
    "count = np.array([351, 41])  # x, y: eventos favorables\n",
    "nobs = np.array([605, 195])  # nx, ny: total de observaciones\n",
    "stat, pval = proportions_ztest(count, nobs, alternative='two-sided')\n",
    "{\"statistic\": stat, \"p-value\": pval}"
   ]
  },
  {
   "cell_type": "markdown",
   "metadata": {},
   "source": [
    "- Hay evidencia suficiente al nivel de 0.05 para concluir que las dos poblaciones difieren con respecto a sus opiniones sobre la imposición de un impuesto federal para ayudar a pagar la reforma del sistema de salud."
   ]
  },
  {
   "cell_type": "markdown",
   "metadata": {},
   "source": [
    "<a id=\"chi2ba\"></a>\n",
    "### Prueba de Bondad de Ajuste\n",
    "\n",
    "- La bondad de ajuste de un modelo estadístico describe qué tan bien se ajusta el modelo a un conjunto de observaciones. \n",
    "  - Las medidas de bondad de ajuste típicamente resumen la discrepancia entre los valores observados y los valores esperados bajo el modelo en cuestión.\n",
    "\n",
    "[Volver al índice](#toc)\n",
    "\n",
    "- Prueba de Hipótesis:\n",
    "\n",
    "$$H_0: p_1=p_1*, p_2=p_2*, \\dots, p_K=p_k*$$\n",
    "$$H_1: \\text{Al menos un } p_i \\neq p_i*$$\n",
    "\n",
    "- Estadístico:\n",
    "\n",
    "$$Q_{(k-1)} = \\sum_{i=1}^k \\frac{(Y_i - n p_i)^2}{n p_i} \\sim \\chi^2_{k-1}$$\n",
    "\n",
    "- Rechazar $H_0$ si $Q_{(k-1)} \\geq \\chi^2_{(1-\\alpha, k-1)}$\n",
    "\n",
    "### Ejemplo\n",
    "\n",
    "- Un pseudo generador de números aleatorios (PRNG) genera dígitos entre 0 y 9 uniformemente distribuidos. \n",
    "\n",
    "- Pruebe \n",
    "\n",
    "$$H_0: p_0=1/10, p_1=1/10, p_2=1/10, \\dots, p_{9}=1/10$$\n",
    "\n",
    "- En la tabla tiene las frecuencias observadas $Y_i$ de cada dígito en una secuencia aleatoria de tamaño 100.\n",
    "  - La frecuencia esperada $n p_i$ es 10 para cada dígito, dado que el PRNG sigue la [distribucion uniforme discreta](https://en.wikipedia.org/wiki/Discrete_uniform_distribution) $X\\sim U\\{0,9\\}$.\n",
    "\n",
    "\n",
    "| $x_i$              |   0 |   1 |   2 |   3 |   4 |   5 |   6 |   7 |   8 |   9 |\n",
    "|:-------------------|----:|----:|----:|----:|----:|----:|----:|----:|----:|----:|\n",
    "| obs_freq ($Y_i$)   |   8 |   9 |   9 |  13 |  14 |   7 |  16 |   6 |  10 |   8 |\n",
    "| exp_freq ($n p_i$) |  10 |  10 |  10 |  10 |  10 |  10 |  10 |  10 |  10 |  10 |\n",
    "\n",
    "- Vea el ejemplo completo en [PRNG]( https://anaconda.org/marsgr6/pseudorandom_number_generator/notebook).\n",
    "\n",
    "- Más [ejemplos](https://online.stat.psu.edu/stat415/lesson/16)."
   ]
  },
  {
   "cell_type": "code",
   "execution_count": 43,
   "metadata": {},
   "outputs": [
    {
     "name": "stdout",
     "output_type": "stream",
     "text": [
      "{'Q_p': 9.6, 'chi2_critico': 16.918977604620448, 'p-value': 0.3838265173713842, 'decision': 'Do not reject H0'}\n"
     ]
    },
    {
     "data": {
      "text/html": [
       "<div>\n",
       "<style scoped>\n",
       "    .dataframe tbody tr th:only-of-type {\n",
       "        vertical-align: middle;\n",
       "    }\n",
       "\n",
       "    .dataframe tbody tr th {\n",
       "        vertical-align: top;\n",
       "    }\n",
       "\n",
       "    .dataframe thead th {\n",
       "        text-align: right;\n",
       "    }\n",
       "</style>\n",
       "<table border=\"1\" class=\"dataframe\">\n",
       "  <thead>\n",
       "    <tr style=\"text-align: right;\">\n",
       "      <th></th>\n",
       "      <th>0</th>\n",
       "      <th>1</th>\n",
       "      <th>2</th>\n",
       "      <th>3</th>\n",
       "      <th>4</th>\n",
       "      <th>5</th>\n",
       "      <th>6</th>\n",
       "      <th>7</th>\n",
       "      <th>8</th>\n",
       "      <th>9</th>\n",
       "    </tr>\n",
       "  </thead>\n",
       "  <tbody>\n",
       "    <tr>\n",
       "      <th>xi</th>\n",
       "      <td>0.0</td>\n",
       "      <td>1.0</td>\n",
       "      <td>2.0</td>\n",
       "      <td>3.0</td>\n",
       "      <td>4.0</td>\n",
       "      <td>5.0</td>\n",
       "      <td>6.0</td>\n",
       "      <td>7.0</td>\n",
       "      <td>8.0</td>\n",
       "      <td>9.0</td>\n",
       "    </tr>\n",
       "    <tr>\n",
       "      <th>obs_freq</th>\n",
       "      <td>8.0</td>\n",
       "      <td>9.0</td>\n",
       "      <td>9.0</td>\n",
       "      <td>13.0</td>\n",
       "      <td>14.0</td>\n",
       "      <td>7.0</td>\n",
       "      <td>16.0</td>\n",
       "      <td>6.0</td>\n",
       "      <td>10.0</td>\n",
       "      <td>8.0</td>\n",
       "    </tr>\n",
       "    <tr>\n",
       "      <th>exp_freq</th>\n",
       "      <td>10.0</td>\n",
       "      <td>10.0</td>\n",
       "      <td>10.0</td>\n",
       "      <td>10.0</td>\n",
       "      <td>10.0</td>\n",
       "      <td>10.0</td>\n",
       "      <td>10.0</td>\n",
       "      <td>10.0</td>\n",
       "      <td>10.0</td>\n",
       "      <td>10.0</td>\n",
       "    </tr>\n",
       "  </tbody>\n",
       "</table>\n",
       "</div>"
      ],
      "text/plain": [
       "             0     1     2     3     4     5     6     7     8     9\n",
       "xi         0.0   1.0   2.0   3.0   4.0   5.0   6.0   7.0   8.0   9.0\n",
       "obs_freq   8.0   9.0   9.0  13.0  14.0   7.0  16.0   6.0  10.0   8.0\n",
       "exp_freq  10.0  10.0  10.0  10.0  10.0  10.0  10.0  10.0  10.0  10.0"
      ]
     },
     "execution_count": 43,
     "metadata": {},
     "output_type": "execute_result"
    },
    {
     "data": {
      "image/png": "[encoded data removed]",
      "text/plain": [
       "<Figure size 576x576 with 2 Axes>"
      ]
     },
     "metadata": {
      "needs_background": "light"
     },
     "output_type": "display_data"
    }
   ],
   "source": [
    "secuencia = np.loadtxt('data/pi_seq.txt')\n",
    "plt.figure(figsize=(8,8))\n",
    "plt.subplot(211)\n",
    "plt.plot(secuencia)\n",
    "plt.title(\"Secuencia aleatoria\")\n",
    "plt.subplot(212)\n",
    "xi, o_f = np.unique(secuencia, return_counts=True)\n",
    "plt.bar(xi, o_f)\n",
    "plt.title(\"Frecuencias dígitos\")\n",
    "\n",
    "k = 10\n",
    "p_i = 1/10\n",
    "df = k - 1\n",
    "\n",
    "n = len(secuencia)  # longitud de la serie observada\n",
    "exp_freq = [int(n*p_i)]*10\n",
    "\n",
    "datos = pd.DataFrame({'xi': xi, 'obs_freq': o_f, 'exp_freq': exp_freq})\n",
    "\n",
    "alpha = 0.05\n",
    "Q_p = ((datos['obs_freq'] - datos['exp_freq'])**2 / datos['exp_freq']).sum()\n",
    "chi2_c = chi2.ppf(1-alpha, df)\n",
    "decision = {True: \"Reject H0\", False: \"Do not reject H0\"}\n",
    "pvalue = 1-chi2.cdf(Q_p, df)\n",
    "print({\"Q_p\": Q_p, \"chi2_critico\": chi2_c, \"p-value\": pvalue,\n",
    "       \"decision\": decision[Q_p > chi2_c]})\n",
    "datos.transpose()"
   ]
  },
  {
   "cell_type": "code",
   "execution_count": 44,
   "metadata": {},
   "outputs": [
    {
     "data": {
      "image/png": "[encoded data removed]",
      "text/plain": [
       "<Figure size 576x432 with 1 Axes>"
      ]
     },
     "metadata": {
      "needs_background": "light"
     },
     "output_type": "display_data"
    }
   ],
   "source": [
    "x = np.linspace(0,25,200)\n",
    "fx = chi2.pdf(x, df)\n",
    "\n",
    "plt.figure(figsize=(8,6))\n",
    "plt.plot(x, fx, label=r\"$\\chi^2_{k-1)}$ PDF\")\n",
    "plt.plot([Q_p, Q_p], [0, chi2.pdf(Q_p, df)],\n",
    "         '-o', label=r\"Punto de prueba $Q_{k-1}$\")  # linea naranja\n",
    "plt.plot([chi2_c, chi2_c], [0, chi2.pdf(chi2_c, df)],\n",
    "         '-P', label=\"Punto crítico\")  # linea verde\n",
    "x_chi = np.linspace(chi2_c,25)\n",
    "plt.fill_between(x_chi, chi2.pdf(x_chi, df), \n",
    "                 color=\"green\", alpha=0.3, label=\"Región crítica\")\n",
    "l=plt.legend()"
   ]
  },
  {
   "cell_type": "code",
   "execution_count": 45,
   "metadata": {},
   "outputs": [
    {
     "data": {
      "text/plain": [
       "Power_divergenceResult(statistic=9.6, pvalue=0.3838265173713841)"
      ]
     },
     "execution_count": 45,
     "metadata": {},
     "output_type": "execute_result"
    }
   ],
   "source": [
    "# Pythom implementa esta prueba\n",
    "from scipy.stats import chisquare\n",
    "\n",
    "chisquare(datos['obs_freq'], datos['exp_freq'])"
   ]
  },
  {
   "cell_type": "markdown",
   "metadata": {},
   "source": [
    "- Nuestro ejemplo es para un modelo discreto $X\\sim U\\{0,9\\}$. Esta prueba puede aplicarse también en el caso de un modelo continuo. "
   ]
  },
  {
   "cell_type": "markdown",
   "metadata": {},
   "source": [
    "<a id=\"chi2ind\"></a>\n",
    "### Prueba de independecia Chi-cuadrado (Chi-Square Test of Independence)\n",
    "\n",
    "[Volver al índice](#toc)\n",
    "\n",
    "- Podemos probar la independencia de dos variables categóricas mediante el Test Chi-Cuadrado de Independencia.\n",
    "\n",
    "- Como con todas las pruebas estadísticas anteriores, necesitamos definir hipótesis nulas y alternativas. Además, como hemos aprendido, la hipótesis nula es lo que se supone que es cierto hasta que tengamos evidencia para ir en contra. \n",
    "\n",
    "- Estamos interesados en investigar si dos variables categóricas están relacionadas o asociadas (es decir, son dependientes). Por lo tanto, hasta que tengamos evidencia que sugiera que lo son, debemos asumir que no lo son. \n",
    "\n",
    "- Esta es la motivación detrás de la hipótesis de la prueba de independencia Chi-Cuadrado:\n",
    "\n",
    "\n",
    "$$H_0: \\text{ En la población, las dos variables categóricas son independientes.}$$\n",
    "\n",
    "$$H_1: \\text{ En la población, las dos variables categóricas son dependientes.}$$\n",
    "\n",
    "- Una vez que hemos recopilado nuestros datos, los resumimos en una tabla de contingencia. Esta tabla representa los conteos observados y se denomina Tabla de conteos observados o simplemente Tabla observada. \n",
    "\n",
    "  - Ejemplo de tabla de contingencia Género vs. Está dispuesto a pagar más por transporte público eléctrico (NO/SI):\n",
    "  \n",
    "| género        |   NO        |   SI        |   Total fila |\n",
    "|:--------------|------------:|------------:|-------------:|\n",
    "| Hombre        |   29(22.70) |   34(40.30) |    63        |\n",
    "| Mujer         |   11(17.30) |   37(30.70) |    48        |\n",
    "| Total columna |   40        |   71        |   111        |\n",
    "\n",
    "- Tabla esperada:\n",
    "\n",
    "  - Cada celda de la tabla esperada se calcula como:\n",
    "  \n",
    "  $$E = \\frac{(\\text{Total fila})(\\text{Total columna})}{\\text{Total muestra}}$$\n",
    "  \n",
    "  - Compruebe este calculo para la tabla anterior. Los valores en parentesis son los valores esperados. Por ejemplo la celda (1,1) es:\n",
    "  \n",
    "  $$E_{1,1} = \\frac{(40)(63)}{11}=22.7027$$\n",
    "  \n",
    "  \n",
    "- Usamos el mismo estadístico y mismo criterio que en la prueba de bondad de ajuste.\n",
    "\n",
    "  - Vea: https://online.stat.psu.edu/stat500/lesson/8/8.1"
   ]
  },
  {
   "cell_type": "code",
   "execution_count": 46,
   "metadata": {},
   "outputs": [
    {
     "data": {
      "text/html": [
       "<div>\n",
       "<style scoped>\n",
       "    .dataframe tbody tr th:only-of-type {\n",
       "        vertical-align: middle;\n",
       "    }\n",
       "\n",
       "    .dataframe tbody tr th {\n",
       "        vertical-align: top;\n",
       "    }\n",
       "\n",
       "    .dataframe thead th {\n",
       "        text-align: right;\n",
       "    }\n",
       "</style>\n",
       "<table border=\"1\" class=\"dataframe\">\n",
       "  <thead>\n",
       "    <tr style=\"text-align: right;\">\n",
       "      <th>pay_more_no_gas</th>\n",
       "      <th>NO</th>\n",
       "      <th>SI</th>\n",
       "      <th>All</th>\n",
       "    </tr>\n",
       "    <tr>\n",
       "      <th>gender</th>\n",
       "      <th></th>\n",
       "      <th></th>\n",
       "      <th></th>\n",
       "    </tr>\n",
       "  </thead>\n",
       "  <tbody>\n",
       "    <tr>\n",
       "      <th>Hombre</th>\n",
       "      <td>29</td>\n",
       "      <td>34</td>\n",
       "      <td>63</td>\n",
       "    </tr>\n",
       "    <tr>\n",
       "      <th>Mujer</th>\n",
       "      <td>11</td>\n",
       "      <td>37</td>\n",
       "      <td>48</td>\n",
       "    </tr>\n",
       "    <tr>\n",
       "      <th>All</th>\n",
       "      <td>40</td>\n",
       "      <td>71</td>\n",
       "      <td>111</td>\n",
       "    </tr>\n",
       "  </tbody>\n",
       "</table>\n",
       "</div>"
      ],
      "text/plain": [
       "pay_more_no_gas  NO  SI  All\n",
       "gender                      \n",
       "Hombre           29  34   63\n",
       "Mujer            11  37   48\n",
       "All              40  71  111"
      ]
     },
     "execution_count": 46,
     "metadata": {},
     "output_type": "execute_result"
    }
   ],
   "source": [
    "datos = pd.read_csv(\"data/survey_EVs_en.csv\")\n",
    "pd.crosstab(datos['gender'], \n",
    "                            datos['pay_more_no_gas'],\n",
    "                                margins = True)"
   ]
  },
  {
   "cell_type": "code",
   "execution_count": 47,
   "metadata": {},
   "outputs": [
    {
     "data": {
      "text/plain": [
       "{'statistic': 5.352047440895375,\n",
       " 'pvalue': 0.02069795185866291,\n",
       " 'df': 1,\n",
       " 'exp_table': array([[22.7027027, 40.2972973],\n",
       "        [17.2972973, 30.7027027]])}"
      ]
     },
     "execution_count": 47,
     "metadata": {},
     "output_type": "execute_result"
    }
   ],
   "source": [
    "from scipy.stats import chi2_contingency\n",
    "\n",
    "# Tabla de contingencia\n",
    "ct = pd.crosstab(datos['gender'], \n",
    "                            datos['pay_more_no_gas'],\n",
    "                                margins = False)\n",
    "\n",
    "\n",
    "statistic, pvalue, df, exp_table = chi2_contingency(ct)\n",
    "\n",
    "{\"statistic\": statistic, \"pvalue\": pvalue, \"df\": df, \"exp_table\": exp_table}"
   ]
  },
  {
   "cell_type": "markdown",
   "metadata": {},
   "source": [
    "- La disposición a pagar más por transporte público eléctrico es independiente entre hombres y mujeres.\n",
    "  - Las mujeres están dispuestas a pagar más."
   ]
  },
  {
   "cell_type": "markdown",
   "metadata": {},
   "source": [
    "<a id=\"fph\"></a>\n",
    "### Resumen de fórmulas\n",
    "\n",
    "- Ver __[resumen de fórmulas](https://drive.google.com/open?id=1C6Wq9MOQGWNzBwCK8w-DB5NnsY_Mn4Lv)__ para pruebas de hipótesis.\n",
    "\n",
    "[Volver al índice](#toc)"
   ]
  },
  {
   "cell_type": "markdown",
   "metadata": {},
   "source": [
    "<img align=\"left\" width=\"80px\" src=\"https://raw.githubusercontent.com/marsgr6/r-scripts/master/imgs/activity.png\">\n",
    "\n",
    "<br/>\n",
    "\n",
    "### Experimente\n",
    "<br/>\n",
    "\n",
    "## Estimación de máxima verosimilitud\n",
    "\n",
    "- Con anterioridad hemos hecho referencia a estimación de máxima verosimilitud, investigue acerca de estimación de máxima verosimilitud.\n",
    "  - Sources:\n",
    "    - https://newonlinecourses.science.psu.edu/stat414/node/289/\n",
    "    - https://newonlinecourses.science.psu.edu/stat414/node/290/\n",
    "    \n",
    "### ANOVA\n",
    "\n",
    "- Investigue el análisis de varianza (ANOVA) de un factor. Este es un método estadístico para examinar las diferencias para las medias entre grupos.\n",
    "  - Sources:\n",
    "    - https://online.stat.psu.edu/stat415/lesson/13\n",
    "    - https://www.reneshbedre.com/blog/anova.html"
   ]
  }
 ],
 "metadata": {
  "kernelspec": {
   "display_name": "Python 3",
   "language": "python",
   "name": "python3"
  },
  "language_info": {
   "codemirror_mode": {
    "name": "ipython",
    "version": 3
   },
   "file_extension": ".py",
   "mimetype": "text/x-python",
   "name": "python",
   "nbconvert_exporter": "python",
   "pygments_lexer": "ipython3",
   "version": "3.8.3"
  }
 },
 "nbformat": 4,
 "nbformat_minor": 2
}
