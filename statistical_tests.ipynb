{
 "cells": [
  {
   "cell_type": "markdown",
   "metadata": {},
   "source": [
    "# Estadística Inferencial - Pruebas de hipótesis\n",
    "\n",
    "<a id=\"toc\"></a>\n",
    "## Contenido\n",
    "\n",
    "- [Instrucciones Generales](#Instruciones-Generales)\n",
    "- [Pruebas de hipótesis](#ph)  \n",
    "  - [Prueba de hipótesis para la media cuando se muestrea una población normal con varianza conocida](#phz)\n",
    "  - [Error de Tipo I ($\\alpha$), Tipo II ($\\beta$) y poder de la prueba (power=$1-\\beta$)](#beta)\n",
    "  - [Prueba de hipótesis para la media cuando se muestrea una población normal con varianza desconocida](#pht)\n",
    "  - [Prueba t para datos pareados](#pairedtest)\n",
    "  - [Prueba de hipótesis para la diferencia de medias cuando se muestrean dos poblaciones normales independientes con varianzas desconocidas pero iguales](#varnotequal)\n",
    "  - [Prueba de hipótesis para la diferencia de medias cuando se muestrean dos poblaciones normales independientes cunado las varianzas no son iguales (Welch's t-test)](#welchttest)\n",
    "  - [Prueba de hipótesis para las varianzas cuando se muestrean dos poblaciones normales independientes](#twovars)\n",
    "  - [Prueba de hipótesis para la varianza cuando se muestrea una distribución normal](#onevar)\n",
    "  - [Prueba de hipótesis para la proporción](#oneprop)\n",
    "  - [Prueba de hipótesis para la diferencia de proporciones cuando se muestrean dos poblaciones independientes, no necesariamente normales, para muestras grandes ($n_X, n_Y \\geq 30$) y varianzas conocidas](#twoprop)\n",
    "  - [Prueba de Bondad de Ajuste](#chi2ba)\n",
    "  - [Prueba de independecia Chi-cuadrado (Chi-Square Test of Independence)](#chi2ind)\n",
    "  - [Resumen de fórmulas](#fph)"
   ]
  },
  {
   "cell_type": "markdown",
   "metadata": {},
   "source": [
    "## Instruciones Generales\n",
    "\n",
    "### Código\n",
    "\n",
    "- Cuando aparezca esta imagen en el notebook, encontrará código Python que puede ser intermedio o avanzado. \n",
    "\n",
    "<img align=\"left\" src=\"https://raw.githubusercontent.com/marsgr6/r-scripts/master/imgs/python-banner-300x89.png\">\n",
    "\n",
    "<br/>\n",
    "\n",
    "### Opcional: Practique Python\n",
    "\n",
    "<br/><br/>\n",
    "\n",
    "  - **Esta sección es opcional**.\n",
    "  - Concéntrense en los conceptos que se están tratando. \n",
    "  - Cuando se sienta cómodo con Python estudie el código. \n",
    "\n",
    "### Experimentación\n",
    "\n",
    "- Cuando aparezca esta imagen en el notebook, encontrará instrucciones de actividades de experimentación a realizar de forma autónoma para reforzar los temas tratados. \n",
    "  - Esto puede ser cambiar un fragmento del código. \n",
    "  - O realizar análisis adicionales sobre los resultados presentados. \n",
    "\n",
    "<img align=\"left\" width=\"80px\" src=\"https://raw.githubusercontent.com/marsgr6/r-scripts/master/imgs/activity.png\">\n",
    "\n",
    "<br/>\n",
    "\n",
    "### Experimente\n",
    "<br/>\n",
    "<br/>"
   ]
  },
  {
   "cell_type": "markdown",
   "metadata": {},
   "source": [
    "<a id=\"ph\"></a>\n",
    "## Pruebas de hipótesis \n",
    "\n",
    "[Volver al índice](#toc)\n",
    "\n",
    "- En la sección anterior, desarrollamos métodos estadísticos, en forma de intervalos de confianza, para responder a la pregunta ¿cuál es el valor del parámetro $\\theta$?\n",
    "\n",
    "- En esta sección, aprenderemos cómo responder una pregunta ligeramente diferente, ¿es el valor del parámetro $\\theta$ tal o cuál? \n",
    "  - Por ejemplo, en lugar de intentar estimar $\\mu$, la temperatura corporal media de los adultos, podríamos estar interesados en probar si $\\mu$, la temperatura corporal media de los adultos es realmente de 37 grados centígrados. \n",
    "  - Intentaremos responder tales preguntas usando el método estadístico conocido como **prueba de hipótesis**.\n",
    "\n",
    "- Realizaermos pruebas de hipótesis para los parámetros de población habituales, que incluyen:\n",
    "  - la media poblacional, $\\mu$;\n",
    "  - la diferencia de dos poblaciones, $\\mu_1 - \\mu_2$;\n",
    "  - la varianza poblacional, $\\sigma^2$; \n",
    "  - la razón de dos varianzas poblacionales, $\\frac{\\sigma_1^2}{\\sigma_2^2}$; \n",
    "  - la proporción poblacional, $p$; \n",
    "  - la diferencia en dos propociones poblacionales, $p_1 - p_2$.\n",
    "\n",
    "- Partiremos de un ejemplo simple para presentar los pasos detrás de una prueba de hipótesis y luego nos enfocaremos en ejercicios para los diferentes casos. \n",
    "  - **Los supuestos, y estadísticos presentados para los intervalos de confianza aplican para las pruebas de hipótesis.**\n",
    "\n",
    "<a id=\"phz\"></a>\n",
    "### Prueba de hipótesis para la media cuando se muestrea una población normal con varianza conocida\n",
    "\n",
    "[Volver al índice](#toc)\n",
    "\n",
    "**Paso 1:** Identificar el parámetro a evaluar: $\\mu$ \n",
    "\n",
    "**Paso 2:** Formular la prueba de hipótesis.\n",
    "\n",
    "| <div style=\"width:100px\">Cola inferior</div>      | <div style=\"width:100px\">Cola superior</div> | <div style=\"width:100px\">Dos colas</div>     |\n",
    "| :---:        |    :----:   |          :---: |\n",
    "| $H_0:\\ \\mu = \\mu_0$     | $H_0:\\ \\mu = \\mu_0$      | $H_0:\\ \\mu = \\mu_0$  |\n",
    "| $H_1:\\ \\mu < \\mu_0$  | $H_1:\\ \\mu > \\mu_0$        | $H_0:\\ \\mu \\neq \\mu_0$     |\n",
    "\n",
    "**Paso 3:** Definir supuestos para seleccionar el estadístico de prueba.\n",
    "  - Vea el intervalo de confianza equivalente.\n",
    "  \n",
    " \n",
    "  $$\\hat{\\mu} = \\bar{X},\\quad \\frac{\\bar{X}-\\mu}{\\sigma / \\sqrt{n}} \\sim N(0,1)$$\n",
    "\n",
    "  \n",
    "**Paso 4:** Calcular el estimador apropiado para el parámetro y el estadístico de prueba $z_p$, bajo $H_0$.\n",
    "\n",
    "$$z_p = \\frac{\\bar{X}-\\mu_0}{\\sigma / \\sqrt{n}}$$\n",
    "\n",
    "**Paso 5:** Graficar la distribución del estadístico, identificar el punto crítico $z_c(\\alpha)$ y la región crítica de acuerdo al **nivel de significancia** $\\alpha$. \n",
    "\n",
    "**Paso 6:** Calcular y ubicar el estadístico de prueba en la gráfica de la distribución. \n",
    "\n",
    "**Paso 7:** Concluir\n",
    "\n",
    "| <div style=\"width:120px\">Cola inferior</div>      | <div style=\"width:120px\">Cola superior</div> | <div style=\"width:200px\">Dos colas</div>     |\n",
    "| :---:        |    :----:   |          :---: |\n",
    "| Recharzar $H_0$ cuando   | Recharzar $H_0$ cuando  | Recharzar $H_0$ cuando  |\n",
    "| $z_p < z_{\\alpha}$  | $z_p > z_{1-\\alpha}$ | $z_p < z_{\\alpha/2}$ o $z_p > z_{1-\\alpha/2}$    |\n",
    "\n",
    "\n",
    "### Ejemplo\n",
    "\n",
    "Se toman los tiempos de armado de 20 piezas en una línea de ensamblaje (tiempos en segundos):\n",
    "\n",
    "```Python\n",
    "datos = np.array([9.8, 9.7, 9.6, 9.9, 10.5, 10.4, 9.9, 10.2, 11.2, 10.1, 10.6, 10.9, 10.3, 10.6, 10.5, 9.6, 11.1, 9.6, 9.8, 9.7])\n",
    "```\n",
    "\n",
    "Se define la variable aleatoria $X$ como el tiempo necesario para armar una unidad. Se asume que $X$ sigue una distribución $X \\sim N(\\mu, \\sigma^2=0.6^2)$. Es decir una desviación $\\sigma=0.6$.\n",
    "\n",
    "Con un **nivel de significancia ($\\alpha$) del 5%**, ¿existe alguna razón para pensar que el **tiempo medio de armado es mayor que 10 segundos**?\n",
    "\n",
    "**Paso 1:** Identificar el parámetro a evaluar: $\\mu$.\n",
    "\n",
    "**Paso 2:** Formular la prueba de hipótesis.\n",
    "\n",
    "| <div style=\"width:100px\">Cola superior</div> | \n",
    "|    :----:   | \n",
    "| $H_0:\\ \\mu_0 = 10$      |\n",
    "| $H_1:\\ \\mu_0 > 10$        | \n",
    "\n",
    "\n",
    "**Paso 3:** Definir supuestos para seleccionar el estadístico de prueba.\n",
    "  - Vea el intervalo de confianza equivalente.\n",
    "  \n",
    "  $$\\hat{\\mu} = \\bar{X},\\quad \\frac{\\bar{X}-\\mu_0}{\\sigma / \\sqrt{n}} \\sim N(0,1)$$\n",
    "\n",
    "**Paso 4:** Calcular el estimador apropiado para el parámetro y el estadístico de prueba $z_p$.\n",
    "\n",
    "$$z_p = \\frac{\\bar{X}-\\mu_0}{\\sigma / \\sqrt{n}} =  \\frac{10.2-10}{0.6/\\sqrt{20}}=1.4907.$$\n",
    "\n",
    "- Bajo $H_0:\\ \\mu = 10$, el estadístico de prueba tiene un valor de $Z_p=1.4907$.\n",
    "\n",
    "**Paso 5 y 6:** Identificar el punto crítico $z_{(1-\\alpha)}=1.6449$ y la región crítica, y ubicar el estadístico de prueba $z_p=1.4907$, en la gráfica de la distribución.\n",
    "\n",
    "![](https://raw.githubusercontent.com/marsgr6/r-scripts/master/imgs/z_test.png)\n",
    "\n",
    "**Paso 7:** Concluir \n",
    "\n",
    "- Dado que no se cumple $z_p > z_{1-\\alpha}$, no podemos rechazar $H_0$. \n",
    "\n",
    "| <div style=\"width:120px\">Cola superior</div> | \n",
    "|    :----:   | \n",
    "| Recharzar $H_0$ cuando  | \n",
    "| $z_p > z_{1-\\alpha}$ |\n",
    "\n",
    "- **Conclusión:** No existe evidencia estadística que demuestre que el tiempo de ensamblaje promedio sea mayor a 10 segundos."
   ]
  },
  {
   "cell_type": "code",
   "execution_count": 1,
   "metadata": {},
   "outputs": [],
   "source": [
    "import numpy as np\n",
    "import pandas as pd\n",
    "import matplotlib.pyplot as plt\n",
    "import seaborn as sns\n",
    "from scipy.stats import uniform\n",
    "from scipy.stats import norm"
   ]
  },
  {
   "cell_type": "code",
   "execution_count": 2,
   "metadata": {},
   "outputs": [
    {
     "data": {
      "text/plain": [
       "{'zp': 1.4907119849998547,\n",
       " 'zc': 1.6448536269514722,\n",
       " 'decision': 'No rechace H0'}"
      ]
     },
     "execution_count": 2,
     "metadata": {},
     "output_type": "execute_result"
    },
    {
     "data": {
      "image/png": "[encoded data removed]",
      "text/plain": [
       "<Figure size 576x432 with 1 Axes>"
      ]
     },
     "metadata": {
      "needs_background": "light"
     },
     "output_type": "display_data"
    }
   ],
   "source": [
    "datos = np.array([9.8, 9.7, 9.6, 9.9, 10.5, 10.4, 9.9, 10.2, 11.2, 10.1, \n",
    "                  10.6, 10.9, 10.3, 10.6, 10.5, 9.6, 11.1, 9.6, 9.8, 9.7])\n",
    "n = len(datos)  # tamaño de muestra\n",
    "x_bar = datos.mean()  # media muestral x barra\n",
    "mu = 10  # H_0, hipótesis nula\n",
    "s = 0.6  # desviación poblacional conocida sigma\n",
    "zp = (x_bar - mu) / (s/np.sqrt(n))  # estadístico de prueba\n",
    "\n",
    "# Graficamos la distribución Z\n",
    "x = np.linspace(-4, 4, 200)  # x a +- 4 desviaciones de la media\n",
    "zx = norm.pdf(x)  # zx = N(0,1)\n",
    "plt.figure(figsize=(8,6))\n",
    "plt.plot(x, zx)\n",
    "\n",
    "# Graficamos punto crítico y sombreamos región crítica\n",
    "# cola superior de acuerdo a la hipótesis alternativa H1\n",
    "alpha = 0.05  # nivel de significancia\n",
    "zc = norm.ppf(1-alpha)  # punto crítico, cola superior z(1-alpha)\n",
    "x_cola_superior = np.linspace(zc, 4)  # cola superior\n",
    "plt.fill_between(x_cola_superior, norm.pdf(x_cola_superior), \n",
    "                 color=\"orange\", alpha=.4, \n",
    "                 label=r\"Región crítica (rechazar $H_0$)\")\n",
    "plt.vlines(zc, 0, norm.pdf(zc), 'r')\n",
    "plt.plot(zc, 0, 'Dr', label=r\"Punto crítico $z_c$\")\n",
    "plt.text(zc, 0, r'$z_c=$'+str(np.round(zc, 4)), color=\"red\")\n",
    "\n",
    "plt.plot(zp, 0, 'Pg', label=r\"Punto de prueba $z_p$\")\n",
    "plt.text(zp-1, 0.015, r'$z_p=$'+str(np.round(zp, 4)), color=\"green\")\n",
    "plt.xlabel(r'$Z$')\n",
    "l = plt.legend()\n",
    "\n",
    "Conclusion = {False: \"No rechace H0\", True: \"Rechace H0\"}  # Para zp>zc\n",
    "{'zp': zp, 'zc': zc, 'decision': Conclusion[zp>zc]}"
   ]
  },
  {
   "cell_type": "markdown",
   "metadata": {},
   "source": [
    "### Ejemplo\n",
    "\n",
    "Se sabe que los niños de cierta edad tienen un peso medio de $\\mu=85$ libras. Se denuncia que los niños que viven en un hogar infantil municipal están desnutridos. Como evidencia, una muestra de n=25 niños (de la misma edad) se pesan, y se determina que tienen un peso medio de $\\bar{x} = 80.94$ libras. \n",
    "Se sabe que la desviación estándar de la población es de $\\sigma=11.6$ libras (¡la parte poco realista de este ejemplo!). \n",
    "- Con base en los datos disponibles, y con un nivel de significancia de $\\alpha=0.05$, ¿qué se debe concluir con respecto a la denuncia?\n",
    "\n",
    "$$H_0: \\mu_0 = 85$$\n",
    "$$H_1: \\mu_0 < 85$$"
   ]
  },
  {
   "cell_type": "code",
   "execution_count": 3,
   "metadata": {},
   "outputs": [
    {
     "data": {
      "text/plain": [
       "{'zp': -1.750000000000001, 'zc': -1.6448536269514729, 'decision': 'Rechace H0'}"
      ]
     },
     "execution_count": 3,
     "metadata": {},
     "output_type": "execute_result"
    },
    {
     "data": {
      "image/png": "[encoded data removed]",
      "text/plain": [
       "<Figure size 576x432 with 1 Axes>"
      ]
     },
     "metadata": {
      "needs_background": "light"
     },
     "output_type": "display_data"
    }
   ],
   "source": [
    "n = 25\n",
    "x_bar = 80.94  # media muestral x barra\n",
    "mu = 85  # H_0, hipótesis nula\n",
    "s = 11.6  # desviación poblacional conocida sigma\n",
    "zp = (x_bar - mu) / (s/np.sqrt(n))  # estadístico de prueba\n",
    "\n",
    "# Graficamos la distribución Z\n",
    "x = np.linspace(-4, 4, 200)  # x a +- 4 desviaciones de la media\n",
    "zx = norm.pdf(x)  # zx = N(0,1)\n",
    "plt.figure(figsize=(8,6))\n",
    "plt.plot(x, zx)\n",
    "\n",
    "# Graficamos punto crítico y sombreamos región crítica\n",
    "# cola superior de acuerdo a la hipótesis alternativa H1\n",
    "alpha = 0.05  # nivel de significancia\n",
    "zc = norm.ppf(alpha)  # punto crítico, cola inferior z(alpha)\n",
    "x_cola_inferior = np.linspace(-4, zc)  # cola inferior\n",
    "plt.fill_between(x_cola_inferior, norm.pdf(x_cola_inferior), \n",
    "                 color=\"orange\", alpha=.4, \n",
    "                 label=r\"Región crítica (rechazar $H_0$)\")\n",
    "plt.vlines(zc, 0, norm.pdf(zc), 'r')\n",
    "plt.plot(zc, 0, 'Dr', label=r\"Punto crítico $z_c$\")\n",
    "plt.text(zc, 0, r'$z_c=$'+str(np.round(zc, 4)), color=\"red\")\n",
    "\n",
    "plt.plot(zp, 0, 'Pg', label=r\"Punto de prueba $z_p$\")\n",
    "plt.text(zp-1, 0.015, r'$z_p=$'+str(np.round(zp, 4)), color=\"green\")\n",
    "plt.xlabel(r'$Z$')\n",
    "l = plt.legend()\n",
    "\n",
    "Conclusion = {False: \"No rechace H0\", True: \"Rechace H0\"}  # Para zp<zc\n",
    "{'zp': zp, 'zc': zc, 'decision': Conclusion[zp<zc]}"
   ]
  },
  {
   "cell_type": "markdown",
   "metadata": {},
   "source": [
    "- **Conclusión:** Existe evidencia estadística para afirmar que la media del peso de los niños que viven en el hogar infantil municipal es menor a 85 libras.\n",
    "\n",
    "### Valor $p$ ($p$-value)\n",
    "\n",
    "- El enfoque de la región crítica anterior, nos dice que rechacemos la hipótesis nula, al nivel de significancia $\\alpha=0.05$. Dado que $z_p$ < $z_c$, y por tanto $z_p$, cae en la región de rechazo. \n",
    "\n",
    "- Podemos obtener la misma conclusión usando el enfoque del valor $p$ ($p$-value), si $p$-value $ \\leq \\alpha$.\n",
    "\n",
    "- **El valor p:**\n",
    "\n",
    "  - Es la probabilidad, bajo el supuesto de que la hipótesis nula es verdadera, de obtener un resultado igual o más extremo que el resultado obtenido en el experimento (el estadísdtico de prueba $z_p$).\n",
    "  - En nuestro ejemplo de cola inferior esto se traduce como $p$-value$=P(Z<z_p)$\n",
    "  - Para cola superior: $p$-value$=P(Z>z_p)$.\n",
    "  - Para dos colas: $p$-value$=min(P({Z<z_p|H_0), P(Z>z_p|H_0)}) \\cdot 2$.\n",
    "    - En una prueba de dos colas, la traducción de \"igual o más extremo que\" es esencialmente igual o más distante, en cualquier dirección opuesta a la media. Estamos probando si la media se ha movido en cualquier dirección, en este caso.\n",
    "    - Dada la simetría de la distribución, multiplicamos por 2 para obtener el $p$-value. \n",
    "  \n",
    "### Ejemplo\n",
    "\n",
    "- En nuestro ejemplo el $p$-value es $P(Z<z_p) = P(Z<-1.75) = 0.0401$.\n",
    "\n",
    "- Dado que $p$-value $ \\leq \\alpha$, rechazamos $H_0$.\n",
    "\n",
    "- **Representemos esto de forma gráfica.**"
   ]
  },
  {
   "cell_type": "code",
   "execution_count": 4,
   "metadata": {},
   "outputs": [
    {
     "name": "stdout",
     "output_type": "stream",
     "text": [
      "{'zp': -1.750000000000001, 'zc': -1.6448536269514729, 'decision': 'Rechace H0'}\n"
     ]
    },
    {
     "data": {
      "text/plain": [
       "{'p_value': 0.04005915686381699, 'alpha': 0.05, 'decision': 'Rechace H0'}"
      ]
     },
     "execution_count": 4,
     "metadata": {},
     "output_type": "execute_result"
    },
    {
     "data": {
      "image/png": "[encoded data removed]",
      "text/plain": [
       "<Figure size 576x432 with 1 Axes>"
      ]
     },
     "metadata": {
      "needs_background": "light"
     },
     "output_type": "display_data"
    }
   ],
   "source": [
    "n = 25\n",
    "x_bar = 80.94  # media muestral x barra\n",
    "mu = 85  # H_0, hipótesis nula\n",
    "s = 11.6  # desviación poblacional conocida sigma\n",
    "zp = (x_bar - mu) / (s/np.sqrt(n))  # estadístico de prueba\n",
    "\n",
    "# Graficamos la distribución X\n",
    "x = np.linspace(-4, 4, 200)  # x a +- 4 desviaciones de la media\n",
    "zx = norm.pdf(x)  # zx = N(0,1)\n",
    "plt.figure(figsize=(8,6))\n",
    "plt.plot(x, zx)\n",
    "\n",
    "# Graficamos punto crítico y sombreamos región crítica\n",
    "# cola superior de acuerdo a la hipótesis alternativa H1\n",
    "alpha = 0.05  # nivel de significancia\n",
    "zc = norm.ppf(alpha)  # punto crítico, cola inferior z(alpha)\n",
    "\n",
    "p_value = norm.cdf(zp)  # valor p: P(Z<zp) = F(zp)\n",
    "\n",
    "x_cola_inferior = np.linspace(-4, zc)  # cola inferior\n",
    "plt.fill_between(x_cola_inferior, norm.pdf(x_cola_inferior), \n",
    "                 color=\"orange\", alpha=.4, \n",
    "                 label=r\"Región crítica (rechazar $H_0$)\")\n",
    "plt.vlines(zc, 0, norm.pdf(zc), 'r')\n",
    "plt.plot(zc, 0, 'Dr', label=r\"Punto crítico $z_c$\")\n",
    "plt.text(zc, 0, r'$z_c=$'+str(np.round(zc, 4)), color=\"red\")\n",
    "\n",
    "# p-value\n",
    "x_p_value = np.linspace(-4, zp)  # cola inferior\n",
    "plt.fill_between(x_p_value, norm.pdf(x_p_value), \n",
    "                 color=\"green\", alpha=.4, \n",
    "                 label=r\"$p$-value\")\n",
    "plt.vlines(zp, 0, norm.pdf(zp), 'g')\n",
    "plt.plot(zp, 0, 'Pg', label=r\"Punto de prueba $z_p$\")\n",
    "plt.text(zp-1, 0.015, r'$z_p=$'+str(np.round(zp, 4)), color=\"green\")\n",
    "plt.xlabel(r'$Z$')\n",
    "l = plt.legend()\n",
    "\n",
    "Conclusion = {False: \"No rechace H0\", True: \"Rechace H0\"}  # Para zp<zc\n",
    "print({'zp': zp, 'zc': zc, 'decision': Conclusion[zp<zc]})\n",
    "{'p_value': p_value, 'alpha': alpha, 'decision': Conclusion[p_value<alpha]}"
   ]
  },
  {
   "cell_type": "markdown",
   "metadata": {},
   "source": [
    "- Un último enfoque, y misma conclusión, consiste en representar el problema usando la variable $\\bar{X} \\sim N(\\mu, \\sqrt{\\sigma^2/n})$.\n",
    "  - Note que el p-value es el mismo que obtuvimos para la variable estandarizada $Z\\sim N(0,1)$."
   ]
  },
  {
   "cell_type": "code",
   "execution_count": 5,
   "metadata": {},
   "outputs": [
    {
     "name": "stdout",
     "output_type": "stream",
     "text": [
      "{'xp': 80.94, 'xc': 81.18393958547259, 'decision': 'Rechace H0'}\n"
     ]
    },
    {
     "data": {
      "text/plain": [
       "{'p_value': 0.04005915686381699, 'alpha': 0.05, 'decision': 'Rechace H0'}"
      ]
     },
     "execution_count": 5,
     "metadata": {},
     "output_type": "execute_result"
    },
    {
     "data": {
      "image/png": "[encoded data removed]",
      "text/plain": [
       "<Figure size 576x432 with 1 Axes>"
      ]
     },
     "metadata": {
      "needs_background": "light"
     },
     "output_type": "display_data"
    }
   ],
   "source": [
    "n = 25\n",
    "x_bar = 80.94  # media muestral x barra\n",
    "mu = 85  # H_0, hipótesis nula\n",
    "s = 11.6  # desviacioón poblacional conocida sigma\n",
    "se = s / np.sqrt(n)\n",
    "xp = x_bar  # estadístico de prueba\n",
    "\n",
    "# Graficamos la distribución X_bar\n",
    "x = np.linspace(mu-4*se, mu+4*se, 200)  # x a +- 4 desviaciones de la media\n",
    "pdfx = norm.pdf(x, mu, se)  # zx = N(0,1)\n",
    "plt.figure(figsize=(8,6))\n",
    "plt.plot(x, pdfx)\n",
    "\n",
    "# Graficamos punto crítico y sombreamos región crítica\n",
    "# cola superior de acuerdo a la hipótesis alternativa H1\n",
    "alpha = 0.05  # nivel de significancia\n",
    "xc = norm.ppf(alpha, mu, se)  # punto crítico, cola inferior z(alpha)\n",
    "\n",
    "p_value = norm.cdf(xp, mu, se)  # valor p: P(X<xp) = F(xp)\n",
    "\n",
    "x_cola_inferior = np.linspace(mu-4*se, xc)  # cola inferior\n",
    "plt.fill_between(x_cola_inferior, norm.pdf(x_cola_inferior, mu, se), \n",
    "                 color=\"orange\", alpha=.4, \n",
    "                 label=r\"Región crítica (rechazar $H_0$)\")\n",
    "plt.vlines(xc, 0, norm.pdf(xc), 'r')\n",
    "plt.plot(xc, 0, 'Dr', label=r\"Punto crítico $x_c$\")\n",
    "plt.text(xc, 0, r'$x_c=$'+str(np.round(xc, 4)), color=\"red\")\n",
    "\n",
    "# p-value\n",
    "x_p_value = np.linspace(mu-4*se, xp, mu, se)  # cola inferior\n",
    "plt.fill_between(x_p_value, norm.pdf(x_p_value, mu, se), \n",
    "                 color=\"green\", alpha=.4, \n",
    "                 label=r\"$p$-value\")\n",
    "plt.vlines(xp, 0, norm.pdf(xp), 'g')\n",
    "plt.plot(xp, 0, 'Pg', label=r\"Punto de prueba $x_p$\")\n",
    "plt.text(xp-1, 0.015, r'$x_p=$'+str(np.round(xp, 4)), color=\"green\")\n",
    "plt.xlabel(r'$\\bar{X}$')\n",
    "l = plt.legend()\n",
    "\n",
    "Conclusion = {False: \"No rechace H0\", True: \"Rechace H0\"}  # Para xp<xc\n",
    "print({'xp': xp, 'xc': xc, 'decision': Conclusion[xp<xc]})\n",
    "{'p_value': p_value, 'alpha': alpha, 'decision': Conclusion[p_value<alpha]}"
   ]
  },
  {
   "cell_type": "markdown",
   "metadata": {},
   "source": [
    "<img align=\"left\" width=\"80px\" src=\"https://raw.githubusercontent.com/marsgr6/r-scripts/master/imgs/activity.png\">\n",
    "\n",
    "<br/>\n",
    "\n",
    "### Experimente\n",
    "<br/>\n",
    "\n",
    "- Calcule el $p$-value para el ejercicio de ensamblaje, tenga en cuenta que es un cálculo por la cola superior. \n",
    "  - ¿Cuál es la conclusión usando el $p$-value?\n",
    "  \n",
    "- Para el ejercicio de ensamblaje, exprese la solución en términos de $\\bar{X}$, tenga en cuenta que es un cálculo por la cola superior. \n",
    "  - ¿Cuál es la conclusión?"
   ]
  },
  {
   "cell_type": "markdown",
   "metadata": {},
   "source": [
    "<a id=\"beta\"></a>\n",
    "### Error de Tipo I ($\\alpha$), Tipo II ($\\beta$) y poder de la prueba (power=$1-\\beta$)\n",
    "\n",
    "[Volver al índice](#toc)\n",
    "\n",
    "<table class=\"issArticleTable\" style=\"width: 550px; height: 164px;\" border=\"1\" width=\"481\" cellspacing=\"2\" cellpadding=\"2\" align=\"center\"><tbody><tr><td style=\"text-align:center\" class=\"issCaptionCell\" colspan=\"3\" bgcolor=\"#cccccc\"><strong></strong> <strong>Posibles Resultados de una prueba de hipótesis</strong></td>\n",
    "</tr><tr><td bgcolor=\"#cccccc\"><strong></strong></td>\n",
    "<td colspan=\"2\" bgcolor=\"#cccccc\" style=\"text-align:center\">\n",
    "<strong>Decisiones</strong>\n",
    "</td>\n",
    "</tr><tr><td><strong>Realidad</strong></td>\n",
    "<td style=\"text-align:center\">No rechazar $H_0$</td>\n",
    "<td style=\"text-align:center\">\n",
    "Rechazar $H_0$\n",
    "</td>\n",
    "</tr>\n",
    "<tr><td>$H_0$ es verdad</td>\n",
    "<td style=\"text-align:center\">Buena decisión ($P=1-\\alpha$)</td>\n",
    "<td style=\"text-align:center\">\n",
    "Error de tipo I ($P=\\alpha$)\n",
    "</td>\n",
    "</tr>\n",
    " <tr><td valign=\"top\">$H_0$ es falsa</td>\n",
    "<td style=\"text-align:center\">\n",
    "Error de Tipo II ($P=\\beta$)\n",
    "</td>\n",
    "<td style=\"text-align:center\">\n",
    "Buena decisión ($P=1 – \\beta$, es el poder de la prueba.)\n",
    "</td>\n",
    "</tr></tbody></table>\n",
    "\n",
    "### Ejemplo\n",
    "\n",
    "- Suponga que vamos a realizar una muestra aleatoria de tamaño $n=36$ de una población distribuida $X \\sim N(\\mu, \\sigma^2)$, donde $\\sigma=21$ y $\\mu$ es desconocida.\n",
    "\n",
    "- Vamos a probar:\n",
    "\n",
    "$$H_0: \\mu_0=50$$\n",
    "$$H_1: \\mu_0 < 50$$\n",
    "\n",
    "- Con un nivel de significancia de $\\alpha=0.09$. \n",
    "\n",
    "- Si en realidad $\\mu=40$, cual es la $P(\\text{Error de tipo II})$. \n",
    "\n",
    "$$P(\\text{Error de tipo II}) = P(\\text{No rechazar } H_0 | \\mu=40).$$\n",
    "\n",
    "  - Vea: https://www.youtube.com/watch?v=BJZpx7Mdde4\n",
    "  \n",
    "- No es dificil calcular $\\beta=P(\\text{Error de tipo II}) = P(\\text{No rechazar } H_0 | \\mu=40)$ y el poder de la prueba (power=$1-\\beta$), en la figura abajo. \n",
    "\n",
    "![](https://raw.githubusercontent.com/marsgr6/r-scripts/master/imgs/alfa_beta_power.png)\n",
    "\n",
    "```Python\n",
    "{'beta': 0.06471065809896848,\n",
    " 'power': 0.9352893419010315}\n",
    "```\n",
    "\n",
    "- Piénselo un poco y luego analice el código a continuación. \n",
    "  - Vea una versión interactiva en: https://en-interactive.herokuapp.com/#/9/1"
   ]
  },
  {
   "cell_type": "code",
   "execution_count": 6,
   "metadata": {},
   "outputs": [
    {
     "data": {
      "text/plain": [
       "{'Valor crítico': 45.30735738208424,\n",
       " 'beta': 0.06471065809896848,\n",
       " 'power': 0.9352893419010315}"
      ]
     },
     "execution_count": 6,
     "metadata": {},
     "output_type": "execute_result"
    },
    {
     "data": {
      "image/png": "[encoded data removed]",
      "text/plain": [
       "<Figure size 576x432 with 1 Axes>"
      ]
     },
     "metadata": {
      "needs_background": "light"
     },
     "output_type": "display_data"
    }
   ],
   "source": [
    "n = 36\n",
    "mu = 50  # H_A, hipótesis nula\n",
    "s = 21  # desviacioón poblacional conocida sigma\n",
    "se = s / np.sqrt(n)\n",
    "\n",
    "# Graficamos la distribución X\n",
    "x = np.linspace(mu-4*se, mu+4*se, 200)  # x a +- 4 desviaciones de la media\n",
    "pdfx = norm.pdf(x, mu, se)  # zx = N(0,1)\n",
    "plt.figure(figsize=(8,6))\n",
    "plt.plot(x, pdfx)\n",
    "\n",
    "# Graficamos punto crítico y sombreamos región crítica\n",
    "# cola superior de acuerdo a la hipótesis alternativa H1\n",
    "alpha = 0.09  # nivel de significancia\n",
    "xc = norm.ppf(alpha, mu, se)  # punto crítico, cola inferior z(alpha)\n",
    "\n",
    "x_alpha = np.linspace(mu-4*se, xc)  # cola inferior\n",
    "plt.fill_between(x_alpha, norm.pdf(x_alpha, mu, se), \n",
    "                 color=\"orange\", alpha=.5, hatch='/',\n",
    "                 label=r\"$\\alpha$\")\n",
    "plt.vlines(mu, 0, norm.pdf(mu, mu, se), \n",
    "           linestyles=\"dashed\", color=\"cornflowerblue\", label=r\"$\\mu=$\"+str(mu))\n",
    "\n",
    "mu1 = 40  # H_B, realidad\n",
    "\n",
    "# Graficamos la distribución X\n",
    "x = np.linspace(mu1-4*se, mu1+4*se, 200)  # x a +- 4 desviaciones de la media\n",
    "pdfx = norm.pdf(x, mu1, se)  # zx = N(0,1)\n",
    "plt.plot(x, pdfx, 'g')\n",
    "plt.vlines(xc, 0, norm.pdf(xc, mu1, se), color=\"g\")\n",
    "x_beta = np.linspace(xc, mu1+4*se)  # beta\n",
    "plt.fill_between(x_beta, norm.pdf(x_beta, mu1, se), \n",
    "                 color=\"green\", alpha=.3,\n",
    "                 label=r\"$\\beta$\")\n",
    "plt.vlines(mu1, 0, norm.pdf(mu1, mu1, se), \n",
    "           linestyles=\"dashed\", color=\"green\", label=r\"$\\mu=$\"+str(mu1))\n",
    "\n",
    "x_power = np.linspace(mu1-4*se, xc)  # power\n",
    "plt.fill_between(x_power, norm.pdf(x_power, mu1, se), \n",
    "                 color=\"cyan\", alpha=.2, hatch='o',\n",
    "                 label=r\"$power$\")\n",
    "\n",
    "plt.xlabel(r'$\\bar{X}$')\n",
    "l = plt.legend()\n",
    "beta = 1-norm.cdf(xc, mu1, se) \n",
    "{\"Valor crítico\": xc, \"beta\": beta, \"power\": 1-beta}"
   ]
  },
  {
   "cell_type": "markdown",
   "metadata": {},
   "source": [
    "<a id=\"pht\"></a>\n",
    "### Prueba de hipótesis para la media cuando se muestrea una población normal con varianza desconocida\n",
    "\n",
    "[Volver al índice](#toc)\n",
    "\n",
    "**Paso 1:** Identificar el parámetro a evaluar: $\\mu$ \n",
    "\n",
    "**Paso 2:** Formular la prueba de hipótesis.\n",
    "\n",
    "| <div style=\"width:100px\">Cola inferior</div>      | <div style=\"width:100px\">Cola superior</div> | <div style=\"width:100px\">Dos colas</div>     |\n",
    "| :---:        |    :----:   |          :---: |\n",
    "| $H_0:\\ \\mu = \\mu_0$     | $H_0:\\ \\mu = \\mu_0$      | $H_0:\\ \\mu = \\mu_0$  |\n",
    "| $H_1:\\ \\mu < \\mu_0$  | $H_1:\\ \\mu > \\mu_0$        | $H_0:\\ \\mu \\neq \\mu_0$     |\n",
    "\n",
    "**Paso 3:** Definir supuestos para seleccionar el estadístico de prueba.\n",
    "- Vea el intervalo de confianza equivalente.\n",
    "  1. Variable aleatoria (población): $X \\sim N(\\mu, \\sigma^2)$.\n",
    "  2. Parámetros poblacionales: $\\mu$ conocida ($H_0$), $\\sigma^2$ desconocida. \n",
    "  3. Muestra aleatoria: $\\bar{X}, n, s$, calculables a partir de la muestra aleatoria. \n",
    "\n",
    "**Paso 4:** Calcular el estimador apropiado para el parámetro y el estadístico de prueba $z_p$, bajo $H_0$.\n",
    "\n",
    "$$\\hat{\\mu} = \\bar{X},\\quad t_p = \\frac{\\bar{X}-\\mu_0}{s / \\sqrt{n}} \\sim t_{n-1}.$$\n",
    "\n",
    "**Paso 5:** Graficar la distribución del estadístico, identificar el punto crítico $t_c(\\alpha)$ y la región crítica de acuerdo al **nivel de significancia** $\\alpha$. \n",
    "\n",
    "**Paso 6:** Calcular y ubicar el estadístico de prueba $t_p$ en la gráfica de la distribución. \n",
    "\n",
    "**Paso 7:** Concluir\n",
    "\n",
    "| <div style=\"width:120px\">Cola inferior</div>      | <div style=\"width:120px\">Cola superior</div> | <div style=\"width:220px\">Dos colas</div>     |\n",
    "| :---:        |    :----:   |          :---: |\n",
    "| Recharzar $H_0$ cuando   | Recharzar $H_0$ cuando  | Recharzar $H_0$ cuando  |\n",
    "| $t_p < t_{(\\alpha, n-1)}$  | $t_p > t_{(1-\\alpha, n-1)}$ | $t_p < t_{(\\alpha/2, n-1)}$ o $t_p > t_{(1-\\alpha/2,n-1)}$    |\n",
    "\n",
    "\n",
    "### Ejemplo\n",
    "\n",
    "Hemos recolectado una muestra aleatoria de 31 barras energéticas de varias tiendas diferentes para representar la población de barras energéticas disponibles para el consumidor general. Las etiquetas de las barras afirman que cada barra contiene 20 gramos de proteína.\n",
    "\n",
    "- Vea la [fuente](https://www.jmp.com/en_sg/statistics-knowledge-portal/t-test/one-sample-t-test.html).\n",
    "\n",
    "```Python\n",
    "muestra = np.array([20.70,27.46,22.15,19.85,21.29,24.75,\n",
    "                    20.75,22.91,25.34,20.33,21.54,21.08,\n",
    "                    22.14,19.56,21.10,18.04,24.12,19.95,\n",
    "                    19.72,18.28,16.26,17.46,20.53,22.12,\n",
    "                    25.06,22.44,19.08,19.88,21.39,22.33,25.79\n",
    "                   ])\n",
    "```\n",
    "\n",
    "- Vamos a probar:\n",
    "\n",
    "$$H_0: \\mu_0=20$$\n",
    "$$H_1: \\mu_0 \\neq 20$$\n",
    "\n",
    "- Con un nivel de significancia de $\\alpha=0.05$. "
   ]
  },
  {
   "cell_type": "code",
   "execution_count": 7,
   "metadata": {},
   "outputs": [
    {
     "name": "stdout",
     "output_type": "stream",
     "text": [
      "{'tp': 3.0668316352840814, 'tcr': 2.0422724563012373, 'decision': 'Rechace H0'}\n",
      "{'p_value': 0.0045526210606354756, 'alpha': 0.05, 'decision': 'Rechace H0'}\n"
     ]
    },
    {
     "data": {
      "text/plain": [
       "Ttest_1sampResult(statistic=3.0668316352840814, pvalue=0.004552621060635394)"
      ]
     },
     "execution_count": 7,
     "metadata": {},
     "output_type": "execute_result"
    },
    {
     "data": {
      "image/png": "[encoded data removed]",
      "text/plain": [
       "<Figure size 576x432 with 1 Axes>"
      ]
     },
     "metadata": {
      "needs_background": "light"
     },
     "output_type": "display_data"
    }
   ],
   "source": [
    "from scipy.stats import t\n",
    "from scipy.stats import ttest_1samp\n",
    "\n",
    "muestra = np.array([20.70,27.46,22.15,19.85,21.29,24.75,\n",
    "                    20.75,22.91,25.34,20.33,21.54,21.08,\n",
    "                    22.14,19.56,21.10,18.04,24.12,19.95,\n",
    "                    19.72,18.28,16.26,17.46,20.53,22.12,\n",
    "                    25.06,22.44,19.08,19.88,21.39,22.33,25.79\n",
    "                   ])\n",
    "\n",
    "n = len(muestra)  # tamaño de muestra\n",
    "df = n - 1  # grados de libertad\n",
    "mu = 20  # media poblacional H_0\n",
    "x_bar = muestra.mean()  # media muestral\n",
    "s = muestra.std(ddof=1)  # desviaon desviación la muestra\n",
    "tp = (x_bar - mu) / (s/np.sqrt(n))  # estadístico de prueba tp\n",
    "alpha = 0.05\n",
    "\n",
    "x = np.linspace(-4, 4, 200)\n",
    "tx = t.pdf(x, df)  # pdf de t\n",
    "\n",
    "plt.figure(figsize=(8,6))\n",
    "plt.plot(x, tx)  # pdf\n",
    "\n",
    "# Región crítica a partir de alpha\n",
    "# Note que la prueba es de dos colas\n",
    "tc_l = t.ppf(alpha/2, df)  # cola inferior alpha/2\n",
    "tc_r = t.ppf(1-alpha/2, df)  # cola superior 1-alpha/2\n",
    "\n",
    "# cola izquierda area: alpha/2\n",
    "x_l = np.linspace(-4, tc_l)\n",
    "plt.fill_between(x_l, t.pdf(x_l, df), color='orange', alpha=0.5)\n",
    "plt.vlines(tc_l, 0, t.pdf(tc_l, df), color='red')\n",
    "plt.plot(tc_l, 0, 'Dr')\n",
    "\n",
    "# cola derecha area: alpha/2\n",
    "x_r = np.linspace(tc_r, 4)\n",
    "plt.fill_between(x_r, t.pdf(x_r, df), color='orange', \n",
    "                 alpha=0.5, label=r'Región de rechazo: $\\alpha/2+\\alpha/2$')\n",
    "plt.vlines(tc_r, 0, t.pdf(tc_r, df), color='red')\n",
    "plt.plot(tc_r, 0, 'Dr')\n",
    "\n",
    "plt.plot(tp, 0, 'Pg', label=r'Punto de preuba $t_p$')\n",
    "plt.legend()\n",
    "\n",
    "p_value = 1-t.cdf(tp, df)\n",
    "p_value = p_value*2  # multiplicamos por 2 ya que es un pruba de 2 colas\n",
    "\n",
    "Conclusion = {False: \"No rechace H0\", True: \"Rechace H0\"}  # Para xp<xc\n",
    "print({'tp': tp, 'tcr': tc_r, 'decision': Conclusion[tp>tc_r]})\n",
    "print({'p_value': p_value, 'alpha': alpha, 'decision': Conclusion[p_value<alpha]})\n",
    "\n",
    "# Python implementa la prueba t para una muestra\n",
    "# prueba de dos colas alternative='two-sided'\n",
    "# alternative: {'two-sided', 'less', 'greater'}\n",
    "ttest_1samp(muestra, popmean=20, alternative='two-sided')"
   ]
  },
  {
   "cell_type": "markdown",
   "metadata": {},
   "source": [
    "<a id=\"pairedtest\"></a>\n",
    "### Prueba t para datos pareados\n",
    "\n",
    "[Volver al índice](#toc)\n",
    "\n",
    "- Toda nuestra teoría requiere la independencia de las medidas, hemos presentado ya como solventar esto para datos pareados cuando construimos el intervalo de confianza equivalente para\n",
    "$$D = X - Y.$$ \n",
    "Lo conseguimos restando las dos medidas considerando las medidas independientes. \n",
    "\n",
    "- Entonces, nuestra hipótesis nula contempla una única media, que denotaremos como $\\mu_D$, \n",
    "la media de las diferencias:\n",
    "\n",
    "$$H_0: \\mu_D = \\mu_X - \\mu_Y = 0$$\n",
    "\n",
    "- Ya podemos usar la prueba t de una media para realizar la prueba de hipótesis. En esta situación, nuestras medidas son diferencias $d_i$ cuya media es $\\bar{d}$ y su desviación estandar es $s_D$. \n",
    "\n",
    "- Formulación:\n",
    "  \n",
    "| <div style=\"width:100px\">Cola inferior</div>      | <div style=\"width:100px\">Cola superior</div> | <div style=\"width:100px\">Dos colas</div>     |\n",
    "| :---:        |    :----:   |          :---: |\n",
    "| $H_0:\\ \\mu_D = 0$     | $H_0:\\ \\mu_D = 0$      | $H_0:\\ \\mu_D = 0$  |\n",
    "| $H_1:\\ \\mu_D < 0$  | $H_1:\\ \\mu_D > 0$        | $H_0:\\ \\mu_D \\neq 0$ |\n",
    "\n",
    "- Estadístico de prueba:\n",
    "\n",
    "$$t_p=\\frac{\\bar{d}}{s_D / \\sqrt{n}} \\sim t_{n-1}.$$\n",
    "\n",
    "- Conclusión:\n",
    "\n",
    "| <div style=\"width:120px\">Cola inferior</div>      | <div style=\"width:120px\">Cola superior</div> | <div style=\"width:240px\">Dos colas</div>     |\n",
    "| :---:        |    :----:   |          :---: |\n",
    "| Recharzar $H_0$ cuando   | Recharzar $H_0$ cuando  | Recharzar $H_0$ cuando  |\n",
    "| $t_p < t_{(\\alpha, n-1)}$  | $t_p > t_{(1-\\alpha, n-1)}$ | $t_p < t_{(\\alpha/2, n-1)}$ o $t_p > t_{(1-\\alpha/2,n-1)}$    |\n",
    "\n",
    "\n",
    "\n",
    "### Ejemplo\n",
    "\n",
    "Los participantes de un estudio usaron margarina Clora durante 4 semanas. Su colesterol (en mmol/L) se midió antes de la dieta especial, y después de 4 semanas. Lleve a cabo una prueba t pareada para comprobar si el uso de margarina Clora durante 4 semanas cambia los niveles de colesterol.\n",
    "\n",
    "- Vea el siguiente [enlace](https://www.sheffield.ac.uk/polopoly_fs/1.885203!/file/96_Paired_ttest.pdf)\n",
    "\n",
    "- Formulación: \n",
    "\n",
    "$$H_0: \\mu_D = 0$$\n",
    "$$H_0: \\mu_D \\neq 0$$\n",
    "\n",
    "- Nivel de significancia: $\\alpha=0.01$."
   ]
  },
  {
   "cell_type": "code",
   "execution_count": 8,
   "metadata": {},
   "outputs": [
    {
     "data": {
      "text/html": [
       "<div>\n",
       "<style scoped>\n",
       "    .dataframe tbody tr th:only-of-type {\n",
       "        vertical-align: middle;\n",
       "    }\n",
       "\n",
       "    .dataframe tbody tr th {\n",
       "        vertical-align: top;\n",
       "    }\n",
       "\n",
       "    .dataframe thead th {\n",
       "        text-align: right;\n",
       "    }\n",
       "</style>\n",
       "<table border=\"1\" class=\"dataframe\">\n",
       "  <thead>\n",
       "    <tr style=\"text-align: right;\">\n",
       "      <th></th>\n",
       "      <th>Before</th>\n",
       "      <th>After4weeks</th>\n",
       "      <th>diferencia</th>\n",
       "    </tr>\n",
       "    <tr>\n",
       "      <th>Subject</th>\n",
       "      <th></th>\n",
       "      <th></th>\n",
       "      <th></th>\n",
       "    </tr>\n",
       "  </thead>\n",
       "  <tbody>\n",
       "    <tr>\n",
       "      <th>1</th>\n",
       "      <td>6.42</td>\n",
       "      <td>5.83</td>\n",
       "      <td>-0.59</td>\n",
       "    </tr>\n",
       "    <tr>\n",
       "      <th>2</th>\n",
       "      <td>6.76</td>\n",
       "      <td>6.20</td>\n",
       "      <td>-0.56</td>\n",
       "    </tr>\n",
       "    <tr>\n",
       "      <th>3</th>\n",
       "      <td>6.56</td>\n",
       "      <td>5.83</td>\n",
       "      <td>-0.73</td>\n",
       "    </tr>\n",
       "    <tr>\n",
       "      <th>4</th>\n",
       "      <td>4.80</td>\n",
       "      <td>4.27</td>\n",
       "      <td>-0.53</td>\n",
       "    </tr>\n",
       "    <tr>\n",
       "      <th>5</th>\n",
       "      <td>8.43</td>\n",
       "      <td>7.71</td>\n",
       "      <td>-0.72</td>\n",
       "    </tr>\n",
       "    <tr>\n",
       "      <th>6</th>\n",
       "      <td>7.49</td>\n",
       "      <td>7.12</td>\n",
       "      <td>-0.37</td>\n",
       "    </tr>\n",
       "    <tr>\n",
       "      <th>7</th>\n",
       "      <td>8.05</td>\n",
       "      <td>7.25</td>\n",
       "      <td>-0.80</td>\n",
       "    </tr>\n",
       "    <tr>\n",
       "      <th>8</th>\n",
       "      <td>5.05</td>\n",
       "      <td>4.63</td>\n",
       "      <td>-0.42</td>\n",
       "    </tr>\n",
       "    <tr>\n",
       "      <th>9</th>\n",
       "      <td>5.77</td>\n",
       "      <td>5.31</td>\n",
       "      <td>-0.46</td>\n",
       "    </tr>\n",
       "    <tr>\n",
       "      <th>10</th>\n",
       "      <td>3.91</td>\n",
       "      <td>3.70</td>\n",
       "      <td>-0.21</td>\n",
       "    </tr>\n",
       "    <tr>\n",
       "      <th>11</th>\n",
       "      <td>6.77</td>\n",
       "      <td>6.15</td>\n",
       "      <td>-0.62</td>\n",
       "    </tr>\n",
       "    <tr>\n",
       "      <th>12</th>\n",
       "      <td>6.44</td>\n",
       "      <td>5.59</td>\n",
       "      <td>-0.85</td>\n",
       "    </tr>\n",
       "    <tr>\n",
       "      <th>13</th>\n",
       "      <td>6.17</td>\n",
       "      <td>5.56</td>\n",
       "      <td>-0.61</td>\n",
       "    </tr>\n",
       "    <tr>\n",
       "      <th>14</th>\n",
       "      <td>7.67</td>\n",
       "      <td>7.11</td>\n",
       "      <td>-0.56</td>\n",
       "    </tr>\n",
       "    <tr>\n",
       "      <th>15</th>\n",
       "      <td>7.34</td>\n",
       "      <td>6.84</td>\n",
       "      <td>-0.50</td>\n",
       "    </tr>\n",
       "    <tr>\n",
       "      <th>16</th>\n",
       "      <td>6.85</td>\n",
       "      <td>6.40</td>\n",
       "      <td>-0.45</td>\n",
       "    </tr>\n",
       "    <tr>\n",
       "      <th>17</th>\n",
       "      <td>5.13</td>\n",
       "      <td>4.52</td>\n",
       "      <td>-0.61</td>\n",
       "    </tr>\n",
       "    <tr>\n",
       "      <th>18</th>\n",
       "      <td>5.73</td>\n",
       "      <td>5.13</td>\n",
       "      <td>-0.60</td>\n",
       "    </tr>\n",
       "  </tbody>\n",
       "</table>\n",
       "</div>"
      ],
      "text/plain": [
       "         Before  After4weeks  diferencia\n",
       "Subject                                 \n",
       "1          6.42         5.83       -0.59\n",
       "2          6.76         6.20       -0.56\n",
       "3          6.56         5.83       -0.73\n",
       "4          4.80         4.27       -0.53\n",
       "5          8.43         7.71       -0.72\n",
       "6          7.49         7.12       -0.37\n",
       "7          8.05         7.25       -0.80\n",
       "8          5.05         4.63       -0.42\n",
       "9          5.77         5.31       -0.46\n",
       "10         3.91         3.70       -0.21\n",
       "11         6.77         6.15       -0.62\n",
       "12         6.44         5.59       -0.85\n",
       "13         6.17         5.56       -0.61\n",
       "14         7.67         7.11       -0.56\n",
       "15         7.34         6.84       -0.50\n",
       "16         6.85         6.40       -0.45\n",
       "17         5.13         4.52       -0.61\n",
       "18         5.73         5.13       -0.60"
      ]
     },
     "execution_count": 8,
     "metadata": {},
     "output_type": "execute_result"
    }
   ],
   "source": [
    "# index_col=0, indica que los datos contienen una columna (la 0) de índice\n",
    "# el índice es un valor único \n",
    "# ejemplo: la cédula o código único del participante en el estudio\n",
    "datos = pd.read_csv(\"data/colesterol.csv\", index_col=0)\n",
    "datos['diferencia'] =  datos['After4weeks'] - datos['Before']\n",
    "datos"
   ]
  },
  {
   "cell_type": "code",
   "execution_count": 9,
   "metadata": {},
   "outputs": [
    {
     "data": {
      "text/html": [
       "<div>\n",
       "<style scoped>\n",
       "    .dataframe tbody tr th:only-of-type {\n",
       "        vertical-align: middle;\n",
       "    }\n",
       "\n",
       "    .dataframe tbody tr th {\n",
       "        vertical-align: top;\n",
       "    }\n",
       "\n",
       "    .dataframe thead th {\n",
       "        text-align: right;\n",
       "    }\n",
       "</style>\n",
       "<table border=\"1\" class=\"dataframe\">\n",
       "  <thead>\n",
       "    <tr style=\"text-align: right;\">\n",
       "      <th></th>\n",
       "      <th>Before</th>\n",
       "      <th>After4weeks</th>\n",
       "      <th>diferencia</th>\n",
       "    </tr>\n",
       "  </thead>\n",
       "  <tbody>\n",
       "    <tr>\n",
       "      <th>count</th>\n",
       "      <td>18.000000</td>\n",
       "      <td>18.000000</td>\n",
       "      <td>18.000000</td>\n",
       "    </tr>\n",
       "    <tr>\n",
       "      <th>mean</th>\n",
       "      <td>6.407778</td>\n",
       "      <td>5.841667</td>\n",
       "      <td>-0.566111</td>\n",
       "    </tr>\n",
       "    <tr>\n",
       "      <th>std</th>\n",
       "      <td>1.191087</td>\n",
       "      <td>1.123352</td>\n",
       "      <td>0.155569</td>\n",
       "    </tr>\n",
       "    <tr>\n",
       "      <th>min</th>\n",
       "      <td>3.910000</td>\n",
       "      <td>3.700000</td>\n",
       "      <td>-0.850000</td>\n",
       "    </tr>\n",
       "    <tr>\n",
       "      <th>25%</th>\n",
       "      <td>5.740000</td>\n",
       "      <td>5.175000</td>\n",
       "      <td>-0.617500</td>\n",
       "    </tr>\n",
       "    <tr>\n",
       "      <th>50%</th>\n",
       "      <td>6.500000</td>\n",
       "      <td>5.830000</td>\n",
       "      <td>-0.575000</td>\n",
       "    </tr>\n",
       "    <tr>\n",
       "      <th>75%</th>\n",
       "      <td>7.217500</td>\n",
       "      <td>6.730000</td>\n",
       "      <td>-0.470000</td>\n",
       "    </tr>\n",
       "    <tr>\n",
       "      <th>max</th>\n",
       "      <td>8.430000</td>\n",
       "      <td>7.710000</td>\n",
       "      <td>-0.210000</td>\n",
       "    </tr>\n",
       "  </tbody>\n",
       "</table>\n",
       "</div>"
      ],
      "text/plain": [
       "          Before  After4weeks  diferencia\n",
       "count  18.000000    18.000000   18.000000\n",
       "mean    6.407778     5.841667   -0.566111\n",
       "std     1.191087     1.123352    0.155569\n",
       "min     3.910000     3.700000   -0.850000\n",
       "25%     5.740000     5.175000   -0.617500\n",
       "50%     6.500000     5.830000   -0.575000\n",
       "75%     7.217500     6.730000   -0.470000\n",
       "max     8.430000     7.710000   -0.210000"
      ]
     },
     "execution_count": 9,
     "metadata": {},
     "output_type": "execute_result"
    }
   ],
   "source": [
    "datos.describe()"
   ]
  },
  {
   "cell_type": "code",
   "execution_count": 10,
   "metadata": {},
   "outputs": [
    {
     "data": {
      "text/plain": [
       "Ttest_relResult(statistic=-15.438872730914381, pvalue=1.9575345773928476e-11)"
      ]
     },
     "execution_count": 10,
     "metadata": {},
     "output_type": "execute_result"
    }
   ],
   "source": [
    "# Python implementa este test\n",
    "from scipy.stats import ttest_rel \n",
    "\n",
    "# alternative: {'two-sided', 'less', 'greater'}\n",
    "ttest_rel(datos['After4weeks'], datos['Before'], alternative='two-sided')"
   ]
  },
  {
   "cell_type": "markdown",
   "metadata": {},
   "source": [
    "- Un valor $p$ muy bajo indica evidencia en contra de la hipótesis nula. \n",
    "$$p-value < \\alpha.$$\n",
    "\n",
    "- Hay evidencia significativa (p-value < 0.001) de un cambio en los niveles de colesterol. \n",
    "  - En promedio, los participantes redujeron su colesterol en 0.5661 mmol/L."
   ]
  },
  {
   "cell_type": "markdown",
   "metadata": {},
   "source": [
    "Prueba de hipótesis para la diferencia de medias cuando se muestrean dos poblaciones normales independientes con varianzas desconocidas pero iguales"
   ]
  },
  {
   "cell_type": "markdown",
   "metadata": {},
   "source": [
    "<a id=\"varnotequal\"></a>\n",
    "### Prueba de hipótesis para la diferencia de medias cuando se muestrean dos poblaciones normales independientes con varianzas desconocidas pero iguales\n",
    "\n",
    "[Volver al índice](#toc)\n",
    "\n",
    "- Formulación:\n",
    "  \n",
    "| <div style=\"width:150px\">Cola inferior</div>      | <div style=\"width:150px\">Cola superior</div> | <div style=\"width:150px\">Dos colas</div>     |\n",
    "| :---:        |    :----:   |          :---: |\n",
    "| $H_0:\\ \\mu_X - \\mu_Y = a$ | $H_0:\\ \\mu_X - \\mu_Y = a$ | $H_0:\\ \\mu_X - \\mu_Y = a$    |\n",
    "| $H_1:\\ \\mu_X - \\mu_Y < a$ | $H_1:\\ \\mu_X - \\mu_Y > a$ | $H_0:\\ \\mu_X - \\mu_Y \\neq a$ |\n",
    "\n",
    "- Estadístico de prueba:\n",
    "\n",
    "$$t_p = \\frac{\\bar{X} - \\bar{Y} - (\\mu_X - \\mu_Y)}{s_p \\sqrt{\\frac{1}{n_X} + \\frac{1}{n_Y}} } \\sim t_{(n_X+n_Y-2)}, \\quad s_p=\\sqrt{ \\frac{s^2_X(n_X - 1) + s^2_Y(n_Y - 1)}{n_X + n_Y - 2} }$$\n",
    "\n",
    "- Conclusión:\n",
    "\n",
    "| <div style=\"width:130px\">Cola inferior</div>      | <div style=\"width:130px\">Cola superior</div> | <div style=\"width:260px\">Dos colas</div>     |\n",
    "| :---:        |    :----:   |          :---: |\n",
    "| Recharzar $H_0$ cuando   | Recharzar $H_0$ cuando  | Recharzar $H_0$ cuando  |\n",
    "| $t_p < t_{(\\alpha, n_X+n_Y-2)}$  | $t_p > t_{(1-\\alpha, n_X+n_Y-2)}$ | $t_p < t_{(\\alpha/2, n_X+n_Y-2)}$ o $t_p > t_{(1-\\alpha/2,n_X+n_Y-2)}$    |\n",
    "\n",
    "- Ejemplo: \n",
    "\n",
    "Una forma de medir el estado físico de una persona es medir su porcentaje de grasa corporal. Los porcentajes promedio de grasa corporal varían según la edad, pero según algunas pautas, el rango normal para los hombres es del 15 al 20% de grasa corporal y el rango normal para las mujeres es del 20 al 25% de grasa corporal.\n",
    "\n",
    "Nuestros datos de muestra son de un grupo de hombres y mujeres que realizan ejercicio en un gimnasio tres veces por semana durante un año. El entrenador midió la grasa corporal. La siguiente tabla muestra los datos.\n",
    "\n",
    "- Vea la [fuente](https://www.jmp.com/en_ch/statistics-knowledge-portal/t-test/two-sample-t-test.html).\n",
    "\n",
    "$$H_0: \\mu_{mujer} - \\mu_{hombre} = 0$$\n",
    "$$H_0: \\mu_{mujer} - \\mu_{hombre} \\neq 0$$\n",
    "\n",
    "- Nivel de significancia $\\alpha=0.05$."
   ]
  },
  {
   "cell_type": "code",
   "execution_count": 11,
   "metadata": {},
   "outputs": [
    {
     "data": {
      "text/html": [
       "<div>\n",
       "<style scoped>\n",
       "    .dataframe tbody tr th:only-of-type {\n",
       "        vertical-align: middle;\n",
       "    }\n",
       "\n",
       "    .dataframe tbody tr th {\n",
       "        vertical-align: top;\n",
       "    }\n",
       "\n",
       "    .dataframe thead tr th {\n",
       "        text-align: left;\n",
       "    }\n",
       "\n",
       "    .dataframe thead tr:last-of-type th {\n",
       "        text-align: right;\n",
       "    }\n",
       "</style>\n",
       "<table border=\"1\" class=\"dataframe\">\n",
       "  <thead>\n",
       "    <tr>\n",
       "      <th></th>\n",
       "      <th colspan=\"8\" halign=\"left\">Body_Fat_Percentages</th>\n",
       "    </tr>\n",
       "    <tr>\n",
       "      <th></th>\n",
       "      <th>count</th>\n",
       "      <th>mean</th>\n",
       "      <th>std</th>\n",
       "      <th>min</th>\n",
       "      <th>25%</th>\n",
       "      <th>50%</th>\n",
       "      <th>75%</th>\n",
       "      <th>max</th>\n",
       "    </tr>\n",
       "    <tr>\n",
       "      <th>Group</th>\n",
       "      <th></th>\n",
       "      <th></th>\n",
       "      <th></th>\n",
       "      <th></th>\n",
       "      <th></th>\n",
       "      <th></th>\n",
       "      <th></th>\n",
       "      <th></th>\n",
       "    </tr>\n",
       "  </thead>\n",
       "  <tbody>\n",
       "    <tr>\n",
       "      <th>Men</th>\n",
       "      <td>13.0</td>\n",
       "      <td>14.946154</td>\n",
       "      <td>6.842589</td>\n",
       "      <td>1.0</td>\n",
       "      <td>13.300</td>\n",
       "      <td>15.0</td>\n",
       "      <td>19.0</td>\n",
       "      <td>25.0</td>\n",
       "    </tr>\n",
       "    <tr>\n",
       "      <th>Women</th>\n",
       "      <td>10.0</td>\n",
       "      <td>22.290000</td>\n",
       "      <td>5.319660</td>\n",
       "      <td>12.0</td>\n",
       "      <td>21.175</td>\n",
       "      <td>22.5</td>\n",
       "      <td>25.3</td>\n",
       "      <td>30.0</td>\n",
       "    </tr>\n",
       "  </tbody>\n",
       "</table>\n",
       "</div>"
      ],
      "text/plain": [
       "      Body_Fat_Percentages                                                 \\\n",
       "                     count       mean       std   min     25%   50%   75%   \n",
       "Group                                                                       \n",
       "Men                   13.0  14.946154  6.842589   1.0  13.300  15.0  19.0   \n",
       "Women                 10.0  22.290000  5.319660  12.0  21.175  22.5  25.3   \n",
       "\n",
       "             \n",
       "        max  \n",
       "Group        \n",
       "Men    25.0  \n",
       "Women  30.0  "
      ]
     },
     "execution_count": 11,
     "metadata": {},
     "output_type": "execute_result"
    }
   ],
   "source": [
    "datos = pd.read_csv(\"data/body_fat.csv\")\n",
    "datos.groupby('Group').describe()"
   ]
  },
  {
   "cell_type": "code",
   "execution_count": 12,
   "metadata": {},
   "outputs": [
    {
     "data": {
      "image/png": "[encoded data removed]",
      "text/plain": [
       "<Figure size 864x432 with 2 Axes>"
      ]
     },
     "metadata": {
      "needs_background": "light"
     },
     "output_type": "display_data"
    }
   ],
   "source": [
    "fig, axes = plt.subplots(1, 2, figsize=(12,6))\n",
    "\n",
    "sns.kdeplot(data=datos, x=\"Body_Fat_Percentages\", hue=\"Group\", \n",
    "            fill=True, common_norm=True, alpha=0.2, ax=axes[0])\n",
    "\n",
    "b = sns.boxplot(data=datos, x=\"Group\", y=\"Body_Fat_Percentages\", ax=axes[1])"
   ]
  },
  {
   "cell_type": "code",
   "execution_count": 13,
   "metadata": {},
   "outputs": [
    {
     "data": {
      "text/plain": [
       "(Ttest_indResult(statistic=2.799960442832919, pvalue=0.010730607904197957),\n",
       " 'Diferencia',\n",
       " 7.343846153846153)"
      ]
     },
     "execution_count": 13,
     "metadata": {},
     "output_type": "execute_result"
    }
   ],
   "source": [
    "from scipy.stats import ttest_ind\n",
    "\n",
    "# filtramos datos\n",
    "hombres = datos[datos['Group']=='Men']['Body_Fat_Percentages']\n",
    "mujeres = datos[datos['Group']=='Women']['Body_Fat_Percentages']\n",
    "\n",
    "mx = mujeres.mean()\n",
    "my = hombres.mean()\n",
    "\n",
    "# Asumimos varianzas iguales equal_var=True\n",
    "# y prueba de dos colas alternative='two-sided'\n",
    "# alternative: {'two-sided', 'less', 'greater'}\n",
    "ttest_ind(mujeres, hombres, \n",
    "          equal_var=True, alternative='two-sided'), \"Diferencia\", mx - my"
   ]
  },
  {
   "cell_type": "markdown",
   "metadata": {},
   "source": [
    "- Dado que el $p$-value < 0.05, rechazamos la hipótesis nula de que la grasa corporal media para hombres y mujeres es igual, y concluimos que tenemos evidencia de que la grasa corporal en la población es diferente entre hombres y mujeres.\n",
    "  - La diferencia promedio es de 7.3438% de grasa corporal."
   ]
  },
  {
   "cell_type": "markdown",
   "metadata": {},
   "source": [
    "<a id=\"welchttest\"></a>\n",
    "### Prueba de hipótesis para la diferencia de medias cuando se muestrean dos poblaciones normales independientes cunado las varianzas no son iguales (Welch's t-test)\n",
    "\n",
    "[Volver al índice](#toc)\n",
    "\n",
    "- Formulación:\n",
    "  \n",
    "| <div style=\"width:150px\">Cola inferior</div>      | <div style=\"width:150px\">Cola superior</div> | <div style=\"width:150px\">Dos colas</div>     |\n",
    "| :---:        |    :----:   |          :---: |\n",
    "| $H_0:\\ \\mu_X - \\mu_Y = a$ | $H_0:\\ \\mu_X - \\mu_Y = a$ | $H_0:\\ \\mu_X - \\mu_Y = a$    |\n",
    "| $H_1:\\ \\mu_X - \\mu_Y < a$ | $H_1:\\ \\mu_X - \\mu_Y > a$ | $H_0:\\ \\mu_X - \\mu_Y \\neq a$ |\n",
    "\n",
    "- Estadístico de prueba:\n",
    "\n",
    "$$t_p = \\frac{\\bar{X} - \\bar{Y} - (\\mu_X - \\mu_Y)}{\\sqrt{\\frac{s^2_X}{n_X} + \\frac{s^2_Y}{n_Y}} } \\sim t_{(r)}, \\quad \n",
    "r= \\frac{ \n",
    "\\left( \\frac{s^2_X}{n_X} + \\frac{s^2_Y}{n_Y} \\right)^2 } \n",
    "{\\frac{(s^2_X/n_X)^2}{n_X-1} + \\frac{(s^2_Y/n_Y)^2}{n_Y-1}} $$\n",
    "\n",
    "- Conclusión:\n",
    "\n",
    "| <div style=\"width:120px\">Cola inferior</div>      | <div style=\"width:120px\">Cola superior</div> | <div style=\"width:200px\">Dos colas</div>     |\n",
    "| :---:        |    :----:   |          :---: |\n",
    "| Recharzar $H_0$ cuando   | Recharzar $H_0$ cuando  | Recharzar $H_0$ cuando  |\n",
    "| $t_p < t_{(\\alpha, r)}$  | $t_p > t_{(1-\\alpha, r)}$ | $t_p < t_{(\\alpha/2, r)}$ o $t_p > t_{(1-\\alpha/2,r)}$    |"
   ]
  },
  {
   "cell_type": "code",
   "execution_count": 14,
   "metadata": {},
   "outputs": [
    {
     "data": {
      "text/plain": [
       "(Ttest_indResult(statistic=2.8957935572829467, pvalue=0.008649760076182724),\n",
       " 'Diferencia',\n",
       " 7.343846153846153)"
      ]
     },
     "execution_count": 14,
     "metadata": {},
     "output_type": "execute_result"
    }
   ],
   "source": [
    "mx = mujeres.mean()\n",
    "my = hombres.mean()\n",
    "\n",
    "# Asumimos varianzas iguales equal_var=True\n",
    "# y prueba de dos colas alternative='two-sided'\n",
    "# alternative: {'two-sided', 'less', 'greater'}\n",
    "ttest_ind(mujeres, hombres, \n",
    "          equal_var=False, alternative='two-sided'), \"Diferencia\", mx - my"
   ]
  },
  {
   "cell_type": "markdown",
   "metadata": {},
   "source": [
    "- Dado que el $p$-value < 0.05, rechazamos la hipótesis nula de que la grasa corporal media para hombres y mujeres es igual, y concluimos que tenemos evidencia de que la grasa corporal en la población es diferente entre hombres y mujeres.\n",
    "\n",
    "  - La diferencia promedio es de 7.3438% de grasa corporal."
   ]
  },
  {
   "cell_type": "markdown",
   "metadata": {},
   "source": [
    "<a id=\"twovars\"></a>\n",
    "### Prueba de hipótesis para las varianzas cuando se muestrean dos poblaciones normales independientes.\n",
    "\n",
    "[Volver al índice](#toc)\n",
    "\n",
    "- Formulación:\n",
    "  \n",
    "| <div style=\"width:100px\">Cola inferior</div>      | <div style=\"width:100px\">Cola superior</div> | <div style=\"width:100px\">Dos colas</div>     |\n",
    "| :---:        |    :----:   |          :---: |\n",
    "| $H_0:\\ \\sigma^2_X = \\sigma^2_Y$     | $H_0:\\ \\sigma^2_X = \\sigma^2_Y$ | $H_0:\\ \\sigma^2_X = \\sigma^2_Y$  |\n",
    "| $H_1:\\ \\sigma^2_X < \\sigma^2_Y$  | $H_1:\\ \\sigma^2_X > \\sigma^2_Y$        | $H_0:\\ \\sigma^2_X \\neq \\sigma^2_Y$ |\n",
    "\n",
    "- Estadístico de prueba:\n",
    "\n",
    "$$F_p=\\frac{s^2_X}{s^2_Y} \\sim F_{(n_X-1, n_Y-1)}.$$\n",
    "\n",
    "- Conclusión:\n",
    "\n",
    "| <div style=\"width:160px\">Cola inferior</div>      | <div style=\"width:160px\">Cola superior</div> | <div style=\"width:300px\">Dos colas</div>     |\n",
    "| :---:        |    :----:   |          :---: |\n",
    "| Recharzar $H_0$ cuando   | Recharzar $H_0$ cuando  | Recharzar $H_0$ cuando  |\n",
    "| $F_p < F_{(\\alpha, n_X-1, n_Y-1)}$  | $F_p > F_{(1-\\alpha, n_X-1, n_Y-1)}$ | $F_p < F_{(\\alpha/2, n_X-1, n_Y-1)}$ o $F_p > F_{(1-\\alpha/2,n_X-1, n_Y-1)}$    |\n",
    "\n",
    "\n"
   ]
  },
  {
   "cell_type": "code",
   "execution_count": 15,
   "metadata": {},
   "outputs": [
    {
     "data": {
      "text/plain": [
       "{'F-test result': {'statistic': 0.604403201133248,\n",
       "  'p-value': 0.45612785705453396},\n",
       " 'f-value': (0.2585168156256846, 3.435845641861058),\n",
       " 'alpha': 0.05}"
      ]
     },
     "execution_count": 15,
     "metadata": {},
     "output_type": "execute_result"
    }
   ],
   "source": [
    "# importamos distribución F\n",
    "from scipy.stats import f\n",
    "\n",
    "def f_test(*args, alpha=0.05, alternative='two-sided'):\n",
    "    # *args: array o lista\n",
    "    if len(args) == 2:\n",
    "        x = np.array(args[0])\n",
    "        y = np.array(args[1])\n",
    "        dfx = x.size-1  # define grados de libertad del numerador \n",
    "        dfy = y.size-1  # define grados de libertad del denominador \n",
    "        fp = np.var(x, ddof=1)/np.var(y, ddof=1)  # calcula F test statistic \n",
    "    # *args: varianzas\n",
    "    else:\n",
    "        fp = args[0] / args[1]  # calcula F test statistic\n",
    "        nx = args[2]\n",
    "        ny = args[3]\n",
    "        dfx = nx-1  # define grados de libertad del numerador\n",
    "        dfy = ny-1  # define grados de libertad del denominador \n",
    "    \n",
    "    alpha_c = alpha\n",
    "    if alternative=='two-sided': alpha_c = alpha_c / 2\n",
    "    f_critical = f.ppf(alpha_c, dfx, dfy), f.ppf(1-alpha_c, dfx, dfy)\n",
    "    f_areas = f.cdf(fp, dfx, dfy), 1-f.cdf(fp, dfx, dfy)  # areas colas\n",
    "    \n",
    "    colas = {'less': {'p-value': f_areas[0], \"f-value\": f_critical[0]}, \n",
    "             'greater': {'p-value': f_areas[1], \"f-value\": f_critical[1]},\n",
    "             'two-sided': {'p-value': min(f_areas)*2, \"f-value\": f_critical}\n",
    "            }\n",
    "    return {\"F-test result\": {\"statistic\": fp, \n",
    "                       \"p-value\": colas[alternative]['p-value']},\n",
    "                       \"f-value\": colas[alternative]['f-value'],\n",
    "                       \"alpha\": alpha}\n",
    "\n",
    "f_test(mujeres, hombres)"
   ]
  },
  {
   "cell_type": "markdown",
   "metadata": {},
   "source": [
    "- Dado que el $p-value>\\alpha$ no tenemos evidencia suficiente para rechazar la hipótesis nula. \n",
    "  - Por tanto podemos considerar que las varianzas son iguales y realizar el test correspondiente para diferencia de medias cuando las varianzas son iguales."
   ]
  },
  {
   "cell_type": "markdown",
   "metadata": {},
   "source": [
    "### Ejemplo\n",
    "\n",
    "- Se han registrado dos conjuntos de observaciones. En la primera muestra, se tienen los resultados de una prueba a estudiantes de colegios públicos. En la segunda muestra, se tienen los resultados de una prueba a estudiantes de colegios privados.\n",
    "\n",
    "  - Existe evidencia para decir que la varianza de los colegios privados es menor a la de los colegios púbicos. Use un nivel de significancia de $\\alpha=0.05$."
   ]
  },
  {
   "cell_type": "code",
   "execution_count": 16,
   "metadata": {},
   "outputs": [
    {
     "data": {
      "text/html": [
       "<div>\n",
       "<style scoped>\n",
       "    .dataframe tbody tr th:only-of-type {\n",
       "        vertical-align: middle;\n",
       "    }\n",
       "\n",
       "    .dataframe tbody tr th {\n",
       "        vertical-align: top;\n",
       "    }\n",
       "\n",
       "    .dataframe thead th {\n",
       "        text-align: right;\n",
       "    }\n",
       "</style>\n",
       "<table border=\"1\" class=\"dataframe\">\n",
       "  <thead>\n",
       "    <tr style=\"text-align: right;\">\n",
       "      <th></th>\n",
       "      <th>Nota</th>\n",
       "    </tr>\n",
       "    <tr>\n",
       "      <th>Colegio</th>\n",
       "      <th></th>\n",
       "    </tr>\n",
       "  </thead>\n",
       "  <tbody>\n",
       "    <tr>\n",
       "      <th>Privado</th>\n",
       "      <td>142.092857</td>\n",
       "    </tr>\n",
       "    <tr>\n",
       "      <th>Publico</th>\n",
       "      <td>96.791714</td>\n",
       "    </tr>\n",
       "  </tbody>\n",
       "</table>\n",
       "</div>"
      ],
      "text/plain": [
       "               Nota\n",
       "Colegio            \n",
       "Privado  142.092857\n",
       "Publico   96.791714"
      ]
     },
     "execution_count": 16,
     "metadata": {},
     "output_type": "execute_result"
    }
   ],
   "source": [
    "datos = pd.read_csv(\"data/notas.csv\")\n",
    "# debemos transformar los datos para graficar\n",
    "# pasamos de formato wide a long\n",
    "datos_melted = pd.melt(datos)\n",
    "# renombramos columnas\n",
    "datos_melted.rename(columns={'variable': 'Colegio', 'value': 'Nota'}, inplace=True)\n",
    "datos_melted.groupby('Colegio').var()  # varianza"
   ]
  },
  {
   "cell_type": "code",
   "execution_count": 17,
   "metadata": {},
   "outputs": [
    {
     "data": {
      "image/png": "[encoded data removed]",
      "text/plain": [
       "<Figure size 864x432 with 2 Axes>"
      ]
     },
     "metadata": {
      "needs_background": "light"
     },
     "output_type": "display_data"
    }
   ],
   "source": [
    "fig, axes = plt.subplots(1, 2, figsize=(12,6))\n",
    "\n",
    "sns.kdeplot(data=datos_melted, x=\"Nota\", hue=\"Colegio\", \n",
    "            fill=True, common_norm=True, alpha=0.2, ax=axes[0])\n",
    "\n",
    "b = sns.boxplot(data=datos_melted, x=\"Colegio\", y=\"Nota\", ax=axes[1])"
   ]
  },
  {
   "cell_type": "code",
   "execution_count": 18,
   "metadata": {},
   "outputs": [
    {
     "data": {
      "text/plain": [
       "{'F-test result': {'statistic': 1.4680270743363513,\n",
       "  'p-value': 0.7591082413702556},\n",
       " 'f-value': 0.40262094298131085,\n",
       " 'alpha': 0.05}"
      ]
     },
     "execution_count": 18,
     "metadata": {},
     "output_type": "execute_result"
    }
   ],
   "source": [
    "# Para la prueba usamos el formato wide\n",
    "# de usar el long deberiamos filtrar\n",
    "f_test(datos['Privado'], datos['Publico'], alternative=\"less\")"
   ]
  },
  {
   "cell_type": "markdown",
   "metadata": {},
   "source": [
    "- No existe evidencia para decir que la varianza de los colegios privados es menor a la de los colegios púbicos con un nivel de significancia de $\\alpha=0.05$."
   ]
  },
  {
   "cell_type": "markdown",
   "metadata": {},
   "source": [
    "### Ejemplo\n",
    "\n",
    "- Vea: https://online.stat.psu.edu/stat415/lesson/12/12.2\n",
    "    \n",
    "Un psicólogo realizó una encuesta aleatoria\n",
    "$n_v=34$ estudiantes universitarios hombres y un azar\n",
    "$n_m=29$ estudiantes mujeres universitarias. \n",
    "Aquí hay un resumen descriptivo de los resultados de su encuesta:  \n",
    "\n",
    "![](https://raw.githubusercontent.com/marsgr6/r-scripts/master/imgs/FastestDrivenData.png)\n",
    "\n",
    "Hay suficiente evidencia con un $\\alpha=0.05$, para concluir que existe diferencia en la varianza entre hombres y mujeres."
   ]
  },
  {
   "cell_type": "code",
   "execution_count": 19,
   "metadata": {},
   "outputs": [
    {
     "data": {
      "text/plain": [
       "{'F-test result': {'statistic': 0.368406722605876,\n",
       "  'p-value': 0.008568585406633605},\n",
       " 'f-value': (0.478689932486996, 2.044072894606612),\n",
       " 'alpha': 0.05}"
      ]
     },
     "execution_count": 19,
     "metadata": {},
     "output_type": "execute_result"
    }
   ],
   "source": [
    "f_test(12.2**2, 20.1**2, 29, 34, alternative=\"two-sided\")"
   ]
  },
  {
   "cell_type": "markdown",
   "metadata": {},
   "source": [
    "- Rechazamos la hipótesis nula a favor de la hipótesis alternativa. Hay pruebas suficientes en el $\\alpha=0.05$ nivel para concluir que las varianzas de la población no son iguales."
   ]
  },
  {
   "cell_type": "markdown",
   "metadata": {},
   "source": [
    "<a id=\"onevar\"></a>\n",
    "\n",
    "### Prueba de hipótesis para la varianza cuando se muestrea una distribución normal\n",
    "\n",
    "[Volver al índice](#toc)\n",
    "\n",
    "- Formulación:\n",
    "  \n",
    "| <div style=\"width:100px\">Cola inferior</div>      | <div style=\"width:100px\">Cola superior</div> | <div style=\"width:100px\">Dos colas</div>     |\n",
    "| :---:        |    :----:   |          :---: |\n",
    "| $H_0:\\ \\sigma^2 = \\sigma^2_0$     | $H_0:\\ \\sigma^2 = \\sigma^2_0$ | $H_0:\\ \\sigma^2 = \\sigma^2_0$  |\n",
    "| $H_1:\\ \\sigma^2 < \\sigma^2_0$  | $H_1:\\ \\sigma^2 > \\sigma^2_0$        | $H_0:\\ \\sigma^2 \\neq \\sigma^2_0$ |\n",
    "\n",
    "- Estadístico de prueba:\n",
    "\n",
    "$$\\chi^2_p=\\frac{s^2}{\\sigma^2_0}(n-1) \\sim \\chi^2_{(n-1)}.$$\n",
    "\n",
    "- Conclusión:\n",
    "\n",
    "| <div style=\"width:120px\">Cola inferior</div>      | <div style=\"width:120px\">Cola superior</div> | <div style=\"width:260px\">Dos colas</div>     |\n",
    "| :---:        |    :----:   |          :---: |\n",
    "| Recharzar $H_0$ cuando   | Recharzar $H_0$ cuando  | Recharzar $H_0$ cuando  |\n",
    "| $\\chi^2_p < \\chi^2_{(\\alpha, n-1)}$  | $\\chi^2_p > \\chi^2_{(1-\\alpha, n-1)}$ | $\\chi^2_p < \\chi^2_{(\\alpha/2, n-1)}$ o $\\chi^2_p > \\chi^2_{(1-\\alpha/2,n-1)}$    |\n",
    "\n",
    "\n",
    "### Ejemplo\n",
    "\n",
    "Un fabricante de cascos de seguridad para trabajadores de la construcción está preocupado por la media y la variación de las fuerzas que sus cascos transmiten a los usuarios cuando se someten a una fuerza externa. El fabricante ha diseñado los cascos para que la fuerza media transmitida por los cascos a los trabajadores sea de 800 libras (o menos) con una desviación estándar de menos de 40 libras. Las pruebas se realizaron en una muestra aleatoria de $n = 40$ cascos, y se encontró que la media de la muestra y la desviación estándar de la muestra eran 825 libras y 48.5 libras, respectivamente.\n",
    "\n",
    "¿Proporcionan los datos suficiente evidencia, al nivel $\\alpha=0.05$, para concluir que la desviación estándar de la población excede las 40 libras?"
   ]
  },
  {
   "cell_type": "code",
   "execution_count": 20,
   "metadata": {},
   "outputs": [
    {
     "data": {
      "text/plain": [
       "{'chi2-test result': {'statistic': 57.33609375,\n",
       "  'p-value': 0.029283675144775367}}"
      ]
     },
     "execution_count": 20,
     "metadata": {},
     "output_type": "execute_result"
    }
   ],
   "source": [
    "from scipy.stats import chi2\n",
    "\n",
    "def chi2_test(popvar, s2, n, alternative=\"two-sided\"):\n",
    "    \n",
    "    chi2p = (n-1)*s2 / popvar  # estadistico de prueba\n",
    "\n",
    "    f_areas = chi2.cdf(chi2p, n-1), 1-chi2.cdf(chi2p, n-1)  # areas colas\n",
    "    \n",
    "    colas = {'less': {'p-value': f_areas[0]}, \n",
    "             'greater': {'p-value': f_areas[1]},\n",
    "             'two-sided': {'p-value': min(f_areas)*2}\n",
    "            }\n",
    "    return {\"chi2-test result\": {\"statistic\": chi2p, \n",
    "                       \"p-value\": colas[alternative]['p-value']}}\n",
    "\n",
    "chi2_test(40**2, 48.5**2, 40, alternative=\"greater\")"
   ]
  },
  {
   "cell_type": "markdown",
   "metadata": {},
   "source": [
    "- Como $p-value=0.029 \\leq 0.05$, rechazamos la hipótesis nula a favor de la hipótesis alternativa.\n",
    "\n",
    "### Ejemplo\n",
    "\n",
    "- Repitamos para una prueba de dos colas."
   ]
  },
  {
   "cell_type": "code",
   "execution_count": 21,
   "metadata": {},
   "outputs": [
    {
     "data": {
      "text/plain": [
       "{'chi2-test result': {'statistic': 57.33609375,\n",
       "  'p-value': 0.058567350289550735}}"
      ]
     },
     "execution_count": 21,
     "metadata": {},
     "output_type": "execute_result"
    }
   ],
   "source": [
    "def chi2_test(popvar, s2, n, alternative=\"two-sided\"):\n",
    "    \n",
    "    chi2p = (n-1)*s2 / popvar  # estadistico de prueba\n",
    "\n",
    "    f_areas = chi2.cdf(chi2p, n-1), 1-chi2.cdf(chi2p, n-1)  # areas colas\n",
    "    \n",
    "    colas = {'less': {'p-value': f_areas[0]}, \n",
    "             'greater': {'p-value': f_areas[1]},\n",
    "             'two-sided': {'p-value': min(f_areas)*2}\n",
    "            }\n",
    "    return {\"chi2-test result\": {\"statistic\": chi2p, \n",
    "                       \"p-value\": colas[alternative]['p-value']}}\n",
    "\n",
    "chi2_test(40**2, 48.5**2, 40, alternative=\"two-sided\")"
   ]
  },
  {
   "cell_type": "markdown",
   "metadata": {},
   "source": [
    "- Debido a que $p-value=0.058>0.05$, no podemos rechazar la hipótesis nula a favor de la hipótesis alternativa bilateral.\n",
    "\n",
    "**El ejemplo anterior ilustra un hecho importante,** a saber, que la conclusión de la prueba unilateral no siempre concuerda con la conclusión de la prueba bilateral. **Si tiene razones para creer que el parámetro diferirá del valor nulo en una dirección particular, debe realizar la prueba unilateral.**\n",
    "\n",
    "- Vea: https://online.stat.psu.edu/stat415/lesson/12/12.1"
   ]
  },
  {
   "cell_type": "markdown",
   "metadata": {},
   "source": [
    "<a id=\"oneprop\"></a>\n",
    "### Prueba de hipótesis para la proporción\n",
    "\n",
    "[Volver al índice](#toc)\n",
    "\n",
    "- Formulación:\n",
    "  \n",
    "| <div style=\"width:100px\">Cola inferior</div>      | <div style=\"width:100px\">Cola superior</div> | <div style=\"width:100px\">Dos colas</div>     |\n",
    "| :---:        |    :----:   |          :---: |\n",
    "| $H_0:\\ p = p_0$ | $H_0:\\ p = p_0$ | $H_0:\\ p = p_0$  |\n",
    "| $H_1:\\ p < p_0$ | $H_1:\\ p > p_0$ | $H_0:\\ p \\neq p_0$ |\n",
    "\n",
    "- Estadístico de prueba:\n",
    "\n",
    "$$z_p = \\frac{\\hat{p}- p_0}{\\sqrt{\\frac{p_0 (1-p_0)}{n}}}$$\n",
    "\n",
    "- Conclusión:\n",
    "\n",
    "| <div style=\"width:120px\">Cola inferior</div>      | <div style=\"width:120px\">Cola superior</div> | <div style=\"width:200px\">Dos colas</div>     |\n",
    "| :---:        |    :----:   |          :---: |\n",
    "| Recharzar $H_0$ cuando   | Recharzar $H_0$ cuando  | Recharzar $H_0$ cuando  |\n",
    "| $z_p < z_{\\alpha}$  | $z_p > z_{1-\\alpha}$ | $z_p < z_{\\alpha/2}$ o $z_p > z_{1-\\alpha/2}$ \n",
    "\n",
    "### Ejemplo\n",
    "\n",
    "Sea $p$ igual a la proporción de conductores que usan cinturón de seguridad en un estado que no tiene una ley de uso obligatorio del cinturón de seguridad. Se afirmó que $p=0.14$. Se realizó una campaña publicitaria para aumentar esta proporción. Dos meses después de la campaña, 104 de una muestra aleatoria de n=590 conductores usaban cinturones de seguridad. ¿Fue exitosa la campaña?\n",
    "\n",
    "- Vea: https://online.stat.psu.edu/stat415/lesson/9/9.2"
   ]
  },
  {
   "cell_type": "code",
   "execution_count": 22,
   "metadata": {},
   "outputs": [
    {
     "data": {
      "text/plain": [
       "{'Proportion z-test': {'statistic': 2.5390691224460658,\n",
       "  'p-value': 0.005557393050512838},\n",
       " 'z-value': 2.3263478740408408,\n",
       " 'alpha': 0.01}"
      ]
     },
     "execution_count": 22,
     "metadata": {},
     "output_type": "execute_result"
    }
   ],
   "source": [
    "def z_test_prop(count, nobs, popprop, alpha=0.05, alternative=\"two-sided\"):\n",
    "    # estadístico de prueba\n",
    "    zp = (count/nobs - popprop)/np.sqrt(popprop*(1-popprop)/nobs)\n",
    "    \n",
    "    f_areas = norm.cdf(zp), 1-norm.cdf(zp)  # areas colas\n",
    "    \n",
    "    alpha_c = alpha\n",
    "    if alternative=='two-sided': alpha_c = alpha_c / 2\n",
    "    f_critical = norm.ppf(alpha_c), norm.ppf(1-alpha_c)\n",
    "    f_areas = norm.cdf(zp), 1-norm.cdf(zp)  # areas colas\n",
    "    \n",
    "    colas = {'less': {'p-value': f_areas[0], \"f-value\": f_critical[0]}, \n",
    "             'greater': {'p-value': f_areas[1], \"f-value\": f_critical[1]},\n",
    "             'two-sided': {'p-value': min(f_areas)*2, \"f-value\": f_critical}\n",
    "            }\n",
    "    return {\"Proportion z-test\": {\"statistic\": zp, \n",
    "                       \"p-value\": colas[alternative]['p-value']},\n",
    "                       \"z-value\": colas[alternative]['f-value'],\n",
    "                       \"alpha\": alpha}\n",
    "\n",
    "z_test_prop(104, 590, 0.14, alpha=0.01, alternative=\"greater\")"
   ]
  },
  {
   "cell_type": "markdown",
   "metadata": {},
   "source": [
    "- Rechazamos la hipótesis nula porque el estadístico de prueba cae en la región crítica, es decir, porque $Z=2.52>2.326$, podemos rechazar la hipótesis nula a favor de la hipótesis alternativa. Hay suficiente evidencia al nivel $\\alpha=0.01$ para concluir que la campaña fue exitosa y la proporción es $p>0.14$."
   ]
  },
  {
   "cell_type": "markdown",
   "metadata": {},
   "source": [
    "<a id=\"twoprop\"></a>\n",
    "### Prueba de hipótesis para la diferencia de proporciones cuando se muestrean dos poblaciones independientes, no necesariamente normales, para muestras grandes ($n_X, n_Y \\geq 30$) y varianzas conocidas\n",
    "\n",
    "[Volver al índice](#toc)\n",
    "\n",
    "- Formulación:\n",
    "  \n",
    "| <div style=\"width:150px\">Cola inferior</div>      | <div style=\"width:150px\">Cola superior</div> | <div style=\"width:150px\">Dos colas</div>     |\n",
    "| :---:        |    :----:   |          :---: |\n",
    "| $H_0:\\ p_X - p_Y = a$ | $H_0:\\ p_X - p_Y = a$ | $H_0:\\ p_X - \\mu_Y = a$    |\n",
    "| $H_1:\\ p_X - p_Y < a$ | $H_1:\\ p_X - p_Y > a$ | $H_0:\\ p_X - \\mu_Y \\neq a$ |\n",
    "\n",
    "- Estadístico de prueba:\n",
    "\n",
    "$$z_p = \\frac{\\hat{p}_X - \\hat{p}_X - (p_X - p_Y)}\n",
    "{\n",
    "\\sqrt{\\hat{p} \\hat{q} \\left( \\frac{1}{n_X} + \\frac{1}{n_Y} \\right) }\n",
    "} \\sim N(0,1), \\quad \n",
    "\\hat{p} = \\frac{ x + y } \n",
    "{n_X + n_Y} $$\n",
    "\n",
    "- Conclusión:\n",
    "\n",
    "\n",
    "| <div style=\"width:120px\">Cola inferior</div>      | <div style=\"width:120px\">Cola superior</div> | <div style=\"width:200px\">Dos colas</div>     |\n",
    "| :---:        |    :----:   |          :---: |\n",
    "| Recharzar $H_0$ cuando   | Recharzar $H_0$ cuando  | Recharzar $H_0$ cuando  |\n",
    "| $z_p < z_{\\alpha}$  | $z_p > z_{1-\\alpha}$ | $z_p < z_{\\alpha/2}$ o $z_p > z_{1-\\alpha/2}$    |\n",
    "\n",
    "### Ejemplo\n",
    "\n",
    "La revista Time informó el resultado de una encuesta telefónica de 800 estadounidenses adultos. La pregunta planteada a los estadounidenses que fueron encuestados fue: ¿Debería aumentarse el impuesto federal sobre los cigarrillos para pagar la reforma del sistema de salud?\n",
    "\n",
    "- Los resultados de la encuesta fueron:\n",
    "\n",
    "![](https://raw.githubusercontent.com/marsgr6/r-scripts/master/imgs/time_survey.png)\n",
    "\n",
    "  - ¿Hay suficiente evidencia en el $\\alpha = 0.05$, por ejemplo, para concluir que las dos poblaciones (fumadores y no fumadores) difieren significativamente con respecto a sus opiniones?"
   ]
  },
  {
   "cell_type": "code",
   "execution_count": 23,
   "metadata": {},
   "outputs": [
    {
     "data": {
      "text/plain": [
       "{'statistic': 8.985900954503084, 'p-value': 2.566230446480293e-19}"
      ]
     },
     "execution_count": 23,
     "metadata": {},
     "output_type": "execute_result"
    }
   ],
   "source": [
    "from statsmodels.stats.proportion import proportions_ztest\n",
    "count = np.array([351, 41])  # x, y: eventos favorables\n",
    "nobs = np.array([605, 195])  # nx, ny: total de observaciones\n",
    "stat, pval = proportions_ztest(count, nobs, alternative='two-sided')\n",
    "{\"statistic\": stat, \"p-value\": pval}"
   ]
  },
  {
   "cell_type": "markdown",
   "metadata": {},
   "source": [
    "- Hay evidencia suficiente al nivel de 0.05 para concluir que las dos poblaciones difieren con respecto a sus opiniones sobre la imposición de un impuesto federal para ayudar a pagar la reforma del sistema de salud."
   ]
  },
  {
   "cell_type": "markdown",
   "metadata": {},
   "source": [
    "<a id=\"chi2ba\"></a>\n",
    "### Prueba de Bondad de Ajuste\n",
    "\n",
    "- La bondad de ajuste de un modelo estadístico describe qué tan bien se ajusta el modelo a un conjunto de observaciones. \n",
    "  - Las medidas de bondad de ajuste típicamente resumen la discrepancia entre los valores observados y los valores esperados bajo el modelo en cuestión.\n",
    "\n",
    "[Volver al índice](#toc)\n",
    "\n",
    "- Prueba de Hipótesis:\n",
    "\n",
    "$$H_0: p_1=p_1*, p_2=p_2*, \\dots, p_K=p_k*$$\n",
    "$$H_1: \\text{Al menos un } p_i \\neq p_i*$$\n",
    "\n",
    "- Estadístico:\n",
    "\n",
    "$$Q_{(k-1)} = \\sum_{i=1}^k \\frac{(Y_i - n p_i)^2}{n p_i} \\sim \\chi^2_{k-1}$$\n",
    "\n",
    "- Rechazar $H_0$ si $Q_{(k-1)} \\geq \\chi^2_{(1-\\alpha, k-1)}$\n",
    "\n",
    "### Ejemplo\n",
    "\n",
    "- Un pseudo generador de números aleatorios (PRNG) genera dígitos entre 0 y 9 uniformemente distribuidos. \n",
    "\n",
    "- Pruebe \n",
    "\n",
    "$$H_0: p_0=1/10, p_1=1/10, p_2=1/10, \\dots, p_{9}=1/10$$\n",
    "\n",
    "- En la tabla tiene las frecuencias observadas $Y_i$ de cada dígito en una secuencia aleatoria de tamaño 100.\n",
    "  - La frecuencia esperada $n p_i$ es 10 para cada dígito, dado que el PRNG sigue la [distribucion uniforme discreta](https://en.wikipedia.org/wiki/Discrete_uniform_distribution) $X\\sim U\\{0,9\\}$.\n",
    "\n",
    "\n",
    "| $x_i$              |   0 |   1 |   2 |   3 |   4 |   5 |   6 |   7 |   8 |   9 |\n",
    "|:-------------------|----:|----:|----:|----:|----:|----:|----:|----:|----:|----:|\n",
    "| obs_freq ($Y_i$)   |   8 |   9 |   9 |  13 |  14 |   7 |  16 |   6 |  10 |   8 |\n",
    "| exp_freq ($n p_i$) |  10 |  10 |  10 |  10 |  10 |  10 |  10 |  10 |  10 |  10 |\n",
    "\n",
    "- Vea el ejemplo completo en [PRNG]( https://anaconda.org/marsgr6/pseudorandom_number_generator/notebook).\n",
    "\n",
    "- Más [ejemplos](https://online.stat.psu.edu/stat415/lesson/16)."
   ]
  },
  {
   "cell_type": "code",
   "execution_count": 24,
   "metadata": {},
   "outputs": [
    {
     "name": "stdout",
     "output_type": "stream",
     "text": [
      "{'Q_p': 9.6, 'chi2_critico': 16.918977604620448, 'p-value': 0.3838265173713842, 'decision': 'Do not reject H0'}\n"
     ]
    },
    {
     "data": {
      "text/html": [
       "<div>\n",
       "<style scoped>\n",
       "    .dataframe tbody tr th:only-of-type {\n",
       "        vertical-align: middle;\n",
       "    }\n",
       "\n",
       "    .dataframe tbody tr th {\n",
       "        vertical-align: top;\n",
       "    }\n",
       "\n",
       "    .dataframe thead th {\n",
       "        text-align: right;\n",
       "    }\n",
       "</style>\n",
       "<table border=\"1\" class=\"dataframe\">\n",
       "  <thead>\n",
       "    <tr style=\"text-align: right;\">\n",
       "      <th></th>\n",
       "      <th>0</th>\n",
       "      <th>1</th>\n",
       "      <th>2</th>\n",
       "      <th>3</th>\n",
       "      <th>4</th>\n",
       "      <th>5</th>\n",
       "      <th>6</th>\n",
       "      <th>7</th>\n",
       "      <th>8</th>\n",
       "      <th>9</th>\n",
       "    </tr>\n",
       "  </thead>\n",
       "  <tbody>\n",
       "    <tr>\n",
       "      <th>xi</th>\n",
       "      <td>0.0</td>\n",
       "      <td>1.0</td>\n",
       "      <td>2.0</td>\n",
       "      <td>3.0</td>\n",
       "      <td>4.0</td>\n",
       "      <td>5.0</td>\n",
       "      <td>6.0</td>\n",
       "      <td>7.0</td>\n",
       "      <td>8.0</td>\n",
       "      <td>9.0</td>\n",
       "    </tr>\n",
       "    <tr>\n",
       "      <th>obs_freq</th>\n",
       "      <td>8.0</td>\n",
       "      <td>9.0</td>\n",
       "      <td>9.0</td>\n",
       "      <td>13.0</td>\n",
       "      <td>14.0</td>\n",
       "      <td>7.0</td>\n",
       "      <td>16.0</td>\n",
       "      <td>6.0</td>\n",
       "      <td>10.0</td>\n",
       "      <td>8.0</td>\n",
       "    </tr>\n",
       "    <tr>\n",
       "      <th>exp_freq</th>\n",
       "      <td>10.0</td>\n",
       "      <td>10.0</td>\n",
       "      <td>10.0</td>\n",
       "      <td>10.0</td>\n",
       "      <td>10.0</td>\n",
       "      <td>10.0</td>\n",
       "      <td>10.0</td>\n",
       "      <td>10.0</td>\n",
       "      <td>10.0</td>\n",
       "      <td>10.0</td>\n",
       "    </tr>\n",
       "  </tbody>\n",
       "</table>\n",
       "</div>"
      ],
      "text/plain": [
       "             0     1     2     3     4     5     6     7     8     9\n",
       "xi         0.0   1.0   2.0   3.0   4.0   5.0   6.0   7.0   8.0   9.0\n",
       "obs_freq   8.0   9.0   9.0  13.0  14.0   7.0  16.0   6.0  10.0   8.0\n",
       "exp_freq  10.0  10.0  10.0  10.0  10.0  10.0  10.0  10.0  10.0  10.0"
      ]
     },
     "execution_count": 24,
     "metadata": {},
     "output_type": "execute_result"
    },
    {
     "data": {
      "image/png": "[encoded data removed]",
      "text/plain": [
       "<Figure size 576x576 with 2 Axes>"
      ]
     },
     "metadata": {
      "needs_background": "light"
     },
     "output_type": "display_data"
    }
   ],
   "source": [
    "secuencia = np.loadtxt('data/pi_seq.txt')\n",
    "plt.figure(figsize=(8,8))\n",
    "plt.subplot(211)\n",
    "plt.plot(secuencia)\n",
    "plt.title(\"Secuencia aleatoria\")\n",
    "plt.subplot(212)\n",
    "xi, o_f = np.unique(secuencia, return_counts=True)\n",
    "plt.bar(xi, o_f)\n",
    "plt.title(\"Frecuencias dígitos\")\n",
    "\n",
    "k = 10\n",
    "p_i = 1/10\n",
    "df = k - 1\n",
    "\n",
    "n = len(secuencia)  # longitud de la serie observada\n",
    "exp_freq = [int(n*p_i)]*10\n",
    "\n",
    "datos = pd.DataFrame({'xi': xi, 'obs_freq': o_f, 'exp_freq': exp_freq})\n",
    "\n",
    "alpha = 0.05\n",
    "Q_p = ((datos['obs_freq'] - datos['exp_freq'])**2 / datos['exp_freq']).sum()\n",
    "chi2_c = chi2.ppf(1-alpha, df)\n",
    "decision = {True: \"Reject H0\", False: \"Do not reject H0\"}\n",
    "pvalue = 1-chi2.cdf(Q_p, df)\n",
    "print({\"Q_p\": Q_p, \"chi2_critico\": chi2_c, \"p-value\": pvalue,\n",
    "       \"decision\": decision[Q_p > chi2_c]})\n",
    "datos.transpose()"
   ]
  },
  {
   "cell_type": "code",
   "execution_count": 25,
   "metadata": {},
   "outputs": [
    {
     "data": {
      "image/png": "[encoded data removed]",
      "text/plain": [
       "<Figure size 576x432 with 1 Axes>"
      ]
     },
     "metadata": {
      "needs_background": "light"
     },
     "output_type": "display_data"
    }
   ],
   "source": [
    "x = np.linspace(0,25,200)\n",
    "fx = chi2.pdf(x, df)\n",
    "\n",
    "plt.figure(figsize=(8,6))\n",
    "plt.plot(x, fx, label=r\"$\\chi^2_{k-1)}$ PDF\")\n",
    "plt.plot([Q_p, Q_p], [0, chi2.pdf(Q_p, df)],\n",
    "         '-o', label=r\"Punto de prueba $Q_{k-1}$\")  # linea naranja\n",
    "plt.plot([chi2_c, chi2_c], [0, chi2.pdf(chi2_c, df)],\n",
    "         '-P', label=\"Punto crítico\")  # linea verde\n",
    "x_chi = np.linspace(chi2_c,25)\n",
    "plt.fill_between(x_chi, chi2.pdf(x_chi, df), \n",
    "                 color=\"green\", alpha=0.3, label=\"Región crítica\")\n",
    "l=plt.legend()"
   ]
  },
  {
   "cell_type": "code",
   "execution_count": 26,
   "metadata": {},
   "outputs": [
    {
     "data": {
      "text/plain": [
       "Power_divergenceResult(statistic=9.6, pvalue=0.3838265173713841)"
      ]
     },
     "execution_count": 26,
     "metadata": {},
     "output_type": "execute_result"
    }
   ],
   "source": [
    "# Pythom implementa esta prueba\n",
    "from scipy.stats import chisquare\n",
    "\n",
    "chisquare(datos['obs_freq'], datos['exp_freq'])"
   ]
  },
  {
   "cell_type": "markdown",
   "metadata": {},
   "source": [
    "- Nuestro ejemplo es para un modelo discreto $X\\sim U\\{0,9\\}$. Esta prueba puede aplicarse también en el caso de un modelo continuo. "
   ]
  },
  {
   "cell_type": "markdown",
   "metadata": {},
   "source": [
    "<a id=\"chi2ind\"></a>\n",
    "### Prueba de independecia Chi-cuadrado (Chi-Square Test of Independence)\n",
    "\n",
    "[Volver al índice](#toc)\n",
    "\n",
    "- Podemos probar la independencia de dos variables categóricas mediante el Test Chi-Cuadrado de Independencia.\n",
    "\n",
    "- Como con todas las pruebas estadísticas anteriores, necesitamos definir hipótesis nulas y alternativas. Además, como hemos aprendido, la hipótesis nula es lo que se supone que es cierto hasta que tengamos evidencia para ir en contra. \n",
    "\n",
    "- Estamos interesados en investigar si dos variables categóricas están relacionadas o asociadas (es decir, son dependientes). Por lo tanto, hasta que tengamos evidencia que sugiera que lo son, debemos asumir que no lo son. \n",
    "\n",
    "- Esta es la motivación detrás de la hipótesis de la prueba de independencia Chi-Cuadrado:\n",
    "\n",
    "\n",
    "$$H_0: \\text{ En la población, las dos variables categóricas son independientes.}$$\n",
    "\n",
    "$$H_1: \\text{ En la población, las dos variables categóricas son dependientes.}$$\n",
    "\n",
    "- Una vez que hemos recopilado nuestros datos, los resumimos en una tabla de contingencia. Esta tabla representa los conteos observados y se denomina Tabla de conteos observados o simplemente Tabla observada. \n",
    "\n",
    "  - Ejemplo de tabla de contingencia Género vs. Está dispuesto a pagar más por transporte público eléctrico (NO/SI):\n",
    "  \n",
    "| género        |   NO        |   SI        |   Total fila |\n",
    "|:--------------|------------:|------------:|-------------:|\n",
    "| Hombre        |   29(22.70) |   34(40.30) |    63        |\n",
    "| Mujer         |   11(17.30) |   37(30.70) |    48        |\n",
    "| Total columna |   40        |   71        |   111        |\n",
    "\n",
    "- Tabla esperada:\n",
    "\n",
    "  - Cada celda de la tabla esperada se calcula como:\n",
    "  \n",
    "  $$E = \\frac{(\\text{Total fila})(\\text{Total columna})}{\\text{Total muestra}}$$\n",
    "  \n",
    "  - Compruebe este calculo para la tabla anterior. Los valores en parentesis son los valores esperados. Por ejemplo la celda (1,1) es:\n",
    "  \n",
    "  $$E_{1,1} = \\frac{(40)(63)}{11}=22.7027$$\n",
    "  \n",
    "  \n",
    "- Usamos el mismo estadístico y mismo criterio que en la prueba de bondad de ajuste.\n",
    "\n",
    "  - Vea: https://online.stat.psu.edu/stat500/lesson/8/8.1"
   ]
  },
  {
   "cell_type": "code",
   "execution_count": 27,
   "metadata": {},
   "outputs": [
    {
     "data": {
      "text/html": [
       "<div>\n",
       "<style scoped>\n",
       "    .dataframe tbody tr th:only-of-type {\n",
       "        vertical-align: middle;\n",
       "    }\n",
       "\n",
       "    .dataframe tbody tr th {\n",
       "        vertical-align: top;\n",
       "    }\n",
       "\n",
       "    .dataframe thead th {\n",
       "        text-align: right;\n",
       "    }\n",
       "</style>\n",
       "<table border=\"1\" class=\"dataframe\">\n",
       "  <thead>\n",
       "    <tr style=\"text-align: right;\">\n",
       "      <th>pay_more_no_gas</th>\n",
       "      <th>NO</th>\n",
       "      <th>SI</th>\n",
       "      <th>All</th>\n",
       "    </tr>\n",
       "    <tr>\n",
       "      <th>gender</th>\n",
       "      <th></th>\n",
       "      <th></th>\n",
       "      <th></th>\n",
       "    </tr>\n",
       "  </thead>\n",
       "  <tbody>\n",
       "    <tr>\n",
       "      <th>Hombre</th>\n",
       "      <td>29</td>\n",
       "      <td>34</td>\n",
       "      <td>63</td>\n",
       "    </tr>\n",
       "    <tr>\n",
       "      <th>Mujer</th>\n",
       "      <td>11</td>\n",
       "      <td>37</td>\n",
       "      <td>48</td>\n",
       "    </tr>\n",
       "    <tr>\n",
       "      <th>All</th>\n",
       "      <td>40</td>\n",
       "      <td>71</td>\n",
       "      <td>111</td>\n",
       "    </tr>\n",
       "  </tbody>\n",
       "</table>\n",
       "</div>"
      ],
      "text/plain": [
       "pay_more_no_gas  NO  SI  All\n",
       "gender                      \n",
       "Hombre           29  34   63\n",
       "Mujer            11  37   48\n",
       "All              40  71  111"
      ]
     },
     "execution_count": 27,
     "metadata": {},
     "output_type": "execute_result"
    }
   ],
   "source": [
    "datos = pd.read_csv(\"data/survey_EVs_en.csv\")\n",
    "pd.crosstab(datos['gender'], \n",
    "                            datos['pay_more_no_gas'],\n",
    "                                margins = True)"
   ]
  },
  {
   "cell_type": "code",
   "execution_count": 28,
   "metadata": {},
   "outputs": [
    {
     "data": {
      "text/plain": [
       "{'statistic': 5.352047440895375,\n",
       " 'pvalue': 0.02069795185866291,\n",
       " 'df': 1,\n",
       " 'exp_table': array([[22.7027027, 40.2972973],\n",
       "        [17.2972973, 30.7027027]])}"
      ]
     },
     "execution_count": 28,
     "metadata": {},
     "output_type": "execute_result"
    }
   ],
   "source": [
    "from scipy.stats import chi2_contingency\n",
    "\n",
    "# Tabla de contingencia\n",
    "ct = pd.crosstab(datos['gender'], \n",
    "                            datos['pay_more_no_gas'],\n",
    "                                margins = False)\n",
    "\n",
    "\n",
    "statistic, pvalue, df, exp_table = chi2_contingency(ct)\n",
    "\n",
    "{\"statistic\": statistic, \"pvalue\": pvalue, \"df\": df, \"exp_table\": exp_table}"
   ]
  },
  {
   "cell_type": "markdown",
   "metadata": {},
   "source": [
    "- La disposición a pagar más por transporte público eléctrico es independiente entre hombres y mujeres.\n",
    "- Este test sería análogo a una prueba de dos proporciones en el que encontraría que la proporción de mujeres dispuestas a pagar más es mayor que la proporción de hombres."
   ]
  },
  {
   "cell_type": "markdown",
   "metadata": {},
   "source": [
    "<a id=\"fph\"></a>\n",
    "### Resumen de fórmulas\n",
    "\n",
    "- Ver __[resumen de fórmulas](https://drive.google.com/open?id=1C6Wq9MOQGWNzBwCK8w-DB5NnsY_Mn4Lv)__ para pruebas de hipótesis.\n",
    "\n",
    "[Volver al índice](#toc)"
   ]
  },
  {
   "cell_type": "markdown",
   "metadata": {},
   "source": [
    "<img align=\"left\" width=\"80px\" src=\"https://raw.githubusercontent.com/marsgr6/r-scripts/master/imgs/activity.png\">\n",
    "\n",
    "<br/>\n",
    "\n",
    "### Experimente\n",
    "<br/>\n",
    "\n",
    "### ANOVA\n",
    "\n",
    "- Investigue el análisis de varianza (ANOVA) de un factor. Este es un método estadístico para examinar las diferencias para las medias entre grupos.\n",
    "  - Sources:\n",
    "    - https://online.stat.psu.edu/stat415/lesson/13\n",
    "    - https://www.reneshbedre.com/blog/anova.html\n",
    "\n",
    "### Estimación de máxima verosimilitud\n",
    "\n",
    "- Con anterioridad hemos hecho referencia a estimación de máxima verosimilitud, investigue acerca de estimación de máxima verosimilitud.\n",
    "  - Sources:\n",
    "    - https://newonlinecourses.science.psu.edu/stat414/node/289/\n",
    "    - https://newonlinecourses.science.psu.edu/stat414/node/290/\n",
    "    \n",
    "    \n",
    "### Distribution fitting \n",
    "- [En Python](https://anaconda.org/marsgr6/distribution_fitting_python/notebook)\n",
    "- [En R](https://anaconda.org/marsgr6/distribution_fitting_r/notebook)"
   ]
  }
 ],
 "metadata": {
  "kernelspec": {
   "display_name": "Python 3",
   "language": "python",
   "name": "python3"
  },
  "language_info": {
   "codemirror_mode": {
    "name": "ipython",
    "version": 3
   },
   "file_extension": ".py",
   "mimetype": "text/x-python",
   "name": "python",
   "nbconvert_exporter": "python",
   "pygments_lexer": "ipython3",
   "version": "3.8.3"
  }
 },
 "nbformat": 4,
 "nbformat_minor": 2
}
